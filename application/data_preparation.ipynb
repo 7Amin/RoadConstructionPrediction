{
 "cells": [
  {
   "cell_type": "code",
   "execution_count": null,
   "metadata": {
    "collapsed": true
   },
   "outputs": [],
   "source": [
    "import pandas as pd\n",
    "\n"
   ]
  },
  {
   "cell_type": "code",
   "execution_count": null,
   "outputs": [],
   "source": [
    "environments = [\"local\", \"google_colab\"]\n",
    "# please select one of the environments\n",
    "selected_env = environments[0]\n",
    "chunk_size = 10 ** 6\n",
    "TrafficEvents = None\n",
    "WeatherEvents = None\n",
    "if selected_env == \"local\":\n",
    "    TrafficEvents = {\n",
    "        \"name\": \"TrafficEvents\",\n",
    "        \"file_name\": \"TrafficEvents_Aug16_Dec19_Publish.csv\",\n",
    "        \"path\": \"/home/amin/CETI/RoadConstruction/TrafficEventData/\",\n",
    "    }\n",
    "    WeatherEvents = {\n",
    "        \"name\": \"WeatherEvent\",\n",
    "        \"file_name\": \"WeatherEvents_Aug16_Dec19_Publish.csv\",\n",
    "        \"path\": \"/home/amin/CETI/RoadConstruction/WeatherEventData/\",\n",
    "    }\n",
    "\n",
    "else:\n",
    "    TrafficEvents = {\n",
    "        \"name\": \"TrafficEvents\",\n",
    "        \"file_name\": \"TrafficEvents_Aug16_Dec19_Publish.csv\",\n",
    "        \"id\": \"1uGLJS4uIbiUf7PjVGtQxo2afjClQT8JY\",\n",
    "    }\n",
    "    WeatherEvents = {\n",
    "        \"name\": \"WeatherEvent\",\n",
    "        \"file_name\": \"WeatherEvents_Aug16_Dec19_Publish.csv\",\n",
    "        \"id\": \"1iNUrJYyxBxmklh0e6Iy61eXL34UJo6X8\",\n",
    "    }"
   ],
   "metadata": {
    "collapsed": false,
    "pycharm": {
     "name": "#%%\n"
    }
   }
  },
  {
   "cell_type": "code",
   "execution_count": null,
   "outputs": [],
   "source": [
    "if selected_env == \"google_colab\":\n",
    "    !pip install -U -q PyDrive\n",
    "    !pip install --upgrade -q gspread\n",
    "    "
   ],
   "metadata": {
    "collapsed": false,
    "pycharm": {
     "name": "#%%\n"
    }
   }
  },
  {
   "cell_type": "code",
   "execution_count": null,
   "outputs": [],
   "source": [
    "if selected_env == \"google_colab\":\n",
    "    from pydrive.auth import GoogleAuth\n",
    "    from pydrive.drive import GoogleDrive\n",
    "    from google.colab import auth\n",
    "    from oauth2client.client import GoogleCredentials\n",
    "\n",
    "    auth.authenticate_user()\n",
    "    gauth = GoogleAuth()\n",
    "    gauth.credentials = GoogleCredentials.get_application_default()\n",
    "    drive = GoogleDrive(gauth)\n",
    "\n",
    "    traffic_events_downloaded = drive.CreateFile(TrafficEvents)\n",
    "    traffic_events_downloaded.GetContentFile(TrafficEvents[\"file_name\"])\n",
    "\n",
    "    weather_events_downloaded = drive.CreateFile(WeatherEvents)\n",
    "    weather_events_downloaded.GetContentFile(WeatherEvents[\"file_name\"])"
   ],
   "metadata": {
    "collapsed": false,
    "pycharm": {
     "name": "#%%\n"
    }
   }
  },
  {
   "cell_type": "code",
   "execution_count": null,
   "outputs": [],
   "source": [
    "\n",
    "def read_big_data_by_filter_with_key_values(path, filters):\n",
    "    data = None\n",
    "    print(\"method {} is started \".format(\"read_big_data_filter_with_key_values\"))\n",
    "    print(\"read csv data is started with file {}\".format(path))\n",
    "    print(\"chunk size is {}\".format(chunk_size))\n",
    "    for key, value in zip(filters['keys'], filters['values']):\n",
    "        print(\"the key is {} and the value is {}\".format(filters['keys'], filters['values']))\n",
    "    for num, df in enumerate(pd.read_csv(path, chunksize=chunk_size), start=1):\n",
    "        print(\"continue reading file page num is {}\".format(num))\n",
    "        for key, value in zip(filters['keys'], filters['values']):\n",
    "            df = df[df[key] == value]\n",
    "        data = df.append(data)\n",
    "    print(\"method {} finished \".format(\"read_big_data_filter_with_key_values\"))\n",
    "    return data"
   ],
   "metadata": {
    "collapsed": false,
    "pycharm": {
     "name": "#%%\n"
    }
   }
  },
  {
   "cell_type": "code",
   "execution_count": null,
   "outputs": [],
   "source": [
    "weather_file_path = WeatherEvents[\"path\"] + WeatherEvents[\"file_name\"]\n",
    "traffic_file_path = TrafficEvents[\"path\"] + TrafficEvents[\"file_name\"]\n",
    "\n",
    "if selected_env == \"google_colab\":\n",
    "    traffic_file_path = TrafficEvents[\"file_name\"]\n",
    "    weather_file_path = WeatherEvents[\"file_name\"]\n",
    "traffic_filters = {\n",
    "    \"keys\": [\"Type\"],\n",
    "    \"values\": [\"Construction\"],\n",
    "    }\n",
    "weather_filters = {\n",
    "    \"keys\": [],\n",
    "    \"values\": [],\n",
    "}\n",
    "\n",
    "traffic_events_data = read_big_data_by_filter_with_key_values(traffic_file_path, traffic_filters)\n",
    "weather_events_data = read_big_data_by_filter_with_key_values(weather_file_path, weather_filters)\n"
   ],
   "metadata": {
    "collapsed": false,
    "pycharm": {
     "name": "#%%\n"
    }
   }
  }
 ],
 "metadata": {
  "kernelspec": {
   "display_name": "Python 3",
   "language": "python",
   "name": "python3"
  },
  "language_info": {
   "codemirror_mode": {
    "name": "ipython",
    "version": 2
   },
   "file_extension": ".py",
   "mimetype": "text/x-python",
   "name": "python",
   "nbconvert_exporter": "python",
   "pygments_lexer": "ipython2",
   "version": "2.7.6"
  }
 },
 "nbformat": 4,
 "nbformat_minor": 0
}