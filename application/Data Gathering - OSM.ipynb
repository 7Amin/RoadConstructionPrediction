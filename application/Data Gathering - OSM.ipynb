{
 "cells": [
  {
   "cell_type": "code",
   "execution_count": 1,
   "metadata": {},
   "outputs": [],
   "source": [
    "import pandas as pd\n",
    "import requests \n",
    "import os\n",
    "import math\n",
    "from xml.etree.ElementTree import fromstring, ElementTree\n",
    "from datetime import datetime\n",
    "import json\n",
    "import statistics \n",
    "from statistics import mode"
   ]
  },
  {
   "cell_type": "code",
   "execution_count": 2,
   "metadata": {},
   "outputs": [],
   "source": [
    "TrafficEvents = None\n",
    "\n",
    "chunk_size = 1000\n",
    "max_distance_from_node = 50 # Meter\n",
    "number_of_nearest_node = 5 # count\n",
    "\n",
    "OSM_BASIC_URL = \"https://api.openstreetmap.org/api/0.6/\"\n",
    "BASE_PATH = \"/home/amin/CETI/RoadConstruction/TrafficEventData/part/\"\n",
    "    \n",
    "index_folder = 0\n",
    "index_start_point_file = 0\n",
    "index_end_point_file = 411\n"
   ]
  },
  {
   "cell_type": "code",
   "execution_count": 3,
   "metadata": {},
   "outputs": [],
   "source": [
    "def read_data(path):\n",
    "    data = None\n",
    "    print(\"read csv data is started with file {}\".format(path))\n",
    "    data = pd.read_csv(path)\n",
    "    print(\"reading is finished length is {} \".format(len(data)))\n",
    "    return data\n",
    "\n",
    "def most_common(List): \n",
    "    return(mode(List)) "
   ]
  },
  {
   "cell_type": "code",
   "execution_count": 4,
   "metadata": {},
   "outputs": [],
   "source": [
    "class OSM(object):\n",
    "    @staticmethod\n",
    "    def get_node_details_by_node_id(node_id):\n",
    "        URL = OSM_BASIC_URL + \"node/{}\".format(node_id)\n",
    "        response = requests.get(url = URL)\n",
    "        result_tree = ElementTree.fromstring(response.content)\n",
    "        return result_tree, response.content\n",
    "    \n",
    "    @staticmethod\n",
    "    def get_all_ways_contain_node_by_node_id(node_id):\n",
    "        URL = OSM_BASIC_URL + \"node/{}/ways\".format(node_id)\n",
    "        # print(URL)\n",
    "        response = requests.get(url = URL)\n",
    "        # result_tree = ElementTree.fromstring(response.content)\n",
    "        result_tree = ElementTree(fromstring(response.content))\n",
    "\n",
    "        return result_tree, response.content\n",
    "    \n",
    "    @staticmethod\n",
    "    def get_type_of_way_contain_node_by_node_id(node_id):\n",
    "        way_type = \"None\" \n",
    "        try:\n",
    "            result_tree, content = OSM.get_all_ways_contain_node_by_node_id(node_id)\n",
    "            root = result_tree.getroot()\n",
    "            for child in root:\n",
    "                if child.tag == \"way\":\n",
    "                    for child1 in child:\n",
    "                        if child1.tag == \"tag\" and child1.attrib[\"k\"] == \"highway\":\n",
    "                            way_type = child1.attrib[\"v\"]\n",
    "                            return way_type\n",
    "        except:\n",
    "            print(\"ERROR: node id {} has error\".format(node_id))\n",
    "            \n",
    "        return way_type"
   ]
  },
  {
   "cell_type": "code",
   "execution_count": null,
   "metadata": {},
   "outputs": [
    {
     "name": "stdout",
     "output_type": "stream",
     "text": [
      "file id is 0\n",
      "start time is 2020-08-25 20:59:51.661913\n",
      "read csv data is started with file /home/amin/CETI/RoadConstruction/TrafficEventData/part/_0/0_file_0.csv\n",
      "reading is finished length is 500 \n",
      "number: 0 is motorway\n",
      "number: 1 is unclassified\n",
      "node id 0 has error\n",
      "number: 2 is residential\n",
      "node id 0 has error\n",
      "number: 3 is motorway\n",
      "node id 0 has error\n",
      "number: 4 is primary\n"
     ]
    }
   ],
   "source": [
    "out_dir = BASE_PATH + \"_\" + str(index_folder) + \"_\" \n",
    "if not os.path.exists(out_dir):\n",
    "     os.mkdir(out_dir)\n",
    "\n",
    "for i in range(index_start_point_file, index_end_point_file):\n",
    "    type_of_ways_all_points = []\n",
    "    print(\"file id is {}\".format(i))\n",
    "    print(\"start time is {}\".format(datetime.now()))\n",
    "    path = BASE_PATH + \"_\" + str(index_folder) + \"/\" + str(i) + \"_file_\"+ str(i) + \".csv\"\n",
    "    \n",
    "    traffic_events_data = read_data(path)\n",
    "    for index, data in traffic_events_data.iterrows():\n",
    "        start_points_node_id = json.loads(data['nearst_nodes_ids_of_start_point'])\n",
    "        end_points_node_id = json.loads(data['nearst_nodes_ids_of_end_point'])\n",
    "        ways_id = set(start_points_node_id + end_points_node_id)\n",
    "        type_of_ways = []\n",
    "        while len(ways_id) > 0:\n",
    "            node_id = ways_id.pop()\n",
    "            type_of_way = OSM.get_type_of_way_contain_node_by_node_id(node_id)\n",
    "            type_of_ways.append(type_of_way)\n",
    "        type_of_road = most_common(type_of_ways)\n",
    "        print(\"number: {} is {}\".format(index, type_of_road))\n",
    "        type_of_ways_all_points.append(type_of_road)\n",
    "    \n",
    "    traffic_events_data[\"type_of_roads\"] = type_of_ways_all_points\n",
    "    \n",
    "    output_file_url = BASE_PATH + \"_\" + str(index_folder) + \"_/\" + str(i) + \"_file_\"+ str(i) + \".csv\"\n",
    "    traffic_events_data.to_csv (output_file_url, index = False, header=True)\n",
    "    print(traffic_events_data.columns)\n",
    "    print(\"{} done\".format(output_file_url))\n",
    "    print(\"end time is {}\".format(datetime.now()))"
   ]
  },
  {
   "cell_type": "code",
   "execution_count": null,
   "metadata": {},
   "outputs": [],
   "source": []
  }
 ],
 "metadata": {
  "kernelspec": {
   "display_name": "Python 3",
   "language": "python",
   "name": "python3"
  },
  "language_info": {
   "codemirror_mode": {
    "name": "ipython",
    "version": 3
   },
   "file_extension": ".py",
   "mimetype": "text/x-python",
   "name": "python",
   "nbconvert_exporter": "python",
   "pygments_lexer": "ipython3",
   "version": "3.8.2"
  }
 },
 "nbformat": 4,
 "nbformat_minor": 4
}
