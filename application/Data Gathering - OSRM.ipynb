{
 "cells": [
  {
   "cell_type": "code",
   "execution_count": 4,
   "metadata": {},
   "outputs": [],
   "source": [
    "import pandas as pd\n",
    "import requests \n",
    "import os\n",
    "import math\n",
    "from xml.etree import ElementTree\n",
    "from datetime import datetime"
   ]
  },
  {
   "cell_type": "code",
   "execution_count": 5,
   "metadata": {},
   "outputs": [],
   "source": [
    "TrafficEvents = None\n",
    "\n",
    "chunk_size = 10 ** 3\n",
    "max_distance_from_node = 50 # Meter\n",
    "number_of_nearest_node = 5 # count\n",
    "\n",
    "OSRM_BASIC_URL = \"https://usaeta.bluebitsoft.com/\"\n",
    "TrafficEvents = {\n",
    "    \"name\": \"TrafficEvents\",\n",
    "    # \"file_name\": \"TrafficEvents_Aug16_Dec19_Publish_Road_Construction.csv\",\n",
    "    \"file_name\": \"All_Constructions_June2020_Combined_TO_StartEnd_30_100.csv\",\n",
    "    \"path\": \"/home/amin/CETI/RoadConstruction/TrafficEventData/\",\n",
    "    \"part_path\": \"part\"\n",
    "}\n",
    "    \n",
    "index_folder = 0\n",
    "index_start_point_file = 0\n",
    "index_end_point_file = 411\n",
    "\n",
    "traffic_filters = {\n",
    "    \"keys\": [\"Type\"],\n",
    "    \"values\": [\"Construction\"],\n",
    "    }\n"
   ]
  },
  {
   "cell_type": "code",
   "execution_count": 6,
   "metadata": {},
   "outputs": [],
   "source": [
    "def read_big_data_by_filter_with_key_values(path, filters):\n",
    "    data = None\n",
    "    print(\"method {} is started \".format(\"read_big_data_filter_with_key_values\"))\n",
    "    print(\"read csv data is started with file {}\".format(path))\n",
    "    print(\"chunk size is {}\".format(chunk_size))\n",
    "    for key, value in zip(filters['keys'], filters['values']):\n",
    "        print(\"the key is {} and the value is {}\".format(filters['keys'], filters['values']))\n",
    "    for num, df in enumerate(pd.read_csv(path, chunksize=chunk_size), start=1):\n",
    "        print(\"continue reading file page num is {}\".format(num))\n",
    "        for key, value in zip(filters['keys'], filters['values']):\n",
    "            df = df[df[key] == value]\n",
    "        data = df.append(data)\n",
    "    print(\"method {} finished \".format(\"read_big_data_filter_with_key_values\"))\n",
    "    return data"
   ]
  },
  {
   "cell_type": "code",
   "execution_count": 7,
   "metadata": {},
   "outputs": [],
   "source": [
    "class Location(object):\n",
    "    def __init__(self, osrm_data):\n",
    "        self.longitude = osrm_data[0]\n",
    "        self.latitude = osrm_data[1]"
   ]
  },
  {
   "cell_type": "code",
   "execution_count": 8,
   "metadata": {},
   "outputs": [],
   "source": [
    "class WayPoint(object):\n",
    "    def __init__(self, json_data):\n",
    "        self.nodes = json_data[\"nodes\"]\n",
    "        self.hint = json_data[\"hint\"]\n",
    "        self.distance = json_data[\"distance\"]\n",
    "        self.name = json_data[\"name\"]\n",
    "        self.location = Location(json_data[\"location\"])\n",
    "    \n",
    "    def validate_way_point(self):\n",
    "        if self.distance < max_distance_from_node:\n",
    "            return True\n",
    "        return False"
   ]
  },
  {
   "cell_type": "code",
   "execution_count": 9,
   "metadata": {},
   "outputs": [],
   "source": [
    "class OSRM(object):\n",
    "    @staticmethod\n",
    "    def get_all_nearest_nodes_of_location(location, number=1):\n",
    "        params = {\n",
    "            \"number\": number\n",
    "        }\n",
    "        URL = OSRM_BASIC_URL + \"nearest/v1/driving/{},{}\".format(location.longitude, location.latitude)\n",
    "        response = requests.get(url = URL, params = params)\n",
    "        return response.json() "
   ]
  },
  {
   "cell_type": "code",
   "execution_count": 1,
   "metadata": {},
   "outputs": [
    {
     "ename": "NameError",
     "evalue": "name 'os' is not defined",
     "output_type": "error",
     "traceback": [
      "\u001B[0;31m---------------------------------------------------------------------------\u001B[0m",
      "\u001B[0;31mNameError\u001B[0m                                 Traceback (most recent call last)",
      "\u001B[0;32m<ipython-input-1-8b57c9783d94>\u001B[0m in \u001B[0;36m<module>\u001B[0;34m\u001B[0m\n\u001B[0;32m----> 1\u001B[0;31m \u001B[0mdir\u001B[0m \u001B[0;34m=\u001B[0m \u001B[0mos\u001B[0m\u001B[0;34m.\u001B[0m\u001B[0mpath\u001B[0m\u001B[0;34m.\u001B[0m\u001B[0mjoin\u001B[0m\u001B[0;34m(\u001B[0m\u001B[0mTrafficEvents\u001B[0m\u001B[0;34m[\u001B[0m\u001B[0;34m\"path\"\u001B[0m\u001B[0;34m]\u001B[0m\u001B[0;34m,\u001B[0m \u001B[0mTrafficEvents\u001B[0m\u001B[0;34m[\u001B[0m\u001B[0;34m\"part_path\"\u001B[0m\u001B[0;34m]\u001B[0m\u001B[0;34m,\u001B[0m \u001B[0mstr\u001B[0m\u001B[0;34m(\u001B[0m\u001B[0mindex_folder\u001B[0m\u001B[0;34m)\u001B[0m\u001B[0;34m)\u001B[0m\u001B[0;34m\u001B[0m\u001B[0;34m\u001B[0m\u001B[0m\n\u001B[0m\u001B[1;32m      2\u001B[0m \u001B[0mout_dir\u001B[0m \u001B[0;34m=\u001B[0m \u001B[0mos\u001B[0m\u001B[0;34m.\u001B[0m\u001B[0mpath\u001B[0m\u001B[0;34m.\u001B[0m\u001B[0mjoin\u001B[0m\u001B[0;34m(\u001B[0m\u001B[0mTrafficEvents\u001B[0m\u001B[0;34m[\u001B[0m\u001B[0;34m\"path\"\u001B[0m\u001B[0;34m]\u001B[0m\u001B[0;34m,\u001B[0m \u001B[0mTrafficEvents\u001B[0m\u001B[0;34m[\u001B[0m\u001B[0;34m\"part_path\"\u001B[0m\u001B[0;34m]\u001B[0m\u001B[0;34m,\u001B[0m \u001B[0;34m\"_\"\u001B[0m \u001B[0;34m+\u001B[0m \u001B[0mstr\u001B[0m\u001B[0;34m(\u001B[0m\u001B[0mindex_folder\u001B[0m\u001B[0;34m)\u001B[0m\u001B[0;34m)\u001B[0m\u001B[0;34m\u001B[0m\u001B[0;34m\u001B[0m\u001B[0m\n\u001B[1;32m      3\u001B[0m \u001B[0mprint\u001B[0m\u001B[0;34m(\u001B[0m\u001B[0mdir\u001B[0m\u001B[0;34m)\u001B[0m\u001B[0;34m\u001B[0m\u001B[0;34m\u001B[0m\u001B[0m\n\u001B[1;32m      4\u001B[0m \u001B[0mprint\u001B[0m\u001B[0;34m(\u001B[0m\u001B[0mout_dir\u001B[0m\u001B[0;34m)\u001B[0m\u001B[0;34m\u001B[0m\u001B[0;34m\u001B[0m\u001B[0m\n\u001B[1;32m      5\u001B[0m \u001B[0;32mif\u001B[0m \u001B[0;32mnot\u001B[0m \u001B[0mos\u001B[0m\u001B[0;34m.\u001B[0m\u001B[0mpath\u001B[0m\u001B[0;34m.\u001B[0m\u001B[0mexists\u001B[0m\u001B[0;34m(\u001B[0m\u001B[0mdir\u001B[0m\u001B[0;34m)\u001B[0m\u001B[0;34m:\u001B[0m\u001B[0;34m\u001B[0m\u001B[0;34m\u001B[0m\u001B[0m\n",
      "\u001B[0;31mNameError\u001B[0m: name 'os' is not defined"
     ]
    }
   ],
   "source": [
    "dir = os.path.join(TrafficEvents[\"path\"], TrafficEvents[\"part_path\"], str(index_folder))\n",
    "out_dir = os.path.join(TrafficEvents[\"path\"], TrafficEvents[\"part_path\"], \"_\" + str(index_folder))\n",
    "print(dir)\n",
    "print(out_dir)\n",
    "if not os.path.exists(dir):\n",
    "    print(\"does not exists {}\".format(dir))\n",
    "    raise(\"does not exists\")\n",
    "    \n",
    "if not os.path.exists(out_dir):\n",
    "     os.mkdir(out_dir)\n",
    "\n",
    "for file_index in range(index_start_point_file, index_end_point_file):\n",
    "    print(\"file_index: {}\".format(file_index))\n",
    "    file_url = dir + \"/file_{}.csv\".format(file_index)\n",
    "    \n",
    "    traffic_events_data = read_big_data_by_filter_with_key_values(file_url, traffic_filters)\n",
    "    \n",
    "    nearst_nodes_of_start_point = []\n",
    "    nearst_nodes_of_end_point = []\n",
    "    nearst_node_ids_of_start_validate_point = []\n",
    "    nearst_node_ids_of_end_validate_point = []\n",
    "    print(\"start file in {}\".format(datetime.now()))\n",
    "    for index, data in traffic_events_data.iterrows():\n",
    "        start_location = Location([data[\"StartPoint_Lng\"], data[\"StartPoint_Lat\"]])\n",
    "        if \"EndPoint_Lng\" in data and \"EndPoint_Lat\" in data and not math.isnan(data[\"EndPoint_Lat\"]):\n",
    "            end_location = Location([data[\"EndPoint_Lng\"], data[\"EndPoint_Lat\"]])\n",
    "        else:\n",
    "            end_location = Location([data[\"StartPoint_Lng\"], data[\"StartPoint_Lat\"]])\n",
    "\n",
    "        nearst_nodes_start_location = OSRM.get_all_nearest_nodes_of_location(start_location, number_of_nearest_node)\n",
    "        nearst_nodes_end_location = OSRM.get_all_nearest_nodes_of_location(end_location, number_of_nearest_node)\n",
    "    \n",
    "    \n",
    "        nearst_way_points_start_location = []\n",
    "        start_ids = []\n",
    "        for point in nearst_nodes_start_location[\"waypoints\"]:\n",
    "            way_point = WayPoint(point)\n",
    "            if way_point.validate_way_point():\n",
    "                nearst_way_points_start_location.append(way_point)\n",
    "                start_ids.extend(way_point.nodes)\n",
    "\n",
    "        nearst_way_points_end_location = []\n",
    "        end_ids = []\n",
    "        for point in nearst_nodes_end_location[\"waypoints\"]:\n",
    "            way_point = WayPoint(point)\n",
    "            if way_point.validate_way_point():\n",
    "                nearst_way_points_end_location.append(way_point)\n",
    "                end_ids.extend(way_point.nodes)\n",
    "            \n",
    "\n",
    "        nearst_nodes_of_start_point.append(nearst_nodes_start_location)\n",
    "        nearst_nodes_of_end_point.append(nearst_nodes_end_location)\n",
    "\n",
    "        nearst_node_ids_of_start_validate_point.append(start_ids)\n",
    "        nearst_node_ids_of_end_validate_point.append(end_ids)\n",
    "    \n",
    "        if len(nearst_node_ids_of_start_validate_point) % 100 == 99:\n",
    "            print(datetime.now())\n",
    "            print(len(nearst_nodes_of_start_point))\n",
    "            print(\"=======\")\n",
    "    traffic_events_data[\"nearst_nodes_of_start_point\"] = nearst_nodes_of_start_point\n",
    "    traffic_events_data[\"nearst_nodes_of_end_point\"] = nearst_nodes_of_end_point\n",
    "    traffic_events_data[\"nearst_nodes_ids_of_start_point\"] = nearst_node_ids_of_start_validate_point\n",
    "    traffic_events_data[\"nearst_nodes_ids_of_end_point\"] = nearst_node_ids_of_end_validate_point\n",
    "    \n",
    "    output_file_url = out_dir + \"/{}_file_{}.csv\".format(file_index, file_index)\n",
    "    traffic_events_data.to_csv (output_file_url, index = False, header=True)\n",
    "    print(traffic_events_data.columns)\n",
    "        \n",
    "print(\"end\")"
   ]
  },
  {
   "cell_type": "code",
   "execution_count": null,
   "metadata": {},
   "outputs": [],
   "source": []
  }
 ],
 "metadata": {
  "kernelspec": {
   "display_name": "Python 3",
   "language": "python",
   "name": "python3"
  },
  "language_info": {
   "codemirror_mode": {
    "name": "ipython",
    "version": 3
   },
   "file_extension": ".py",
   "mimetype": "text/x-python",
   "name": "python",
   "nbconvert_exporter": "python",
   "pygments_lexer": "ipython3",
   "version": "3.8.2"
  }
 },
 "nbformat": 4,
 "nbformat_minor": 4
}