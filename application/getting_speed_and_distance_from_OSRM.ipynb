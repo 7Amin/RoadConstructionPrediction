{
 "cells": [
  {
   "cell_type": "code",
   "execution_count": 1,
   "metadata": {},
   "outputs": [],
   "source": [
    "import pandas as pd\n",
    "import requests \n",
    "import os\n",
    "import math\n",
    "from xml.etree import ElementTree\n",
    "from datetime import datetime"
   ]
  },
  {
   "cell_type": "code",
   "execution_count": 2,
   "metadata": {},
   "outputs": [],
   "source": [
    "TrafficEvents = None\n",
    "\n",
    "OSRM_BASIC_URL = \"https://usaeta.bluebitsoft.com/\"\n",
    "BASE_PATH = \"/home/amin/CETI/RoadConstruction/TrafficEventData/part/\"\n",
    "    \n",
    "index_folder = 0\n",
    "index_start_point_file = 0\n",
    "index_end_point_file = 411\n"
   ]
  },
  {
   "cell_type": "code",
   "execution_count": 3,
   "metadata": {},
   "outputs": [],
   "source": [
    "def read_data(path):\n",
    "    data = None\n",
    "    print(\"read csv data is started with file {}\".format(path))\n",
    "    data = pd.read_csv(path)\n",
    "    print(\"reading is finished length is {} \".format(len(data)))\n",
    "    return data\n",
    "\n",
    "def most_frequent(List): \n",
    "    occurence_count = Counter(List) \n",
    "    return occurence_count.most_common(1)[0][0]"
   ]
  },
  {
   "cell_type": "code",
   "execution_count": 4,
   "metadata": {},
   "outputs": [],
   "source": [
    "class Location(object):\n",
    "    def __init__(self, latitude, longitude):\n",
    "        self.longitude = longitude\n",
    "        self.latitude = latitude"
   ]
  },
  {
   "cell_type": "code",
   "execution_count": 5,
   "metadata": {},
   "outputs": [],
   "source": [
    "class OSRM(object):\n",
    "    @staticmethod\n",
    "    def get_all_nearest_nodes_of_location(location, number=1):\n",
    "        params = {\n",
    "            \"number\": number\n",
    "        }\n",
    "        URL = OSRM_BASIC_URL + \"nearest/v1/driving/{},{}\".format(location.longitude, location.latitude)\n",
    "        response = requests.get(url = URL, params = params)\n",
    "        return response.json() \n",
    "    \n",
    "    @staticmethod\n",
    "    def get_eta_and_distance(origin, destination):\n",
    "        try:\n",
    "            URL = OSRM_BASIC_URL + \"route/v1/driving/{},{};{},{}\".format(\n",
    "                origin.longitude, origin.latitude, destination.longitude, destination.latitude)\n",
    "            #print(URL)\n",
    "            response = requests.get(url = URL)\n",
    "            result = response.json()\n",
    "            routes = result[\"routes\"]\n",
    "#             print(\"routes: {}\".format(routes))\n",
    "            route = routes[0]\n",
    "            eta = route[\"duration\"]\n",
    "            #print(\"eta : {}\".format())\n",
    "            distance = route[\"distance\"]\n",
    "            speed = distance / eta\n",
    "            # print(\"eta : {}, distance : {}, speed : {}\".format(eta, distance, speed))\n",
    "        except:\n",
    "            eta = -100\n",
    "            distance = -100\n",
    "            speed = -100\n",
    "        return eta, distance, speed"
   ]
  },
  {
   "cell_type": "code",
   "execution_count": null,
   "metadata": {},
   "outputs": [
    {
     "name": "stdout",
     "output_type": "stream",
     "text": [
      "file id is 0\n",
      "start time is 2020-08-29 13:55:43.642308\n",
      "/home/amin/CETI/RoadConstruction/TrafficEventData/part/_0_/0_file_0.csv\n",
      "read csv data is started with file /home/amin/CETI/RoadConstruction/TrafficEventData/part/_0_/0_file_0.csv\n",
      "reading is finished length is 500 \n",
      "number: 0 with code B-1, has 19.583737411413647 speed, 268.1 eta, 5250.4 distance\n",
      "Time is 2020-08-29 13:55:44.164030\n"
     ]
    }
   ],
   "source": [
    "out_dir = BASE_PATH + \"speed\" +\"_\" + str(index_folder)\n",
    "if not os.path.exists(out_dir):\n",
    "     os.mkdir(out_dir)\n",
    "\n",
    "for i in range(index_start_point_file, index_end_point_file):\n",
    "    print(\"file id is {}\".format(i))\n",
    "    print(\"start time is {}\".format(datetime.now()))\n",
    "    path = BASE_PATH + \"_\" + str(index_folder) + \"_\" + \"/\" + str(i) + \"_file_\"+ str(i) + \".csv\"\n",
    "    \n",
    "    print(path)\n",
    "    speeds = []\n",
    "    distances = []\n",
    "    etas = []\n",
    "    traffic_events_data = read_data(path)\n",
    "    for index, data in traffic_events_data.iterrows():\n",
    "        speed = -100\n",
    "        distance = -100\n",
    "        eta = -100\n",
    "        start_location = Location(data[\"StartPoint_Lat\"], data[\"StartPoint_Lng\"])\n",
    "        if \"EndPoint_Lng\" in data and \"EndPoint_Lat\" in data and not math.isnan(data[\"EndPoint_Lat\"]):\n",
    "            end_location = Location(data[\"EndPoint_Lat\"], data[\"EndPoint_Lng\"])\n",
    "            eta, distance, speed = OSRM.get_eta_and_distance(start_location, end_location)\n",
    "        \n",
    "        speeds.append(speed)\n",
    "        etas.append(eta)\n",
    "        distances.append(distance)\n",
    "        if index % 100 == 0:\n",
    "            print(\"number: {} with code {}, has {} speed, {} eta, {} distance\".format(index, data[\"Id\"], speed, eta, distance))\n",
    "            print(\"Time is {}\".format(datetime.now()))\n",
    "    \n",
    "    traffic_events_data[\"avg_speed\"] = speeds\n",
    "    traffic_events_data[\"distance\"] = distances\n",
    "    traffic_events_data[\"eta\"] = etas \n",
    "    \n",
    "    output_file_url = out_dir + \"/\" + str(i) + \"_file_\"+ str(i) + \".csv\"\n",
    "    traffic_events_data.to_csv (output_file_url, index = False, header=True)\n",
    "    print(traffic_events_data.columns)\n",
    "    print(\"{} done\".format(output_file_url))\n",
    "    print(\"end time is {}\".format(datetime.now()))"
   ]
  },
  {
   "cell_type": "code",
   "execution_count": null,
   "metadata": {},
   "outputs": [],
   "source": []
  }
 ],
 "metadata": {
  "kernelspec": {
   "display_name": "Python 3",
   "language": "python",
   "name": "python3"
  },
  "language_info": {
   "codemirror_mode": {
    "name": "ipython",
    "version": 3
   },
   "file_extension": ".py",
   "mimetype": "text/x-python",
   "name": "python",
   "nbconvert_exporter": "python",
   "pygments_lexer": "ipython3",
   "version": "3.8.2"
  }
 },
 "nbformat": 4,
 "nbformat_minor": 4
}
