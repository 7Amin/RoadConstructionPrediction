{
 "cells": [
  {
   "cell_type": "code",
   "execution_count": 8,
   "metadata": {},
   "outputs": [],
   "source": [
    "import pandas as pd\n",
    "import requests \n",
    "import os\n",
    "import math\n",
    "from xml.etree import ElementTree\n",
    "from datetime import datetime"
   ]
  },
  {
   "cell_type": "code",
   "execution_count": 9,
   "metadata": {},
   "outputs": [],
   "source": [
    "TrafficEvents = None\n",
    "\n",
    "OSRM_BASIC_URL = \"https://usaeta.bluebitsoft.com/\"\n",
    "BASE_PATH = \"/home/amin/CETI/RoadConstruction/TrafficEventData/part/\"\n",
    "    \n",
    "index_folder = 0\n",
    "index_start_point_file = 0\n",
    "index_end_point_file = 411"
   ]
  },
  {
   "cell_type": "code",
   "execution_count": 10,
   "metadata": {},
   "outputs": [],
   "source": [
    "def read_data(path):\n",
    "    data = None\n",
    "    print(\"read csv data is started with file {}\".format(path))\n",
    "    data = pd.read_csv(path)\n",
    "    print(\"reading is finished length is {} \".format(len(data)))\n",
    "    return data\n",
    "\n",
    "def most_frequent(List): \n",
    "    occurence_count = Counter(List) \n",
    "    return occurence_count.most_common(1)[0][0]"
   ]
  },
  {
   "cell_type": "code",
   "execution_count": 11,
   "metadata": {},
   "outputs": [],
   "source": [
    "class Location(object):\n",
    "    def __init__(self, latitude, longitude):\n",
    "        self.longitude = longitude\n",
    "        self.latitude = latitude"
   ]
  },
  {
   "cell_type": "code",
   "execution_count": 12,
   "metadata": {},
   "outputs": [],
   "source": [
    "RoadClosed = ['closed due to roadwork', 'closed for bridge', 'road close', 'road block', \n",
    "             'road closure', 'blocked', 'closed']"
   ]
  },
  {
   "cell_type": "code",
   "execution_count": 13,
   "metadata": {},
   "outputs": [],
   "source": [
    "LaneClosed = ['lane block', 'lanes block', 'roadway reduce', 'carpool lane', 'lane closure', 'lanes closure'\n",
    "             'shoulder close', 'shoulder block', 'lane close', 'lanes close']"
   ]
  },
  {
   "cell_type": "code",
   "execution_count": 14,
   "metadata": {},
   "outputs": [
    {
     "name": "stdout",
     "output_type": "stream",
     "text": [
      "file id is 0\n",
      "start time is 2020-09-25 18:12:11.336220\n",
      "/home/amin/CETI/RoadConstruction/TrafficEventData/part/speeds/speed_0/0_file_0.csv\n",
      "read csv data is started with file /home/amin/CETI/RoadConstruction/TrafficEventData/part/speeds/speed_0/0_file_0.csv\n",
      "reading is finished length is 500 \n"
     ]
    },
    {
     "ename": "TypeError",
     "evalue": "argument of type 'float' is not iterable",
     "output_type": "error",
     "traceback": [
      "\u001b[0;31m---------------------------------------------------------------------------\u001b[0m",
      "\u001b[0;31mTypeError\u001b[0m                                 Traceback (most recent call last)",
      "\u001b[0;32m<ipython-input-14-ed2258d4eca0>\u001b[0m in \u001b[0;36m<module>\u001b[0;34m\u001b[0m\n\u001b[1;32m     27\u001b[0m                 \u001b[0mroad_closure\u001b[0m \u001b[0;34m=\u001b[0m \u001b[0;32mTrue\u001b[0m\u001b[0;34m\u001b[0m\u001b[0;34m\u001b[0m\u001b[0m\n\u001b[1;32m     28\u001b[0m                 \u001b[0;32mbreak\u001b[0m\u001b[0;34m\u001b[0m\u001b[0;34m\u001b[0m\u001b[0m\n\u001b[0;32m---> 29\u001b[0;31m             \u001b[0;32mif\u001b[0m \u001b[0mword\u001b[0m \u001b[0;32min\u001b[0m \u001b[0mshort_desc\u001b[0m\u001b[0;34m:\u001b[0m\u001b[0;34m\u001b[0m\u001b[0;34m\u001b[0m\u001b[0m\n\u001b[0m\u001b[1;32m     30\u001b[0m                 \u001b[0mroad_closure\u001b[0m \u001b[0;34m=\u001b[0m \u001b[0;32mTrue\u001b[0m\u001b[0;34m\u001b[0m\u001b[0;34m\u001b[0m\u001b[0m\n\u001b[1;32m     31\u001b[0m                 \u001b[0;32mbreak\u001b[0m\u001b[0;34m\u001b[0m\u001b[0;34m\u001b[0m\u001b[0m\n",
      "\u001b[0;31mTypeError\u001b[0m: argument of type 'float' is not iterable"
     ]
    }
   ],
   "source": [
    "out_dir = BASE_PATH + \"road_closure/\" + str(index_folder)\n",
    "if not os.path.exists(out_dir):\n",
    "     os.mkdir(out_dir)\n",
    "\n",
    "for i in range(index_start_point_file, index_end_point_file):\n",
    "    print(\"file id is {}\".format(i))\n",
    "    print(\"start time is {}\".format(datetime.now()))\n",
    "    path = BASE_PATH + \"speeds/speed\" + \"_\" + str(index_folder) +\"/\" + str(i) + \"_file_\"+ str(i) + \".csv\"\n",
    "    \n",
    "    print(path)\n",
    "    road_closures = []\n",
    "    lane_closures = []\n",
    "    traffic_events_data = read_data(path)\n",
    "    traffic_events_data.head()\n",
    "    for index, data in traffic_events_data.iterrows():\n",
    "        road_closure = False\n",
    "        lane_closure = False\n",
    "        desc = data[\"FullDescription\"]\n",
    "        short_desc = data[\"ShortDescription\"]\n",
    "        if desc and type(desc) == str:\n",
    "            desc = desc.lower();\n",
    "        if short_desc and type(short_desc) == str:\n",
    "            short_desc = short_desc.lower();\n",
    "        \n",
    "        if desc and type(desc) == str:\n",
    "            for word in RoadClosed:\n",
    "                if word in desc:\n",
    "                    road_closure = True\n",
    "                    break\n",
    "                if word in short_desc:\n",
    "                    road_closure = True\n",
    "                    break\n",
    "                \n",
    "                \n",
    "        if not road_closure and short_desc and type(short_desc) == str:\n",
    "            for word in LaneClosed:\n",
    "                if word in desc:\n",
    "                    lane_closure = True\n",
    "                    break\n",
    "                if word in short_desc:\n",
    "                    lane_closure = True\n",
    "                    break\n",
    "                    \n",
    "        \n",
    "        road_closures.append(road_closure)\n",
    "        lane_closures.append(lane_closure)\n",
    "        print(desc)\n",
    "        print(short_desc)\n",
    "        print(\"road is {}, and lane is {}\".format(road_closure, lane_closure))\n",
    "    \n",
    "    break"
   ]
  },
  {
   "cell_type": "code",
   "execution_count": null,
   "metadata": {},
   "outputs": [],
   "source": []
  },
  {
   "cell_type": "code",
   "execution_count": null,
   "metadata": {},
   "outputs": [],
   "source": []
  }
 ],
 "metadata": {
  "kernelspec": {
   "display_name": "Python 3",
   "language": "python",
   "name": "python3"
  },
  "language_info": {
   "codemirror_mode": {
    "name": "ipython",
    "version": 3
   },
   "file_extension": ".py",
   "mimetype": "text/x-python",
   "name": "python",
   "nbconvert_exporter": "python",
   "pygments_lexer": "ipython3",
   "version": "3.8.5"
  }
 },
 "nbformat": 4,
 "nbformat_minor": 4
}
