{
 "cells": [
  {
   "cell_type": "code",
   "execution_count": 1,
   "metadata": {},
   "outputs": [],
   "source": [
    "import pandas as pd\n",
    "import requests \n",
    "import os\n",
    "import math\n",
    "from xml.etree import ElementTree\n",
    "from datetime import datetime"
   ]
  },
  {
   "cell_type": "code",
   "execution_count": 2,
   "metadata": {},
   "outputs": [],
   "source": [
    "TrafficEvents = None\n",
    "\n",
    "chunk_size = 1000\n",
    "max_distance_from_node = 50 # Meter\n",
    "number_of_nearest_node = 5 # count\n",
    "\n",
    "OSM_BASIC_URL = \"https://api.openstreetmap.org/api/0.6/\"\n",
    "BASE_PATH = \"/home/amin/CETI/RoadConstruction/TrafficEventData/part/\"\n",
    "    \n",
    "index_folder = 0\n",
    "index_start_point_file = 0\n",
    "index_end_point_file = 411\n"
   ]
  },
  {
   "cell_type": "code",
   "execution_count": 3,
   "metadata": {},
   "outputs": [],
   "source": [
    "def read_data(path):\n",
    "    data = None\n",
    "    print(\"read csv data is started with file {}\".format(path))\n",
    "    data = pd.read_csv(path)\n",
    "    print(\"reading is finished length is {} \".format(len(data)))\n",
    "    return data"
   ]
  },
  {
   "cell_type": "code",
   "execution_count": 4,
   "metadata": {},
   "outputs": [],
   "source": [
    "class OSM(object):\n",
    "    @staticmethod\n",
    "    def get_node_details_by_node_id(node_id):\n",
    "        URL = OSM_BASIC_URL + \"node/{}\".format(node_id)\n",
    "        response = requests.get(url = URL)\n",
    "        result_tree = ElementTree.fromstring(response.content)\n",
    "        return result_tree, response.content\n",
    "    \n",
    "    @staticmethod\n",
    "    def get_all_ways_contain_node_by_node_id(node_id):\n",
    "        URL = OSM_BASIC_URL + \"node/{}/ways\".format(node_id)\n",
    "        response = requests.get(url = URL)\n",
    "        result_tree = ElementTree.fromstring(response.content)\n",
    "        return result_tree, response.content\n",
    "    \n",
    "    @staticmethod\n",
    "    def get_type_of_way_contain_node_by_node_id(node_id):\n",
    "        result_tree, content = get_all_ways_contain_node_by_node_id(node_id)\n",
    "        print(result_tree)\n",
    "        print(content)"
   ]
  },
  {
   "cell_type": "code",
   "execution_count": null,
   "metadata": {},
   "outputs": [],
   "source": [
    "for i in range(index_start_point_file, index_end_point_file):\n",
    "    print(\"file id is {}\".format(i))\n",
    "    path = BASE_PATH + \"_\" + str(index_folder) + \"/\" + str(i) + \"_file_\"+ str(i) + \".csv\"\n",
    "    traffic_events_data = read_data(path)\n",
    "    for index, data in traffic_events_data.iterrows():\n",
    "        start_points_node_id = data['nearst_nodes_ids_of_start_point']\n",
    "        end_points_node_id = data['nearst_nodes_ids_of_end_point']\n",
    "        print(start_points_node_id)\n",
    "        print(end_points_node_id)\n",
    "        break\n",
    "    break\n",
    "        "
   ]
  },
  {
   "cell_type": "code",
   "execution_count": null,
   "metadata": {},
   "outputs": [],
   "source": []
  }
 ],
 "metadata": {
  "kernelspec": {
   "display_name": "Python 3",
   "language": "python",
   "name": "python3"
  },
  "language_info": {
   "codemirror_mode": {
    "name": "ipython",
    "version": 3
   },
   "file_extension": ".py",
   "mimetype": "text/x-python",
   "name": "python",
   "nbconvert_exporter": "python",
   "pygments_lexer": "ipython3",
   "version": "3.8.2"
  }
 },
 "nbformat": 4,
 "nbformat_minor": 4
}
