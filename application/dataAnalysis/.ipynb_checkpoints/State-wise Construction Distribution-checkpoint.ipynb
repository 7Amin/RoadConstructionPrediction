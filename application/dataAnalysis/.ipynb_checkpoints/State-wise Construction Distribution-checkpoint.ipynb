{
 "cells": [
  {
   "cell_type": "code",
   "execution_count": 5,
   "metadata": {},
   "outputs": [],
   "source": [
    "import gmplot\n",
    "import pandas as pd\n",
    "import requests \n",
    "import os\n",
    "import math\n",
    "from xml.etree.ElementTree import fromstring, ElementTree\n",
    "from datetime import datetime\n",
    "import json\n",
    "import statistics \n",
    "from collections import Counter\n",
    "import random\n",
    "import matplotlib.pyplot as plt\n",
    "import seaborn as sns\n"
   ]
  },
  {
   "cell_type": "code",
   "execution_count": 6,
   "metadata": {},
   "outputs": [],
   "source": [
    "TrafficEvents = None\n",
    "\n",
    "chunk_size = 1000\n",
    "\n",
    "BASE_PATH = \"/home/amin/CETI/RoadConstruction/TrafficEventData/part/speeds/speed_\"\n",
    "    \n",
    "index_folder = 0\n",
    "index_start_point_file = 0\n",
    "index_end_point_file = 411"
   ]
  },
  {
   "cell_type": "code",
   "execution_count": 7,
   "metadata": {},
   "outputs": [],
   "source": [
    "def read_data(path):\n",
    "    data = None\n",
    "    data = pd.read_csv(path)\n",
    "    return data"
   ]
  },
  {
   "cell_type": "code",
   "execution_count": 8,
   "metadata": {},
   "outputs": [
    {
     "name": "stdout",
     "output_type": "stream",
     "text": [
      "start time is 2020-09-08 17:32:27.874108\n",
      "end time is 2020-09-08 17:34:03.037460\n"
     ]
    }
   ],
   "source": [
    "print(\"start time is {}\".format(datetime.now()))\n",
    "for i in range(index_start_point_file, index_end_point_file):\n",
    "    type_of_ways_all_points = []\n",
    "    path = BASE_PATH + str(index_folder) + \"/\" + str(i) + \"_file_\"+ str(i) + \".csv\"\n",
    "    \n",
    "    data = read_data(path)\n",
    "    TrafficEvents = data.append(TrafficEvents, ignore_index = True)\n",
    "print(\"end time is {}\".format(datetime.now()))"
   ]
  },
  {
   "cell_type": "code",
   "execution_count": 9,
   "metadata": {},
   "outputs": [],
   "source": [
    "class Location(object):\n",
    "    def __init__(self, osrm_data):\n",
    "        self.longitude = osrm_data[0]\n",
    "        self.latitude = osrm_data[1]"
   ]
  },
  {
   "cell_type": "code",
   "execution_count": 10,
   "metadata": {},
   "outputs": [],
   "source": [
    "points = []\n",
    "\n",
    "for index, data in TrafficEvents.iterrows():\n",
    "    start_location = Location([data[\"StartPoint_Lng\"], data[\"StartPoint_Lat\"]])\n",
    "    if \"EndPoint_Lng\" in data and \"EndPoint_Lat\" in data and not math.isnan(data[\"EndPoint_Lat\"]):\n",
    "        end_location = Location([data[\"EndPoint_Lng\"], data[\"EndPoint_Lat\"]])\n",
    "    else:\n",
    "        end_location = Location([data[\"StartPoint_Lng\"], data[\"StartPoint_Lat\"]])\n",
    "            \n",
    "    points.append(start_location)"
   ]
  },
  {
   "cell_type": "code",
   "execution_count": 11,
   "metadata": {},
   "outputs": [],
   "source": [
    "locations = []\n",
    "for point in points:\n",
    "    randrange = random.randrange(0, 100)\n",
    "    if randrange > 85:\n",
    "        locations.append((point.latitude, point.longitude))\n",
    "\n",
    "\n",
    "attractions_lats, attractions_lngs = zip(*locations)"
   ]
  },
  {
   "cell_type": "code",
   "execution_count": 12,
   "metadata": {},
   "outputs": [],
   "source": [
    "apikey = ''\n",
    "gmap = gmplot.GoogleMapPlotter(42.164798, -101.852231, 5, apikey=apikey)\n",
    "gmap.scatter(attractions_lats, attractions_lngs, color='#0b30e6', size=4000, marker=False)\n",
    "gmap.draw('scatter_map.html')"
   ]
  },
  {
   "cell_type": "code",
   "execution_count": 13,
   "metadata": {},
   "outputs": [],
   "source": [
    "apikey = ''\n",
    "gmap = gmplot.GoogleMapPlotter(42.164798, -101.852231, 5, apikey=apikey)\n",
    "gmap.heatmap(attractions_lats, attractions_lngs)\n",
    "gmap.draw('heatmap_map.html')"
   ]
  },
  {
   "cell_type": "code",
   "execution_count": 14,
   "metadata": {},
   "outputs": [],
   "source": [
    "BBox = (TrafficEvents.StartPoint_Lng.min(), TrafficEvents.StartPoint_Lng.max(),      \n",
    "         TrafficEvents.StartPoint_Lat.min(), TrafficEvents.StartPoint_Lat.max())"
   ]
  },
  {
   "cell_type": "code",
   "execution_count": 15,
   "metadata": {},
   "outputs": [],
   "source": [
    "locations = []\n",
    "for point in points:\n",
    "    randrange = random.randrange(0, 100)\n",
    "    if randrange > -1:\n",
    "        locations.append((point.latitude, point.longitude))\n",
    "\n",
    "\n",
    "attractions_lats, attractions_lngs = zip(*locations)\n"
   ]
  },
  {
   "cell_type": "code",
   "execution_count": 16,
   "metadata": {},
   "outputs": [
    {
     "data": {
      "image/png": "[encoded data removed]",
      "text/plain": [
       "<Figure size 1080x576 with 2 Axes>"
      ]
     },
     "metadata": {
      "needs_background": "light"
     },
     "output_type": "display_data"
    }
   ],
   "source": [
    "plt.figure(figsize = (15,8))\n",
    "plt.hist2d(attractions_lngs, attractions_lats, bins=150, cmap='hot', density=True)\n",
    "plt.colorbar().set_label('Number of properties')\n",
    "plt.xlabel('Longitude', fontsize=14)\n",
    "plt.ylabel('Latitude', fontsize=14)\n",
    "plt.title('Number of properties in each area of USA', fontsize=17)\n",
    "plt.show()"
   ]
  },
  {
   "cell_type": "code",
   "execution_count": 17,
   "metadata": {},
   "outputs": [],
   "source": [
    "def read_part_data(folder_id, index_start, index_end):\n",
    "    df = None\n",
    "    print(\"start time is {}\".format(datetime.now()))\n",
    "    for i in range(index_start, index_end):\n",
    "        type_of_ways_all_points = []\n",
    "        path = BASE_PATH + str(folder_id) + \"/\" + str(i) + \"_file_\"+ str(i) + \".csv\"\n",
    "\n",
    "        data = read_data(path)\n",
    "        df = data.append(df, ignore_index = True)\n",
    "    print(\"end time is {}\".format(datetime.now()))\n",
    "    return df"
   ]
  },
  {
   "cell_type": "code",
   "execution_count": 18,
   "metadata": {},
   "outputs": [
    {
     "name": "stdout",
     "output_type": "stream",
     "text": [
      "0\n",
      "start time is 2020-09-08 17:34:32.629196\n",
      "end time is 2020-09-08 17:36:00.635871\n",
      "1\n",
      "start time is 2020-09-08 17:36:01.033433\n",
      "end time is 2020-09-08 17:37:35.832634\n",
      "2\n",
      "start time is 2020-09-08 17:37:36.600824\n",
      "end time is 2020-09-08 17:39:10.162304\n",
      "3\n",
      "start time is 2020-09-08 17:39:11.383215\n",
      "end time is 2020-09-08 17:40:43.592885\n",
      "4\n",
      "start time is 2020-09-08 17:40:45.225159\n",
      "end time is 2020-09-08 17:42:16.698013\n",
      "5\n",
      "start time is 2020-09-08 17:42:18.692079\n",
      "end time is 2020-09-08 17:43:55.043563\n",
      "6\n",
      "start time is 2020-09-08 17:43:59.619146\n",
      "end time is 2020-09-08 17:45:33.844061\n",
      "7\n",
      "start time is 2020-09-08 17:45:37.064465\n",
      "end time is 2020-09-08 17:47:10.585206\n",
      "9\n",
      "start time is 2020-09-08 17:47:14.788186\n",
      "end time is 2020-09-08 17:48:42.037700\n"
     ]
    }
   ],
   "source": [
    "df = None\n",
    "for i in range(0,8):\n",
    "    print(i)\n",
    "    data = read_part_data(i, 0, 411)\n",
    "    df = data.append(df, ignore_index = True)\n",
    "print(9)\n",
    "data = read_part_data(9, 0, 393)\n",
    "df = data.append(df, ignore_index = True)"
   ]
  },
  {
   "cell_type": "code",
   "execution_count": 77,
   "metadata": {},
   "outputs": [],
   "source": [
    "df_state = df.loc[:, df.columns.intersection(['State', \"Id\", \"Source\"])]"
   ]
  },
  {
   "cell_type": "code",
   "execution_count": 78,
   "metadata": {},
   "outputs": [
    {
     "data": {
      "text/html": [
       "<div>\n",
       "<style scoped>\n",
       "    .dataframe tbody tr th:only-of-type {\n",
       "        vertical-align: middle;\n",
       "    }\n",
       "\n",
       "    .dataframe tbody tr th {\n",
       "        vertical-align: top;\n",
       "    }\n",
       "\n",
       "    .dataframe thead th {\n",
       "        text-align: right;\n",
       "    }\n",
       "</style>\n",
       "<table border=\"1\" class=\"dataframe\">\n",
       "  <thead>\n",
       "    <tr style=\"text-align: right;\">\n",
       "      <th></th>\n",
       "      <th>Id</th>\n",
       "      <th>Source</th>\n",
       "      <th>State</th>\n",
       "    </tr>\n",
       "  </thead>\n",
       "  <tbody>\n",
       "    <tr>\n",
       "      <th>0</th>\n",
       "      <td>M-12687617</td>\n",
       "      <td>MapQuest</td>\n",
       "      <td>CA</td>\n",
       "    </tr>\n",
       "    <tr>\n",
       "      <th>1</th>\n",
       "      <td>M-12687618</td>\n",
       "      <td>MapQuest</td>\n",
       "      <td>CA</td>\n",
       "    </tr>\n",
       "    <tr>\n",
       "      <th>2</th>\n",
       "      <td>M-12687619</td>\n",
       "      <td>MapQuest</td>\n",
       "      <td>CA</td>\n",
       "    </tr>\n",
       "    <tr>\n",
       "      <th>3</th>\n",
       "      <td>M-12687620</td>\n",
       "      <td>MapQuest</td>\n",
       "      <td>CA</td>\n",
       "    </tr>\n",
       "    <tr>\n",
       "      <th>4</th>\n",
       "      <td>M-12687621</td>\n",
       "      <td>MapQuest</td>\n",
       "      <td>CA</td>\n",
       "    </tr>\n",
       "    <tr>\n",
       "      <th>...</th>\n",
       "      <td>...</td>\n",
       "      <td>...</td>\n",
       "      <td>...</td>\n",
       "    </tr>\n",
       "    <tr>\n",
       "      <th>2045985</th>\n",
       "      <td>NaN</td>\n",
       "      <td>NaN</td>\n",
       "      <td>MI</td>\n",
       "    </tr>\n",
       "    <tr>\n",
       "      <th>2045986</th>\n",
       "      <td>NaN</td>\n",
       "      <td>NaN</td>\n",
       "      <td>OH</td>\n",
       "    </tr>\n",
       "    <tr>\n",
       "      <th>2045987</th>\n",
       "      <td>NaN</td>\n",
       "      <td>NaN</td>\n",
       "      <td>OH</td>\n",
       "    </tr>\n",
       "    <tr>\n",
       "      <th>2045988</th>\n",
       "      <td>NaN</td>\n",
       "      <td>NaN</td>\n",
       "      <td>IN</td>\n",
       "    </tr>\n",
       "    <tr>\n",
       "      <th>2045989</th>\n",
       "      <td>NaN</td>\n",
       "      <td>NaN</td>\n",
       "      <td>IN</td>\n",
       "    </tr>\n",
       "  </tbody>\n",
       "</table>\n",
       "<p>2045990 rows × 3 columns</p>\n",
       "</div>"
      ],
      "text/plain": [
       "                 Id    Source State\n",
       "0        M-12687617  MapQuest    CA\n",
       "1        M-12687618  MapQuest    CA\n",
       "2        M-12687619  MapQuest    CA\n",
       "3        M-12687620  MapQuest    CA\n",
       "4        M-12687621  MapQuest    CA\n",
       "...             ...       ...   ...\n",
       "2045985         NaN       NaN    MI\n",
       "2045986         NaN       NaN    OH\n",
       "2045987         NaN       NaN    OH\n",
       "2045988         NaN       NaN    IN\n",
       "2045989         NaN       NaN    IN\n",
       "\n",
       "[2045990 rows x 3 columns]"
      ]
     },
     "execution_count": 78,
     "metadata": {},
     "output_type": "execute_result"
    }
   ],
   "source": [
    "df_state.head(-10)"
   ]
  },
  {
   "cell_type": "code",
   "execution_count": 79,
   "metadata": {},
   "outputs": [],
   "source": [
    "df_state_group = df_state.groupby(\"State\")"
   ]
  },
  {
   "cell_type": "code",
   "execution_count": 80,
   "metadata": {},
   "outputs": [
    {
     "data": {
      "text/html": [
       "<div>\n",
       "<style scoped>\n",
       "    .dataframe tbody tr th:only-of-type {\n",
       "        vertical-align: middle;\n",
       "    }\n",
       "\n",
       "    .dataframe tbody tr th {\n",
       "        vertical-align: top;\n",
       "    }\n",
       "\n",
       "    .dataframe thead th {\n",
       "        text-align: right;\n",
       "    }\n",
       "</style>\n",
       "<table border=\"1\" class=\"dataframe\">\n",
       "  <thead>\n",
       "    <tr style=\"text-align: right;\">\n",
       "      <th></th>\n",
       "      <th>Id</th>\n",
       "      <th>Source</th>\n",
       "      <th>State</th>\n",
       "    </tr>\n",
       "  </thead>\n",
       "  <tbody>\n",
       "    <tr>\n",
       "      <th>0</th>\n",
       "      <td>M-12687617</td>\n",
       "      <td>MapQuest</td>\n",
       "      <td>CA</td>\n",
       "    </tr>\n",
       "    <tr>\n",
       "      <th>1</th>\n",
       "      <td>M-12687618</td>\n",
       "      <td>MapQuest</td>\n",
       "      <td>CA</td>\n",
       "    </tr>\n",
       "    <tr>\n",
       "      <th>2</th>\n",
       "      <td>M-12687619</td>\n",
       "      <td>MapQuest</td>\n",
       "      <td>CA</td>\n",
       "    </tr>\n",
       "    <tr>\n",
       "      <th>3</th>\n",
       "      <td>M-12687620</td>\n",
       "      <td>MapQuest</td>\n",
       "      <td>CA</td>\n",
       "    </tr>\n",
       "    <tr>\n",
       "      <th>4</th>\n",
       "      <td>M-12687621</td>\n",
       "      <td>MapQuest</td>\n",
       "      <td>CA</td>\n",
       "    </tr>\n",
       "    <tr>\n",
       "      <th>...</th>\n",
       "      <td>...</td>\n",
       "      <td>...</td>\n",
       "      <td>...</td>\n",
       "    </tr>\n",
       "    <tr>\n",
       "      <th>79925</th>\n",
       "      <td>M-9203593</td>\n",
       "      <td>MapQuest</td>\n",
       "      <td>ND</td>\n",
       "    </tr>\n",
       "    <tr>\n",
       "      <th>86444</th>\n",
       "      <td>M-8856587</td>\n",
       "      <td>MapQuest</td>\n",
       "      <td>DC</td>\n",
       "    </tr>\n",
       "    <tr>\n",
       "      <th>95806</th>\n",
       "      <td>M-8339091</td>\n",
       "      <td>MapQuest</td>\n",
       "      <td>DC</td>\n",
       "    </tr>\n",
       "    <tr>\n",
       "      <th>104726</th>\n",
       "      <td>M-7913418</td>\n",
       "      <td>MapQuest</td>\n",
       "      <td>DC</td>\n",
       "    </tr>\n",
       "    <tr>\n",
       "      <th>211385</th>\n",
       "      <td>NaN</td>\n",
       "      <td>NaN</td>\n",
       "      <td>SD</td>\n",
       "    </tr>\n",
       "  </tbody>\n",
       "</table>\n",
       "<p>245 rows × 3 columns</p>\n",
       "</div>"
      ],
      "text/plain": [
       "                Id    Source State\n",
       "0       M-12687617  MapQuest    CA\n",
       "1       M-12687618  MapQuest    CA\n",
       "2       M-12687619  MapQuest    CA\n",
       "3       M-12687620  MapQuest    CA\n",
       "4       M-12687621  MapQuest    CA\n",
       "...            ...       ...   ...\n",
       "79925    M-9203593  MapQuest    ND\n",
       "86444    M-8856587  MapQuest    DC\n",
       "95806    M-8339091  MapQuest    DC\n",
       "104726   M-7913418  MapQuest    DC\n",
       "211385         NaN       NaN    SD\n",
       "\n",
       "[245 rows x 3 columns]"
      ]
     },
     "execution_count": 80,
     "metadata": {},
     "output_type": "execute_result"
    }
   ],
   "source": [
    "df_state_group.head()"
   ]
  },
  {
   "cell_type": "code",
   "execution_count": 81,
   "metadata": {},
   "outputs": [],
   "source": [
    "df_state_count = df_state_group.size().reset_index(name='counts')"
   ]
  },
  {
   "cell_type": "code",
   "execution_count": 82,
   "metadata": {},
   "outputs": [
    {
     "data": {
      "text/html": [
       "<div>\n",
       "<style scoped>\n",
       "    .dataframe tbody tr th:only-of-type {\n",
       "        vertical-align: middle;\n",
       "    }\n",
       "\n",
       "    .dataframe tbody tr th {\n",
       "        vertical-align: top;\n",
       "    }\n",
       "\n",
       "    .dataframe thead th {\n",
       "        text-align: right;\n",
       "    }\n",
       "</style>\n",
       "<table border=\"1\" class=\"dataframe\">\n",
       "  <thead>\n",
       "    <tr style=\"text-align: right;\">\n",
       "      <th></th>\n",
       "      <th>State</th>\n",
       "      <th>counts</th>\n",
       "    </tr>\n",
       "  </thead>\n",
       "  <tbody>\n",
       "    <tr>\n",
       "      <th>0</th>\n",
       "      <td>AL</td>\n",
       "      <td>8922</td>\n",
       "    </tr>\n",
       "    <tr>\n",
       "      <th>1</th>\n",
       "      <td>AR</td>\n",
       "      <td>2552</td>\n",
       "    </tr>\n",
       "    <tr>\n",
       "      <th>2</th>\n",
       "      <td>AZ</td>\n",
       "      <td>28596</td>\n",
       "    </tr>\n",
       "    <tr>\n",
       "      <th>3</th>\n",
       "      <td>CA</td>\n",
       "      <td>257466</td>\n",
       "    </tr>\n",
       "    <tr>\n",
       "      <th>4</th>\n",
       "      <td>CO</td>\n",
       "      <td>104827</td>\n",
       "    </tr>\n",
       "  </tbody>\n",
       "</table>\n",
       "</div>"
      ],
      "text/plain": [
       "  State  counts\n",
       "0    AL    8922\n",
       "1    AR    2552\n",
       "2    AZ   28596\n",
       "3    CA  257466\n",
       "4    CO  104827"
      ]
     },
     "execution_count": 82,
     "metadata": {},
     "output_type": "execute_result"
    }
   ],
   "source": [
    "df_state_count.head()"
   ]
  },
  {
   "cell_type": "code",
   "execution_count": 83,
   "metadata": {},
   "outputs": [
    {
     "data": {
      "image/png": "[encoded data removed]",
      "text/plain": [
       "<Figure size 1080x576 with 1 Axes>"
      ]
     },
     "metadata": {},
     "output_type": "display_data"
    }
   ],
   "source": [
    "plt.figure(figsize= (15,8))\n",
    "plt.bar(x=df_state_count['State'], height=df_state_count['counts'])\n",
    "a = plt.xticks(rotation = 90)\n",
    "plt.title(\"Construction distribution by state\")\n",
    "plt.savefig(\"construction_distribution_by_state.png\")"
   ]
  },
  {
   "cell_type": "code",
   "execution_count": 90,
   "metadata": {},
   "outputs": [
    {
     "data": {
      "text/plain": [
       "pandas.core.frame.DataFrame"
      ]
     },
     "execution_count": 90,
     "metadata": {},
     "output_type": "execute_result"
    }
   ],
   "source": [
    "type(df_state)"
   ]
  },
  {
   "cell_type": "code",
   "execution_count": 96,
   "metadata": {},
   "outputs": [],
   "source": [
    "df_state_MapQuest = df_state[df_state.Source == \"MapQuest\"]"
   ]
  },
  {
   "cell_type": "code",
   "execution_count": 97,
   "metadata": {},
   "outputs": [
    {
     "data": {
      "text/plain": [
       "<bound method NDFrame.head of                 Id    Source State\n",
       "0       M-12687617  MapQuest    CA\n",
       "1       M-12687618  MapQuest    CA\n",
       "2       M-12687619  MapQuest    CA\n",
       "3       M-12687620  MapQuest    CA\n",
       "4       M-12687621  MapQuest    CA\n",
       "...            ...       ...   ...\n",
       "205495   M-5038207  MapQuest    CO\n",
       "205496   M-5038209  MapQuest    CO\n",
       "205497   M-5038212  MapQuest    CO\n",
       "205498   M-5038213  MapQuest    CO\n",
       "205499   M-5038222  MapQuest    CO\n",
       "\n",
       "[205500 rows x 3 columns]>"
      ]
     },
     "execution_count": 97,
     "metadata": {},
     "output_type": "execute_result"
    }
   ],
   "source": [
    "df_state_MapQuest.head"
   ]
  },
  {
   "cell_type": "code",
   "execution_count": 98,
   "metadata": {},
   "outputs": [
    {
     "ename": "TypeError",
     "evalue": "'numpy.int64' object is not callable",
     "output_type": "error",
     "traceback": [
      "\u001b[0;31m---------------------------------------------------------------------------\u001b[0m",
      "\u001b[0;31mTypeError\u001b[0m                                 Traceback (most recent call last)",
      "\u001b[0;32m<ipython-input-98-127e829418d0>\u001b[0m in \u001b[0;36m<module>\u001b[0;34m\u001b[0m\n\u001b[0;32m----> 1\u001b[0;31m \u001b[0mdf_state_MapQuest_count\u001b[0m \u001b[0;34m=\u001b[0m \u001b[0mdf_state_MapQuest\u001b[0m\u001b[0;34m.\u001b[0m\u001b[0msize\u001b[0m\u001b[0;34m(\u001b[0m\u001b[0;34m)\u001b[0m\u001b[0;34m.\u001b[0m\u001b[0mreset_index\u001b[0m\u001b[0;34m(\u001b[0m\u001b[0mname\u001b[0m\u001b[0;34m=\u001b[0m\u001b[0;34m'counts'\u001b[0m\u001b[0;34m)\u001b[0m\u001b[0;34m\u001b[0m\u001b[0;34m\u001b[0m\u001b[0m\n\u001b[0m",
      "\u001b[0;31mTypeError\u001b[0m: 'numpy.int64' object is not callable"
     ]
    }
   ],
   "source": [
    "df_state_MapQuest_count = df_state_MapQuest.size().reset_index(name='counts')"
   ]
  },
  {
   "cell_type": "code",
   "execution_count": null,
   "metadata": {},
   "outputs": [],
   "source": []
  }
 ],
 "metadata": {
  "kernelspec": {
   "display_name": "Python 3",
   "language": "python",
   "name": "python3"
  },
  "language_info": {
   "codemirror_mode": {
    "name": "ipython",
    "version": 3
   },
   "file_extension": ".py",
   "mimetype": "text/x-python",
   "name": "python",
   "nbconvert_exporter": "python",
   "pygments_lexer": "ipython3",
   "version": "3.8.2"
  }
 },
 "nbformat": 4,
 "nbformat_minor": 4
}
