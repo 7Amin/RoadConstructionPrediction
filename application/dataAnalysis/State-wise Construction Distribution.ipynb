{
 "cells": [
  {
   "cell_type": "code",
   "execution_count": 1,
   "metadata": {},
   "outputs": [],
   "source": [
    "import gmplot\n",
    "import pandas as pd\n",
    "import requests \n",
    "import os\n",
    "import math\n",
    "from xml.etree.ElementTree import fromstring, ElementTree\n",
    "from datetime import datetime\n",
    "import json\n",
    "import statistics \n",
    "from collections import Counter\n",
    "import random\n",
    "import matplotlib.pyplot as plt\n",
    "import seaborn as sns"
   ]
  },
  {
   "cell_type": "code",
   "execution_count": 2,
   "metadata": {},
   "outputs": [],
   "source": [
    "TrafficEvents = None\n",
    "\n",
    "chunk_size = 1000\n",
    "\n",
    "BASE_PATH = \"/home/amin/CETI/RoadConstruction/TrafficEventData/part/speeds/speed_\"\n",
    "    \n",
    "index_folder = 0\n",
    "index_start_point_file = 0\n",
    "index_end_point_file = 411"
   ]
  },
  {
   "cell_type": "code",
   "execution_count": 3,
   "metadata": {},
   "outputs": [],
   "source": [
    "def read_data(path):\n",
    "    data = None\n",
    "    data = pd.read_csv(path)\n",
    "    return data"
   ]
  },
  {
   "cell_type": "code",
   "execution_count": 4,
   "metadata": {},
   "outputs": [
    {
     "name": "stdout",
     "output_type": "stream",
     "text": [
      "start time is 2020-09-09 23:37:01.420611\n",
      "end time is 2020-09-09 23:38:49.964658\n"
     ]
    }
   ],
   "source": [
    "print(\"start time is {}\".format(datetime.now()))\n",
    "for i in range(index_start_point_file, index_end_point_file):\n",
    "    type_of_ways_all_points = []\n",
    "    path = BASE_PATH + str(index_folder) + \"/\" + str(i) + \"_file_\"+ str(i) + \".csv\"\n",
    "    \n",
    "    data = read_data(path)\n",
    "    TrafficEvents = data.append(TrafficEvents, ignore_index = True)\n",
    "print(\"end time is {}\".format(datetime.now()))"
   ]
  },
  {
   "cell_type": "code",
   "execution_count": 5,
   "metadata": {},
   "outputs": [],
   "source": [
    "class Location(object):\n",
    "    def __init__(self, osrm_data):\n",
    "        self.longitude = osrm_data[0]\n",
    "        self.latitude = osrm_data[1]"
   ]
  },
  {
   "cell_type": "code",
   "execution_count": 6,
   "metadata": {},
   "outputs": [],
   "source": [
    "points = []\n",
    "\n",
    "for index, data in TrafficEvents.iterrows():\n",
    "    start_location = Location([data[\"StartPoint_Lng\"], data[\"StartPoint_Lat\"]])\n",
    "    if \"EndPoint_Lng\" in data and \"EndPoint_Lat\" in data and not math.isnan(data[\"EndPoint_Lat\"]):\n",
    "        end_location = Location([data[\"EndPoint_Lng\"], data[\"EndPoint_Lat\"]])\n",
    "    else:\n",
    "        end_location = Location([data[\"StartPoint_Lng\"], data[\"StartPoint_Lat\"]])\n",
    "            \n",
    "    points.append(start_location)"
   ]
  },
  {
   "cell_type": "code",
   "execution_count": 7,
   "metadata": {},
   "outputs": [],
   "source": [
    "locations = []\n",
    "for point in points:\n",
    "    randrange = random.randrange(0, 100)\n",
    "    if randrange > 85:\n",
    "        locations.append((point.latitude, point.longitude))\n",
    "\n",
    "\n",
    "attractions_lats, attractions_lngs = zip(*locations)"
   ]
  },
  {
   "cell_type": "code",
   "execution_count": 8,
   "metadata": {},
   "outputs": [],
   "source": [
    "apikey = ''\n",
    "gmap = gmplot.GoogleMapPlotter(42.164798, -101.852231, 5, apikey=apikey)\n",
    "gmap.scatter(attractions_lats, attractions_lngs, color='#0b30e6', size=4000, marker=False)\n",
    "gmap.draw('scatter_map.html')"
   ]
  },
  {
   "cell_type": "code",
   "execution_count": 9,
   "metadata": {},
   "outputs": [],
   "source": [
    "apikey = ''\n",
    "gmap = gmplot.GoogleMapPlotter(42.164798, -101.852231, 5, apikey=apikey)\n",
    "gmap.heatmap(attractions_lats, attractions_lngs)\n",
    "gmap.draw('heatmap_map.html')"
   ]
  },
  {
   "cell_type": "code",
   "execution_count": 10,
   "metadata": {},
   "outputs": [],
   "source": [
    "BBox = (TrafficEvents.StartPoint_Lng.min(), TrafficEvents.StartPoint_Lng.max(),      \n",
    "         TrafficEvents.StartPoint_Lat.min(), TrafficEvents.StartPoint_Lat.max())"
   ]
  },
  {
   "cell_type": "code",
   "execution_count": 11,
   "metadata": {},
   "outputs": [],
   "source": [
    "locations = []\n",
    "for point in points:\n",
    "    randrange = random.randrange(0, 100)\n",
    "    if randrange > -1:\n",
    "        locations.append((point.latitude, point.longitude))\n",
    "\n",
    "\n",
    "attractions_lats, attractions_lngs = zip(*locations)\n"
   ]
  },
  {
   "cell_type": "code",
   "execution_count": 12,
   "metadata": {},
   "outputs": [
    {
     "data": {
      "image/png": "[encoded data removed]",
      "text/plain": [
       "<Figure size 1080x576 with 2 Axes>"
      ]
     },
     "metadata": {
      "needs_background": "light"
     },
     "output_type": "display_data"
    }
   ],
   "source": [
    "plt.figure(figsize = (15,8))\n",
    "plt.hist2d(attractions_lngs, attractions_lats, bins=150, cmap='hot', density=True)\n",
    "plt.colorbar().set_label('Number of properties')\n",
    "plt.xlabel('Longitude', fontsize=14)\n",
    "plt.ylabel('Latitude', fontsize=14)\n",
    "plt.title('Number of properties in each area of USA', fontsize=17)\n",
    "plt.show()"
   ]
  },
  {
   "cell_type": "code",
   "execution_count": 13,
   "metadata": {},
   "outputs": [],
   "source": [
    "def read_part_data(folder_id, index_start, index_end):\n",
    "    df = None\n",
    "    print(\"start time is {}\".format(datetime.now()))\n",
    "    for i in range(index_start, index_end):\n",
    "        type_of_ways_all_points = []\n",
    "        path = BASE_PATH + str(folder_id) + \"/\" + str(i) + \"_file_\"+ str(i) + \".csv\"\n",
    "\n",
    "        data = read_data(path)\n",
    "        df = data.append(df, ignore_index = True)\n",
    "    print(\"end time is {}\".format(datetime.now()))\n",
    "    return df"
   ]
  },
  {
   "cell_type": "code",
   "execution_count": 14,
   "metadata": {},
   "outputs": [
    {
     "name": "stdout",
     "output_type": "stream",
     "text": [
      "0\n",
      "start time is 2020-09-09 23:39:30.010272\n",
      "end time is 2020-09-09 23:40:59.190675\n",
      "1\n",
      "start time is 2020-09-09 23:40:59.600228\n",
      "end time is 2020-09-09 23:42:39.801968\n",
      "2\n",
      "start time is 2020-09-09 23:42:40.677538\n",
      "end time is 2020-09-09 23:44:22.568375\n",
      "3\n",
      "start time is 2020-09-09 23:44:23.894071\n",
      "end time is 2020-09-09 23:46:10.016243\n",
      "4\n",
      "start time is 2020-09-09 23:46:11.682990\n",
      "end time is 2020-09-09 23:48:08.372795\n",
      "5\n",
      "start time is 2020-09-09 23:48:11.112721\n",
      "end time is 2020-09-09 23:50:05.929924\n",
      "6\n",
      "start time is 2020-09-09 23:50:08.463374\n",
      "end time is 2020-09-09 23:51:35.278975\n",
      "7\n",
      "start time is 2020-09-09 23:51:38.209178\n",
      "end time is 2020-09-09 23:53:26.988623\n",
      "9\n",
      "start time is 2020-09-09 23:53:30.931365\n",
      "end time is 2020-09-09 23:55:03.991396\n"
     ]
    }
   ],
   "source": [
    "df = None\n",
    "for i in range(0,8):\n",
    "    print(i)\n",
    "    data = read_part_data(i, 0, 411)\n",
    "    df = data.append(df, ignore_index = True)\n",
    "print(9)\n",
    "data = read_part_data(9, 0, 393)\n",
    "df = data.append(df, ignore_index = True)"
   ]
  },
  {
   "cell_type": "code",
   "execution_count": 15,
   "metadata": {},
   "outputs": [
    {
     "data": {
      "text/html": [
       "<div>\n",
       "<style scoped>\n",
       "    .dataframe tbody tr th:only-of-type {\n",
       "        vertical-align: middle;\n",
       "    }\n",
       "\n",
       "    .dataframe tbody tr th {\n",
       "        vertical-align: top;\n",
       "    }\n",
       "\n",
       "    .dataframe thead th {\n",
       "        text-align: right;\n",
       "    }\n",
       "</style>\n",
       "<table border=\"1\" class=\"dataframe\">\n",
       "  <thead>\n",
       "    <tr style=\"text-align: right;\">\n",
       "      <th></th>\n",
       "      <th>Id</th>\n",
       "      <th>Source</th>\n",
       "      <th>Type</th>\n",
       "      <th>EventCode</th>\n",
       "      <th>Severity</th>\n",
       "      <th>StartPoint_Lat</th>\n",
       "      <th>StartPoint_Lng</th>\n",
       "      <th>EndPoint_Lat</th>\n",
       "      <th>EndPoint_Lng</th>\n",
       "      <th>Distance(mi)</th>\n",
       "      <th>...</th>\n",
       "      <th>Turning_Circle</th>\n",
       "      <th>Turning_Loop</th>\n",
       "      <th>nearst_nodes_of_start_point</th>\n",
       "      <th>nearst_nodes_of_end_point</th>\n",
       "      <th>nearst_nodes_ids_of_start_point</th>\n",
       "      <th>nearst_nodes_ids_of_end_point</th>\n",
       "      <th>type_of_roads</th>\n",
       "      <th>avg_speed</th>\n",
       "      <th>distance</th>\n",
       "      <th>eta</th>\n",
       "    </tr>\n",
       "  </thead>\n",
       "  <tbody>\n",
       "    <tr>\n",
       "      <th>0</th>\n",
       "      <td>M-29450881</td>\n",
       "      <td>MapQuest</td>\n",
       "      <td>Construction</td>\n",
       "      <td>406.0</td>\n",
       "      <td>3</td>\n",
       "      <td>44.309494</td>\n",
       "      <td>-90.840271</td>\n",
       "      <td>NaN</td>\n",
       "      <td>NaN</td>\n",
       "      <td>0.860000</td>\n",
       "      <td>...</td>\n",
       "      <td>False</td>\n",
       "      <td>False</td>\n",
       "      <td>{'waypoints': [{'nodes': [2147408021, 47184371...</td>\n",
       "      <td>{'waypoints': [{'nodes': [2147408021, 47184371...</td>\n",
       "      <td>[2147408021, 471843710, 2147408024, 2147408021...</td>\n",
       "      <td>[2147408021, 471843710, 2147408024, 2147408021...</td>\n",
       "      <td>motorway_link</td>\n",
       "      <td>-100.000000</td>\n",
       "      <td>-100.0</td>\n",
       "      <td>-100.0</td>\n",
       "    </tr>\n",
       "    <tr>\n",
       "      <th>1</th>\n",
       "      <td>M-29450890</td>\n",
       "      <td>MapQuest</td>\n",
       "      <td>Construction</td>\n",
       "      <td>703.0</td>\n",
       "      <td>2</td>\n",
       "      <td>44.387669</td>\n",
       "      <td>-88.720055</td>\n",
       "      <td>NaN</td>\n",
       "      <td>NaN</td>\n",
       "      <td>0.120000</td>\n",
       "      <td>...</td>\n",
       "      <td>False</td>\n",
       "      <td>False</td>\n",
       "      <td>{'waypoints': [{'nodes': [232006634, 232006479...</td>\n",
       "      <td>{'waypoints': [{'nodes': [232006634, 232006479...</td>\n",
       "      <td>[232006634, 232006479, 2281677742, 232006634, ...</td>\n",
       "      <td>[232006634, 232006479, 2281677742, 232006634, ...</td>\n",
       "      <td>trunk</td>\n",
       "      <td>-100.000000</td>\n",
       "      <td>-100.0</td>\n",
       "      <td>-100.0</td>\n",
       "    </tr>\n",
       "    <tr>\n",
       "      <th>2</th>\n",
       "      <td>M-29450891</td>\n",
       "      <td>MapQuest</td>\n",
       "      <td>Construction</td>\n",
       "      <td>703.0</td>\n",
       "      <td>2</td>\n",
       "      <td>44.403862</td>\n",
       "      <td>-88.734856</td>\n",
       "      <td>NaN</td>\n",
       "      <td>NaN</td>\n",
       "      <td>0.000000</td>\n",
       "      <td>...</td>\n",
       "      <td>False</td>\n",
       "      <td>False</td>\n",
       "      <td>{'waypoints': [{'nodes': [232006387, 232006382...</td>\n",
       "      <td>{'waypoints': [{'nodes': [232006387, 232006382...</td>\n",
       "      <td>[232006387, 232006382, 232006382, 231764181, 2...</td>\n",
       "      <td>[232006387, 232006382, 232006382, 231764181, 2...</td>\n",
       "      <td>trunk</td>\n",
       "      <td>-100.000000</td>\n",
       "      <td>-100.0</td>\n",
       "      <td>-100.0</td>\n",
       "    </tr>\n",
       "    <tr>\n",
       "      <th>3</th>\n",
       "      <td>M-29450947</td>\n",
       "      <td>MapQuest</td>\n",
       "      <td>Construction</td>\n",
       "      <td>735.0</td>\n",
       "      <td>3</td>\n",
       "      <td>44.734169</td>\n",
       "      <td>-90.497337</td>\n",
       "      <td>NaN</td>\n",
       "      <td>NaN</td>\n",
       "      <td>0.100000</td>\n",
       "      <td>...</td>\n",
       "      <td>False</td>\n",
       "      <td>False</td>\n",
       "      <td>{'waypoints': [{'nodes': [147039746, 147017038...</td>\n",
       "      <td>{'waypoints': [{'nodes': [147039746, 147017038...</td>\n",
       "      <td>[147039746, 147017038, 147017038, 147017035, 1...</td>\n",
       "      <td>[147039746, 147017038, 147017038, 147017035, 1...</td>\n",
       "      <td>residential</td>\n",
       "      <td>-100.000000</td>\n",
       "      <td>-100.0</td>\n",
       "      <td>-100.0</td>\n",
       "    </tr>\n",
       "    <tr>\n",
       "      <th>4</th>\n",
       "      <td>M-29450948</td>\n",
       "      <td>MapQuest</td>\n",
       "      <td>Construction</td>\n",
       "      <td>735.0</td>\n",
       "      <td>3</td>\n",
       "      <td>44.734177</td>\n",
       "      <td>-90.496017</td>\n",
       "      <td>NaN</td>\n",
       "      <td>NaN</td>\n",
       "      <td>0.100000</td>\n",
       "      <td>...</td>\n",
       "      <td>False</td>\n",
       "      <td>False</td>\n",
       "      <td>{'waypoints': [{'nodes': [3372527386, 14701703...</td>\n",
       "      <td>{'waypoints': [{'nodes': [3372527386, 14701703...</td>\n",
       "      <td>[3372527386, 147017032, 3372527390, 147017032,...</td>\n",
       "      <td>[3372527386, 147017032, 3372527390, 147017032,...</td>\n",
       "      <td>primary</td>\n",
       "      <td>-100.000000</td>\n",
       "      <td>-100.0</td>\n",
       "      <td>-100.0</td>\n",
       "    </tr>\n",
       "    <tr>\n",
       "      <th>...</th>\n",
       "      <td>...</td>\n",
       "      <td>...</td>\n",
       "      <td>...</td>\n",
       "      <td>...</td>\n",
       "      <td>...</td>\n",
       "      <td>...</td>\n",
       "      <td>...</td>\n",
       "      <td>...</td>\n",
       "      <td>...</td>\n",
       "      <td>...</td>\n",
       "      <td>...</td>\n",
       "      <td>...</td>\n",
       "      <td>...</td>\n",
       "      <td>...</td>\n",
       "      <td>...</td>\n",
       "      <td>...</td>\n",
       "      <td>...</td>\n",
       "      <td>...</td>\n",
       "      <td>...</td>\n",
       "      <td>...</td>\n",
       "      <td>...</td>\n",
       "    </tr>\n",
       "    <tr>\n",
       "      <th>1840485</th>\n",
       "      <td>B-7462</td>\n",
       "      <td>Bing</td>\n",
       "      <td>Construction</td>\n",
       "      <td>NaN</td>\n",
       "      <td>2</td>\n",
       "      <td>41.931130</td>\n",
       "      <td>-83.358570</td>\n",
       "      <td>41.90569</td>\n",
       "      <td>-83.36915</td>\n",
       "      <td>1.839975</td>\n",
       "      <td>...</td>\n",
       "      <td>False</td>\n",
       "      <td>False</td>\n",
       "      <td>{'waypoints': [{'nodes': [185322523, 633371374...</td>\n",
       "      <td>{'waypoints': [{'nodes': [30455284, 30455283],...</td>\n",
       "      <td>[185322523, 6333713747, 185322523, 6333713746,...</td>\n",
       "      <td>[30455284, 30455283, 185370968, 30455284, 1853...</td>\n",
       "      <td>motorway</td>\n",
       "      <td>25.036195</td>\n",
       "      <td>2974.3</td>\n",
       "      <td>118.8</td>\n",
       "    </tr>\n",
       "    <tr>\n",
       "      <th>1840486</th>\n",
       "      <td>B-7474</td>\n",
       "      <td>Bing</td>\n",
       "      <td>Construction</td>\n",
       "      <td>NaN</td>\n",
       "      <td>2</td>\n",
       "      <td>39.500000</td>\n",
       "      <td>-84.730310</td>\n",
       "      <td>39.44563</td>\n",
       "      <td>-84.68347</td>\n",
       "      <td>4.511450</td>\n",
       "      <td>...</td>\n",
       "      <td>False</td>\n",
       "      <td>False</td>\n",
       "      <td>{'waypoints': [{'nodes': [1939361949, 34293678...</td>\n",
       "      <td>{'waypoints': [{'nodes': [5406321562, 19657888...</td>\n",
       "      <td>[1939361949, 3429367817, 3304362560, 193936194...</td>\n",
       "      <td>[5406321562, 196578886, 5406321562, 5406321561...</td>\n",
       "      <td>primary</td>\n",
       "      <td>14.749443</td>\n",
       "      <td>7275.9</td>\n",
       "      <td>493.3</td>\n",
       "    </tr>\n",
       "    <tr>\n",
       "      <th>1840487</th>\n",
       "      <td>B-7475</td>\n",
       "      <td>Bing</td>\n",
       "      <td>Construction</td>\n",
       "      <td>NaN</td>\n",
       "      <td>2</td>\n",
       "      <td>39.445630</td>\n",
       "      <td>-84.683470</td>\n",
       "      <td>39.50000</td>\n",
       "      <td>-84.73031</td>\n",
       "      <td>4.511450</td>\n",
       "      <td>...</td>\n",
       "      <td>False</td>\n",
       "      <td>False</td>\n",
       "      <td>{'waypoints': [{'nodes': [5406321562, 19657888...</td>\n",
       "      <td>{'waypoints': [{'nodes': [1939361949, 34293678...</td>\n",
       "      <td>[5406321562, 196578886, 5406321562, 5406321561...</td>\n",
       "      <td>[1939361949, 3429367817, 3304362560, 193936194...</td>\n",
       "      <td>primary</td>\n",
       "      <td>14.749443</td>\n",
       "      <td>7275.9</td>\n",
       "      <td>493.3</td>\n",
       "    </tr>\n",
       "    <tr>\n",
       "      <th>1840488</th>\n",
       "      <td>B-7550</td>\n",
       "      <td>Bing</td>\n",
       "      <td>Construction</td>\n",
       "      <td>NaN</td>\n",
       "      <td>2</td>\n",
       "      <td>38.322830</td>\n",
       "      <td>-85.712850</td>\n",
       "      <td>38.34191</td>\n",
       "      <td>-85.70634</td>\n",
       "      <td>1.364702</td>\n",
       "      <td>...</td>\n",
       "      <td>False</td>\n",
       "      <td>False</td>\n",
       "      <td>{'waypoints': [{'nodes': [0, 179028919], 'hint...</td>\n",
       "      <td>{'waypoints': [{'nodes': [179028948, 179028949...</td>\n",
       "      <td>[0, 179028919, 0, 6892598514, 0, 6892598514, 6...</td>\n",
       "      <td>[179028948, 179028949, 179028949, 3994619357, ...</td>\n",
       "      <td>trunk</td>\n",
       "      <td>22.170170</td>\n",
       "      <td>2214.8</td>\n",
       "      <td>99.9</td>\n",
       "    </tr>\n",
       "    <tr>\n",
       "      <th>1840489</th>\n",
       "      <td>B-7552</td>\n",
       "      <td>Bing</td>\n",
       "      <td>Construction</td>\n",
       "      <td>NaN</td>\n",
       "      <td>2</td>\n",
       "      <td>38.344170</td>\n",
       "      <td>-85.714830</td>\n",
       "      <td>38.38585</td>\n",
       "      <td>-85.68435</td>\n",
       "      <td>3.319622</td>\n",
       "      <td>...</td>\n",
       "      <td>False</td>\n",
       "      <td>False</td>\n",
       "      <td>{'waypoints': [{'nodes': [179041146, 179041145...</td>\n",
       "      <td>{'waypoints': [{'nodes': [0, 178998679], 'hint...</td>\n",
       "      <td>[179041146, 179041145, 179041145, 179041144, 1...</td>\n",
       "      <td>[0, 178998679, 0, 179037313, 6753002097, 67530...</td>\n",
       "      <td>motorway</td>\n",
       "      <td>17.241301</td>\n",
       "      <td>6044.8</td>\n",
       "      <td>350.6</td>\n",
       "    </tr>\n",
       "  </tbody>\n",
       "</table>\n",
       "<p>1840490 rows × 66 columns</p>\n",
       "</div>"
      ],
      "text/plain": [
       "                 Id    Source          Type  EventCode  Severity  \\\n",
       "0        M-29450881  MapQuest  Construction      406.0         3   \n",
       "1        M-29450890  MapQuest  Construction      703.0         2   \n",
       "2        M-29450891  MapQuest  Construction      703.0         2   \n",
       "3        M-29450947  MapQuest  Construction      735.0         3   \n",
       "4        M-29450948  MapQuest  Construction      735.0         3   \n",
       "...             ...       ...           ...        ...       ...   \n",
       "1840485      B-7462      Bing  Construction        NaN         2   \n",
       "1840486      B-7474      Bing  Construction        NaN         2   \n",
       "1840487      B-7475      Bing  Construction        NaN         2   \n",
       "1840488      B-7550      Bing  Construction        NaN         2   \n",
       "1840489      B-7552      Bing  Construction        NaN         2   \n",
       "\n",
       "         StartPoint_Lat  StartPoint_Lng  EndPoint_Lat  EndPoint_Lng  \\\n",
       "0             44.309494      -90.840271           NaN           NaN   \n",
       "1             44.387669      -88.720055           NaN           NaN   \n",
       "2             44.403862      -88.734856           NaN           NaN   \n",
       "3             44.734169      -90.497337           NaN           NaN   \n",
       "4             44.734177      -90.496017           NaN           NaN   \n",
       "...                 ...             ...           ...           ...   \n",
       "1840485       41.931130      -83.358570      41.90569     -83.36915   \n",
       "1840486       39.500000      -84.730310      39.44563     -84.68347   \n",
       "1840487       39.445630      -84.683470      39.50000     -84.73031   \n",
       "1840488       38.322830      -85.712850      38.34191     -85.70634   \n",
       "1840489       38.344170      -85.714830      38.38585     -85.68435   \n",
       "\n",
       "         Distance(mi)  ... Turning_Circle Turning_Loop  \\\n",
       "0            0.860000  ...          False        False   \n",
       "1            0.120000  ...          False        False   \n",
       "2            0.000000  ...          False        False   \n",
       "3            0.100000  ...          False        False   \n",
       "4            0.100000  ...          False        False   \n",
       "...               ...  ...            ...          ...   \n",
       "1840485      1.839975  ...          False        False   \n",
       "1840486      4.511450  ...          False        False   \n",
       "1840487      4.511450  ...          False        False   \n",
       "1840488      1.364702  ...          False        False   \n",
       "1840489      3.319622  ...          False        False   \n",
       "\n",
       "                               nearst_nodes_of_start_point  \\\n",
       "0        {'waypoints': [{'nodes': [2147408021, 47184371...   \n",
       "1        {'waypoints': [{'nodes': [232006634, 232006479...   \n",
       "2        {'waypoints': [{'nodes': [232006387, 232006382...   \n",
       "3        {'waypoints': [{'nodes': [147039746, 147017038...   \n",
       "4        {'waypoints': [{'nodes': [3372527386, 14701703...   \n",
       "...                                                    ...   \n",
       "1840485  {'waypoints': [{'nodes': [185322523, 633371374...   \n",
       "1840486  {'waypoints': [{'nodes': [1939361949, 34293678...   \n",
       "1840487  {'waypoints': [{'nodes': [5406321562, 19657888...   \n",
       "1840488  {'waypoints': [{'nodes': [0, 179028919], 'hint...   \n",
       "1840489  {'waypoints': [{'nodes': [179041146, 179041145...   \n",
       "\n",
       "                                 nearst_nodes_of_end_point  \\\n",
       "0        {'waypoints': [{'nodes': [2147408021, 47184371...   \n",
       "1        {'waypoints': [{'nodes': [232006634, 232006479...   \n",
       "2        {'waypoints': [{'nodes': [232006387, 232006382...   \n",
       "3        {'waypoints': [{'nodes': [147039746, 147017038...   \n",
       "4        {'waypoints': [{'nodes': [3372527386, 14701703...   \n",
       "...                                                    ...   \n",
       "1840485  {'waypoints': [{'nodes': [30455284, 30455283],...   \n",
       "1840486  {'waypoints': [{'nodes': [5406321562, 19657888...   \n",
       "1840487  {'waypoints': [{'nodes': [1939361949, 34293678...   \n",
       "1840488  {'waypoints': [{'nodes': [179028948, 179028949...   \n",
       "1840489  {'waypoints': [{'nodes': [0, 178998679], 'hint...   \n",
       "\n",
       "                           nearst_nodes_ids_of_start_point  \\\n",
       "0        [2147408021, 471843710, 2147408024, 2147408021...   \n",
       "1        [232006634, 232006479, 2281677742, 232006634, ...   \n",
       "2        [232006387, 232006382, 232006382, 231764181, 2...   \n",
       "3        [147039746, 147017038, 147017038, 147017035, 1...   \n",
       "4        [3372527386, 147017032, 3372527390, 147017032,...   \n",
       "...                                                    ...   \n",
       "1840485  [185322523, 6333713747, 185322523, 6333713746,...   \n",
       "1840486  [1939361949, 3429367817, 3304362560, 193936194...   \n",
       "1840487  [5406321562, 196578886, 5406321562, 5406321561...   \n",
       "1840488  [0, 179028919, 0, 6892598514, 0, 6892598514, 6...   \n",
       "1840489  [179041146, 179041145, 179041145, 179041144, 1...   \n",
       "\n",
       "                             nearst_nodes_ids_of_end_point  type_of_roads  \\\n",
       "0        [2147408021, 471843710, 2147408024, 2147408021...  motorway_link   \n",
       "1        [232006634, 232006479, 2281677742, 232006634, ...          trunk   \n",
       "2        [232006387, 232006382, 232006382, 231764181, 2...          trunk   \n",
       "3        [147039746, 147017038, 147017038, 147017035, 1...    residential   \n",
       "4        [3372527386, 147017032, 3372527390, 147017032,...        primary   \n",
       "...                                                    ...            ...   \n",
       "1840485  [30455284, 30455283, 185370968, 30455284, 1853...       motorway   \n",
       "1840486  [5406321562, 196578886, 5406321562, 5406321561...        primary   \n",
       "1840487  [1939361949, 3429367817, 3304362560, 193936194...        primary   \n",
       "1840488  [179028948, 179028949, 179028949, 3994619357, ...          trunk   \n",
       "1840489  [0, 178998679, 0, 179037313, 6753002097, 67530...       motorway   \n",
       "\n",
       "          avg_speed  distance    eta  \n",
       "0       -100.000000    -100.0 -100.0  \n",
       "1       -100.000000    -100.0 -100.0  \n",
       "2       -100.000000    -100.0 -100.0  \n",
       "3       -100.000000    -100.0 -100.0  \n",
       "4       -100.000000    -100.0 -100.0  \n",
       "...             ...       ...    ...  \n",
       "1840485   25.036195    2974.3  118.8  \n",
       "1840486   14.749443    7275.9  493.3  \n",
       "1840487   14.749443    7275.9  493.3  \n",
       "1840488   22.170170    2214.8   99.9  \n",
       "1840489   17.241301    6044.8  350.6  \n",
       "\n",
       "[1840490 rows x 66 columns]"
      ]
     },
     "execution_count": 15,
     "metadata": {},
     "output_type": "execute_result"
    }
   ],
   "source": [
    "df.head(-10)"
   ]
  },
  {
   "cell_type": "code",
   "execution_count": 16,
   "metadata": {},
   "outputs": [],
   "source": [
    "df_state = df.loc[:, df.columns.intersection(['State', \"Id\", \"Source\"])]"
   ]
  },
  {
   "cell_type": "code",
   "execution_count": 17,
   "metadata": {},
   "outputs": [
    {
     "data": {
      "text/html": [
       "<div>\n",
       "<style scoped>\n",
       "    .dataframe tbody tr th:only-of-type {\n",
       "        vertical-align: middle;\n",
       "    }\n",
       "\n",
       "    .dataframe tbody tr th {\n",
       "        vertical-align: top;\n",
       "    }\n",
       "\n",
       "    .dataframe thead th {\n",
       "        text-align: right;\n",
       "    }\n",
       "</style>\n",
       "<table border=\"1\" class=\"dataframe\">\n",
       "  <thead>\n",
       "    <tr style=\"text-align: right;\">\n",
       "      <th></th>\n",
       "      <th>Id</th>\n",
       "      <th>Source</th>\n",
       "      <th>State</th>\n",
       "    </tr>\n",
       "  </thead>\n",
       "  <tbody>\n",
       "    <tr>\n",
       "      <th>0</th>\n",
       "      <td>M-29450881</td>\n",
       "      <td>MapQuest</td>\n",
       "      <td>WI</td>\n",
       "    </tr>\n",
       "    <tr>\n",
       "      <th>1</th>\n",
       "      <td>M-29450890</td>\n",
       "      <td>MapQuest</td>\n",
       "      <td>WI</td>\n",
       "    </tr>\n",
       "    <tr>\n",
       "      <th>2</th>\n",
       "      <td>M-29450891</td>\n",
       "      <td>MapQuest</td>\n",
       "      <td>WI</td>\n",
       "    </tr>\n",
       "    <tr>\n",
       "      <th>3</th>\n",
       "      <td>M-29450947</td>\n",
       "      <td>MapQuest</td>\n",
       "      <td>WI</td>\n",
       "    </tr>\n",
       "    <tr>\n",
       "      <th>4</th>\n",
       "      <td>M-29450948</td>\n",
       "      <td>MapQuest</td>\n",
       "      <td>WI</td>\n",
       "    </tr>\n",
       "    <tr>\n",
       "      <th>...</th>\n",
       "      <td>...</td>\n",
       "      <td>...</td>\n",
       "      <td>...</td>\n",
       "    </tr>\n",
       "    <tr>\n",
       "      <th>1840485</th>\n",
       "      <td>B-7462</td>\n",
       "      <td>Bing</td>\n",
       "      <td>MI</td>\n",
       "    </tr>\n",
       "    <tr>\n",
       "      <th>1840486</th>\n",
       "      <td>B-7474</td>\n",
       "      <td>Bing</td>\n",
       "      <td>OH</td>\n",
       "    </tr>\n",
       "    <tr>\n",
       "      <th>1840487</th>\n",
       "      <td>B-7475</td>\n",
       "      <td>Bing</td>\n",
       "      <td>OH</td>\n",
       "    </tr>\n",
       "    <tr>\n",
       "      <th>1840488</th>\n",
       "      <td>B-7550</td>\n",
       "      <td>Bing</td>\n",
       "      <td>IN</td>\n",
       "    </tr>\n",
       "    <tr>\n",
       "      <th>1840489</th>\n",
       "      <td>B-7552</td>\n",
       "      <td>Bing</td>\n",
       "      <td>IN</td>\n",
       "    </tr>\n",
       "  </tbody>\n",
       "</table>\n",
       "<p>1840490 rows × 3 columns</p>\n",
       "</div>"
      ],
      "text/plain": [
       "                 Id    Source State\n",
       "0        M-29450881  MapQuest    WI\n",
       "1        M-29450890  MapQuest    WI\n",
       "2        M-29450891  MapQuest    WI\n",
       "3        M-29450947  MapQuest    WI\n",
       "4        M-29450948  MapQuest    WI\n",
       "...             ...       ...   ...\n",
       "1840485      B-7462      Bing    MI\n",
       "1840486      B-7474      Bing    OH\n",
       "1840487      B-7475      Bing    OH\n",
       "1840488      B-7550      Bing    IN\n",
       "1840489      B-7552      Bing    IN\n",
       "\n",
       "[1840490 rows x 3 columns]"
      ]
     },
     "execution_count": 17,
     "metadata": {},
     "output_type": "execute_result"
    }
   ],
   "source": [
    "df_state.head(-10)"
   ]
  },
  {
   "cell_type": "code",
   "execution_count": 18,
   "metadata": {},
   "outputs": [],
   "source": [
    "df_state_group = df_state.groupby(\"State\")"
   ]
  },
  {
   "cell_type": "code",
   "execution_count": 19,
   "metadata": {},
   "outputs": [
    {
     "data": {
      "text/html": [
       "<div>\n",
       "<style scoped>\n",
       "    .dataframe tbody tr th:only-of-type {\n",
       "        vertical-align: middle;\n",
       "    }\n",
       "\n",
       "    .dataframe tbody tr th {\n",
       "        vertical-align: top;\n",
       "    }\n",
       "\n",
       "    .dataframe thead th {\n",
       "        text-align: right;\n",
       "    }\n",
       "</style>\n",
       "<table border=\"1\" class=\"dataframe\">\n",
       "  <thead>\n",
       "    <tr style=\"text-align: right;\">\n",
       "      <th></th>\n",
       "      <th>Id</th>\n",
       "      <th>Source</th>\n",
       "      <th>State</th>\n",
       "    </tr>\n",
       "  </thead>\n",
       "  <tbody>\n",
       "    <tr>\n",
       "      <th>0</th>\n",
       "      <td>M-29450881</td>\n",
       "      <td>MapQuest</td>\n",
       "      <td>WI</td>\n",
       "    </tr>\n",
       "    <tr>\n",
       "      <th>1</th>\n",
       "      <td>M-29450890</td>\n",
       "      <td>MapQuest</td>\n",
       "      <td>WI</td>\n",
       "    </tr>\n",
       "    <tr>\n",
       "      <th>2</th>\n",
       "      <td>M-29450891</td>\n",
       "      <td>MapQuest</td>\n",
       "      <td>WI</td>\n",
       "    </tr>\n",
       "    <tr>\n",
       "      <th>3</th>\n",
       "      <td>M-29450947</td>\n",
       "      <td>MapQuest</td>\n",
       "      <td>WI</td>\n",
       "    </tr>\n",
       "    <tr>\n",
       "      <th>4</th>\n",
       "      <td>M-29450948</td>\n",
       "      <td>MapQuest</td>\n",
       "      <td>WI</td>\n",
       "    </tr>\n",
       "    <tr>\n",
       "      <th>...</th>\n",
       "      <td>...</td>\n",
       "      <td>...</td>\n",
       "      <td>...</td>\n",
       "    </tr>\n",
       "    <tr>\n",
       "      <th>32734</th>\n",
       "      <td>M-25768554</td>\n",
       "      <td>MapQuest</td>\n",
       "      <td>RI</td>\n",
       "    </tr>\n",
       "    <tr>\n",
       "      <th>37646</th>\n",
       "      <td>M-25156263</td>\n",
       "      <td>MapQuest</td>\n",
       "      <td>RI</td>\n",
       "    </tr>\n",
       "    <tr>\n",
       "      <th>37647</th>\n",
       "      <td>M-25156268</td>\n",
       "      <td>MapQuest</td>\n",
       "      <td>RI</td>\n",
       "    </tr>\n",
       "    <tr>\n",
       "      <th>37847</th>\n",
       "      <td>M-25184366</td>\n",
       "      <td>MapQuest</td>\n",
       "      <td>RI</td>\n",
       "    </tr>\n",
       "    <tr>\n",
       "      <th>37848</th>\n",
       "      <td>M-25184367</td>\n",
       "      <td>MapQuest</td>\n",
       "      <td>RI</td>\n",
       "    </tr>\n",
       "  </tbody>\n",
       "</table>\n",
       "<p>245 rows × 3 columns</p>\n",
       "</div>"
      ],
      "text/plain": [
       "               Id    Source State\n",
       "0      M-29450881  MapQuest    WI\n",
       "1      M-29450890  MapQuest    WI\n",
       "2      M-29450891  MapQuest    WI\n",
       "3      M-29450947  MapQuest    WI\n",
       "4      M-29450948  MapQuest    WI\n",
       "...           ...       ...   ...\n",
       "32734  M-25768554  MapQuest    RI\n",
       "37646  M-25156263  MapQuest    RI\n",
       "37647  M-25156268  MapQuest    RI\n",
       "37847  M-25184366  MapQuest    RI\n",
       "37848  M-25184367  MapQuest    RI\n",
       "\n",
       "[245 rows x 3 columns]"
      ]
     },
     "execution_count": 19,
     "metadata": {},
     "output_type": "execute_result"
    }
   ],
   "source": [
    "df_state_group.head()"
   ]
  },
  {
   "cell_type": "code",
   "execution_count": 20,
   "metadata": {},
   "outputs": [],
   "source": [
    "df_state_count = df_state_group.size().reset_index(name='counts')"
   ]
  },
  {
   "cell_type": "code",
   "execution_count": 21,
   "metadata": {},
   "outputs": [
    {
     "data": {
      "text/html": [
       "<div>\n",
       "<style scoped>\n",
       "    .dataframe tbody tr th:only-of-type {\n",
       "        vertical-align: middle;\n",
       "    }\n",
       "\n",
       "    .dataframe tbody tr th {\n",
       "        vertical-align: top;\n",
       "    }\n",
       "\n",
       "    .dataframe thead th {\n",
       "        text-align: right;\n",
       "    }\n",
       "</style>\n",
       "<table border=\"1\" class=\"dataframe\">\n",
       "  <thead>\n",
       "    <tr style=\"text-align: right;\">\n",
       "      <th></th>\n",
       "      <th>State</th>\n",
       "      <th>counts</th>\n",
       "    </tr>\n",
       "  </thead>\n",
       "  <tbody>\n",
       "    <tr>\n",
       "      <th>0</th>\n",
       "      <td>AL</td>\n",
       "      <td>7541</td>\n",
       "    </tr>\n",
       "    <tr>\n",
       "      <th>1</th>\n",
       "      <td>AR</td>\n",
       "      <td>2524</td>\n",
       "    </tr>\n",
       "    <tr>\n",
       "      <th>2</th>\n",
       "      <td>AZ</td>\n",
       "      <td>22803</td>\n",
       "    </tr>\n",
       "    <tr>\n",
       "      <th>3</th>\n",
       "      <td>CA</td>\n",
       "      <td>228658</td>\n",
       "    </tr>\n",
       "    <tr>\n",
       "      <th>4</th>\n",
       "      <td>CO</td>\n",
       "      <td>90537</td>\n",
       "    </tr>\n",
       "  </tbody>\n",
       "</table>\n",
       "</div>"
      ],
      "text/plain": [
       "  State  counts\n",
       "0    AL    7541\n",
       "1    AR    2524\n",
       "2    AZ   22803\n",
       "3    CA  228658\n",
       "4    CO   90537"
      ]
     },
     "execution_count": 21,
     "metadata": {},
     "output_type": "execute_result"
    }
   ],
   "source": [
    "df_state_count.head()"
   ]
  },
  {
   "cell_type": "code",
   "execution_count": 22,
   "metadata": {},
   "outputs": [
    {
     "data": {
      "image/png": "[encoded data removed]",
      "text/plain": [
       "<Figure size 1080x576 with 1 Axes>"
      ]
     },
     "metadata": {
      "needs_background": "light"
     },
     "output_type": "display_data"
    }
   ],
   "source": [
    "plt.figure(figsize= (15,8))\n",
    "plt.bar(x=df_state_count['State'], height=df_state_count['counts'])\n",
    "a = plt.xticks(rotation = 90)\n",
    "plt.title(\"Construction distribution by state\")\n",
    "plt.savefig(\"construction_distribution_by_state.png\")"
   ]
  },
  {
   "cell_type": "code",
   "execution_count": 23,
   "metadata": {},
   "outputs": [],
   "source": [
    "df_state_count_sorted = df_state_count.sort_values(by=['counts'], ascending=False)"
   ]
  },
  {
   "cell_type": "code",
   "execution_count": 24,
   "metadata": {},
   "outputs": [
    {
     "data": {
      "text/html": [
       "<div>\n",
       "<style scoped>\n",
       "    .dataframe tbody tr th:only-of-type {\n",
       "        vertical-align: middle;\n",
       "    }\n",
       "\n",
       "    .dataframe tbody tr th {\n",
       "        vertical-align: top;\n",
       "    }\n",
       "\n",
       "    .dataframe thead th {\n",
       "        text-align: right;\n",
       "    }\n",
       "</style>\n",
       "<table border=\"1\" class=\"dataframe\">\n",
       "  <thead>\n",
       "    <tr style=\"text-align: right;\">\n",
       "      <th></th>\n",
       "      <th>State</th>\n",
       "      <th>counts</th>\n",
       "    </tr>\n",
       "  </thead>\n",
       "  <tbody>\n",
       "    <tr>\n",
       "      <th>3</th>\n",
       "      <td>CA</td>\n",
       "      <td>228658</td>\n",
       "    </tr>\n",
       "    <tr>\n",
       "      <th>36</th>\n",
       "      <td>PA</td>\n",
       "      <td>193447</td>\n",
       "    </tr>\n",
       "    <tr>\n",
       "      <th>32</th>\n",
       "      <td>NY</td>\n",
       "      <td>157022</td>\n",
       "    </tr>\n",
       "    <tr>\n",
       "      <th>8</th>\n",
       "      <td>FL</td>\n",
       "      <td>111021</td>\n",
       "    </tr>\n",
       "    <tr>\n",
       "      <th>33</th>\n",
       "      <td>OH</td>\n",
       "      <td>92174</td>\n",
       "    </tr>\n",
       "    <tr>\n",
       "      <th>4</th>\n",
       "      <td>CO</td>\n",
       "      <td>90537</td>\n",
       "    </tr>\n",
       "    <tr>\n",
       "      <th>12</th>\n",
       "      <td>IL</td>\n",
       "      <td>79710</td>\n",
       "    </tr>\n",
       "    <tr>\n",
       "      <th>41</th>\n",
       "      <td>TX</td>\n",
       "      <td>71227</td>\n",
       "    </tr>\n",
       "    <tr>\n",
       "      <th>18</th>\n",
       "      <td>MD</td>\n",
       "      <td>68387</td>\n",
       "    </tr>\n",
       "    <tr>\n",
       "      <th>29</th>\n",
       "      <td>NJ</td>\n",
       "      <td>65280</td>\n",
       "    </tr>\n",
       "  </tbody>\n",
       "</table>\n",
       "</div>"
      ],
      "text/plain": [
       "   State  counts\n",
       "3     CA  228658\n",
       "36    PA  193447\n",
       "32    NY  157022\n",
       "8     FL  111021\n",
       "33    OH   92174\n",
       "4     CO   90537\n",
       "12    IL   79710\n",
       "41    TX   71227\n",
       "18    MD   68387\n",
       "29    NJ   65280"
      ]
     },
     "execution_count": 24,
     "metadata": {},
     "output_type": "execute_result"
    }
   ],
   "source": [
    "df_state_count_sorted.head(10)"
   ]
  },
  {
   "cell_type": "code",
   "execution_count": 25,
   "metadata": {},
   "outputs": [
    {
     "data": {
      "image/png": "[encoded data removed]",
      "text/plain": [
       "<Figure size 1080x576 with 1 Axes>"
      ]
     },
     "metadata": {
      "needs_background": "light"
     },
     "output_type": "display_data"
    }
   ],
   "source": [
    "plt.figure(figsize= (15,8))\n",
    "plt.bar(x=df_state_count_sorted['State'], height=df_state_count_sorted['counts'])\n",
    "a = plt.xticks(rotation = 90)\n",
    "plt.title(\"Construction distribution by state (sorted)\")\n",
    "plt.savefig(\"construction_distribution_by_state_sorted.png\")"
   ]
  },
  {
   "cell_type": "code",
   "execution_count": 26,
   "metadata": {},
   "outputs": [],
   "source": [
    "df_state_MapQuest = df_state[df_state.Source == \"MapQuest\"]"
   ]
  },
  {
   "cell_type": "code",
   "execution_count": 27,
   "metadata": {},
   "outputs": [
    {
     "data": {
      "text/plain": [
       "<bound method NDFrame.head of                 Id    Source State\n",
       "0       M-29450881  MapQuest    WI\n",
       "1       M-29450890  MapQuest    WI\n",
       "2       M-29450891  MapQuest    WI\n",
       "3       M-29450947  MapQuest    WI\n",
       "4       M-29450948  MapQuest    WI\n",
       "...            ...       ...   ...\n",
       "270995         M-9  MapQuest    OH\n",
       "270996        M-10  MapQuest    OH\n",
       "270997        M-11  MapQuest    OH\n",
       "270998        M-12  MapQuest    OH\n",
       "270999        M-13  MapQuest    OH\n",
       "\n",
       "[270513 rows x 3 columns]>"
      ]
     },
     "execution_count": 27,
     "metadata": {},
     "output_type": "execute_result"
    }
   ],
   "source": [
    "df_state_MapQuest.head"
   ]
  },
  {
   "cell_type": "code",
   "execution_count": 28,
   "metadata": {},
   "outputs": [],
   "source": [
    "df_state_MapQuest_group = df_state_MapQuest.groupby(\"State\")"
   ]
  },
  {
   "cell_type": "code",
   "execution_count": 29,
   "metadata": {},
   "outputs": [
    {
     "data": {
      "text/html": [
       "<div>\n",
       "<style scoped>\n",
       "    .dataframe tbody tr th:only-of-type {\n",
       "        vertical-align: middle;\n",
       "    }\n",
       "\n",
       "    .dataframe tbody tr th {\n",
       "        vertical-align: top;\n",
       "    }\n",
       "\n",
       "    .dataframe thead th {\n",
       "        text-align: right;\n",
       "    }\n",
       "</style>\n",
       "<table border=\"1\" class=\"dataframe\">\n",
       "  <thead>\n",
       "    <tr style=\"text-align: right;\">\n",
       "      <th></th>\n",
       "      <th>Id</th>\n",
       "      <th>Source</th>\n",
       "      <th>State</th>\n",
       "    </tr>\n",
       "  </thead>\n",
       "  <tbody>\n",
       "    <tr>\n",
       "      <th>0</th>\n",
       "      <td>M-29450881</td>\n",
       "      <td>MapQuest</td>\n",
       "      <td>WI</td>\n",
       "    </tr>\n",
       "    <tr>\n",
       "      <th>1</th>\n",
       "      <td>M-29450890</td>\n",
       "      <td>MapQuest</td>\n",
       "      <td>WI</td>\n",
       "    </tr>\n",
       "    <tr>\n",
       "      <th>2</th>\n",
       "      <td>M-29450891</td>\n",
       "      <td>MapQuest</td>\n",
       "      <td>WI</td>\n",
       "    </tr>\n",
       "    <tr>\n",
       "      <th>3</th>\n",
       "      <td>M-29450947</td>\n",
       "      <td>MapQuest</td>\n",
       "      <td>WI</td>\n",
       "    </tr>\n",
       "    <tr>\n",
       "      <th>4</th>\n",
       "      <td>M-29450948</td>\n",
       "      <td>MapQuest</td>\n",
       "      <td>WI</td>\n",
       "    </tr>\n",
       "    <tr>\n",
       "      <th>...</th>\n",
       "      <td>...</td>\n",
       "      <td>...</td>\n",
       "      <td>...</td>\n",
       "    </tr>\n",
       "    <tr>\n",
       "      <th>32734</th>\n",
       "      <td>M-25768554</td>\n",
       "      <td>MapQuest</td>\n",
       "      <td>RI</td>\n",
       "    </tr>\n",
       "    <tr>\n",
       "      <th>37646</th>\n",
       "      <td>M-25156263</td>\n",
       "      <td>MapQuest</td>\n",
       "      <td>RI</td>\n",
       "    </tr>\n",
       "    <tr>\n",
       "      <th>37647</th>\n",
       "      <td>M-25156268</td>\n",
       "      <td>MapQuest</td>\n",
       "      <td>RI</td>\n",
       "    </tr>\n",
       "    <tr>\n",
       "      <th>37847</th>\n",
       "      <td>M-25184366</td>\n",
       "      <td>MapQuest</td>\n",
       "      <td>RI</td>\n",
       "    </tr>\n",
       "    <tr>\n",
       "      <th>37848</th>\n",
       "      <td>M-25184367</td>\n",
       "      <td>MapQuest</td>\n",
       "      <td>RI</td>\n",
       "    </tr>\n",
       "  </tbody>\n",
       "</table>\n",
       "<p>245 rows × 3 columns</p>\n",
       "</div>"
      ],
      "text/plain": [
       "               Id    Source State\n",
       "0      M-29450881  MapQuest    WI\n",
       "1      M-29450890  MapQuest    WI\n",
       "2      M-29450891  MapQuest    WI\n",
       "3      M-29450947  MapQuest    WI\n",
       "4      M-29450948  MapQuest    WI\n",
       "...           ...       ...   ...\n",
       "32734  M-25768554  MapQuest    RI\n",
       "37646  M-25156263  MapQuest    RI\n",
       "37647  M-25156268  MapQuest    RI\n",
       "37847  M-25184366  MapQuest    RI\n",
       "37848  M-25184367  MapQuest    RI\n",
       "\n",
       "[245 rows x 3 columns]"
      ]
     },
     "execution_count": 29,
     "metadata": {},
     "output_type": "execute_result"
    }
   ],
   "source": [
    "df_state_MapQuest_group.head()"
   ]
  },
  {
   "cell_type": "code",
   "execution_count": 30,
   "metadata": {},
   "outputs": [],
   "source": [
    "df_state_MapQuest_group_count = df_state_MapQuest_group.size().reset_index(name='counts')"
   ]
  },
  {
   "cell_type": "code",
   "execution_count": 31,
   "metadata": {},
   "outputs": [
    {
     "data": {
      "text/html": [
       "<div>\n",
       "<style scoped>\n",
       "    .dataframe tbody tr th:only-of-type {\n",
       "        vertical-align: middle;\n",
       "    }\n",
       "\n",
       "    .dataframe tbody tr th {\n",
       "        vertical-align: top;\n",
       "    }\n",
       "\n",
       "    .dataframe thead th {\n",
       "        text-align: right;\n",
       "    }\n",
       "</style>\n",
       "<table border=\"1\" class=\"dataframe\">\n",
       "  <thead>\n",
       "    <tr style=\"text-align: right;\">\n",
       "      <th></th>\n",
       "      <th>State</th>\n",
       "      <th>counts</th>\n",
       "    </tr>\n",
       "  </thead>\n",
       "  <tbody>\n",
       "    <tr>\n",
       "      <th>0</th>\n",
       "      <td>AL</td>\n",
       "      <td>1868</td>\n",
       "    </tr>\n",
       "    <tr>\n",
       "      <th>1</th>\n",
       "      <td>AR</td>\n",
       "      <td>891</td>\n",
       "    </tr>\n",
       "    <tr>\n",
       "      <th>2</th>\n",
       "      <td>AZ</td>\n",
       "      <td>3161</td>\n",
       "    </tr>\n",
       "    <tr>\n",
       "      <th>3</th>\n",
       "      <td>CA</td>\n",
       "      <td>30140</td>\n",
       "    </tr>\n",
       "    <tr>\n",
       "      <th>4</th>\n",
       "      <td>CO</td>\n",
       "      <td>16777</td>\n",
       "    </tr>\n",
       "  </tbody>\n",
       "</table>\n",
       "</div>"
      ],
      "text/plain": [
       "  State  counts\n",
       "0    AL    1868\n",
       "1    AR     891\n",
       "2    AZ    3161\n",
       "3    CA   30140\n",
       "4    CO   16777"
      ]
     },
     "execution_count": 31,
     "metadata": {},
     "output_type": "execute_result"
    }
   ],
   "source": [
    "df_state_MapQuest_group_count.head()"
   ]
  },
  {
   "cell_type": "code",
   "execution_count": 32,
   "metadata": {},
   "outputs": [],
   "source": [
    "df_state_MapQuest_group_count_sorted = df_state_MapQuest_group_count.sort_values(by=['counts'], ascending=False)"
   ]
  },
  {
   "cell_type": "code",
   "execution_count": 33,
   "metadata": {},
   "outputs": [
    {
     "data": {
      "image/png": "[encoded data removed]",
      "text/plain": [
       "<Figure size 1080x576 with 1 Axes>"
      ]
     },
     "metadata": {
      "needs_background": "light"
     },
     "output_type": "display_data"
    }
   ],
   "source": [
    "plt.figure(figsize= (15,8))\n",
    "plt.bar(x=df_state_MapQuest_group_count_sorted['State'], height=df_state_MapQuest_group_count_sorted['counts'])\n",
    "a = plt.xticks(rotation = 90)\n",
    "plt.title(\"Construction distribution by state for MapQuest source (sorted)\")\n",
    "plt.savefig(\"construction_distribution_by_state_MapQuest_sorted.png\")"
   ]
  },
  {
   "cell_type": "code",
   "execution_count": 34,
   "metadata": {},
   "outputs": [
    {
     "data": {
      "image/png": "[encoded data removed]",
      "text/plain": [
       "<Figure size 1080x576 with 1 Axes>"
      ]
     },
     "metadata": {
      "needs_background": "light"
     },
     "output_type": "display_data"
    }
   ],
   "source": [
    "plt.figure(figsize= (15,8))\n",
    "plt.bar(x=df_state_MapQuest_group_count['State'], height=df_state_MapQuest_group_count['counts'])\n",
    "a = plt.xticks(rotation = 90)\n",
    "plt.title(\"Construction distribution by state for MapQuest source\")\n",
    "plt.savefig(\"construction_distribution_by_state_MapQuest.png\")"
   ]
  },
  {
   "cell_type": "code",
   "execution_count": 35,
   "metadata": {},
   "outputs": [],
   "source": [
    "df_state_Bing = df_state[df_state.Source != \"MapQuest\"]"
   ]
  },
  {
   "cell_type": "code",
   "execution_count": 36,
   "metadata": {},
   "outputs": [
    {
     "data": {
      "text/html": [
       "<div>\n",
       "<style scoped>\n",
       "    .dataframe tbody tr th:only-of-type {\n",
       "        vertical-align: middle;\n",
       "    }\n",
       "\n",
       "    .dataframe tbody tr th {\n",
       "        vertical-align: top;\n",
       "    }\n",
       "\n",
       "    .dataframe thead th {\n",
       "        text-align: right;\n",
       "    }\n",
       "</style>\n",
       "<table border=\"1\" class=\"dataframe\">\n",
       "  <thead>\n",
       "    <tr style=\"text-align: right;\">\n",
       "      <th></th>\n",
       "      <th>Id</th>\n",
       "      <th>Source</th>\n",
       "      <th>State</th>\n",
       "    </tr>\n",
       "  </thead>\n",
       "  <tbody>\n",
       "    <tr>\n",
       "      <th>270500</th>\n",
       "      <td>B-8859744</td>\n",
       "      <td>Bing</td>\n",
       "      <td>TX</td>\n",
       "    </tr>\n",
       "    <tr>\n",
       "      <th>270501</th>\n",
       "      <td>B-8859745</td>\n",
       "      <td>Bing</td>\n",
       "      <td>TX</td>\n",
       "    </tr>\n",
       "    <tr>\n",
       "      <th>270502</th>\n",
       "      <td>B-8859747</td>\n",
       "      <td>Bing</td>\n",
       "      <td>TX</td>\n",
       "    </tr>\n",
       "    <tr>\n",
       "      <th>270503</th>\n",
       "      <td>B-8859749</td>\n",
       "      <td>Bing</td>\n",
       "      <td>TX</td>\n",
       "    </tr>\n",
       "    <tr>\n",
       "      <th>270504</th>\n",
       "      <td>B-8859750</td>\n",
       "      <td>Bing</td>\n",
       "      <td>TX</td>\n",
       "    </tr>\n",
       "    <tr>\n",
       "      <th>...</th>\n",
       "      <td>...</td>\n",
       "      <td>...</td>\n",
       "      <td>...</td>\n",
       "    </tr>\n",
       "    <tr>\n",
       "      <th>1840485</th>\n",
       "      <td>B-7462</td>\n",
       "      <td>Bing</td>\n",
       "      <td>MI</td>\n",
       "    </tr>\n",
       "    <tr>\n",
       "      <th>1840486</th>\n",
       "      <td>B-7474</td>\n",
       "      <td>Bing</td>\n",
       "      <td>OH</td>\n",
       "    </tr>\n",
       "    <tr>\n",
       "      <th>1840487</th>\n",
       "      <td>B-7475</td>\n",
       "      <td>Bing</td>\n",
       "      <td>OH</td>\n",
       "    </tr>\n",
       "    <tr>\n",
       "      <th>1840488</th>\n",
       "      <td>B-7550</td>\n",
       "      <td>Bing</td>\n",
       "      <td>IN</td>\n",
       "    </tr>\n",
       "    <tr>\n",
       "      <th>1840489</th>\n",
       "      <td>B-7552</td>\n",
       "      <td>Bing</td>\n",
       "      <td>IN</td>\n",
       "    </tr>\n",
       "  </tbody>\n",
       "</table>\n",
       "<p>1569977 rows × 3 columns</p>\n",
       "</div>"
      ],
      "text/plain": [
       "                Id Source State\n",
       "270500   B-8859744   Bing    TX\n",
       "270501   B-8859745   Bing    TX\n",
       "270502   B-8859747   Bing    TX\n",
       "270503   B-8859749   Bing    TX\n",
       "270504   B-8859750   Bing    TX\n",
       "...            ...    ...   ...\n",
       "1840485     B-7462   Bing    MI\n",
       "1840486     B-7474   Bing    OH\n",
       "1840487     B-7475   Bing    OH\n",
       "1840488     B-7550   Bing    IN\n",
       "1840489     B-7552   Bing    IN\n",
       "\n",
       "[1569977 rows x 3 columns]"
      ]
     },
     "execution_count": 36,
     "metadata": {},
     "output_type": "execute_result"
    }
   ],
   "source": [
    "df_state_Bing.head(-10)"
   ]
  },
  {
   "cell_type": "code",
   "execution_count": 37,
   "metadata": {},
   "outputs": [],
   "source": [
    "df_state_Bing_group = df_state_Bing.groupby(\"State\")"
   ]
  },
  {
   "cell_type": "code",
   "execution_count": 38,
   "metadata": {},
   "outputs": [
    {
     "data": {
      "text/html": [
       "<div>\n",
       "<style scoped>\n",
       "    .dataframe tbody tr th:only-of-type {\n",
       "        vertical-align: middle;\n",
       "    }\n",
       "\n",
       "    .dataframe tbody tr th {\n",
       "        vertical-align: top;\n",
       "    }\n",
       "\n",
       "    .dataframe thead th {\n",
       "        text-align: right;\n",
       "    }\n",
       "</style>\n",
       "<table border=\"1\" class=\"dataframe\">\n",
       "  <thead>\n",
       "    <tr style=\"text-align: right;\">\n",
       "      <th></th>\n",
       "      <th>Id</th>\n",
       "      <th>Source</th>\n",
       "      <th>State</th>\n",
       "    </tr>\n",
       "  </thead>\n",
       "  <tbody>\n",
       "    <tr>\n",
       "      <th>270500</th>\n",
       "      <td>B-8859744</td>\n",
       "      <td>Bing</td>\n",
       "      <td>TX</td>\n",
       "    </tr>\n",
       "    <tr>\n",
       "      <th>270501</th>\n",
       "      <td>B-8859745</td>\n",
       "      <td>Bing</td>\n",
       "      <td>TX</td>\n",
       "    </tr>\n",
       "    <tr>\n",
       "      <th>270502</th>\n",
       "      <td>B-8859747</td>\n",
       "      <td>Bing</td>\n",
       "      <td>TX</td>\n",
       "    </tr>\n",
       "    <tr>\n",
       "      <th>270503</th>\n",
       "      <td>B-8859749</td>\n",
       "      <td>Bing</td>\n",
       "      <td>TX</td>\n",
       "    </tr>\n",
       "    <tr>\n",
       "      <th>270504</th>\n",
       "      <td>B-8859750</td>\n",
       "      <td>Bing</td>\n",
       "      <td>TX</td>\n",
       "    </tr>\n",
       "    <tr>\n",
       "      <th>...</th>\n",
       "      <td>...</td>\n",
       "      <td>...</td>\n",
       "      <td>...</td>\n",
       "    </tr>\n",
       "    <tr>\n",
       "      <th>304425</th>\n",
       "      <td>B-8756498</td>\n",
       "      <td>Bing</td>\n",
       "      <td>VT</td>\n",
       "    </tr>\n",
       "    <tr>\n",
       "      <th>304434</th>\n",
       "      <td>B-8756534</td>\n",
       "      <td>Bing</td>\n",
       "      <td>VT</td>\n",
       "    </tr>\n",
       "    <tr>\n",
       "      <th>311600</th>\n",
       "      <td>B-8732547</td>\n",
       "      <td>Bing</td>\n",
       "      <td>VT</td>\n",
       "    </tr>\n",
       "    <tr>\n",
       "      <th>334337</th>\n",
       "      <td>B-8659172</td>\n",
       "      <td>Bing</td>\n",
       "      <td>MT</td>\n",
       "    </tr>\n",
       "    <tr>\n",
       "      <th>361465</th>\n",
       "      <td>B-8562815</td>\n",
       "      <td>Bing</td>\n",
       "      <td>MT</td>\n",
       "    </tr>\n",
       "  </tbody>\n",
       "</table>\n",
       "<p>245 rows × 3 columns</p>\n",
       "</div>"
      ],
      "text/plain": [
       "               Id Source State\n",
       "270500  B-8859744   Bing    TX\n",
       "270501  B-8859745   Bing    TX\n",
       "270502  B-8859747   Bing    TX\n",
       "270503  B-8859749   Bing    TX\n",
       "270504  B-8859750   Bing    TX\n",
       "...           ...    ...   ...\n",
       "304425  B-8756498   Bing    VT\n",
       "304434  B-8756534   Bing    VT\n",
       "311600  B-8732547   Bing    VT\n",
       "334337  B-8659172   Bing    MT\n",
       "361465  B-8562815   Bing    MT\n",
       "\n",
       "[245 rows x 3 columns]"
      ]
     },
     "execution_count": 38,
     "metadata": {},
     "output_type": "execute_result"
    }
   ],
   "source": [
    "df_state_Bing_group.head()"
   ]
  },
  {
   "cell_type": "code",
   "execution_count": 39,
   "metadata": {},
   "outputs": [],
   "source": [
    "df_state_Bing_group_count = df_state_Bing_group.size().reset_index(name='counts')"
   ]
  },
  {
   "cell_type": "code",
   "execution_count": 40,
   "metadata": {},
   "outputs": [
    {
     "data": {
      "text/html": [
       "<div>\n",
       "<style scoped>\n",
       "    .dataframe tbody tr th:only-of-type {\n",
       "        vertical-align: middle;\n",
       "    }\n",
       "\n",
       "    .dataframe tbody tr th {\n",
       "        vertical-align: top;\n",
       "    }\n",
       "\n",
       "    .dataframe thead th {\n",
       "        text-align: right;\n",
       "    }\n",
       "</style>\n",
       "<table border=\"1\" class=\"dataframe\">\n",
       "  <thead>\n",
       "    <tr style=\"text-align: right;\">\n",
       "      <th></th>\n",
       "      <th>State</th>\n",
       "      <th>counts</th>\n",
       "    </tr>\n",
       "  </thead>\n",
       "  <tbody>\n",
       "    <tr>\n",
       "      <th>0</th>\n",
       "      <td>AL</td>\n",
       "      <td>5673</td>\n",
       "    </tr>\n",
       "    <tr>\n",
       "      <th>1</th>\n",
       "      <td>AR</td>\n",
       "      <td>1633</td>\n",
       "    </tr>\n",
       "    <tr>\n",
       "      <th>2</th>\n",
       "      <td>AZ</td>\n",
       "      <td>19642</td>\n",
       "    </tr>\n",
       "    <tr>\n",
       "      <th>3</th>\n",
       "      <td>CA</td>\n",
       "      <td>198518</td>\n",
       "    </tr>\n",
       "    <tr>\n",
       "      <th>4</th>\n",
       "      <td>CO</td>\n",
       "      <td>73760</td>\n",
       "    </tr>\n",
       "  </tbody>\n",
       "</table>\n",
       "</div>"
      ],
      "text/plain": [
       "  State  counts\n",
       "0    AL    5673\n",
       "1    AR    1633\n",
       "2    AZ   19642\n",
       "3    CA  198518\n",
       "4    CO   73760"
      ]
     },
     "execution_count": 40,
     "metadata": {},
     "output_type": "execute_result"
    }
   ],
   "source": [
    "df_state_Bing_group_count.head()"
   ]
  },
  {
   "cell_type": "code",
   "execution_count": 41,
   "metadata": {},
   "outputs": [],
   "source": [
    "df_state_Bing_group_count_sorted = df_state_Bing_group_count.sort_values(by=['counts'], ascending=False)"
   ]
  },
  {
   "cell_type": "code",
   "execution_count": 42,
   "metadata": {},
   "outputs": [
    {
     "data": {
      "image/png": "[encoded data removed]",
      "text/plain": [
       "<Figure size 1080x576 with 1 Axes>"
      ]
     },
     "metadata": {
      "needs_background": "light"
     },
     "output_type": "display_data"
    }
   ],
   "source": [
    "plt.figure(figsize= (15,8))\n",
    "plt.bar(x=df_state_Bing_group_count_sorted['State'], height=df_state_Bing_group_count_sorted['counts'])\n",
    "a = plt.xticks(rotation = 90)\n",
    "plt.title(\"Construction distribution by state for Bing source (sorted)\")\n",
    "plt.savefig(\"construction_distribution_by_state_Bing_sorted.png\")"
   ]
  },
  {
   "cell_type": "code",
   "execution_count": 43,
   "metadata": {},
   "outputs": [
    {
     "data": {
      "image/png": "[encoded data removed]",
      "text/plain": [
       "<Figure size 1080x576 with 1 Axes>"
      ]
     },
     "metadata": {
      "needs_background": "light"
     },
     "output_type": "display_data"
    }
   ],
   "source": [
    "plt.figure(figsize= (15,8))\n",
    "plt.bar(x=df_state_Bing_group_count['State'], height=df_state_Bing_group_count['counts'])\n",
    "a = plt.xticks(rotation = 90)\n",
    "plt.title(\"Construction distribution by state for Bing source\")\n",
    "plt.savefig(\"construction_distribution_by_state_Bing.png\")"
   ]
  },
  {
   "cell_type": "code",
   "execution_count": 44,
   "metadata": {},
   "outputs": [],
   "source": [
    "df_city = df.loc[:, df.columns.intersection(['City', 'State', \"Id\", \"Source\"])]"
   ]
  },
  {
   "cell_type": "code",
   "execution_count": 45,
   "metadata": {},
   "outputs": [
    {
     "data": {
      "text/html": [
       "<div>\n",
       "<style scoped>\n",
       "    .dataframe tbody tr th:only-of-type {\n",
       "        vertical-align: middle;\n",
       "    }\n",
       "\n",
       "    .dataframe tbody tr th {\n",
       "        vertical-align: top;\n",
       "    }\n",
       "\n",
       "    .dataframe thead th {\n",
       "        text-align: right;\n",
       "    }\n",
       "</style>\n",
       "<table border=\"1\" class=\"dataframe\">\n",
       "  <thead>\n",
       "    <tr style=\"text-align: right;\">\n",
       "      <th></th>\n",
       "      <th>Id</th>\n",
       "      <th>Source</th>\n",
       "      <th>City</th>\n",
       "      <th>State</th>\n",
       "    </tr>\n",
       "  </thead>\n",
       "  <tbody>\n",
       "    <tr>\n",
       "      <th>0</th>\n",
       "      <td>M-29450881</td>\n",
       "      <td>MapQuest</td>\n",
       "      <td>Black River Falls</td>\n",
       "      <td>WI</td>\n",
       "    </tr>\n",
       "    <tr>\n",
       "      <th>1</th>\n",
       "      <td>M-29450890</td>\n",
       "      <td>MapQuest</td>\n",
       "      <td>New London</td>\n",
       "      <td>WI</td>\n",
       "    </tr>\n",
       "    <tr>\n",
       "      <th>2</th>\n",
       "      <td>M-29450891</td>\n",
       "      <td>MapQuest</td>\n",
       "      <td>New London</td>\n",
       "      <td>WI</td>\n",
       "    </tr>\n",
       "    <tr>\n",
       "      <th>3</th>\n",
       "      <td>M-29450947</td>\n",
       "      <td>MapQuest</td>\n",
       "      <td>Loyal</td>\n",
       "      <td>WI</td>\n",
       "    </tr>\n",
       "    <tr>\n",
       "      <th>4</th>\n",
       "      <td>M-29450948</td>\n",
       "      <td>MapQuest</td>\n",
       "      <td>Loyal</td>\n",
       "      <td>WI</td>\n",
       "    </tr>\n",
       "  </tbody>\n",
       "</table>\n",
       "</div>"
      ],
      "text/plain": [
       "           Id    Source               City State\n",
       "0  M-29450881  MapQuest  Black River Falls    WI\n",
       "1  M-29450890  MapQuest         New London    WI\n",
       "2  M-29450891  MapQuest         New London    WI\n",
       "3  M-29450947  MapQuest              Loyal    WI\n",
       "4  M-29450948  MapQuest              Loyal    WI"
      ]
     },
     "execution_count": 45,
     "metadata": {},
     "output_type": "execute_result"
    }
   ],
   "source": [
    "df_city.head()"
   ]
  },
  {
   "cell_type": "code",
   "execution_count": 46,
   "metadata": {},
   "outputs": [],
   "source": [
    "df_city_group = df_city.groupby(\"City\")"
   ]
  },
  {
   "cell_type": "code",
   "execution_count": 47,
   "metadata": {},
   "outputs": [
    {
     "data": {
      "text/html": [
       "<div>\n",
       "<style scoped>\n",
       "    .dataframe tbody tr th:only-of-type {\n",
       "        vertical-align: middle;\n",
       "    }\n",
       "\n",
       "    .dataframe tbody tr th {\n",
       "        vertical-align: top;\n",
       "    }\n",
       "\n",
       "    .dataframe thead th {\n",
       "        text-align: right;\n",
       "    }\n",
       "</style>\n",
       "<table border=\"1\" class=\"dataframe\">\n",
       "  <thead>\n",
       "    <tr style=\"text-align: right;\">\n",
       "      <th></th>\n",
       "      <th>Id</th>\n",
       "      <th>Source</th>\n",
       "      <th>City</th>\n",
       "      <th>State</th>\n",
       "    </tr>\n",
       "  </thead>\n",
       "  <tbody>\n",
       "    <tr>\n",
       "      <th>0</th>\n",
       "      <td>M-29450881</td>\n",
       "      <td>MapQuest</td>\n",
       "      <td>Black River Falls</td>\n",
       "      <td>WI</td>\n",
       "    </tr>\n",
       "    <tr>\n",
       "      <th>1</th>\n",
       "      <td>M-29450890</td>\n",
       "      <td>MapQuest</td>\n",
       "      <td>New London</td>\n",
       "      <td>WI</td>\n",
       "    </tr>\n",
       "    <tr>\n",
       "      <th>2</th>\n",
       "      <td>M-29450891</td>\n",
       "      <td>MapQuest</td>\n",
       "      <td>New London</td>\n",
       "      <td>WI</td>\n",
       "    </tr>\n",
       "    <tr>\n",
       "      <th>3</th>\n",
       "      <td>M-29450947</td>\n",
       "      <td>MapQuest</td>\n",
       "      <td>Loyal</td>\n",
       "      <td>WI</td>\n",
       "    </tr>\n",
       "    <tr>\n",
       "      <th>4</th>\n",
       "      <td>M-29450948</td>\n",
       "      <td>MapQuest</td>\n",
       "      <td>Loyal</td>\n",
       "      <td>WI</td>\n",
       "    </tr>\n",
       "    <tr>\n",
       "      <th>...</th>\n",
       "      <td>...</td>\n",
       "      <td>...</td>\n",
       "      <td>...</td>\n",
       "      <td>...</td>\n",
       "    </tr>\n",
       "    <tr>\n",
       "      <th>1840394</th>\n",
       "      <td>B-6382</td>\n",
       "      <td>Bing</td>\n",
       "      <td>Cardington</td>\n",
       "      <td>OH</td>\n",
       "    </tr>\n",
       "    <tr>\n",
       "      <th>1840395</th>\n",
       "      <td>B-6383</td>\n",
       "      <td>Bing</td>\n",
       "      <td>Cardington</td>\n",
       "      <td>OH</td>\n",
       "    </tr>\n",
       "    <tr>\n",
       "      <th>1840396</th>\n",
       "      <td>B-6392</td>\n",
       "      <td>Bing</td>\n",
       "      <td>Leavittsburg</td>\n",
       "      <td>OH</td>\n",
       "    </tr>\n",
       "    <tr>\n",
       "      <th>1840397</th>\n",
       "      <td>B-6393</td>\n",
       "      <td>Bing</td>\n",
       "      <td>Leavittsburg</td>\n",
       "      <td>OH</td>\n",
       "    </tr>\n",
       "    <tr>\n",
       "      <th>1840405</th>\n",
       "      <td>B-6680</td>\n",
       "      <td>Bing</td>\n",
       "      <td>Margaretta</td>\n",
       "      <td>OH</td>\n",
       "    </tr>\n",
       "  </tbody>\n",
       "</table>\n",
       "<p>44534 rows × 4 columns</p>\n",
       "</div>"
      ],
      "text/plain": [
       "                 Id    Source               City State\n",
       "0        M-29450881  MapQuest  Black River Falls    WI\n",
       "1        M-29450890  MapQuest         New London    WI\n",
       "2        M-29450891  MapQuest         New London    WI\n",
       "3        M-29450947  MapQuest              Loyal    WI\n",
       "4        M-29450948  MapQuest              Loyal    WI\n",
       "...             ...       ...                ...   ...\n",
       "1840394      B-6382      Bing         Cardington    OH\n",
       "1840395      B-6383      Bing         Cardington    OH\n",
       "1840396      B-6392      Bing       Leavittsburg    OH\n",
       "1840397      B-6393      Bing       Leavittsburg    OH\n",
       "1840405      B-6680      Bing         Margaretta    OH\n",
       "\n",
       "[44534 rows x 4 columns]"
      ]
     },
     "execution_count": 47,
     "metadata": {},
     "output_type": "execute_result"
    }
   ],
   "source": [
    "df_city_group.head()"
   ]
  },
  {
   "cell_type": "code",
   "execution_count": 48,
   "metadata": {},
   "outputs": [],
   "source": [
    "df_city_group_count = df_city_group.size().reset_index(name='counts')"
   ]
  },
  {
   "cell_type": "code",
   "execution_count": 49,
   "metadata": {},
   "outputs": [
    {
     "data": {
      "text/html": [
       "<div>\n",
       "<style scoped>\n",
       "    .dataframe tbody tr th:only-of-type {\n",
       "        vertical-align: middle;\n",
       "    }\n",
       "\n",
       "    .dataframe tbody tr th {\n",
       "        vertical-align: top;\n",
       "    }\n",
       "\n",
       "    .dataframe thead th {\n",
       "        text-align: right;\n",
       "    }\n",
       "</style>\n",
       "<table border=\"1\" class=\"dataframe\">\n",
       "  <thead>\n",
       "    <tr style=\"text-align: right;\">\n",
       "      <th></th>\n",
       "      <th>City</th>\n",
       "      <th>counts</th>\n",
       "    </tr>\n",
       "  </thead>\n",
       "  <tbody>\n",
       "    <tr>\n",
       "      <th>0</th>\n",
       "      <td>Aaronsburg</td>\n",
       "      <td>6</td>\n",
       "    </tr>\n",
       "    <tr>\n",
       "      <th>1</th>\n",
       "      <td>Abbeville</td>\n",
       "      <td>20</td>\n",
       "    </tr>\n",
       "    <tr>\n",
       "      <th>2</th>\n",
       "      <td>Abbotsford</td>\n",
       "      <td>15</td>\n",
       "    </tr>\n",
       "    <tr>\n",
       "      <th>3</th>\n",
       "      <td>Abbott</td>\n",
       "      <td>9</td>\n",
       "    </tr>\n",
       "    <tr>\n",
       "      <th>4</th>\n",
       "      <td>Abbottstown</td>\n",
       "      <td>56</td>\n",
       "    </tr>\n",
       "  </tbody>\n",
       "</table>\n",
       "</div>"
      ],
      "text/plain": [
       "          City  counts\n",
       "0   Aaronsburg       6\n",
       "1    Abbeville      20\n",
       "2   Abbotsford      15\n",
       "3       Abbott       9\n",
       "4  Abbottstown      56"
      ]
     },
     "execution_count": 49,
     "metadata": {},
     "output_type": "execute_result"
    }
   ],
   "source": [
    "df_city_group_count.head()"
   ]
  },
  {
   "cell_type": "code",
   "execution_count": 50,
   "metadata": {},
   "outputs": [],
   "source": [
    "df_city_group_count_sorted = df_city_group_count.sort_values(by=['counts'], ascending=False)"
   ]
  },
  {
   "cell_type": "code",
   "execution_count": 51,
   "metadata": {},
   "outputs": [
    {
     "data": {
      "text/html": [
       "<div>\n",
       "<style scoped>\n",
       "    .dataframe tbody tr th:only-of-type {\n",
       "        vertical-align: middle;\n",
       "    }\n",
       "\n",
       "    .dataframe tbody tr th {\n",
       "        vertical-align: top;\n",
       "    }\n",
       "\n",
       "    .dataframe thead th {\n",
       "        text-align: right;\n",
       "    }\n",
       "</style>\n",
       "<table border=\"1\" class=\"dataframe\">\n",
       "  <thead>\n",
       "    <tr style=\"text-align: right;\">\n",
       "      <th></th>\n",
       "      <th>City</th>\n",
       "      <th>counts</th>\n",
       "    </tr>\n",
       "  </thead>\n",
       "  <tbody>\n",
       "    <tr>\n",
       "      <th>6830</th>\n",
       "      <td>New York</td>\n",
       "      <td>32755</td>\n",
       "    </tr>\n",
       "    <tr>\n",
       "      <th>353</th>\n",
       "      <td>Atlanta</td>\n",
       "      <td>28137</td>\n",
       "    </tr>\n",
       "    <tr>\n",
       "      <th>6167</th>\n",
       "      <td>Miami</td>\n",
       "      <td>28037</td>\n",
       "    </tr>\n",
       "    <tr>\n",
       "      <th>5586</th>\n",
       "      <td>Los Angeles</td>\n",
       "      <td>19818</td>\n",
       "    </tr>\n",
       "    <tr>\n",
       "      <th>7759</th>\n",
       "      <td>Pittsburgh</td>\n",
       "      <td>17540</td>\n",
       "    </tr>\n",
       "    <tr>\n",
       "      <th>4501</th>\n",
       "      <td>Houston</td>\n",
       "      <td>14306</td>\n",
       "    </tr>\n",
       "    <tr>\n",
       "      <th>7295</th>\n",
       "      <td>Orlando</td>\n",
       "      <td>13940</td>\n",
       "    </tr>\n",
       "    <tr>\n",
       "      <th>2440</th>\n",
       "      <td>Denver</td>\n",
       "      <td>13798</td>\n",
       "    </tr>\n",
       "    <tr>\n",
       "      <th>7665</th>\n",
       "      <td>Philadelphia</td>\n",
       "      <td>13787</td>\n",
       "    </tr>\n",
       "    <tr>\n",
       "      <th>10303</th>\n",
       "      <td>Washington</td>\n",
       "      <td>12576</td>\n",
       "    </tr>\n",
       "    <tr>\n",
       "      <th>289</th>\n",
       "      <td>Arlington</td>\n",
       "      <td>12141</td>\n",
       "    </tr>\n",
       "    <tr>\n",
       "      <th>1702</th>\n",
       "      <td>Chicago</td>\n",
       "      <td>11670</td>\n",
       "    </tr>\n",
       "    <tr>\n",
       "      <th>7925</th>\n",
       "      <td>Portland</td>\n",
       "      <td>11335</td>\n",
       "    </tr>\n",
       "    <tr>\n",
       "      <th>8847</th>\n",
       "      <td>Seattle</td>\n",
       "      <td>11027</td>\n",
       "    </tr>\n",
       "    <tr>\n",
       "      <th>1836</th>\n",
       "      <td>Cleveland</td>\n",
       "      <td>10524</td>\n",
       "    </tr>\n",
       "    <tr>\n",
       "      <th>2468</th>\n",
       "      <td>Detroit</td>\n",
       "      <td>9976</td>\n",
       "    </tr>\n",
       "    <tr>\n",
       "      <th>9810</th>\n",
       "      <td>Toledo</td>\n",
       "      <td>9875</td>\n",
       "    </tr>\n",
       "    <tr>\n",
       "      <th>1195</th>\n",
       "      <td>Buffalo</td>\n",
       "      <td>9577</td>\n",
       "    </tr>\n",
       "    <tr>\n",
       "      <th>1964</th>\n",
       "      <td>Columbus</td>\n",
       "      <td>9192</td>\n",
       "    </tr>\n",
       "    <tr>\n",
       "      <th>1113</th>\n",
       "      <td>Bronx</td>\n",
       "      <td>8832</td>\n",
       "    </tr>\n",
       "  </tbody>\n",
       "</table>\n",
       "</div>"
      ],
      "text/plain": [
       "               City  counts\n",
       "6830       New York   32755\n",
       "353         Atlanta   28137\n",
       "6167          Miami   28037\n",
       "5586    Los Angeles   19818\n",
       "7759     Pittsburgh   17540\n",
       "4501        Houston   14306\n",
       "7295        Orlando   13940\n",
       "2440         Denver   13798\n",
       "7665   Philadelphia   13787\n",
       "10303    Washington   12576\n",
       "289       Arlington   12141\n",
       "1702        Chicago   11670\n",
       "7925       Portland   11335\n",
       "8847        Seattle   11027\n",
       "1836      Cleveland   10524\n",
       "2468        Detroit    9976\n",
       "9810         Toledo    9875\n",
       "1195        Buffalo    9577\n",
       "1964       Columbus    9192\n",
       "1113          Bronx    8832"
      ]
     },
     "execution_count": 51,
     "metadata": {},
     "output_type": "execute_result"
    }
   ],
   "source": [
    "df_city_group_count_sorted.head(20)"
   ]
  },
  {
   "cell_type": "code",
   "execution_count": 52,
   "metadata": {},
   "outputs": [],
   "source": [
    "population_path = \"/home/amin/CETI/RoadConstruction/StatesPopulation.csv\""
   ]
  },
  {
   "cell_type": "code",
   "execution_count": 53,
   "metadata": {},
   "outputs": [],
   "source": [
    "population_data = read_data(population_path)"
   ]
  },
  {
   "cell_type": "code",
   "execution_count": 54,
   "metadata": {},
   "outputs": [
    {
     "data": {
      "text/html": [
       "<div>\n",
       "<style scoped>\n",
       "    .dataframe tbody tr th:only-of-type {\n",
       "        vertical-align: middle;\n",
       "    }\n",
       "\n",
       "    .dataframe tbody tr th {\n",
       "        vertical-align: top;\n",
       "    }\n",
       "\n",
       "    .dataframe thead th {\n",
       "        text-align: right;\n",
       "    }\n",
       "</style>\n",
       "<table border=\"1\" class=\"dataframe\">\n",
       "  <thead>\n",
       "    <tr style=\"text-align: right;\">\n",
       "      <th></th>\n",
       "      <th>Rank</th>\n",
       "      <th>State</th>\n",
       "      <th>July2019Estimate</th>\n",
       "      <th>PercentOfTotal</th>\n",
       "      <th>StateShort</th>\n",
       "      <th>LandArea(KM2)</th>\n",
       "    </tr>\n",
       "  </thead>\n",
       "  <tbody>\n",
       "    <tr>\n",
       "      <th>0</th>\n",
       "      <td>1</td>\n",
       "      <td>California</td>\n",
       "      <td>39512223</td>\n",
       "      <td>11.91%</td>\n",
       "      <td>CA</td>\n",
       "      <td>403466</td>\n",
       "    </tr>\n",
       "    <tr>\n",
       "      <th>1</th>\n",
       "      <td>2</td>\n",
       "      <td>Texas</td>\n",
       "      <td>28995881</td>\n",
       "      <td>8.74%</td>\n",
       "      <td>TX</td>\n",
       "      <td>676587</td>\n",
       "    </tr>\n",
       "    <tr>\n",
       "      <th>2</th>\n",
       "      <td>3</td>\n",
       "      <td>Florida</td>\n",
       "      <td>21477737</td>\n",
       "      <td>6.47%</td>\n",
       "      <td>FL</td>\n",
       "      <td>138887</td>\n",
       "    </tr>\n",
       "    <tr>\n",
       "      <th>3</th>\n",
       "      <td>4</td>\n",
       "      <td>New York</td>\n",
       "      <td>19453561</td>\n",
       "      <td>5.86%</td>\n",
       "      <td>NY</td>\n",
       "      <td>122057</td>\n",
       "    </tr>\n",
       "    <tr>\n",
       "      <th>4</th>\n",
       "      <td>5</td>\n",
       "      <td>Illinois</td>\n",
       "      <td>12671821</td>\n",
       "      <td>3.86%</td>\n",
       "      <td>IL</td>\n",
       "      <td>143793</td>\n",
       "    </tr>\n",
       "  </tbody>\n",
       "</table>\n",
       "</div>"
      ],
      "text/plain": [
       "   Rank       State  July2019Estimate PercentOfTotal StateShort  LandArea(KM2)\n",
       "0     1  California          39512223         11.91%         CA         403466\n",
       "1     2       Texas          28995881          8.74%         TX         676587\n",
       "2     3     Florida          21477737          6.47%         FL         138887\n",
       "3     4    New York          19453561          5.86%         NY         122057\n",
       "4     5    Illinois          12671821          3.86%         IL         143793"
      ]
     },
     "execution_count": 54,
     "metadata": {},
     "output_type": "execute_result"
    }
   ],
   "source": [
    "population_data.head()"
   ]
  },
  {
   "cell_type": "code",
   "execution_count": 55,
   "metadata": {},
   "outputs": [],
   "source": [
    "population_data[\"NewState\"] = population_data[\"StateShort\"]\n",
    "population_data = population_data.drop(\"State\", axis=1)"
   ]
  },
  {
   "cell_type": "code",
   "execution_count": 56,
   "metadata": {},
   "outputs": [
    {
     "data": {
      "text/html": [
       "<div>\n",
       "<style scoped>\n",
       "    .dataframe tbody tr th:only-of-type {\n",
       "        vertical-align: middle;\n",
       "    }\n",
       "\n",
       "    .dataframe tbody tr th {\n",
       "        vertical-align: top;\n",
       "    }\n",
       "\n",
       "    .dataframe thead th {\n",
       "        text-align: right;\n",
       "    }\n",
       "</style>\n",
       "<table border=\"1\" class=\"dataframe\">\n",
       "  <thead>\n",
       "    <tr style=\"text-align: right;\">\n",
       "      <th></th>\n",
       "      <th>Rank</th>\n",
       "      <th>July2019Estimate</th>\n",
       "      <th>PercentOfTotal</th>\n",
       "      <th>StateShort</th>\n",
       "      <th>LandArea(KM2)</th>\n",
       "      <th>NewState</th>\n",
       "    </tr>\n",
       "  </thead>\n",
       "  <tbody>\n",
       "    <tr>\n",
       "      <th>0</th>\n",
       "      <td>1</td>\n",
       "      <td>39512223</td>\n",
       "      <td>11.91%</td>\n",
       "      <td>CA</td>\n",
       "      <td>403466</td>\n",
       "      <td>CA</td>\n",
       "    </tr>\n",
       "    <tr>\n",
       "      <th>1</th>\n",
       "      <td>2</td>\n",
       "      <td>28995881</td>\n",
       "      <td>8.74%</td>\n",
       "      <td>TX</td>\n",
       "      <td>676587</td>\n",
       "      <td>TX</td>\n",
       "    </tr>\n",
       "    <tr>\n",
       "      <th>2</th>\n",
       "      <td>3</td>\n",
       "      <td>21477737</td>\n",
       "      <td>6.47%</td>\n",
       "      <td>FL</td>\n",
       "      <td>138887</td>\n",
       "      <td>FL</td>\n",
       "    </tr>\n",
       "    <tr>\n",
       "      <th>3</th>\n",
       "      <td>4</td>\n",
       "      <td>19453561</td>\n",
       "      <td>5.86%</td>\n",
       "      <td>NY</td>\n",
       "      <td>122057</td>\n",
       "      <td>NY</td>\n",
       "    </tr>\n",
       "    <tr>\n",
       "      <th>4</th>\n",
       "      <td>5</td>\n",
       "      <td>12671821</td>\n",
       "      <td>3.86%</td>\n",
       "      <td>IL</td>\n",
       "      <td>143793</td>\n",
       "      <td>IL</td>\n",
       "    </tr>\n",
       "  </tbody>\n",
       "</table>\n",
       "</div>"
      ],
      "text/plain": [
       "   Rank  July2019Estimate PercentOfTotal StateShort  LandArea(KM2) NewState\n",
       "0     1          39512223         11.91%         CA         403466       CA\n",
       "1     2          28995881          8.74%         TX         676587       TX\n",
       "2     3          21477737          6.47%         FL         138887       FL\n",
       "3     4          19453561          5.86%         NY         122057       NY\n",
       "4     5          12671821          3.86%         IL         143793       IL"
      ]
     },
     "execution_count": 56,
     "metadata": {},
     "output_type": "execute_result"
    }
   ],
   "source": [
    "population_data.head()"
   ]
  },
  {
   "cell_type": "code",
   "execution_count": 57,
   "metadata": {},
   "outputs": [],
   "source": [
    "df_state_count_population = df_state_count_sorted.set_index('State').join(population_data.set_index('StateShort'))"
   ]
  },
  {
   "cell_type": "code",
   "execution_count": 58,
   "metadata": {},
   "outputs": [
    {
     "data": {
      "text/html": [
       "<div>\n",
       "<style scoped>\n",
       "    .dataframe tbody tr th:only-of-type {\n",
       "        vertical-align: middle;\n",
       "    }\n",
       "\n",
       "    .dataframe tbody tr th {\n",
       "        vertical-align: top;\n",
       "    }\n",
       "\n",
       "    .dataframe thead th {\n",
       "        text-align: right;\n",
       "    }\n",
       "</style>\n",
       "<table border=\"1\" class=\"dataframe\">\n",
       "  <thead>\n",
       "    <tr style=\"text-align: right;\">\n",
       "      <th></th>\n",
       "      <th>counts</th>\n",
       "      <th>Rank</th>\n",
       "      <th>July2019Estimate</th>\n",
       "      <th>PercentOfTotal</th>\n",
       "      <th>LandArea(KM2)</th>\n",
       "      <th>NewState</th>\n",
       "    </tr>\n",
       "    <tr>\n",
       "      <th>State</th>\n",
       "      <th></th>\n",
       "      <th></th>\n",
       "      <th></th>\n",
       "      <th></th>\n",
       "      <th></th>\n",
       "      <th></th>\n",
       "    </tr>\n",
       "  </thead>\n",
       "  <tbody>\n",
       "    <tr>\n",
       "      <th>CA</th>\n",
       "      <td>228658</td>\n",
       "      <td>1</td>\n",
       "      <td>39512223</td>\n",
       "      <td>11.91%</td>\n",
       "      <td>403466</td>\n",
       "      <td>CA</td>\n",
       "    </tr>\n",
       "    <tr>\n",
       "      <th>PA</th>\n",
       "      <td>193447</td>\n",
       "      <td>6</td>\n",
       "      <td>12801989</td>\n",
       "      <td>3.82%</td>\n",
       "      <td>115883</td>\n",
       "      <td>PA</td>\n",
       "    </tr>\n",
       "    <tr>\n",
       "      <th>NY</th>\n",
       "      <td>157022</td>\n",
       "      <td>4</td>\n",
       "      <td>19453561</td>\n",
       "      <td>5.86%</td>\n",
       "      <td>122057</td>\n",
       "      <td>NY</td>\n",
       "    </tr>\n",
       "    <tr>\n",
       "      <th>FL</th>\n",
       "      <td>111021</td>\n",
       "      <td>3</td>\n",
       "      <td>21477737</td>\n",
       "      <td>6.47%</td>\n",
       "      <td>138887</td>\n",
       "      <td>FL</td>\n",
       "    </tr>\n",
       "    <tr>\n",
       "      <th>OH</th>\n",
       "      <td>92174</td>\n",
       "      <td>7</td>\n",
       "      <td>11689100</td>\n",
       "      <td>3.52%</td>\n",
       "      <td>105829</td>\n",
       "      <td>OH</td>\n",
       "    </tr>\n",
       "  </tbody>\n",
       "</table>\n",
       "</div>"
      ],
      "text/plain": [
       "       counts  Rank  July2019Estimate PercentOfTotal  LandArea(KM2) NewState\n",
       "State                                                                       \n",
       "CA     228658     1          39512223         11.91%         403466       CA\n",
       "PA     193447     6          12801989          3.82%         115883       PA\n",
       "NY     157022     4          19453561          5.86%         122057       NY\n",
       "FL     111021     3          21477737          6.47%         138887       FL\n",
       "OH      92174     7          11689100          3.52%         105829       OH"
      ]
     },
     "execution_count": 58,
     "metadata": {},
     "output_type": "execute_result"
    }
   ],
   "source": [
    "df_state_count_population.head()"
   ]
  },
  {
   "cell_type": "code",
   "execution_count": 59,
   "metadata": {},
   "outputs": [],
   "source": [
    "df_state_count_population[\"C_P_Rate\"] = df_state_count_population[\"counts\"] / df_state_count_population[\"July2019Estimate\"]\n",
    "df_state_count_population[\"P_C_Rate\"] = df_state_count_population[\"July2019Estimate\"] / df_state_count_population[\"counts\"]"
   ]
  },
  {
   "cell_type": "code",
   "execution_count": 60,
   "metadata": {},
   "outputs": [],
   "source": [
    "# df_state_count_sorted_population = df_state_count_sorted_population.astype({\"Rate\": int})"
   ]
  },
  {
   "cell_type": "code",
   "execution_count": 61,
   "metadata": {},
   "outputs": [
    {
     "data": {
      "text/html": [
       "<div>\n",
       "<style scoped>\n",
       "    .dataframe tbody tr th:only-of-type {\n",
       "        vertical-align: middle;\n",
       "    }\n",
       "\n",
       "    .dataframe tbody tr th {\n",
       "        vertical-align: top;\n",
       "    }\n",
       "\n",
       "    .dataframe thead th {\n",
       "        text-align: right;\n",
       "    }\n",
       "</style>\n",
       "<table border=\"1\" class=\"dataframe\">\n",
       "  <thead>\n",
       "    <tr style=\"text-align: right;\">\n",
       "      <th></th>\n",
       "      <th>counts</th>\n",
       "      <th>Rank</th>\n",
       "      <th>July2019Estimate</th>\n",
       "      <th>PercentOfTotal</th>\n",
       "      <th>LandArea(KM2)</th>\n",
       "      <th>NewState</th>\n",
       "      <th>C_P_Rate</th>\n",
       "      <th>P_C_Rate</th>\n",
       "    </tr>\n",
       "    <tr>\n",
       "      <th>State</th>\n",
       "      <th></th>\n",
       "      <th></th>\n",
       "      <th></th>\n",
       "      <th></th>\n",
       "      <th></th>\n",
       "      <th></th>\n",
       "      <th></th>\n",
       "      <th></th>\n",
       "    </tr>\n",
       "  </thead>\n",
       "  <tbody>\n",
       "    <tr>\n",
       "      <th>CA</th>\n",
       "      <td>228658</td>\n",
       "      <td>1</td>\n",
       "      <td>39512223</td>\n",
       "      <td>11.91%</td>\n",
       "      <td>403466</td>\n",
       "      <td>CA</td>\n",
       "      <td>0.005787</td>\n",
       "      <td>172.800527</td>\n",
       "    </tr>\n",
       "    <tr>\n",
       "      <th>PA</th>\n",
       "      <td>193447</td>\n",
       "      <td>6</td>\n",
       "      <td>12801989</td>\n",
       "      <td>3.82%</td>\n",
       "      <td>115883</td>\n",
       "      <td>PA</td>\n",
       "      <td>0.015111</td>\n",
       "      <td>66.178276</td>\n",
       "    </tr>\n",
       "    <tr>\n",
       "      <th>NY</th>\n",
       "      <td>157022</td>\n",
       "      <td>4</td>\n",
       "      <td>19453561</td>\n",
       "      <td>5.86%</td>\n",
       "      <td>122057</td>\n",
       "      <td>NY</td>\n",
       "      <td>0.008072</td>\n",
       "      <td>123.890671</td>\n",
       "    </tr>\n",
       "    <tr>\n",
       "      <th>FL</th>\n",
       "      <td>111021</td>\n",
       "      <td>3</td>\n",
       "      <td>21477737</td>\n",
       "      <td>6.47%</td>\n",
       "      <td>138887</td>\n",
       "      <td>FL</td>\n",
       "      <td>0.005169</td>\n",
       "      <td>193.456526</td>\n",
       "    </tr>\n",
       "    <tr>\n",
       "      <th>OH</th>\n",
       "      <td>92174</td>\n",
       "      <td>7</td>\n",
       "      <td>11689100</td>\n",
       "      <td>3.52%</td>\n",
       "      <td>105829</td>\n",
       "      <td>OH</td>\n",
       "      <td>0.007885</td>\n",
       "      <td>126.815588</td>\n",
       "    </tr>\n",
       "  </tbody>\n",
       "</table>\n",
       "</div>"
      ],
      "text/plain": [
       "       counts  Rank  July2019Estimate PercentOfTotal  LandArea(KM2) NewState  \\\n",
       "State                                                                          \n",
       "CA     228658     1          39512223         11.91%         403466       CA   \n",
       "PA     193447     6          12801989          3.82%         115883       PA   \n",
       "NY     157022     4          19453561          5.86%         122057       NY   \n",
       "FL     111021     3          21477737          6.47%         138887       FL   \n",
       "OH      92174     7          11689100          3.52%         105829       OH   \n",
       "\n",
       "       C_P_Rate    P_C_Rate  \n",
       "State                        \n",
       "CA     0.005787  172.800527  \n",
       "PA     0.015111   66.178276  \n",
       "NY     0.008072  123.890671  \n",
       "FL     0.005169  193.456526  \n",
       "OH     0.007885  126.815588  "
      ]
     },
     "execution_count": 61,
     "metadata": {},
     "output_type": "execute_result"
    }
   ],
   "source": [
    "df_state_count_population.head()"
   ]
  },
  {
   "cell_type": "code",
   "execution_count": 62,
   "metadata": {},
   "outputs": [
    {
     "data": {
      "image/png": "[encoded data removed]",
      "text/plain": [
       "<Figure size 1080x576 with 1 Axes>"
      ]
     },
     "metadata": {
      "needs_background": "light"
     },
     "output_type": "display_data"
    }
   ],
   "source": [
    "plt.figure(figsize= (15,8))\n",
    "plt.bar(x=df_state_count_population['NewState'], height=df_state_count_population['P_C_Rate'])\n",
    "a = plt.xticks(rotation = 90)\n",
    "plt.title(\"Construction distribution by Rate of Population to Counter\")\n",
    "plt.savefig(\"construction_distribution_by_Rate_Population_Counter.png\")"
   ]
  },
  {
   "cell_type": "code",
   "execution_count": 63,
   "metadata": {},
   "outputs": [],
   "source": [
    "df_state_count_population_sorted = df_state_count_population.sort_values(by=['P_C_Rate'], ascending=False)"
   ]
  },
  {
   "cell_type": "code",
   "execution_count": 64,
   "metadata": {},
   "outputs": [
    {
     "data": {
      "image/png": "[encoded data removed]",
      "text/plain": [
       "<Figure size 1080x576 with 1 Axes>"
      ]
     },
     "metadata": {
      "needs_background": "light"
     },
     "output_type": "display_data"
    }
   ],
   "source": [
    "plt.figure(figsize= (15,8))\n",
    "plt.bar(x=df_state_count_population_sorted['NewState'], height=df_state_count_population_sorted['P_C_Rate'])\n",
    "a = plt.xticks(rotation = 90)\n",
    "plt.title(\"Construction distribution by Rate of Population to Counter (Sorted)\")\n",
    "plt.savefig(\"construction_distribution_by_Rate_Population_Counter_sorted.png\")"
   ]
  },
  {
   "cell_type": "code",
   "execution_count": 65,
   "metadata": {},
   "outputs": [
    {
     "data": {
      "image/png": "[encoded data removed]",
      "text/plain": [
       "<Figure size 1080x576 with 1 Axes>"
      ]
     },
     "metadata": {
      "needs_background": "light"
     },
     "output_type": "display_data"
    }
   ],
   "source": [
    "plt.figure(figsize= (15,8))\n",
    "plt.bar(x=df_state_count_population['NewState'], height=df_state_count_population['C_P_Rate'])\n",
    "a = plt.xticks(rotation = 90)\n",
    "plt.title(\"Construction distribution by Rate of Counter to Population\")\n",
    "plt.savefig(\"construction_distribution_by_Rate_Counter_Population.png\")"
   ]
  },
  {
   "cell_type": "code",
   "execution_count": 66,
   "metadata": {},
   "outputs": [],
   "source": [
    "df_state_count_population_sorted = df_state_count_population.sort_values(by=['C_P_Rate'], ascending=False)"
   ]
  },
  {
   "cell_type": "code",
   "execution_count": 67,
   "metadata": {},
   "outputs": [
    {
     "data": {
      "image/png": "[encoded data removed]",
      "text/plain": [
       "<Figure size 1080x576 with 1 Axes>"
      ]
     },
     "metadata": {
      "needs_background": "light"
     },
     "output_type": "display_data"
    }
   ],
   "source": [
    "plt.figure(figsize= (15,8))\n",
    "plt.bar(x=df_state_count_population_sorted['NewState'], height=df_state_count_population_sorted['C_P_Rate'])\n",
    "a = plt.xticks(rotation = 90)\n",
    "plt.title(\"Construction distribution by Rate of Counter to Population(Sorted)\")\n",
    "plt.savefig(\"construction_distribution_by_Rate_Counter_Population_sorted.png\")"
   ]
  },
  {
   "cell_type": "code",
   "execution_count": 68,
   "metadata": {},
   "outputs": [
    {
     "data": {
      "image/png": "[encoded data removed]",
      "text/plain": [
       "<Figure size 1080x576 with 1 Axes>"
      ]
     },
     "metadata": {
      "needs_background": "light"
     },
     "output_type": "display_data"
    }
   ],
   "source": [
    "plt.figure(figsize= (15,8))\n",
    "plt.bar(x=df_state_count_population['NewState'], height=df_state_count_population['July2019Estimate'])\n",
    "a = plt.xticks(rotation = 90)\n",
    "plt.title(\"Population distribution by State\")\n",
    "plt.savefig(\"Population_distribution_by_State.png\")"
   ]
  },
  {
   "cell_type": "code",
   "execution_count": 69,
   "metadata": {},
   "outputs": [],
   "source": [
    "df_state_count_population_sorted = df_state_count_population.sort_values(by=['July2019Estimate'], ascending=False)"
   ]
  },
  {
   "cell_type": "code",
   "execution_count": 70,
   "metadata": {},
   "outputs": [
    {
     "data": {
      "image/png": "[encoded data removed]",
      "text/plain": [
       "<Figure size 1080x576 with 1 Axes>"
      ]
     },
     "metadata": {
      "needs_background": "light"
     },
     "output_type": "display_data"
    }
   ],
   "source": [
    "plt.figure(figsize= (15,8))\n",
    "plt.bar(x=df_state_count_population_sorted['NewState'], height=df_state_count_population_sorted['July2019Estimate'])\n",
    "a = plt.xticks(rotation = 90)\n",
    "plt.title(\"Population distribution by State (Sorted)\")\n",
    "plt.savefig(\"Population_distribution_by_State_Sorted.png\")"
   ]
  },
  {
   "cell_type": "code",
   "execution_count": 71,
   "metadata": {},
   "outputs": [],
   "source": [
    "df_state_count_population[\"C_A_Rate\"] = df_state_count_population[\"counts\"] / df_state_count_population[\"LandArea(KM2)\"]\n",
    "df_state_count_population[\"A_C_Rate\"] = df_state_count_population[\"LandArea(KM2)\"] / df_state_count_population[\"counts\"]"
   ]
  },
  {
   "cell_type": "code",
   "execution_count": 72,
   "metadata": {},
   "outputs": [
    {
     "data": {
      "text/html": [
       "<div>\n",
       "<style scoped>\n",
       "    .dataframe tbody tr th:only-of-type {\n",
       "        vertical-align: middle;\n",
       "    }\n",
       "\n",
       "    .dataframe tbody tr th {\n",
       "        vertical-align: top;\n",
       "    }\n",
       "\n",
       "    .dataframe thead th {\n",
       "        text-align: right;\n",
       "    }\n",
       "</style>\n",
       "<table border=\"1\" class=\"dataframe\">\n",
       "  <thead>\n",
       "    <tr style=\"text-align: right;\">\n",
       "      <th></th>\n",
       "      <th>counts</th>\n",
       "      <th>Rank</th>\n",
       "      <th>July2019Estimate</th>\n",
       "      <th>PercentOfTotal</th>\n",
       "      <th>LandArea(KM2)</th>\n",
       "      <th>NewState</th>\n",
       "      <th>C_P_Rate</th>\n",
       "      <th>P_C_Rate</th>\n",
       "      <th>C_A_Rate</th>\n",
       "      <th>A_C_Rate</th>\n",
       "    </tr>\n",
       "    <tr>\n",
       "      <th>State</th>\n",
       "      <th></th>\n",
       "      <th></th>\n",
       "      <th></th>\n",
       "      <th></th>\n",
       "      <th></th>\n",
       "      <th></th>\n",
       "      <th></th>\n",
       "      <th></th>\n",
       "      <th></th>\n",
       "      <th></th>\n",
       "    </tr>\n",
       "  </thead>\n",
       "  <tbody>\n",
       "    <tr>\n",
       "      <th>CA</th>\n",
       "      <td>228658</td>\n",
       "      <td>1</td>\n",
       "      <td>39512223</td>\n",
       "      <td>11.91%</td>\n",
       "      <td>403466</td>\n",
       "      <td>CA</td>\n",
       "      <td>0.005787</td>\n",
       "      <td>172.800527</td>\n",
       "      <td>0.566734</td>\n",
       "      <td>1.764495</td>\n",
       "    </tr>\n",
       "    <tr>\n",
       "      <th>PA</th>\n",
       "      <td>193447</td>\n",
       "      <td>6</td>\n",
       "      <td>12801989</td>\n",
       "      <td>3.82%</td>\n",
       "      <td>115883</td>\n",
       "      <td>PA</td>\n",
       "      <td>0.015111</td>\n",
       "      <td>66.178276</td>\n",
       "      <td>1.669330</td>\n",
       "      <td>0.599043</td>\n",
       "    </tr>\n",
       "    <tr>\n",
       "      <th>NY</th>\n",
       "      <td>157022</td>\n",
       "      <td>4</td>\n",
       "      <td>19453561</td>\n",
       "      <td>5.86%</td>\n",
       "      <td>122057</td>\n",
       "      <td>NY</td>\n",
       "      <td>0.008072</td>\n",
       "      <td>123.890671</td>\n",
       "      <td>1.286465</td>\n",
       "      <td>0.777324</td>\n",
       "    </tr>\n",
       "    <tr>\n",
       "      <th>FL</th>\n",
       "      <td>111021</td>\n",
       "      <td>3</td>\n",
       "      <td>21477737</td>\n",
       "      <td>6.47%</td>\n",
       "      <td>138887</td>\n",
       "      <td>FL</td>\n",
       "      <td>0.005169</td>\n",
       "      <td>193.456526</td>\n",
       "      <td>0.799362</td>\n",
       "      <td>1.250998</td>\n",
       "    </tr>\n",
       "    <tr>\n",
       "      <th>OH</th>\n",
       "      <td>92174</td>\n",
       "      <td>7</td>\n",
       "      <td>11689100</td>\n",
       "      <td>3.52%</td>\n",
       "      <td>105829</td>\n",
       "      <td>OH</td>\n",
       "      <td>0.007885</td>\n",
       "      <td>126.815588</td>\n",
       "      <td>0.870971</td>\n",
       "      <td>1.148144</td>\n",
       "    </tr>\n",
       "  </tbody>\n",
       "</table>\n",
       "</div>"
      ],
      "text/plain": [
       "       counts  Rank  July2019Estimate PercentOfTotal  LandArea(KM2) NewState  \\\n",
       "State                                                                          \n",
       "CA     228658     1          39512223         11.91%         403466       CA   \n",
       "PA     193447     6          12801989          3.82%         115883       PA   \n",
       "NY     157022     4          19453561          5.86%         122057       NY   \n",
       "FL     111021     3          21477737          6.47%         138887       FL   \n",
       "OH      92174     7          11689100          3.52%         105829       OH   \n",
       "\n",
       "       C_P_Rate    P_C_Rate  C_A_Rate  A_C_Rate  \n",
       "State                                            \n",
       "CA     0.005787  172.800527  0.566734  1.764495  \n",
       "PA     0.015111   66.178276  1.669330  0.599043  \n",
       "NY     0.008072  123.890671  1.286465  0.777324  \n",
       "FL     0.005169  193.456526  0.799362  1.250998  \n",
       "OH     0.007885  126.815588  0.870971  1.148144  "
      ]
     },
     "execution_count": 72,
     "metadata": {},
     "output_type": "execute_result"
    }
   ],
   "source": [
    "df_state_count_population.head()"
   ]
  },
  {
   "cell_type": "code",
   "execution_count": 73,
   "metadata": {},
   "outputs": [
    {
     "data": {
      "image/png": "[encoded data removed]",
      "text/plain": [
       "<Figure size 1080x576 with 1 Axes>"
      ]
     },
     "metadata": {
      "needs_background": "light"
     },
     "output_type": "display_data"
    }
   ],
   "source": [
    "plt.figure(figsize= (15,8))\n",
    "plt.bar(x=df_state_count_population['NewState'], height=df_state_count_population['A_C_Rate'])\n",
    "a = plt.xticks(rotation = 90)\n",
    "plt.title(\"Construction distribution by Rate of Area to Counter\")\n",
    "plt.savefig(\"construction_distribution_by_Rate_Area_Counter.png\")"
   ]
  },
  {
   "cell_type": "code",
   "execution_count": 74,
   "metadata": {},
   "outputs": [],
   "source": [
    "df_state_count_population_sorted = df_state_count_population.sort_values(by=['A_C_Rate'], ascending=False)"
   ]
  },
  {
   "cell_type": "code",
   "execution_count": 75,
   "metadata": {},
   "outputs": [
    {
     "data": {
      "image/png": "[encoded data removed]",
      "text/plain": [
       "<Figure size 1080x576 with 1 Axes>"
      ]
     },
     "metadata": {
      "needs_background": "light"
     },
     "output_type": "display_data"
    }
   ],
   "source": [
    "plt.figure(figsize= (15,8))\n",
    "plt.bar(x=df_state_count_population_sorted['NewState'], height=df_state_count_population_sorted['A_C_Rate'])\n",
    "a = plt.xticks(rotation = 90)\n",
    "plt.title(\"Construction distribution by Rate of Area to Counter(Sorted)\")\n",
    "plt.savefig(\"construction_distribution_by_Rate_Area_Counter_sorted.png\")"
   ]
  },
  {
   "cell_type": "code",
   "execution_count": 76,
   "metadata": {},
   "outputs": [
    {
     "data": {
      "image/png": "[encoded data removed]",
      "text/plain": [
       "<Figure size 1080x576 with 1 Axes>"
      ]
     },
     "metadata": {
      "needs_background": "light"
     },
     "output_type": "display_data"
    }
   ],
   "source": [
    "plt.figure(figsize= (15,8))\n",
    "plt.bar(x=df_state_count_population['NewState'], height=df_state_count_population['C_A_Rate'])\n",
    "a = plt.xticks(rotation = 90)\n",
    "plt.title(\"Construction distribution by Rate of Counter to Area\")\n",
    "plt.savefig(\"construction_distribution_by_Rate_Counter_Area.png\")"
   ]
  },
  {
   "cell_type": "code",
   "execution_count": 77,
   "metadata": {},
   "outputs": [],
   "source": [
    "df_state_count_population_sorted = df_state_count_population.sort_values(by=['C_A_Rate'], ascending=False)"
   ]
  },
  {
   "cell_type": "code",
   "execution_count": 78,
   "metadata": {},
   "outputs": [
    {
     "data": {
      "image/png": "[encoded data removed]",
      "text/plain": [
       "<Figure size 1080x576 with 1 Axes>"
      ]
     },
     "metadata": {
      "needs_background": "light"
     },
     "output_type": "display_data"
    }
   ],
   "source": [
    "plt.figure(figsize= (15,8))\n",
    "plt.bar(x=df_state_count_population_sorted['NewState'], height=df_state_count_population_sorted['C_A_Rate'])\n",
    "a = plt.xticks(rotation = 90)\n",
    "plt.title(\"Construction distribution by Rate of Counter to Area(Sorted)\")\n",
    "plt.savefig(\"construction_distribution_by_Rate_Counter_Area_sorted.png\")"
   ]
  },
  {
   "cell_type": "code",
   "execution_count": 79,
   "metadata": {},
   "outputs": [
    {
     "data": {
      "image/png": "[encoded data removed]",
      "text/plain": [
       "<Figure size 1080x576 with 1 Axes>"
      ]
     },
     "metadata": {
      "needs_background": "light"
     },
     "output_type": "display_data"
    }
   ],
   "source": [
    "plt.figure(figsize= (15,8))\n",
    "plt.bar(x=df_state_count_population['NewState'], height=df_state_count_population['LandArea(KM2)'])\n",
    "a = plt.xticks(rotation = 90)\n",
    "plt.title(\"Area distribution by State\")\n",
    "plt.savefig(\"Area_distribution_by_State.png\")"
   ]
  },
  {
   "cell_type": "code",
   "execution_count": 80,
   "metadata": {},
   "outputs": [],
   "source": [
    "df_state_count_population_sorted = df_state_count_population.sort_values(by=['LandArea(KM2)'], ascending=False)"
   ]
  },
  {
   "cell_type": "code",
   "execution_count": 81,
   "metadata": {},
   "outputs": [
    {
     "data": {
      "image/png": "[encoded data removed]",
      "text/plain": [
       "<Figure size 1080x576 with 1 Axes>"
      ]
     },
     "metadata": {
      "needs_background": "light"
     },
     "output_type": "display_data"
    }
   ],
   "source": [
    "plt.figure(figsize= (15,8))\n",
    "plt.bar(x=df_state_count_population_sorted['NewState'], height=df_state_count_population_sorted['LandArea(KM2)'])\n",
    "a = plt.xticks(rotation = 90)\n",
    "plt.title(\"Area distribution by State (Sorted)\")\n",
    "plt.savefig(\"Area_distribution_by_State_Sorted.png\")"
   ]
  },
  {
   "cell_type": "code",
   "execution_count": 82,
   "metadata": {},
   "outputs": [],
   "source": [
    "df_state_count_population[\"P_A_Rate\"] = df_state_count_population[\"July2019Estimate\"] / df_state_count_population[\"LandArea(KM2)\"]\n",
    "df_state_count_population[\"A_P_Rate\"] = df_state_count_population[\"LandArea(KM2)\"] / df_state_count_population[\"July2019Estimate\"]"
   ]
  },
  {
   "cell_type": "code",
   "execution_count": 83,
   "metadata": {},
   "outputs": [
    {
     "data": {
      "text/html": [
       "<div>\n",
       "<style scoped>\n",
       "    .dataframe tbody tr th:only-of-type {\n",
       "        vertical-align: middle;\n",
       "    }\n",
       "\n",
       "    .dataframe tbody tr th {\n",
       "        vertical-align: top;\n",
       "    }\n",
       "\n",
       "    .dataframe thead th {\n",
       "        text-align: right;\n",
       "    }\n",
       "</style>\n",
       "<table border=\"1\" class=\"dataframe\">\n",
       "  <thead>\n",
       "    <tr style=\"text-align: right;\">\n",
       "      <th></th>\n",
       "      <th>counts</th>\n",
       "      <th>Rank</th>\n",
       "      <th>July2019Estimate</th>\n",
       "      <th>PercentOfTotal</th>\n",
       "      <th>LandArea(KM2)</th>\n",
       "      <th>NewState</th>\n",
       "      <th>C_P_Rate</th>\n",
       "      <th>P_C_Rate</th>\n",
       "      <th>C_A_Rate</th>\n",
       "      <th>A_C_Rate</th>\n",
       "      <th>P_A_Rate</th>\n",
       "      <th>A_P_Rate</th>\n",
       "    </tr>\n",
       "    <tr>\n",
       "      <th>State</th>\n",
       "      <th></th>\n",
       "      <th></th>\n",
       "      <th></th>\n",
       "      <th></th>\n",
       "      <th></th>\n",
       "      <th></th>\n",
       "      <th></th>\n",
       "      <th></th>\n",
       "      <th></th>\n",
       "      <th></th>\n",
       "      <th></th>\n",
       "      <th></th>\n",
       "    </tr>\n",
       "  </thead>\n",
       "  <tbody>\n",
       "    <tr>\n",
       "      <th>CA</th>\n",
       "      <td>228658</td>\n",
       "      <td>1</td>\n",
       "      <td>39512223</td>\n",
       "      <td>11.91%</td>\n",
       "      <td>403466</td>\n",
       "      <td>CA</td>\n",
       "      <td>0.005787</td>\n",
       "      <td>172.800527</td>\n",
       "      <td>0.566734</td>\n",
       "      <td>1.764495</td>\n",
       "      <td>97.931977</td>\n",
       "      <td>0.010211</td>\n",
       "    </tr>\n",
       "    <tr>\n",
       "      <th>PA</th>\n",
       "      <td>193447</td>\n",
       "      <td>6</td>\n",
       "      <td>12801989</td>\n",
       "      <td>3.82%</td>\n",
       "      <td>115883</td>\n",
       "      <td>PA</td>\n",
       "      <td>0.015111</td>\n",
       "      <td>66.178276</td>\n",
       "      <td>1.669330</td>\n",
       "      <td>0.599043</td>\n",
       "      <td>110.473400</td>\n",
       "      <td>0.009052</td>\n",
       "    </tr>\n",
       "    <tr>\n",
       "      <th>NY</th>\n",
       "      <td>157022</td>\n",
       "      <td>4</td>\n",
       "      <td>19453561</td>\n",
       "      <td>5.86%</td>\n",
       "      <td>122057</td>\n",
       "      <td>NY</td>\n",
       "      <td>0.008072</td>\n",
       "      <td>123.890671</td>\n",
       "      <td>1.286465</td>\n",
       "      <td>0.777324</td>\n",
       "      <td>159.380953</td>\n",
       "      <td>0.006274</td>\n",
       "    </tr>\n",
       "    <tr>\n",
       "      <th>FL</th>\n",
       "      <td>111021</td>\n",
       "      <td>3</td>\n",
       "      <td>21477737</td>\n",
       "      <td>6.47%</td>\n",
       "      <td>138887</td>\n",
       "      <td>FL</td>\n",
       "      <td>0.005169</td>\n",
       "      <td>193.456526</td>\n",
       "      <td>0.799362</td>\n",
       "      <td>1.250998</td>\n",
       "      <td>154.641810</td>\n",
       "      <td>0.006467</td>\n",
       "    </tr>\n",
       "    <tr>\n",
       "      <th>OH</th>\n",
       "      <td>92174</td>\n",
       "      <td>7</td>\n",
       "      <td>11689100</td>\n",
       "      <td>3.52%</td>\n",
       "      <td>105829</td>\n",
       "      <td>OH</td>\n",
       "      <td>0.007885</td>\n",
       "      <td>126.815588</td>\n",
       "      <td>0.870971</td>\n",
       "      <td>1.148144</td>\n",
       "      <td>110.452711</td>\n",
       "      <td>0.009054</td>\n",
       "    </tr>\n",
       "  </tbody>\n",
       "</table>\n",
       "</div>"
      ],
      "text/plain": [
       "       counts  Rank  July2019Estimate PercentOfTotal  LandArea(KM2) NewState  \\\n",
       "State                                                                          \n",
       "CA     228658     1          39512223         11.91%         403466       CA   \n",
       "PA     193447     6          12801989          3.82%         115883       PA   \n",
       "NY     157022     4          19453561          5.86%         122057       NY   \n",
       "FL     111021     3          21477737          6.47%         138887       FL   \n",
       "OH      92174     7          11689100          3.52%         105829       OH   \n",
       "\n",
       "       C_P_Rate    P_C_Rate  C_A_Rate  A_C_Rate    P_A_Rate  A_P_Rate  \n",
       "State                                                                  \n",
       "CA     0.005787  172.800527  0.566734  1.764495   97.931977  0.010211  \n",
       "PA     0.015111   66.178276  1.669330  0.599043  110.473400  0.009052  \n",
       "NY     0.008072  123.890671  1.286465  0.777324  159.380953  0.006274  \n",
       "FL     0.005169  193.456526  0.799362  1.250998  154.641810  0.006467  \n",
       "OH     0.007885  126.815588  0.870971  1.148144  110.452711  0.009054  "
      ]
     },
     "execution_count": 83,
     "metadata": {},
     "output_type": "execute_result"
    }
   ],
   "source": [
    "df_state_count_population.head()"
   ]
  },
  {
   "cell_type": "code",
   "execution_count": 84,
   "metadata": {},
   "outputs": [
    {
     "data": {
      "image/png": "[encoded data removed]",
      "text/plain": [
       "<Figure size 1080x576 with 1 Axes>"
      ]
     },
     "metadata": {
      "needs_background": "light"
     },
     "output_type": "display_data"
    }
   ],
   "source": [
    "plt.figure(figsize= (15,8))\n",
    "plt.bar(x=df_state_count_population['NewState'], height=df_state_count_population['P_A_Rate'])\n",
    "a = plt.xticks(rotation = 90)\n",
    "plt.title(\"Construction distribution by Rate of Population to Area\")\n",
    "plt.savefig(\"construction_distribution_by_Rate_Population_Area.png\")"
   ]
  },
  {
   "cell_type": "code",
   "execution_count": 85,
   "metadata": {},
   "outputs": [],
   "source": [
    "df_state_count_population_sorted = df_state_count_population.sort_values(by=['P_A_Rate'], ascending=False)"
   ]
  },
  {
   "cell_type": "code",
   "execution_count": 86,
   "metadata": {},
   "outputs": [
    {
     "data": {
      "image/png": "[encoded data removed]",
      "text/plain": [
       "<Figure size 1080x576 with 1 Axes>"
      ]
     },
     "metadata": {
      "needs_background": "light"
     },
     "output_type": "display_data"
    }
   ],
   "source": [
    "plt.figure(figsize= (15,8))\n",
    "plt.bar(x=df_state_count_population_sorted['NewState'], height=df_state_count_population_sorted['P_A_Rate'])\n",
    "a = plt.xticks(rotation = 90)\n",
    "plt.title(\"Construction distribution by Rate of Population to Area(Sorted)\")\n",
    "plt.savefig(\"construction_distribution_by_Rate_Population_Area_Sorted.png\")"
   ]
  },
  {
   "cell_type": "code",
   "execution_count": 87,
   "metadata": {},
   "outputs": [
    {
     "data": {
      "image/png": "[encoded data removed]",
      "text/plain": [
       "<Figure size 1080x576 with 1 Axes>"
      ]
     },
     "metadata": {
      "needs_background": "light"
     },
     "output_type": "display_data"
    }
   ],
   "source": [
    "plt.figure(figsize= (15,8))\n",
    "plt.bar(x=df_state_count_population['NewState'], height=df_state_count_population['A_P_Rate'])\n",
    "a = plt.xticks(rotation = 90)\n",
    "plt.title(\"Construction distribution by Rate of Area to Population\")\n",
    "plt.savefig(\"construction_distribution_by_Rate_Area_Population.png\")"
   ]
  },
  {
   "cell_type": "code",
   "execution_count": 88,
   "metadata": {},
   "outputs": [],
   "source": [
    "df_state_count_population_sorted = df_state_count_population.sort_values(by=['A_P_Rate'], ascending=False)"
   ]
  },
  {
   "cell_type": "code",
   "execution_count": 89,
   "metadata": {},
   "outputs": [
    {
     "data": {
      "image/png": "[encoded data removed]",
      "text/plain": [
       "<Figure size 1080x576 with 1 Axes>"
      ]
     },
     "metadata": {
      "needs_background": "light"
     },
     "output_type": "display_data"
    }
   ],
   "source": [
    "plt.figure(figsize= (15,8))\n",
    "plt.bar(x=df_state_count_population_sorted['NewState'], height=df_state_count_population_sorted['A_P_Rate'])\n",
    "a = plt.xticks(rotation = 90)\n",
    "plt.title(\"Construction distribution by Rate of Area to Population(Sorted)\")\n",
    "plt.savefig(\"construction_distribution_by_Rate_Area_Population_sorted.png\")"
   ]
  },
  {
   "cell_type": "code",
   "execution_count": 90,
   "metadata": {},
   "outputs": [
    {
     "data": {
      "text/html": [
       "<div>\n",
       "<style scoped>\n",
       "    .dataframe tbody tr th:only-of-type {\n",
       "        vertical-align: middle;\n",
       "    }\n",
       "\n",
       "    .dataframe tbody tr th {\n",
       "        vertical-align: top;\n",
       "    }\n",
       "\n",
       "    .dataframe thead th {\n",
       "        text-align: right;\n",
       "    }\n",
       "</style>\n",
       "<table border=\"1\" class=\"dataframe\">\n",
       "  <thead>\n",
       "    <tr style=\"text-align: right;\">\n",
       "      <th></th>\n",
       "      <th>City</th>\n",
       "      <th>counts</th>\n",
       "    </tr>\n",
       "  </thead>\n",
       "  <tbody>\n",
       "    <tr>\n",
       "      <th>0</th>\n",
       "      <td>Aaronsburg</td>\n",
       "      <td>6</td>\n",
       "    </tr>\n",
       "    <tr>\n",
       "      <th>1</th>\n",
       "      <td>Abbeville</td>\n",
       "      <td>20</td>\n",
       "    </tr>\n",
       "    <tr>\n",
       "      <th>2</th>\n",
       "      <td>Abbotsford</td>\n",
       "      <td>15</td>\n",
       "    </tr>\n",
       "    <tr>\n",
       "      <th>3</th>\n",
       "      <td>Abbott</td>\n",
       "      <td>9</td>\n",
       "    </tr>\n",
       "    <tr>\n",
       "      <th>4</th>\n",
       "      <td>Abbottstown</td>\n",
       "      <td>56</td>\n",
       "    </tr>\n",
       "  </tbody>\n",
       "</table>\n",
       "</div>"
      ],
      "text/plain": [
       "          City  counts\n",
       "0   Aaronsburg       6\n",
       "1    Abbeville      20\n",
       "2   Abbotsford      15\n",
       "3       Abbott       9\n",
       "4  Abbottstown      56"
      ]
     },
     "execution_count": 90,
     "metadata": {},
     "output_type": "execute_result"
    }
   ],
   "source": [
    "df_city_group_count.head()"
   ]
  },
  {
   "cell_type": "code",
   "execution_count": 91,
   "metadata": {},
   "outputs": [
    {
     "data": {
      "text/html": [
       "<div>\n",
       "<style scoped>\n",
       "    .dataframe tbody tr th:only-of-type {\n",
       "        vertical-align: middle;\n",
       "    }\n",
       "\n",
       "    .dataframe tbody tr th {\n",
       "        vertical-align: top;\n",
       "    }\n",
       "\n",
       "    .dataframe thead th {\n",
       "        text-align: right;\n",
       "    }\n",
       "</style>\n",
       "<table border=\"1\" class=\"dataframe\">\n",
       "  <thead>\n",
       "    <tr style=\"text-align: right;\">\n",
       "      <th></th>\n",
       "      <th>City</th>\n",
       "      <th>counts</th>\n",
       "    </tr>\n",
       "  </thead>\n",
       "  <tbody>\n",
       "    <tr>\n",
       "      <th>6830</th>\n",
       "      <td>New York</td>\n",
       "      <td>32755</td>\n",
       "    </tr>\n",
       "    <tr>\n",
       "      <th>353</th>\n",
       "      <td>Atlanta</td>\n",
       "      <td>28137</td>\n",
       "    </tr>\n",
       "    <tr>\n",
       "      <th>6167</th>\n",
       "      <td>Miami</td>\n",
       "      <td>28037</td>\n",
       "    </tr>\n",
       "    <tr>\n",
       "      <th>5586</th>\n",
       "      <td>Los Angeles</td>\n",
       "      <td>19818</td>\n",
       "    </tr>\n",
       "    <tr>\n",
       "      <th>7759</th>\n",
       "      <td>Pittsburgh</td>\n",
       "      <td>17540</td>\n",
       "    </tr>\n",
       "    <tr>\n",
       "      <th>4501</th>\n",
       "      <td>Houston</td>\n",
       "      <td>14306</td>\n",
       "    </tr>\n",
       "    <tr>\n",
       "      <th>7295</th>\n",
       "      <td>Orlando</td>\n",
       "      <td>13940</td>\n",
       "    </tr>\n",
       "    <tr>\n",
       "      <th>2440</th>\n",
       "      <td>Denver</td>\n",
       "      <td>13798</td>\n",
       "    </tr>\n",
       "    <tr>\n",
       "      <th>7665</th>\n",
       "      <td>Philadelphia</td>\n",
       "      <td>13787</td>\n",
       "    </tr>\n",
       "    <tr>\n",
       "      <th>10303</th>\n",
       "      <td>Washington</td>\n",
       "      <td>12576</td>\n",
       "    </tr>\n",
       "  </tbody>\n",
       "</table>\n",
       "</div>"
      ],
      "text/plain": [
       "               City  counts\n",
       "6830       New York   32755\n",
       "353         Atlanta   28137\n",
       "6167          Miami   28037\n",
       "5586    Los Angeles   19818\n",
       "7759     Pittsburgh   17540\n",
       "4501        Houston   14306\n",
       "7295        Orlando   13940\n",
       "2440         Denver   13798\n",
       "7665   Philadelphia   13787\n",
       "10303    Washington   12576"
      ]
     },
     "execution_count": 91,
     "metadata": {},
     "output_type": "execute_result"
    }
   ],
   "source": [
    "df_city_group_count_sorted.head(10)"
   ]
  },
  {
   "cell_type": "code",
   "execution_count": 92,
   "metadata": {},
   "outputs": [],
   "source": [
    "df_city_group_count_top_10 = df_city_group_count_sorted.head(10)"
   ]
  },
  {
   "cell_type": "code",
   "execution_count": 93,
   "metadata": {},
   "outputs": [
    {
     "data": {
      "text/html": [
       "<div>\n",
       "<style scoped>\n",
       "    .dataframe tbody tr th:only-of-type {\n",
       "        vertical-align: middle;\n",
       "    }\n",
       "\n",
       "    .dataframe tbody tr th {\n",
       "        vertical-align: top;\n",
       "    }\n",
       "\n",
       "    .dataframe thead th {\n",
       "        text-align: right;\n",
       "    }\n",
       "</style>\n",
       "<table border=\"1\" class=\"dataframe\">\n",
       "  <thead>\n",
       "    <tr style=\"text-align: right;\">\n",
       "      <th></th>\n",
       "      <th>City</th>\n",
       "      <th>counts</th>\n",
       "    </tr>\n",
       "  </thead>\n",
       "  <tbody>\n",
       "    <tr>\n",
       "      <th>6830</th>\n",
       "      <td>New York</td>\n",
       "      <td>32755</td>\n",
       "    </tr>\n",
       "    <tr>\n",
       "      <th>353</th>\n",
       "      <td>Atlanta</td>\n",
       "      <td>28137</td>\n",
       "    </tr>\n",
       "    <tr>\n",
       "      <th>6167</th>\n",
       "      <td>Miami</td>\n",
       "      <td>28037</td>\n",
       "    </tr>\n",
       "    <tr>\n",
       "      <th>5586</th>\n",
       "      <td>Los Angeles</td>\n",
       "      <td>19818</td>\n",
       "    </tr>\n",
       "    <tr>\n",
       "      <th>7759</th>\n",
       "      <td>Pittsburgh</td>\n",
       "      <td>17540</td>\n",
       "    </tr>\n",
       "    <tr>\n",
       "      <th>4501</th>\n",
       "      <td>Houston</td>\n",
       "      <td>14306</td>\n",
       "    </tr>\n",
       "    <tr>\n",
       "      <th>7295</th>\n",
       "      <td>Orlando</td>\n",
       "      <td>13940</td>\n",
       "    </tr>\n",
       "    <tr>\n",
       "      <th>2440</th>\n",
       "      <td>Denver</td>\n",
       "      <td>13798</td>\n",
       "    </tr>\n",
       "    <tr>\n",
       "      <th>7665</th>\n",
       "      <td>Philadelphia</td>\n",
       "      <td>13787</td>\n",
       "    </tr>\n",
       "    <tr>\n",
       "      <th>10303</th>\n",
       "      <td>Washington</td>\n",
       "      <td>12576</td>\n",
       "    </tr>\n",
       "  </tbody>\n",
       "</table>\n",
       "</div>"
      ],
      "text/plain": [
       "               City  counts\n",
       "6830       New York   32755\n",
       "353         Atlanta   28137\n",
       "6167          Miami   28037\n",
       "5586    Los Angeles   19818\n",
       "7759     Pittsburgh   17540\n",
       "4501        Houston   14306\n",
       "7295        Orlando   13940\n",
       "2440         Denver   13798\n",
       "7665   Philadelphia   13787\n",
       "10303    Washington   12576"
      ]
     },
     "execution_count": 93,
     "metadata": {},
     "output_type": "execute_result"
    }
   ],
   "source": [
    "df_city_group_count_top_10"
   ]
  },
  {
   "cell_type": "code",
   "execution_count": 94,
   "metadata": {},
   "outputs": [],
   "source": [
    "weather_path = \"/home/amin/CETI/RoadConstruction/WeatherEventData/WeatherEvents_Aug16_June20_Publish.csv\""
   ]
  },
  {
   "cell_type": "code",
   "execution_count": 95,
   "metadata": {},
   "outputs": [],
   "source": [
    "weather_data = read_data(weather_path)"
   ]
  },
  {
   "cell_type": "code",
   "execution_count": 96,
   "metadata": {},
   "outputs": [
    {
     "data": {
      "text/html": [
       "<div>\n",
       "<style scoped>\n",
       "    .dataframe tbody tr th:only-of-type {\n",
       "        vertical-align: middle;\n",
       "    }\n",
       "\n",
       "    .dataframe tbody tr th {\n",
       "        vertical-align: top;\n",
       "    }\n",
       "\n",
       "    .dataframe thead th {\n",
       "        text-align: right;\n",
       "    }\n",
       "</style>\n",
       "<table border=\"1\" class=\"dataframe\">\n",
       "  <thead>\n",
       "    <tr style=\"text-align: right;\">\n",
       "      <th></th>\n",
       "      <th>EventId</th>\n",
       "      <th>Type</th>\n",
       "      <th>Severity</th>\n",
       "      <th>StartTime(UTC)</th>\n",
       "      <th>EndTime(UTC)</th>\n",
       "      <th>TimeZone</th>\n",
       "      <th>LocationLat</th>\n",
       "      <th>LocationLng</th>\n",
       "      <th>AirportCode</th>\n",
       "      <th>City</th>\n",
       "      <th>County</th>\n",
       "      <th>State</th>\n",
       "      <th>ZipCode</th>\n",
       "    </tr>\n",
       "  </thead>\n",
       "  <tbody>\n",
       "    <tr>\n",
       "      <th>0</th>\n",
       "      <td>W-310</td>\n",
       "      <td>Rain</td>\n",
       "      <td>Light</td>\n",
       "      <td>2016-08-01 00:16:00</td>\n",
       "      <td>2016-08-01 00:56:00</td>\n",
       "      <td>US/Mountain</td>\n",
       "      <td>38.0972</td>\n",
       "      <td>-106.1689</td>\n",
       "      <td>K04V</td>\n",
       "      <td>Saguache</td>\n",
       "      <td>Saguache</td>\n",
       "      <td>CO</td>\n",
       "      <td>81149.0</td>\n",
       "    </tr>\n",
       "    <tr>\n",
       "      <th>1</th>\n",
       "      <td>W-311</td>\n",
       "      <td>Rain</td>\n",
       "      <td>Light</td>\n",
       "      <td>2016-08-01 01:16:00</td>\n",
       "      <td>2016-08-01 01:36:00</td>\n",
       "      <td>US/Mountain</td>\n",
       "      <td>38.0972</td>\n",
       "      <td>-106.1689</td>\n",
       "      <td>K04V</td>\n",
       "      <td>Saguache</td>\n",
       "      <td>Saguache</td>\n",
       "      <td>CO</td>\n",
       "      <td>81149.0</td>\n",
       "    </tr>\n",
       "    <tr>\n",
       "      <th>2</th>\n",
       "      <td>W-312</td>\n",
       "      <td>Rain</td>\n",
       "      <td>Light</td>\n",
       "      <td>2016-08-01 01:56:00</td>\n",
       "      <td>2016-08-01 02:16:00</td>\n",
       "      <td>US/Mountain</td>\n",
       "      <td>38.0972</td>\n",
       "      <td>-106.1689</td>\n",
       "      <td>K04V</td>\n",
       "      <td>Saguache</td>\n",
       "      <td>Saguache</td>\n",
       "      <td>CO</td>\n",
       "      <td>81149.0</td>\n",
       "    </tr>\n",
       "    <tr>\n",
       "      <th>3</th>\n",
       "      <td>W-313</td>\n",
       "      <td>Rain</td>\n",
       "      <td>Light</td>\n",
       "      <td>2016-08-01 02:36:00</td>\n",
       "      <td>2016-08-01 02:56:00</td>\n",
       "      <td>US/Mountain</td>\n",
       "      <td>38.0972</td>\n",
       "      <td>-106.1689</td>\n",
       "      <td>K04V</td>\n",
       "      <td>Saguache</td>\n",
       "      <td>Saguache</td>\n",
       "      <td>CO</td>\n",
       "      <td>81149.0</td>\n",
       "    </tr>\n",
       "    <tr>\n",
       "      <th>4</th>\n",
       "      <td>W-314</td>\n",
       "      <td>Rain</td>\n",
       "      <td>Light</td>\n",
       "      <td>2016-08-01 04:36:00</td>\n",
       "      <td>2016-08-01 04:56:00</td>\n",
       "      <td>US/Mountain</td>\n",
       "      <td>38.0972</td>\n",
       "      <td>-106.1689</td>\n",
       "      <td>K04V</td>\n",
       "      <td>Saguache</td>\n",
       "      <td>Saguache</td>\n",
       "      <td>CO</td>\n",
       "      <td>81149.0</td>\n",
       "    </tr>\n",
       "  </tbody>\n",
       "</table>\n",
       "</div>"
      ],
      "text/plain": [
       "  EventId  Type Severity       StartTime(UTC)         EndTime(UTC)  \\\n",
       "0   W-310  Rain    Light  2016-08-01 00:16:00  2016-08-01 00:56:00   \n",
       "1   W-311  Rain    Light  2016-08-01 01:16:00  2016-08-01 01:36:00   \n",
       "2   W-312  Rain    Light  2016-08-01 01:56:00  2016-08-01 02:16:00   \n",
       "3   W-313  Rain    Light  2016-08-01 02:36:00  2016-08-01 02:56:00   \n",
       "4   W-314  Rain    Light  2016-08-01 04:36:00  2016-08-01 04:56:00   \n",
       "\n",
       "      TimeZone  LocationLat  LocationLng AirportCode      City    County  \\\n",
       "0  US/Mountain      38.0972    -106.1689        K04V  Saguache  Saguache   \n",
       "1  US/Mountain      38.0972    -106.1689        K04V  Saguache  Saguache   \n",
       "2  US/Mountain      38.0972    -106.1689        K04V  Saguache  Saguache   \n",
       "3  US/Mountain      38.0972    -106.1689        K04V  Saguache  Saguache   \n",
       "4  US/Mountain      38.0972    -106.1689        K04V  Saguache  Saguache   \n",
       "\n",
       "  State  ZipCode  \n",
       "0    CO  81149.0  \n",
       "1    CO  81149.0  \n",
       "2    CO  81149.0  \n",
       "3    CO  81149.0  \n",
       "4    CO  81149.0  "
      ]
     },
     "execution_count": 96,
     "metadata": {},
     "output_type": "execute_result"
    }
   ],
   "source": [
    "weather_data.head()"
   ]
  },
  {
   "cell_type": "code",
   "execution_count": 97,
   "metadata": {},
   "outputs": [],
   "source": [
    "weather_data[\"NewState\"] = weather_data[\"State\"]"
   ]
  },
  {
   "cell_type": "code",
   "execution_count": 98,
   "metadata": {},
   "outputs": [
    {
     "data": {
      "text/html": [
       "<div>\n",
       "<style scoped>\n",
       "    .dataframe tbody tr th:only-of-type {\n",
       "        vertical-align: middle;\n",
       "    }\n",
       "\n",
       "    .dataframe tbody tr th {\n",
       "        vertical-align: top;\n",
       "    }\n",
       "\n",
       "    .dataframe thead th {\n",
       "        text-align: right;\n",
       "    }\n",
       "</style>\n",
       "<table border=\"1\" class=\"dataframe\">\n",
       "  <thead>\n",
       "    <tr style=\"text-align: right;\">\n",
       "      <th></th>\n",
       "      <th>EventId</th>\n",
       "      <th>Type</th>\n",
       "      <th>Severity</th>\n",
       "      <th>StartTime(UTC)</th>\n",
       "      <th>EndTime(UTC)</th>\n",
       "      <th>TimeZone</th>\n",
       "      <th>LocationLat</th>\n",
       "      <th>LocationLng</th>\n",
       "      <th>AirportCode</th>\n",
       "      <th>City</th>\n",
       "      <th>County</th>\n",
       "      <th>State</th>\n",
       "      <th>ZipCode</th>\n",
       "      <th>NewState</th>\n",
       "    </tr>\n",
       "  </thead>\n",
       "  <tbody>\n",
       "    <tr>\n",
       "      <th>0</th>\n",
       "      <td>W-310</td>\n",
       "      <td>Rain</td>\n",
       "      <td>Light</td>\n",
       "      <td>2016-08-01 00:16:00</td>\n",
       "      <td>2016-08-01 00:56:00</td>\n",
       "      <td>US/Mountain</td>\n",
       "      <td>38.0972</td>\n",
       "      <td>-106.1689</td>\n",
       "      <td>K04V</td>\n",
       "      <td>Saguache</td>\n",
       "      <td>Saguache</td>\n",
       "      <td>CO</td>\n",
       "      <td>81149.0</td>\n",
       "      <td>CO</td>\n",
       "    </tr>\n",
       "    <tr>\n",
       "      <th>1</th>\n",
       "      <td>W-311</td>\n",
       "      <td>Rain</td>\n",
       "      <td>Light</td>\n",
       "      <td>2016-08-01 01:16:00</td>\n",
       "      <td>2016-08-01 01:36:00</td>\n",
       "      <td>US/Mountain</td>\n",
       "      <td>38.0972</td>\n",
       "      <td>-106.1689</td>\n",
       "      <td>K04V</td>\n",
       "      <td>Saguache</td>\n",
       "      <td>Saguache</td>\n",
       "      <td>CO</td>\n",
       "      <td>81149.0</td>\n",
       "      <td>CO</td>\n",
       "    </tr>\n",
       "    <tr>\n",
       "      <th>2</th>\n",
       "      <td>W-312</td>\n",
       "      <td>Rain</td>\n",
       "      <td>Light</td>\n",
       "      <td>2016-08-01 01:56:00</td>\n",
       "      <td>2016-08-01 02:16:00</td>\n",
       "      <td>US/Mountain</td>\n",
       "      <td>38.0972</td>\n",
       "      <td>-106.1689</td>\n",
       "      <td>K04V</td>\n",
       "      <td>Saguache</td>\n",
       "      <td>Saguache</td>\n",
       "      <td>CO</td>\n",
       "      <td>81149.0</td>\n",
       "      <td>CO</td>\n",
       "    </tr>\n",
       "    <tr>\n",
       "      <th>3</th>\n",
       "      <td>W-313</td>\n",
       "      <td>Rain</td>\n",
       "      <td>Light</td>\n",
       "      <td>2016-08-01 02:36:00</td>\n",
       "      <td>2016-08-01 02:56:00</td>\n",
       "      <td>US/Mountain</td>\n",
       "      <td>38.0972</td>\n",
       "      <td>-106.1689</td>\n",
       "      <td>K04V</td>\n",
       "      <td>Saguache</td>\n",
       "      <td>Saguache</td>\n",
       "      <td>CO</td>\n",
       "      <td>81149.0</td>\n",
       "      <td>CO</td>\n",
       "    </tr>\n",
       "    <tr>\n",
       "      <th>4</th>\n",
       "      <td>W-314</td>\n",
       "      <td>Rain</td>\n",
       "      <td>Light</td>\n",
       "      <td>2016-08-01 04:36:00</td>\n",
       "      <td>2016-08-01 04:56:00</td>\n",
       "      <td>US/Mountain</td>\n",
       "      <td>38.0972</td>\n",
       "      <td>-106.1689</td>\n",
       "      <td>K04V</td>\n",
       "      <td>Saguache</td>\n",
       "      <td>Saguache</td>\n",
       "      <td>CO</td>\n",
       "      <td>81149.0</td>\n",
       "      <td>CO</td>\n",
       "    </tr>\n",
       "  </tbody>\n",
       "</table>\n",
       "</div>"
      ],
      "text/plain": [
       "  EventId  Type Severity       StartTime(UTC)         EndTime(UTC)  \\\n",
       "0   W-310  Rain    Light  2016-08-01 00:16:00  2016-08-01 00:56:00   \n",
       "1   W-311  Rain    Light  2016-08-01 01:16:00  2016-08-01 01:36:00   \n",
       "2   W-312  Rain    Light  2016-08-01 01:56:00  2016-08-01 02:16:00   \n",
       "3   W-313  Rain    Light  2016-08-01 02:36:00  2016-08-01 02:56:00   \n",
       "4   W-314  Rain    Light  2016-08-01 04:36:00  2016-08-01 04:56:00   \n",
       "\n",
       "      TimeZone  LocationLat  LocationLng AirportCode      City    County  \\\n",
       "0  US/Mountain      38.0972    -106.1689        K04V  Saguache  Saguache   \n",
       "1  US/Mountain      38.0972    -106.1689        K04V  Saguache  Saguache   \n",
       "2  US/Mountain      38.0972    -106.1689        K04V  Saguache  Saguache   \n",
       "3  US/Mountain      38.0972    -106.1689        K04V  Saguache  Saguache   \n",
       "4  US/Mountain      38.0972    -106.1689        K04V  Saguache  Saguache   \n",
       "\n",
       "  State  ZipCode NewState  \n",
       "0    CO  81149.0       CO  \n",
       "1    CO  81149.0       CO  \n",
       "2    CO  81149.0       CO  \n",
       "3    CO  81149.0       CO  \n",
       "4    CO  81149.0       CO  "
      ]
     },
     "execution_count": 98,
     "metadata": {},
     "output_type": "execute_result"
    }
   ],
   "source": [
    "weather_data.head()"
   ]
  },
  {
   "cell_type": "code",
   "execution_count": 99,
   "metadata": {},
   "outputs": [
    {
     "data": {
      "text/html": [
       "<div>\n",
       "<style scoped>\n",
       "    .dataframe tbody tr th:only-of-type {\n",
       "        vertical-align: middle;\n",
       "    }\n",
       "\n",
       "    .dataframe tbody tr th {\n",
       "        vertical-align: top;\n",
       "    }\n",
       "\n",
       "    .dataframe thead th {\n",
       "        text-align: right;\n",
       "    }\n",
       "</style>\n",
       "<table border=\"1\" class=\"dataframe\">\n",
       "  <thead>\n",
       "    <tr style=\"text-align: right;\">\n",
       "      <th></th>\n",
       "      <th>State</th>\n",
       "      <th>counts</th>\n",
       "    </tr>\n",
       "  </thead>\n",
       "  <tbody>\n",
       "    <tr>\n",
       "      <th>3</th>\n",
       "      <td>CA</td>\n",
       "      <td>228658</td>\n",
       "    </tr>\n",
       "    <tr>\n",
       "      <th>36</th>\n",
       "      <td>PA</td>\n",
       "      <td>193447</td>\n",
       "    </tr>\n",
       "    <tr>\n",
       "      <th>32</th>\n",
       "      <td>NY</td>\n",
       "      <td>157022</td>\n",
       "    </tr>\n",
       "    <tr>\n",
       "      <th>8</th>\n",
       "      <td>FL</td>\n",
       "      <td>111021</td>\n",
       "    </tr>\n",
       "    <tr>\n",
       "      <th>33</th>\n",
       "      <td>OH</td>\n",
       "      <td>92174</td>\n",
       "    </tr>\n",
       "  </tbody>\n",
       "</table>\n",
       "</div>"
      ],
      "text/plain": [
       "   State  counts\n",
       "3     CA  228658\n",
       "36    PA  193447\n",
       "32    NY  157022\n",
       "8     FL  111021\n",
       "33    OH   92174"
      ]
     },
     "execution_count": 99,
     "metadata": {},
     "output_type": "execute_result"
    }
   ],
   "source": [
    "df_state_count_sorted.head()"
   ]
  },
  {
   "cell_type": "code",
   "execution_count": 102,
   "metadata": {},
   "outputs": [],
   "source": [
    "weather_data_State = weather_data.loc[:, weather_data.columns.intersection(['City', 'State', \"Id\", \"AirportCode\", \"Type\", \"NewState\"])]"
   ]
  },
  {
   "cell_type": "code",
   "execution_count": 103,
   "metadata": {},
   "outputs": [
    {
     "data": {
      "text/html": [
       "<div>\n",
       "<style scoped>\n",
       "    .dataframe tbody tr th:only-of-type {\n",
       "        vertical-align: middle;\n",
       "    }\n",
       "\n",
       "    .dataframe tbody tr th {\n",
       "        vertical-align: top;\n",
       "    }\n",
       "\n",
       "    .dataframe thead th {\n",
       "        text-align: right;\n",
       "    }\n",
       "</style>\n",
       "<table border=\"1\" class=\"dataframe\">\n",
       "  <thead>\n",
       "    <tr style=\"text-align: right;\">\n",
       "      <th></th>\n",
       "      <th>Type</th>\n",
       "      <th>AirportCode</th>\n",
       "      <th>City</th>\n",
       "      <th>State</th>\n",
       "    </tr>\n",
       "  </thead>\n",
       "  <tbody>\n",
       "    <tr>\n",
       "      <th>0</th>\n",
       "      <td>Rain</td>\n",
       "      <td>K04V</td>\n",
       "      <td>Saguache</td>\n",
       "      <td>CO</td>\n",
       "    </tr>\n",
       "    <tr>\n",
       "      <th>1</th>\n",
       "      <td>Rain</td>\n",
       "      <td>K04V</td>\n",
       "      <td>Saguache</td>\n",
       "      <td>CO</td>\n",
       "    </tr>\n",
       "    <tr>\n",
       "      <th>2</th>\n",
       "      <td>Rain</td>\n",
       "      <td>K04V</td>\n",
       "      <td>Saguache</td>\n",
       "      <td>CO</td>\n",
       "    </tr>\n",
       "    <tr>\n",
       "      <th>3</th>\n",
       "      <td>Rain</td>\n",
       "      <td>K04V</td>\n",
       "      <td>Saguache</td>\n",
       "      <td>CO</td>\n",
       "    </tr>\n",
       "    <tr>\n",
       "      <th>4</th>\n",
       "      <td>Rain</td>\n",
       "      <td>K04V</td>\n",
       "      <td>Saguache</td>\n",
       "      <td>CO</td>\n",
       "    </tr>\n",
       "  </tbody>\n",
       "</table>\n",
       "</div>"
      ],
      "text/plain": [
       "   Type AirportCode      City State\n",
       "0  Rain        K04V  Saguache    CO\n",
       "1  Rain        K04V  Saguache    CO\n",
       "2  Rain        K04V  Saguache    CO\n",
       "3  Rain        K04V  Saguache    CO\n",
       "4  Rain        K04V  Saguache    CO"
      ]
     },
     "execution_count": 103,
     "metadata": {},
     "output_type": "execute_result"
    }
   ],
   "source": [
    "weather_data_State.head()"
   ]
  },
  {
   "cell_type": "code",
   "execution_count": 110,
   "metadata": {},
   "outputs": [],
   "source": [
    "weather_data_State_group = weather_data_State.groupby([\"State\", \"Type\"])"
   ]
  },
  {
   "cell_type": "code",
   "execution_count": 111,
   "metadata": {},
   "outputs": [],
   "source": [
    "weather_data_State_group_count = weather_data_State_group.size().reset_index(name='counts')"
   ]
  },
  {
   "cell_type": "code",
   "execution_count": 115,
   "metadata": {},
   "outputs": [
    {
     "data": {
      "text/html": [
       "<div>\n",
       "<style scoped>\n",
       "    .dataframe tbody tr th:only-of-type {\n",
       "        vertical-align: middle;\n",
       "    }\n",
       "\n",
       "    .dataframe tbody tr th {\n",
       "        vertical-align: top;\n",
       "    }\n",
       "\n",
       "    .dataframe thead th {\n",
       "        text-align: right;\n",
       "    }\n",
       "</style>\n",
       "<table border=\"1\" class=\"dataframe\">\n",
       "  <thead>\n",
       "    <tr style=\"text-align: right;\">\n",
       "      <th></th>\n",
       "      <th>State</th>\n",
       "      <th>Type</th>\n",
       "      <th>counts</th>\n",
       "    </tr>\n",
       "  </thead>\n",
       "  <tbody>\n",
       "    <tr>\n",
       "      <th>0</th>\n",
       "      <td>AL</td>\n",
       "      <td>Cold</td>\n",
       "      <td>2844</td>\n",
       "    </tr>\n",
       "    <tr>\n",
       "      <th>1</th>\n",
       "      <td>AL</td>\n",
       "      <td>Fog</td>\n",
       "      <td>22503</td>\n",
       "    </tr>\n",
       "    <tr>\n",
       "      <th>2</th>\n",
       "      <td>AL</td>\n",
       "      <td>Hail</td>\n",
       "      <td>44</td>\n",
       "    </tr>\n",
       "    <tr>\n",
       "      <th>3</th>\n",
       "      <td>AL</td>\n",
       "      <td>Precipitation</td>\n",
       "      <td>2575</td>\n",
       "    </tr>\n",
       "    <tr>\n",
       "      <th>4</th>\n",
       "      <td>AL</td>\n",
       "      <td>Rain</td>\n",
       "      <td>84746</td>\n",
       "    </tr>\n",
       "    <tr>\n",
       "      <th>5</th>\n",
       "      <td>AL</td>\n",
       "      <td>Snow</td>\n",
       "      <td>599</td>\n",
       "    </tr>\n",
       "    <tr>\n",
       "      <th>6</th>\n",
       "      <td>AL</td>\n",
       "      <td>Storm</td>\n",
       "      <td>57</td>\n",
       "    </tr>\n",
       "    <tr>\n",
       "      <th>7</th>\n",
       "      <td>AR</td>\n",
       "      <td>Cold</td>\n",
       "      <td>2301</td>\n",
       "    </tr>\n",
       "    <tr>\n",
       "      <th>8</th>\n",
       "      <td>AR</td>\n",
       "      <td>Fog</td>\n",
       "      <td>20123</td>\n",
       "    </tr>\n",
       "    <tr>\n",
       "      <th>9</th>\n",
       "      <td>AR</td>\n",
       "      <td>Hail</td>\n",
       "      <td>8</td>\n",
       "    </tr>\n",
       "  </tbody>\n",
       "</table>\n",
       "</div>"
      ],
      "text/plain": [
       "  State           Type  counts\n",
       "0    AL           Cold    2844\n",
       "1    AL            Fog   22503\n",
       "2    AL           Hail      44\n",
       "3    AL  Precipitation    2575\n",
       "4    AL           Rain   84746\n",
       "5    AL           Snow     599\n",
       "6    AL          Storm      57\n",
       "7    AR           Cold    2301\n",
       "8    AR            Fog   20123\n",
       "9    AR           Hail       8"
      ]
     },
     "execution_count": 115,
     "metadata": {},
     "output_type": "execute_result"
    }
   ],
   "source": [
    "weather_data_State_group_count.head(10)"
   ]
  },
  {
   "cell_type": "code",
   "execution_count": 116,
   "metadata": {},
   "outputs": [],
   "source": [
    "weather_data_State_group_count_Cold = weather_data_State_group_count[weather_data_State_group_count.Type == \"Cold\"]"
   ]
  },
  {
   "cell_type": "code",
   "execution_count": 117,
   "metadata": {},
   "outputs": [
    {
     "data": {
      "text/html": [
       "<div>\n",
       "<style scoped>\n",
       "    .dataframe tbody tr th:only-of-type {\n",
       "        vertical-align: middle;\n",
       "    }\n",
       "\n",
       "    .dataframe tbody tr th {\n",
       "        vertical-align: top;\n",
       "    }\n",
       "\n",
       "    .dataframe thead th {\n",
       "        text-align: right;\n",
       "    }\n",
       "</style>\n",
       "<table border=\"1\" class=\"dataframe\">\n",
       "  <thead>\n",
       "    <tr style=\"text-align: right;\">\n",
       "      <th></th>\n",
       "      <th>State</th>\n",
       "      <th>Type</th>\n",
       "      <th>counts</th>\n",
       "    </tr>\n",
       "  </thead>\n",
       "  <tbody>\n",
       "    <tr>\n",
       "      <th>0</th>\n",
       "      <td>AL</td>\n",
       "      <td>Cold</td>\n",
       "      <td>2844</td>\n",
       "    </tr>\n",
       "    <tr>\n",
       "      <th>7</th>\n",
       "      <td>AR</td>\n",
       "      <td>Cold</td>\n",
       "      <td>2301</td>\n",
       "    </tr>\n",
       "    <tr>\n",
       "      <th>14</th>\n",
       "      <td>AZ</td>\n",
       "      <td>Cold</td>\n",
       "      <td>1374</td>\n",
       "    </tr>\n",
       "    <tr>\n",
       "      <th>21</th>\n",
       "      <td>CA</td>\n",
       "      <td>Cold</td>\n",
       "      <td>8226</td>\n",
       "    </tr>\n",
       "    <tr>\n",
       "      <th>28</th>\n",
       "      <td>CO</td>\n",
       "      <td>Cold</td>\n",
       "      <td>2643</td>\n",
       "    </tr>\n",
       "  </tbody>\n",
       "</table>\n",
       "</div>"
      ],
      "text/plain": [
       "   State  Type  counts\n",
       "0     AL  Cold    2844\n",
       "7     AR  Cold    2301\n",
       "14    AZ  Cold    1374\n",
       "21    CA  Cold    8226\n",
       "28    CO  Cold    2643"
      ]
     },
     "execution_count": 117,
     "metadata": {},
     "output_type": "execute_result"
    }
   ],
   "source": [
    "weather_data_State_group_count_Cold.head()"
   ]
  },
  {
   "cell_type": "code",
   "execution_count": 122,
   "metadata": {},
   "outputs": [
    {
     "data": {
      "image/png": "[encoded data removed]",
      "text/plain": [
       "<Figure size 1080x576 with 1 Axes>"
      ]
     },
     "metadata": {
      "needs_background": "light"
     },
     "output_type": "display_data"
    }
   ],
   "source": [
    "plt.figure(figsize= (15,8))\n",
    "plt.bar(x=weather_data_State_group_count_Cold['State'], height=weather_data_State_group_count_Cold['counts'])\n",
    "a = plt.xticks(rotation = 90)\n",
    "plt.title(\"Weather Distribution of cold type for each state\")\n",
    "plt.savefig(\"Weather_Distribution_cold_type_for_each_state.png\")"
   ]
  },
  {
   "cell_type": "code",
   "execution_count": 123,
   "metadata": {},
   "outputs": [],
   "source": [
    "weather_data_State_group_count_Fog = weather_data_State_group_count[weather_data_State_group_count.Type == \"Fog\"]"
   ]
  },
  {
   "cell_type": "code",
   "execution_count": 124,
   "metadata": {},
   "outputs": [
    {
     "data": {
      "text/html": [
       "<div>\n",
       "<style scoped>\n",
       "    .dataframe tbody tr th:only-of-type {\n",
       "        vertical-align: middle;\n",
       "    }\n",
       "\n",
       "    .dataframe tbody tr th {\n",
       "        vertical-align: top;\n",
       "    }\n",
       "\n",
       "    .dataframe thead th {\n",
       "        text-align: right;\n",
       "    }\n",
       "</style>\n",
       "<table border=\"1\" class=\"dataframe\">\n",
       "  <thead>\n",
       "    <tr style=\"text-align: right;\">\n",
       "      <th></th>\n",
       "      <th>State</th>\n",
       "      <th>Type</th>\n",
       "      <th>counts</th>\n",
       "    </tr>\n",
       "  </thead>\n",
       "  <tbody>\n",
       "    <tr>\n",
       "      <th>1</th>\n",
       "      <td>AL</td>\n",
       "      <td>Fog</td>\n",
       "      <td>22503</td>\n",
       "    </tr>\n",
       "    <tr>\n",
       "      <th>8</th>\n",
       "      <td>AR</td>\n",
       "      <td>Fog</td>\n",
       "      <td>20123</td>\n",
       "    </tr>\n",
       "    <tr>\n",
       "      <th>15</th>\n",
       "      <td>AZ</td>\n",
       "      <td>Fog</td>\n",
       "      <td>5956</td>\n",
       "    </tr>\n",
       "    <tr>\n",
       "      <th>22</th>\n",
       "      <td>CA</td>\n",
       "      <td>Fog</td>\n",
       "      <td>84941</td>\n",
       "    </tr>\n",
       "    <tr>\n",
       "      <th>29</th>\n",
       "      <td>CO</td>\n",
       "      <td>Fog</td>\n",
       "      <td>21390</td>\n",
       "    </tr>\n",
       "  </tbody>\n",
       "</table>\n",
       "</div>"
      ],
      "text/plain": [
       "   State Type  counts\n",
       "1     AL  Fog   22503\n",
       "8     AR  Fog   20123\n",
       "15    AZ  Fog    5956\n",
       "22    CA  Fog   84941\n",
       "29    CO  Fog   21390"
      ]
     },
     "execution_count": 124,
     "metadata": {},
     "output_type": "execute_result"
    }
   ],
   "source": [
    "weather_data_State_group_count_Fog.head()"
   ]
  },
  {
   "cell_type": "code",
   "execution_count": 125,
   "metadata": {},
   "outputs": [
    {
     "data": {
      "image/png": "[encoded data removed]",
      "text/plain": [
       "<Figure size 1080x576 with 1 Axes>"
      ]
     },
     "metadata": {
      "needs_background": "light"
     },
     "output_type": "display_data"
    }
   ],
   "source": [
    "plt.figure(figsize= (15,8))\n",
    "plt.bar(x=weather_data_State_group_count_Fog['State'], height=weather_data_State_group_count_Fog['counts'])\n",
    "a = plt.xticks(rotation = 90)\n",
    "plt.title(\"Weather Distribution of fog type for each state\")\n",
    "plt.savefig(\"Weather_Distribution_fog_type_for_each_state.png\")"
   ]
  },
  {
   "cell_type": "code",
   "execution_count": 126,
   "metadata": {},
   "outputs": [],
   "source": [
    "weather_data_State_group_count_Hail = weather_data_State_group_count[weather_data_State_group_count.Type == \"Hail\"]"
   ]
  },
  {
   "cell_type": "code",
   "execution_count": 127,
   "metadata": {},
   "outputs": [
    {
     "data": {
      "text/html": [
       "<div>\n",
       "<style scoped>\n",
       "    .dataframe tbody tr th:only-of-type {\n",
       "        vertical-align: middle;\n",
       "    }\n",
       "\n",
       "    .dataframe tbody tr th {\n",
       "        vertical-align: top;\n",
       "    }\n",
       "\n",
       "    .dataframe thead th {\n",
       "        text-align: right;\n",
       "    }\n",
       "</style>\n",
       "<table border=\"1\" class=\"dataframe\">\n",
       "  <thead>\n",
       "    <tr style=\"text-align: right;\">\n",
       "      <th></th>\n",
       "      <th>State</th>\n",
       "      <th>Type</th>\n",
       "      <th>counts</th>\n",
       "    </tr>\n",
       "  </thead>\n",
       "  <tbody>\n",
       "    <tr>\n",
       "      <th>2</th>\n",
       "      <td>AL</td>\n",
       "      <td>Hail</td>\n",
       "      <td>44</td>\n",
       "    </tr>\n",
       "    <tr>\n",
       "      <th>9</th>\n",
       "      <td>AR</td>\n",
       "      <td>Hail</td>\n",
       "      <td>8</td>\n",
       "    </tr>\n",
       "    <tr>\n",
       "      <th>16</th>\n",
       "      <td>AZ</td>\n",
       "      <td>Hail</td>\n",
       "      <td>7</td>\n",
       "    </tr>\n",
       "    <tr>\n",
       "      <th>23</th>\n",
       "      <td>CA</td>\n",
       "      <td>Hail</td>\n",
       "      <td>19</td>\n",
       "    </tr>\n",
       "    <tr>\n",
       "      <th>30</th>\n",
       "      <td>CO</td>\n",
       "      <td>Hail</td>\n",
       "      <td>68</td>\n",
       "    </tr>\n",
       "  </tbody>\n",
       "</table>\n",
       "</div>"
      ],
      "text/plain": [
       "   State  Type  counts\n",
       "2     AL  Hail      44\n",
       "9     AR  Hail       8\n",
       "16    AZ  Hail       7\n",
       "23    CA  Hail      19\n",
       "30    CO  Hail      68"
      ]
     },
     "execution_count": 127,
     "metadata": {},
     "output_type": "execute_result"
    }
   ],
   "source": [
    "weather_data_State_group_count_Hail.head()"
   ]
  },
  {
   "cell_type": "code",
   "execution_count": 128,
   "metadata": {},
   "outputs": [
    {
     "data": {
      "image/png": "[encoded data removed]",
      "text/plain": [
       "<Figure size 1080x576 with 1 Axes>"
      ]
     },
     "metadata": {
      "needs_background": "light"
     },
     "output_type": "display_data"
    }
   ],
   "source": [
    "plt.figure(figsize= (15,8))\n",
    "plt.bar(x=weather_data_State_group_count_Hail['State'], height=weather_data_State_group_count_Hail['counts'])\n",
    "a = plt.xticks(rotation = 90)\n",
    "plt.title(\"Weather Distribution of hill type for each state\")\n",
    "plt.savefig(\"Weather_Distribution_hill_type_for_each_state.png\")"
   ]
  },
  {
   "cell_type": "code",
   "execution_count": 129,
   "metadata": {},
   "outputs": [],
   "source": [
    "weather_data_State_group_count_Precipitation = weather_data_State_group_count[weather_data_State_group_count.Type == \"Precipitation\"]"
   ]
  },
  {
   "cell_type": "code",
   "execution_count": 130,
   "metadata": {},
   "outputs": [
    {
     "data": {
      "text/html": [
       "<div>\n",
       "<style scoped>\n",
       "    .dataframe tbody tr th:only-of-type {\n",
       "        vertical-align: middle;\n",
       "    }\n",
       "\n",
       "    .dataframe tbody tr th {\n",
       "        vertical-align: top;\n",
       "    }\n",
       "\n",
       "    .dataframe thead th {\n",
       "        text-align: right;\n",
       "    }\n",
       "</style>\n",
       "<table border=\"1\" class=\"dataframe\">\n",
       "  <thead>\n",
       "    <tr style=\"text-align: right;\">\n",
       "      <th></th>\n",
       "      <th>State</th>\n",
       "      <th>Type</th>\n",
       "      <th>counts</th>\n",
       "    </tr>\n",
       "  </thead>\n",
       "  <tbody>\n",
       "    <tr>\n",
       "      <th>3</th>\n",
       "      <td>AL</td>\n",
       "      <td>Precipitation</td>\n",
       "      <td>2575</td>\n",
       "    </tr>\n",
       "    <tr>\n",
       "      <th>10</th>\n",
       "      <td>AR</td>\n",
       "      <td>Precipitation</td>\n",
       "      <td>2453</td>\n",
       "    </tr>\n",
       "    <tr>\n",
       "      <th>17</th>\n",
       "      <td>AZ</td>\n",
       "      <td>Precipitation</td>\n",
       "      <td>249</td>\n",
       "    </tr>\n",
       "    <tr>\n",
       "      <th>24</th>\n",
       "      <td>CA</td>\n",
       "      <td>Precipitation</td>\n",
       "      <td>1390</td>\n",
       "    </tr>\n",
       "    <tr>\n",
       "      <th>31</th>\n",
       "      <td>CO</td>\n",
       "      <td>Precipitation</td>\n",
       "      <td>403</td>\n",
       "    </tr>\n",
       "  </tbody>\n",
       "</table>\n",
       "</div>"
      ],
      "text/plain": [
       "   State           Type  counts\n",
       "3     AL  Precipitation    2575\n",
       "10    AR  Precipitation    2453\n",
       "17    AZ  Precipitation     249\n",
       "24    CA  Precipitation    1390\n",
       "31    CO  Precipitation     403"
      ]
     },
     "execution_count": 130,
     "metadata": {},
     "output_type": "execute_result"
    }
   ],
   "source": [
    "weather_data_State_group_count_Precipitation.head()"
   ]
  },
  {
   "cell_type": "code",
   "execution_count": 131,
   "metadata": {},
   "outputs": [
    {
     "data": {
      "image/png": "[encoded data removed]",
      "text/plain": [
       "<Figure size 1080x576 with 1 Axes>"
      ]
     },
     "metadata": {
      "needs_background": "light"
     },
     "output_type": "display_data"
    }
   ],
   "source": [
    "plt.figure(figsize= (15,8))\n",
    "plt.bar(x=weather_data_State_group_count_Precipitation['State'], height=weather_data_State_group_count_Precipitation['counts'])\n",
    "a = plt.xticks(rotation = 90)\n",
    "plt.title(\"Weather Distribution of Precipitation type for each state\")\n",
    "plt.savefig(\"Weather_Distribution_Precipitation_type_for_each_state.png\")"
   ]
  },
  {
   "cell_type": "code",
   "execution_count": 132,
   "metadata": {},
   "outputs": [],
   "source": [
    "weather_data_State_group_count_Rain = weather_data_State_group_count[weather_data_State_group_count.Type == \"Rain\"]"
   ]
  },
  {
   "cell_type": "code",
   "execution_count": 133,
   "metadata": {},
   "outputs": [
    {
     "data": {
      "text/html": [
       "<div>\n",
       "<style scoped>\n",
       "    .dataframe tbody tr th:only-of-type {\n",
       "        vertical-align: middle;\n",
       "    }\n",
       "\n",
       "    .dataframe tbody tr th {\n",
       "        vertical-align: top;\n",
       "    }\n",
       "\n",
       "    .dataframe thead th {\n",
       "        text-align: right;\n",
       "    }\n",
       "</style>\n",
       "<table border=\"1\" class=\"dataframe\">\n",
       "  <thead>\n",
       "    <tr style=\"text-align: right;\">\n",
       "      <th></th>\n",
       "      <th>State</th>\n",
       "      <th>Type</th>\n",
       "      <th>counts</th>\n",
       "    </tr>\n",
       "  </thead>\n",
       "  <tbody>\n",
       "    <tr>\n",
       "      <th>4</th>\n",
       "      <td>AL</td>\n",
       "      <td>Rain</td>\n",
       "      <td>84746</td>\n",
       "    </tr>\n",
       "    <tr>\n",
       "      <th>11</th>\n",
       "      <td>AR</td>\n",
       "      <td>Rain</td>\n",
       "      <td>63851</td>\n",
       "    </tr>\n",
       "    <tr>\n",
       "      <th>18</th>\n",
       "      <td>AZ</td>\n",
       "      <td>Rain</td>\n",
       "      <td>24273</td>\n",
       "    </tr>\n",
       "    <tr>\n",
       "      <th>25</th>\n",
       "      <td>CA</td>\n",
       "      <td>Rain</td>\n",
       "      <td>94140</td>\n",
       "    </tr>\n",
       "    <tr>\n",
       "      <th>32</th>\n",
       "      <td>CO</td>\n",
       "      <td>Rain</td>\n",
       "      <td>50551</td>\n",
       "    </tr>\n",
       "  </tbody>\n",
       "</table>\n",
       "</div>"
      ],
      "text/plain": [
       "   State  Type  counts\n",
       "4     AL  Rain   84746\n",
       "11    AR  Rain   63851\n",
       "18    AZ  Rain   24273\n",
       "25    CA  Rain   94140\n",
       "32    CO  Rain   50551"
      ]
     },
     "execution_count": 133,
     "metadata": {},
     "output_type": "execute_result"
    }
   ],
   "source": [
    "weather_data_State_group_count_Rain.head()"
   ]
  },
  {
   "cell_type": "code",
   "execution_count": 134,
   "metadata": {},
   "outputs": [
    {
     "data": {
      "image/png": "[encoded data removed]",
      "text/plain": [
       "<Figure size 1080x576 with 1 Axes>"
      ]
     },
     "metadata": {
      "needs_background": "light"
     },
     "output_type": "display_data"
    }
   ],
   "source": [
    "plt.figure(figsize= (15,8))\n",
    "plt.bar(x=weather_data_State_group_count_Rain['State'], height=weather_data_State_group_count_Rain['counts'])\n",
    "a = plt.xticks(rotation = 90)\n",
    "plt.title(\"Weather Distribution of Rain type for each state\")\n",
    "plt.savefig(\"Weather_Distribution_Rain_type_for_each_state.png\")"
   ]
  },
  {
   "cell_type": "code",
   "execution_count": 135,
   "metadata": {},
   "outputs": [],
   "source": [
    "weather_data_State_group_count_Snow = weather_data_State_group_count[weather_data_State_group_count.Type == \"Snow\"]"
   ]
  },
  {
   "cell_type": "code",
   "execution_count": 136,
   "metadata": {},
   "outputs": [
    {
     "data": {
      "text/html": [
       "<div>\n",
       "<style scoped>\n",
       "    .dataframe tbody tr th:only-of-type {\n",
       "        vertical-align: middle;\n",
       "    }\n",
       "\n",
       "    .dataframe tbody tr th {\n",
       "        vertical-align: top;\n",
       "    }\n",
       "\n",
       "    .dataframe thead th {\n",
       "        text-align: right;\n",
       "    }\n",
       "</style>\n",
       "<table border=\"1\" class=\"dataframe\">\n",
       "  <thead>\n",
       "    <tr style=\"text-align: right;\">\n",
       "      <th></th>\n",
       "      <th>State</th>\n",
       "      <th>Type</th>\n",
       "      <th>counts</th>\n",
       "    </tr>\n",
       "  </thead>\n",
       "  <tbody>\n",
       "    <tr>\n",
       "      <th>5</th>\n",
       "      <td>AL</td>\n",
       "      <td>Snow</td>\n",
       "      <td>599</td>\n",
       "    </tr>\n",
       "    <tr>\n",
       "      <th>12</th>\n",
       "      <td>AR</td>\n",
       "      <td>Snow</td>\n",
       "      <td>1471</td>\n",
       "    </tr>\n",
       "    <tr>\n",
       "      <th>19</th>\n",
       "      <td>AZ</td>\n",
       "      <td>Snow</td>\n",
       "      <td>4740</td>\n",
       "    </tr>\n",
       "    <tr>\n",
       "      <th>26</th>\n",
       "      <td>CA</td>\n",
       "      <td>Snow</td>\n",
       "      <td>8592</td>\n",
       "    </tr>\n",
       "    <tr>\n",
       "      <th>33</th>\n",
       "      <td>CO</td>\n",
       "      <td>Snow</td>\n",
       "      <td>37431</td>\n",
       "    </tr>\n",
       "  </tbody>\n",
       "</table>\n",
       "</div>"
      ],
      "text/plain": [
       "   State  Type  counts\n",
       "5     AL  Snow     599\n",
       "12    AR  Snow    1471\n",
       "19    AZ  Snow    4740\n",
       "26    CA  Snow    8592\n",
       "33    CO  Snow   37431"
      ]
     },
     "execution_count": 136,
     "metadata": {},
     "output_type": "execute_result"
    }
   ],
   "source": [
    "weather_data_State_group_count_Snow.head()"
   ]
  },
  {
   "cell_type": "code",
   "execution_count": 137,
   "metadata": {},
   "outputs": [
    {
     "data": {
      "image/png": "[encoded data removed]",
      "text/plain": [
       "<Figure size 1080x576 with 1 Axes>"
      ]
     },
     "metadata": {
      "needs_background": "light"
     },
     "output_type": "display_data"
    }
   ],
   "source": [
    "plt.figure(figsize= (15,8))\n",
    "plt.bar(x=weather_data_State_group_count_Snow['State'], height=weather_data_State_group_count_Snow['counts'])\n",
    "a = plt.xticks(rotation = 90)\n",
    "plt.title(\"Weather Distribution of Snow type for each state\")\n",
    "plt.savefig(\"Weather_Distribution_Snow_type_for_each_state.png\")"
   ]
  },
  {
   "cell_type": "code",
   "execution_count": 138,
   "metadata": {},
   "outputs": [],
   "source": [
    "weather_data_State_group_count_Storm = weather_data_State_group_count[weather_data_State_group_count.Type == \"Storm\"]"
   ]
  },
  {
   "cell_type": "code",
   "execution_count": 139,
   "metadata": {},
   "outputs": [
    {
     "data": {
      "text/html": [
       "<div>\n",
       "<style scoped>\n",
       "    .dataframe tbody tr th:only-of-type {\n",
       "        vertical-align: middle;\n",
       "    }\n",
       "\n",
       "    .dataframe tbody tr th {\n",
       "        vertical-align: top;\n",
       "    }\n",
       "\n",
       "    .dataframe thead th {\n",
       "        text-align: right;\n",
       "    }\n",
       "</style>\n",
       "<table border=\"1\" class=\"dataframe\">\n",
       "  <thead>\n",
       "    <tr style=\"text-align: right;\">\n",
       "      <th></th>\n",
       "      <th>State</th>\n",
       "      <th>Type</th>\n",
       "      <th>counts</th>\n",
       "    </tr>\n",
       "  </thead>\n",
       "  <tbody>\n",
       "    <tr>\n",
       "      <th>6</th>\n",
       "      <td>AL</td>\n",
       "      <td>Storm</td>\n",
       "      <td>57</td>\n",
       "    </tr>\n",
       "    <tr>\n",
       "      <th>13</th>\n",
       "      <td>AR</td>\n",
       "      <td>Storm</td>\n",
       "      <td>104</td>\n",
       "    </tr>\n",
       "    <tr>\n",
       "      <th>20</th>\n",
       "      <td>AZ</td>\n",
       "      <td>Storm</td>\n",
       "      <td>458</td>\n",
       "    </tr>\n",
       "    <tr>\n",
       "      <th>27</th>\n",
       "      <td>CA</td>\n",
       "      <td>Storm</td>\n",
       "      <td>1332</td>\n",
       "    </tr>\n",
       "    <tr>\n",
       "      <th>34</th>\n",
       "      <td>CO</td>\n",
       "      <td>Storm</td>\n",
       "      <td>5986</td>\n",
       "    </tr>\n",
       "  </tbody>\n",
       "</table>\n",
       "</div>"
      ],
      "text/plain": [
       "   State   Type  counts\n",
       "6     AL  Storm      57\n",
       "13    AR  Storm     104\n",
       "20    AZ  Storm     458\n",
       "27    CA  Storm    1332\n",
       "34    CO  Storm    5986"
      ]
     },
     "execution_count": 139,
     "metadata": {},
     "output_type": "execute_result"
    }
   ],
   "source": [
    "weather_data_State_group_count_Storm.head()"
   ]
  },
  {
   "cell_type": "code",
   "execution_count": 140,
   "metadata": {},
   "outputs": [
    {
     "data": {
      "image/png": "[encoded data removed]",
      "text/plain": [
       "<Figure size 1080x576 with 1 Axes>"
      ]
     },
     "metadata": {
      "needs_background": "light"
     },
     "output_type": "display_data"
    }
   ],
   "source": [
    "plt.figure(figsize= (15,8))\n",
    "plt.bar(x=weather_data_State_group_count_Storm['State'], height=weather_data_State_group_count_Storm['counts'])\n",
    "a = plt.xticks(rotation = 90)\n",
    "plt.title(\"Weather Distribution of Strom type for each state\")\n",
    "plt.savefig(\"Weather_Distribution_Strom_type_for_each_state.png\")"
   ]
  },
  {
   "cell_type": "code",
   "execution_count": 141,
   "metadata": {},
   "outputs": [],
   "source": [
    "weather_data_State_group_only = weather_data_State.groupby([\"State\"])"
   ]
  },
  {
   "cell_type": "code",
   "execution_count": 142,
   "metadata": {},
   "outputs": [],
   "source": [
    "weather_data_State_group_only_count = weather_data_State_group_only.size().reset_index(name='counts')"
   ]
  },
  {
   "cell_type": "code",
   "execution_count": 143,
   "metadata": {},
   "outputs": [
    {
     "data": {
      "text/html": [
       "<div>\n",
       "<style scoped>\n",
       "    .dataframe tbody tr th:only-of-type {\n",
       "        vertical-align: middle;\n",
       "    }\n",
       "\n",
       "    .dataframe tbody tr th {\n",
       "        vertical-align: top;\n",
       "    }\n",
       "\n",
       "    .dataframe thead th {\n",
       "        text-align: right;\n",
       "    }\n",
       "</style>\n",
       "<table border=\"1\" class=\"dataframe\">\n",
       "  <thead>\n",
       "    <tr style=\"text-align: right;\">\n",
       "      <th></th>\n",
       "      <th>State</th>\n",
       "      <th>counts</th>\n",
       "    </tr>\n",
       "  </thead>\n",
       "  <tbody>\n",
       "    <tr>\n",
       "      <th>0</th>\n",
       "      <td>AL</td>\n",
       "      <td>113368</td>\n",
       "    </tr>\n",
       "    <tr>\n",
       "      <th>1</th>\n",
       "      <td>AR</td>\n",
       "      <td>90311</td>\n",
       "    </tr>\n",
       "    <tr>\n",
       "      <th>2</th>\n",
       "      <td>AZ</td>\n",
       "      <td>37057</td>\n",
       "    </tr>\n",
       "    <tr>\n",
       "      <th>3</th>\n",
       "      <td>CA</td>\n",
       "      <td>198640</td>\n",
       "    </tr>\n",
       "    <tr>\n",
       "      <th>4</th>\n",
       "      <td>CO</td>\n",
       "      <td>118472</td>\n",
       "    </tr>\n",
       "  </tbody>\n",
       "</table>\n",
       "</div>"
      ],
      "text/plain": [
       "  State  counts\n",
       "0    AL  113368\n",
       "1    AR   90311\n",
       "2    AZ   37057\n",
       "3    CA  198640\n",
       "4    CO  118472"
      ]
     },
     "execution_count": 143,
     "metadata": {},
     "output_type": "execute_result"
    }
   ],
   "source": [
    "weather_data_State_group_only_count.head()"
   ]
  },
  {
   "cell_type": "code",
   "execution_count": 144,
   "metadata": {},
   "outputs": [
    {
     "data": {
      "image/png": "[encoded data removed]",
      "text/plain": [
       "<Figure size 1080x576 with 1 Axes>"
      ]
     },
     "metadata": {
      "needs_background": "light"
     },
     "output_type": "display_data"
    }
   ],
   "source": [
    "plt.figure(figsize= (15,8))\n",
    "plt.bar(x=weather_data_State_group_only_count['State'], height=weather_data_State_group_only_count['counts'])\n",
    "a = plt.xticks(rotation = 90)\n",
    "plt.title(\"Weather Distribution for each state\")\n",
    "plt.savefig(\"Weather_Distribution_for_each_state.png\")"
   ]
  },
  {
   "cell_type": "code",
   "execution_count": null,
   "metadata": {},
   "outputs": [],
   "source": []
  },
  {
   "cell_type": "code",
   "execution_count": null,
   "metadata": {},
   "outputs": [],
   "source": []
  },
  {
   "cell_type": "code",
   "execution_count": 104,
   "metadata": {},
   "outputs": [],
   "source": [
    "df_state_count_sorted_weather = df_state_count_sorted.set_index('State').join(weather_data_State.set_index('State'))"
   ]
  },
  {
   "cell_type": "code",
   "execution_count": 105,
   "metadata": {},
   "outputs": [
    {
     "data": {
      "text/html": [
       "<div>\n",
       "<style scoped>\n",
       "    .dataframe tbody tr th:only-of-type {\n",
       "        vertical-align: middle;\n",
       "    }\n",
       "\n",
       "    .dataframe tbody tr th {\n",
       "        vertical-align: top;\n",
       "    }\n",
       "\n",
       "    .dataframe thead th {\n",
       "        text-align: right;\n",
       "    }\n",
       "</style>\n",
       "<table border=\"1\" class=\"dataframe\">\n",
       "  <thead>\n",
       "    <tr style=\"text-align: right;\">\n",
       "      <th></th>\n",
       "      <th>counts</th>\n",
       "      <th>Type</th>\n",
       "      <th>AirportCode</th>\n",
       "      <th>City</th>\n",
       "    </tr>\n",
       "    <tr>\n",
       "      <th>State</th>\n",
       "      <th></th>\n",
       "      <th></th>\n",
       "      <th></th>\n",
       "      <th></th>\n",
       "    </tr>\n",
       "  </thead>\n",
       "  <tbody>\n",
       "    <tr>\n",
       "      <th>AL</th>\n",
       "      <td>7541</td>\n",
       "      <td>Rain</td>\n",
       "      <td>K0J4</td>\n",
       "      <td>Florala</td>\n",
       "    </tr>\n",
       "    <tr>\n",
       "      <th>AL</th>\n",
       "      <td>7541</td>\n",
       "      <td>Rain</td>\n",
       "      <td>K0J4</td>\n",
       "      <td>Florala</td>\n",
       "    </tr>\n",
       "    <tr>\n",
       "      <th>AL</th>\n",
       "      <td>7541</td>\n",
       "      <td>Rain</td>\n",
       "      <td>K0J4</td>\n",
       "      <td>Florala</td>\n",
       "    </tr>\n",
       "    <tr>\n",
       "      <th>AL</th>\n",
       "      <td>7541</td>\n",
       "      <td>Rain</td>\n",
       "      <td>K0J4</td>\n",
       "      <td>Florala</td>\n",
       "    </tr>\n",
       "    <tr>\n",
       "      <th>AL</th>\n",
       "      <td>7541</td>\n",
       "      <td>Rain</td>\n",
       "      <td>K0J4</td>\n",
       "      <td>Florala</td>\n",
       "    </tr>\n",
       "  </tbody>\n",
       "</table>\n",
       "</div>"
      ],
      "text/plain": [
       "       counts  Type AirportCode     City\n",
       "State                                   \n",
       "AL       7541  Rain        K0J4  Florala\n",
       "AL       7541  Rain        K0J4  Florala\n",
       "AL       7541  Rain        K0J4  Florala\n",
       "AL       7541  Rain        K0J4  Florala\n",
       "AL       7541  Rain        K0J4  Florala"
      ]
     },
     "execution_count": 105,
     "metadata": {},
     "output_type": "execute_result"
    }
   ],
   "source": [
    "df_state_count_sorted_weather.head()"
   ]
  },
  {
   "cell_type": "code",
   "execution_count": null,
   "metadata": {},
   "outputs": [],
   "source": []
  }
 ],
 "metadata": {
  "kernelspec": {
   "display_name": "Python 3",
   "language": "python",
   "name": "python3"
  },
  "language_info": {
   "codemirror_mode": {
    "name": "ipython",
    "version": 3
   },
   "file_extension": ".py",
   "mimetype": "text/x-python",
   "name": "python",
   "nbconvert_exporter": "python",
   "pygments_lexer": "ipython3",
   "version": "3.8.2"
  }
 },
 "nbformat": 4,
 "nbformat_minor": 4
}
