{
 "cells": [
  {
   "cell_type": "code",
   "execution_count": null,
   "metadata": {},
   "outputs": [],
   "source": [
    "import gmplot\n",
    "import pandas as pd\n",
    "import requests \n",
    "import os\n",
    "import math\n",
    "from xml.etree.ElementTree import fromstring, ElementTree\n",
    "from datetime import datetime\n",
    "import json\n",
    "import statistics \n",
    "from collections import Counter\n",
    "import random\n",
    "import matplotlib.pyplot as plt\n",
    "import seaborn as sns"
   ]
  },
  {
   "cell_type": "code",
   "execution_count": null,
   "metadata": {},
   "outputs": [],
   "source": [
    "TrafficEvents = None\n",
    "\n",
    "chunk_size = 1000\n",
    "\n",
    "BASE_PATH = \"/home/amin/CETI/RoadConstruction/TrafficEventData/part/speeds/speed_\"\n",
    "    \n",
    "index_folder = 0\n",
    "index_start_point_file = 0\n",
    "index_end_point_file = 411"
   ]
  },
  {
   "cell_type": "code",
   "execution_count": null,
   "metadata": {},
   "outputs": [],
   "source": [
    "def read_data(path):\n",
    "    data = None\n",
    "    data = pd.read_csv(path)\n",
    "    return data"
   ]
  },
  {
   "cell_type": "code",
   "execution_count": null,
   "metadata": {},
   "outputs": [],
   "source": [
    "def read_part_data(folder_id, index_start, index_end):\n",
    "    df = None\n",
    "    print(\"start time is {}\".format(datetime.now()))\n",
    "    for i in range(index_start, index_end):\n",
    "        type_of_ways_all_points = []\n",
    "        path = BASE_PATH + str(folder_id) + \"/\" + str(i) + \"_file_\"+ str(i) + \".csv\"\n",
    "\n",
    "        data = read_data(path)\n",
    "        df = data.append(df, ignore_index = True)\n",
    "    print(\"end time is {}\".format(datetime.now()))\n",
    "    return df"
   ]
  },
  {
   "cell_type": "code",
   "execution_count": null,
   "metadata": {},
   "outputs": [],
   "source": [
    "df = None\n",
    "for i in range(0,9):\n",
    "    print(i)\n",
    "    data = read_part_data(i, 0, 411)\n",
    "    df = data.append(df, ignore_index = True)\n",
    "print(9)\n",
    "data = read_part_data(9, 0, 393)\n",
    "df = data.append(df, ignore_index = True)"
   ]
  },
  {
   "cell_type": "code",
   "execution_count": null,
   "metadata": {},
   "outputs": [],
   "source": [
    "df.head(10)"
   ]
  },
  {
   "cell_type": "code",
   "execution_count": null,
   "metadata": {},
   "outputs": [],
   "source": [
    "df.shape"
   ]
  },
  {
   "cell_type": "code",
   "execution_count": null,
   "metadata": {},
   "outputs": [],
   "source": [
    "pois = [\"Amenity\", \"Bump\", \"Crossing\", \"Entrance\", \"Give_Way\", \"Junction\", \"Noexit\", \"Railway\", \"Roundabout\",\"Station\", \"Stop\", \"Traffic_Calming\", \"Traffic_Signal\", \"Turning_Circle\", \"Turning_Loop\"]"
   ]
  },
  {
   "cell_type": "code",
   "execution_count": null,
   "metadata": {},
   "outputs": [],
   "source": [
    "filters = ['City', \"Id\", \"Source\", \"State\"]"
   ]
  },
  {
   "cell_type": "code",
   "execution_count": null,
   "metadata": {},
   "outputs": [],
   "source": [
    "filters.extend(pois)"
   ]
  },
  {
   "cell_type": "code",
   "execution_count": null,
   "metadata": {},
   "outputs": [],
   "source": [
    "df_filter = df.loc[:, df.columns.intersection(filters)]"
   ]
  },
  {
   "cell_type": "code",
   "execution_count": null,
   "metadata": {},
   "outputs": [],
   "source": [
    "df_filter.head()"
   ]
  },
  {
   "cell_type": "code",
   "execution_count": null,
   "metadata": {},
   "outputs": [],
   "source": [
    "df_city_state_group = df_filter.groupby([\"City\", \"State\"])"
   ]
  },
  {
   "cell_type": "code",
   "execution_count": null,
   "metadata": {},
   "outputs": [],
   "source": [
    "df_city_state_group_count = df_city_state_group.size().reset_index(name='counts')"
   ]
  },
  {
   "cell_type": "code",
   "execution_count": null,
   "metadata": {},
   "outputs": [],
   "source": [
    "df_city_group = df_filter.groupby([\"City\"])"
   ]
  },
  {
   "cell_type": "code",
   "execution_count": null,
   "metadata": {},
   "outputs": [],
   "source": [
    "df_city_group_count = df_city_group.size().reset_index(name='counts')"
   ]
  },
  {
   "cell_type": "code",
   "execution_count": null,
   "metadata": {},
   "outputs": [],
   "source": [
    "df_state_group = df_filter.groupby([\"State\"])"
   ]
  },
  {
   "cell_type": "code",
   "execution_count": null,
   "metadata": {},
   "outputs": [],
   "source": [
    "df_state_group_count = df_state_group.size().reset_index(name='counts')"
   ]
  },
  {
   "cell_type": "code",
   "execution_count": null,
   "metadata": {},
   "outputs": [],
   "source": [
    "df_city_state_group_count.head()"
   ]
  },
  {
   "cell_type": "code",
   "execution_count": null,
   "metadata": {},
   "outputs": [],
   "source": [
    "df_city_group_count.head()"
   ]
  },
  {
   "cell_type": "code",
   "execution_count": null,
   "metadata": {},
   "outputs": [],
   "source": [
    "df_city_state_group_count.head()"
   ]
  },
  {
   "cell_type": "code",
   "execution_count": null,
   "metadata": {},
   "outputs": [],
   "source": [
    "df_filter_group = df_filter.groupby(filters)"
   ]
  },
  {
   "cell_type": "code",
   "execution_count": null,
   "metadata": {},
   "outputs": [],
   "source": [
    "df_filter_group_count = df_filter_group.size().reset_index(name='counts')"
   ]
  },
  {
   "cell_type": "code",
   "execution_count": null,
   "metadata": {},
   "outputs": [],
   "source": [
    "df_filter_group_count.head()"
   ]
  },
  {
   "cell_type": "code",
   "execution_count": null,
   "metadata": {},
   "outputs": [],
   "source": [
    "df_filter_true_poi = df_filter[(df_filter[\"Amenity\"] == True) |\n",
    "                               (df_filter[\"Bump\"] == True) |\n",
    "                               (df_filter[\"Crossing\"] == True) |\n",
    "                               (df_filter[\"Entrance\"]== True) |\n",
    "                               (df_filter[\"Give_Way\"] == True) |\n",
    "                               (df_filter[\"Junction\"] == True) |\n",
    "                               (df_filter[\"Noexit\"] == True) |\n",
    "                               (df_filter[\"Railway\"] == True) |\n",
    "                               (df_filter[\"Roundabout\"] == True) |\n",
    "                               (df_filter[\"Station\"] == True) |\n",
    "                               (df_filter[\"Stop\"] == True) |\n",
    "                               (df_filter[\"Traffic_Calming\"] == True) |\n",
    "                               (df_filter[\"Traffic_Signal\"] == True) |\n",
    "                               (df_filter[\"Turning_Circle\"] == True) | \n",
    "                               (df_filter[\"Turning_Loop\"] == True)]"
   ]
  },
  {
   "cell_type": "code",
   "execution_count": null,
   "metadata": {},
   "outputs": [],
   "source": [
    "df_filter_true_poi.head()"
   ]
  },
  {
   "cell_type": "code",
   "execution_count": null,
   "metadata": {},
   "outputs": [],
   "source": [
    "df_filter_true_poi.shape"
   ]
  },
  {
   "cell_type": "code",
   "execution_count": null,
   "metadata": {},
   "outputs": [],
   "source": [
    "df_filter_true_poi_Source = df_filter_true_poi.groupby([\"Source\"])"
   ]
  },
  {
   "cell_type": "code",
   "execution_count": null,
   "metadata": {},
   "outputs": [],
   "source": [
    "df_filter_true_poi_Source_count = df_filter_true_poi_Source.size().reset_index(name='counts')"
   ]
  },
  {
   "cell_type": "code",
   "execution_count": null,
   "metadata": {},
   "outputs": [],
   "source": [
    "df_filter_true_poi_Source_count.head()"
   ]
  },
  {
   "cell_type": "code",
   "execution_count": null,
   "metadata": {},
   "outputs": [],
   "source": [
    "plt.figure(figsize= (15,8))\n",
    "plt.bar(x=df_filter_true_poi_Source_count['Source'], height=df_filter_true_poi_Source_count['counts'])\n",
    "a = plt.xticks(rotation = 90)\n",
    "plt.title(\"Number of Construction that have at least a POI with different sources\")\n",
    "plt.savefig(\"Number_Construction_have_least_POI_different_sources.png\")"
   ]
  },
  {
   "cell_type": "code",
   "execution_count": null,
   "metadata": {},
   "outputs": [],
   "source": [
    "df_filter_true_poi.head()"
   ]
  },
  {
   "cell_type": "code",
   "execution_count": null,
   "metadata": {},
   "outputs": [],
   "source": [
    "df_filter_true_poi_State = df_filter_true_poi.groupby([\"State\"])"
   ]
  },
  {
   "cell_type": "code",
   "execution_count": null,
   "metadata": {},
   "outputs": [],
   "source": [
    "df_filter_true_poi_State_count = df_filter_true_poi_State.size().reset_index(name = \"counts\")"
   ]
  },
  {
   "cell_type": "code",
   "execution_count": null,
   "metadata": {},
   "outputs": [],
   "source": [
    "df_filter_true_poi_State_count.head()"
   ]
  },
  {
   "cell_type": "code",
   "execution_count": null,
   "metadata": {},
   "outputs": [],
   "source": [
    "plt.figure(figsize= (15,8))\n",
    "plt.bar(x=df_filter_true_poi_State_count['State'], height=df_filter_true_poi_State_count['counts'])\n",
    "a = plt.xticks(rotation = 90)\n",
    "plt.title(\"Number of Construction in each state that have at least a POI\")\n",
    "plt.savefig(\"Number_Construction_each_state_that_have_least_POI.png\")"
   ]
  },
  {
   "cell_type": "code",
   "execution_count": null,
   "metadata": {},
   "outputs": [],
   "source": [
    "df_filter_true_poi.head()"
   ]
  },
  {
   "cell_type": "code",
   "execution_count": null,
   "metadata": {},
   "outputs": [],
   "source": [
    "df_filter_true_poi_state_amenity = df_filter_true_poi[df_filter_true_poi[\"Amenity\"] == True].groupby([\"State\", \"Amenity\"])"
   ]
  },
  {
   "cell_type": "code",
   "execution_count": null,
   "metadata": {},
   "outputs": [],
   "source": [
    "df_filter_true_poi_state_amenity_count = df_filter_true_poi_state_amenity.size().reset_index(name = \"counts\")"
   ]
  },
  {
   "cell_type": "code",
   "execution_count": null,
   "metadata": {},
   "outputs": [],
   "source": [
    "df_filter_true_poi_state_amenity_count.head()"
   ]
  },
  {
   "cell_type": "code",
   "execution_count": null,
   "metadata": {},
   "outputs": [],
   "source": [
    "plt.figure(figsize= (15,8))\n",
    "plt.bar(x=df_filter_true_poi_state_amenity_count['State'], height=df_filter_true_poi_state_amenity_count['counts'])\n",
    "a = plt.xticks(rotation = 90)\n",
    "plt.title(\"Number of Construction in each state with Amenity POI\")\n",
    "plt.savefig(\"Number_Construction_each_state_with_Amenity_POI.png\")"
   ]
  },
  {
   "cell_type": "code",
   "execution_count": null,
   "metadata": {},
   "outputs": [],
   "source": [
    "df_filter_true_poi.head()"
   ]
  },
  {
   "cell_type": "code",
   "execution_count": null,
   "metadata": {},
   "outputs": [],
   "source": [
    "df_filter_true_poi_state_Bump = df_filter_true_poi[df_filter_true_poi[\"Bump\"] == True].groupby([\"State\", \"Bump\"])"
   ]
  },
  {
   "cell_type": "code",
   "execution_count": null,
   "metadata": {},
   "outputs": [],
   "source": [
    "df_filter_true_poi_state_Bump_count = df_filter_true_poi_state_Bump.size().reset_index(name = \"counts\")"
   ]
  },
  {
   "cell_type": "code",
   "execution_count": null,
   "metadata": {},
   "outputs": [],
   "source": [
    "df_filter_true_poi_state_Bump_count.head()"
   ]
  },
  {
   "cell_type": "code",
   "execution_count": null,
   "metadata": {},
   "outputs": [],
   "source": [
    "plt.figure(figsize= (15,8))\n",
    "plt.bar(x=df_filter_true_poi_state_Bump_count['State'], height=df_filter_true_poi_state_Bump_count['counts'])\n",
    "a = plt.xticks(rotation = 90)\n",
    "plt.title(\"Number of Construction in each state with Bump POI\")\n",
    "plt.savefig(\"Number_Construction_each_state_with_Bump_POI.png\")"
   ]
  },
  {
   "cell_type": "code",
   "execution_count": null,
   "metadata": {},
   "outputs": [],
   "source": [
    "df_filter_true_poi.head()"
   ]
  },
  {
   "cell_type": "code",
   "execution_count": null,
   "metadata": {},
   "outputs": [],
   "source": [
    "df_filter_true_poi_state_Crossing = df_filter_true_poi[df_filter_true_poi[\"Crossing\"] == True].groupby([\"State\", \"Crossing\"])"
   ]
  },
  {
   "cell_type": "code",
   "execution_count": null,
   "metadata": {},
   "outputs": [],
   "source": [
    "df_filter_true_poi_state_Crossing_count = df_filter_true_poi_state_Crossing.size().reset_index(name = \"counts\")"
   ]
  },
  {
   "cell_type": "code",
   "execution_count": null,
   "metadata": {},
   "outputs": [],
   "source": [
    "df_filter_true_poi_state_Crossing_count.head()"
   ]
  },
  {
   "cell_type": "code",
   "execution_count": null,
   "metadata": {},
   "outputs": [],
   "source": [
    "plt.figure(figsize= (15,8))\n",
    "plt.bar(x=df_filter_true_poi_state_Crossing_count['State'], height=df_filter_true_poi_state_Crossing_count['counts'])\n",
    "a = plt.xticks(rotation = 90)\n",
    "plt.title(\"Number of Construction in each state with Crossing POI\")\n",
    "plt.savefig(\"Number_Construction_each_state_with_Crossing_POI.png\")"
   ]
  },
  {
   "cell_type": "code",
   "execution_count": null,
   "metadata": {},
   "outputs": [],
   "source": [
    "df_filter_true_poi.head()"
   ]
  },
  {
   "cell_type": "code",
   "execution_count": null,
   "metadata": {},
   "outputs": [],
   "source": [
    "df_filter_true_poi_state_Entrance = df_filter_true_poi[df_filter_true_poi[\"Entrance\"] == True].groupby([\"State\", \"Entrance\"])"
   ]
  },
  {
   "cell_type": "code",
   "execution_count": null,
   "metadata": {},
   "outputs": [],
   "source": [
    "df_filter_true_poi_state_Entrance_count = df_filter_true_poi_state_Entrance.size().reset_index(name = \"counts\")"
   ]
  },
  {
   "cell_type": "code",
   "execution_count": null,
   "metadata": {},
   "outputs": [],
   "source": [
    "df_filter_true_poi_state_Entrance_count.head()"
   ]
  },
  {
   "cell_type": "code",
   "execution_count": null,
   "metadata": {},
   "outputs": [],
   "source": [
    "plt.figure(figsize= (15,8))\n",
    "plt.bar(x=df_filter_true_poi_state_Entrance_count['State'], height=df_filter_true_poi_state_Entrance_count['counts'])\n",
    "a = plt.xticks(rotation = 90)\n",
    "plt.title(\"Number of Construction in each state with Entrance POI\")\n",
    "plt.savefig(\"Number_Construction_each_state_with_Entrance_POI.png\")"
   ]
  },
  {
   "cell_type": "code",
   "execution_count": null,
   "metadata": {},
   "outputs": [],
   "source": [
    "df_filter_true_poi.head()"
   ]
  },
  {
   "cell_type": "code",
   "execution_count": null,
   "metadata": {},
   "outputs": [],
   "source": [
    "df_filter_true_poi_state_Give_Way = df_filter_true_poi[df_filter_true_poi[\"Give_Way\"] == True].groupby([\"State\", \"Give_Way\"])"
   ]
  },
  {
   "cell_type": "code",
   "execution_count": null,
   "metadata": {},
   "outputs": [],
   "source": [
    "df_filter_true_poi_state_Give_Way_count = df_filter_true_poi_state_Give_Way.size().reset_index(name = \"counts\")"
   ]
  },
  {
   "cell_type": "code",
   "execution_count": null,
   "metadata": {},
   "outputs": [],
   "source": [
    "df_filter_true_poi_state_Give_Way_count.head()"
   ]
  },
  {
   "cell_type": "code",
   "execution_count": null,
   "metadata": {},
   "outputs": [],
   "source": [
    "plt.figure(figsize= (15,8))\n",
    "plt.bar(x=df_filter_true_poi_state_Give_Way_count['State'], height=df_filter_true_poi_state_Give_Way_count['counts'])\n",
    "a = plt.xticks(rotation = 90)\n",
    "plt.title(\"Number of Construction in each state with Give_Way POI\")\n",
    "plt.savefig(\"Number_Construction_each_state_with_Give_Way_POI.png\")"
   ]
  },
  {
   "cell_type": "code",
   "execution_count": null,
   "metadata": {},
   "outputs": [],
   "source": [
    "df_filter_true_poi.head()"
   ]
  },
  {
   "cell_type": "code",
   "execution_count": null,
   "metadata": {},
   "outputs": [],
   "source": [
    "df_filter_true_poi_state_Junction = df_filter_true_poi[df_filter_true_poi[\"Junction\"] == True].groupby([\"State\", \"Junction\"])"
   ]
  },
  {
   "cell_type": "code",
   "execution_count": null,
   "metadata": {},
   "outputs": [],
   "source": [
    "df_filter_true_poi_state_Junction_count = df_filter_true_poi_state_Junction.size().reset_index(name = \"counts\")"
   ]
  },
  {
   "cell_type": "code",
   "execution_count": null,
   "metadata": {},
   "outputs": [],
   "source": [
    "df_filter_true_poi_state_Junction_count.head()"
   ]
  },
  {
   "cell_type": "code",
   "execution_count": null,
   "metadata": {},
   "outputs": [],
   "source": [
    "plt.figure(figsize= (15,8))\n",
    "plt.bar(x=df_filter_true_poi_state_Junction_count['State'], height=df_filter_true_poi_state_Junction_count['counts'])\n",
    "a = plt.xticks(rotation = 90)\n",
    "plt.title(\"Number of Construction in each state with Junction POI\")\n",
    "plt.savefig(\"Number_Construction_each_state_with_Junction_POI.png\")"
   ]
  },
  {
   "cell_type": "code",
   "execution_count": null,
   "metadata": {},
   "outputs": [],
   "source": [
    "df_filter_true_poi.head()"
   ]
  },
  {
   "cell_type": "code",
   "execution_count": null,
   "metadata": {},
   "outputs": [],
   "source": [
    "df_filter_true_poi_state_Noexit = df_filter_true_poi[df_filter_true_poi[\"Noexit\"] == True].groupby([\"State\", \"Noexit\"])"
   ]
  },
  {
   "cell_type": "code",
   "execution_count": null,
   "metadata": {},
   "outputs": [],
   "source": [
    "df_filter_true_poi_state_Noexit_count = df_filter_true_poi_state_Noexit.size().reset_index(name = \"counts\")"
   ]
  },
  {
   "cell_type": "code",
   "execution_count": null,
   "metadata": {},
   "outputs": [],
   "source": [
    "df_filter_true_poi_state_Noexit_count.head()"
   ]
  },
  {
   "cell_type": "code",
   "execution_count": null,
   "metadata": {},
   "outputs": [],
   "source": [
    "plt.figure(figsize= (15,8))\n",
    "plt.bar(x=df_filter_true_poi_state_Noexit_count['State'], height=df_filter_true_poi_state_Noexit_count['counts'])\n",
    "a = plt.xticks(rotation = 90)\n",
    "plt.title(\"Number of Construction in each state with Noexit POI\")\n",
    "plt.savefig(\"Number_Construction_each_state_with_Noexit_POI.png\")"
   ]
  },
  {
   "cell_type": "code",
   "execution_count": null,
   "metadata": {},
   "outputs": [],
   "source": [
    "df_filter_true_poi.head()"
   ]
  },
  {
   "cell_type": "code",
   "execution_count": null,
   "metadata": {},
   "outputs": [],
   "source": [
    "df_filter_true_poi_state_Railway = df_filter_true_poi[df_filter_true_poi[\"Railway\"] == True].groupby([\"State\", \"Railway\"])"
   ]
  },
  {
   "cell_type": "code",
   "execution_count": null,
   "metadata": {},
   "outputs": [],
   "source": [
    "df_filter_true_poi_state_Railway_count = df_filter_true_poi_state_Railway.size().reset_index(name = \"counts\")"
   ]
  },
  {
   "cell_type": "code",
   "execution_count": null,
   "metadata": {},
   "outputs": [],
   "source": [
    "df_filter_true_poi_state_Railway_count.head()"
   ]
  },
  {
   "cell_type": "code",
   "execution_count": null,
   "metadata": {},
   "outputs": [],
   "source": [
    "plt.figure(figsize= (15,8))\n",
    "plt.bar(x=df_filter_true_poi_state_Railway_count['State'], height=df_filter_true_poi_state_Railway_count['counts'])\n",
    "a = plt.xticks(rotation = 90)\n",
    "plt.title(\"Number of Construction in each state with Railway POI\")\n",
    "plt.savefig(\"Number_Construction_each_state_with_Railway_POI.png\")"
   ]
  },
  {
   "cell_type": "code",
   "execution_count": null,
   "metadata": {},
   "outputs": [],
   "source": [
    "df_filter_true_poi.head()"
   ]
  },
  {
   "cell_type": "code",
   "execution_count": null,
   "metadata": {},
   "outputs": [],
   "source": [
    "df_filter_true_poi_state_Roundabout = df_filter_true_poi[df_filter_true_poi[\"Roundabout\"] == True].groupby([\"State\", \"Roundabout\"])"
   ]
  },
  {
   "cell_type": "code",
   "execution_count": null,
   "metadata": {},
   "outputs": [],
   "source": [
    "df_filter_true_poi_state_Roundabout_count = df_filter_true_poi_state_Roundabout.size().reset_index(name = \"counts\")"
   ]
  },
  {
   "cell_type": "code",
   "execution_count": null,
   "metadata": {},
   "outputs": [],
   "source": [
    "df_filter_true_poi_state_Roundabout_count.head()"
   ]
  },
  {
   "cell_type": "code",
   "execution_count": null,
   "metadata": {},
   "outputs": [],
   "source": [
    "plt.figure(figsize= (15,8))\n",
    "plt.bar(x=df_filter_true_poi_state_Roundabout_count['State'], height=df_filter_true_poi_state_Roundabout_count['counts'])\n",
    "a = plt.xticks(rotation = 90)\n",
    "plt.title(\"Number of Construction in each state with Roundabout POI\")\n",
    "plt.savefig(\"Number_Construction_each_state_with_Roundabout_POI.png\")"
   ]
  },
  {
   "cell_type": "code",
   "execution_count": null,
   "metadata": {},
   "outputs": [],
   "source": [
    "df_filter_true_poi.head()"
   ]
  },
  {
   "cell_type": "code",
   "execution_count": null,
   "metadata": {},
   "outputs": [],
   "source": [
    "df_filter_true_poi_state_Station = df_filter_true_poi[df_filter_true_poi[\"Station\"] == True].groupby([\"State\", \"Station\"])"
   ]
  },
  {
   "cell_type": "code",
   "execution_count": null,
   "metadata": {},
   "outputs": [],
   "source": [
    "df_filter_true_poi_state_Station_count = df_filter_true_poi_state_Station.size().reset_index(name = \"counts\")"
   ]
  },
  {
   "cell_type": "code",
   "execution_count": null,
   "metadata": {},
   "outputs": [],
   "source": [
    "df_filter_true_poi_state_Station_count.head()"
   ]
  },
  {
   "cell_type": "code",
   "execution_count": null,
   "metadata": {},
   "outputs": [],
   "source": [
    "plt.figure(figsize= (15,8))\n",
    "plt.bar(x=df_filter_true_poi_state_Station_count['State'], height=df_filter_true_poi_state_Station_count['counts'])\n",
    "a = plt.xticks(rotation = 90)\n",
    "plt.title(\"Number of Construction in each state with Station POI\")\n",
    "plt.savefig(\"Number_Construction_each_state_with_Station_POI.png\")"
   ]
  },
  {
   "cell_type": "code",
   "execution_count": null,
   "metadata": {},
   "outputs": [],
   "source": [
    "df_filter_true_poi.head()"
   ]
  },
  {
   "cell_type": "code",
   "execution_count": null,
   "metadata": {},
   "outputs": [],
   "source": [
    "df_filter_true_poi_state_Stop = df_filter_true_poi[df_filter_true_poi[\"Stop\"] == True].groupby([\"State\", \"Stop\"])"
   ]
  },
  {
   "cell_type": "code",
   "execution_count": null,
   "metadata": {},
   "outputs": [],
   "source": [
    "df_filter_true_poi_state_Stop_count = df_filter_true_poi_state_Stop.size().reset_index(name = \"counts\")"
   ]
  },
  {
   "cell_type": "code",
   "execution_count": null,
   "metadata": {},
   "outputs": [],
   "source": [
    "df_filter_true_poi_state_Stop_count.head()"
   ]
  },
  {
   "cell_type": "code",
   "execution_count": null,
   "metadata": {},
   "outputs": [],
   "source": [
    "plt.figure(figsize= (15,8))\n",
    "plt.bar(x=df_filter_true_poi_state_Stop_count['State'], height=df_filter_true_poi_state_Stop_count['counts'])\n",
    "a = plt.xticks(rotation = 90)\n",
    "plt.title(\"Number of Construction in each state with Stop POI\")\n",
    "plt.savefig(\"Number_Construction_each_state_with_Stop_POI.png\")"
   ]
  },
  {
   "cell_type": "code",
   "execution_count": null,
   "metadata": {},
   "outputs": [],
   "source": [
    "df_filter_true_poi.head()"
   ]
  },
  {
   "cell_type": "code",
   "execution_count": null,
   "metadata": {},
   "outputs": [],
   "source": [
    "df_filter_true_poi_state_Traffic_Calming = df_filter_true_poi[df_filter_true_poi[\"Traffic_Calming\"] == True].groupby([\"State\", \"Traffic_Calming\"])"
   ]
  },
  {
   "cell_type": "code",
   "execution_count": null,
   "metadata": {},
   "outputs": [],
   "source": [
    "df_filter_true_poi_state_Traffic_Calming_count = df_filter_true_poi_state_Traffic_Calming.size().reset_index(name = \"counts\")"
   ]
  },
  {
   "cell_type": "code",
   "execution_count": null,
   "metadata": {},
   "outputs": [],
   "source": [
    "df_filter_true_poi_state_Traffic_Calming_count.head()"
   ]
  },
  {
   "cell_type": "code",
   "execution_count": null,
   "metadata": {},
   "outputs": [],
   "source": [
    "plt.figure(figsize= (15,8))\n",
    "plt.bar(x=df_filter_true_poi_state_Traffic_Calming_count['State'], height=df_filter_true_poi_state_Traffic_Calming_count['counts'])\n",
    "a = plt.xticks(rotation = 90)\n",
    "plt.title(\"Number of Construction in each state with Traffic_Calming POI\")\n",
    "plt.savefig(\"Number_Construction_each_state_with_Traffic_Calming_POI.png\")"
   ]
  },
  {
   "cell_type": "code",
   "execution_count": null,
   "metadata": {},
   "outputs": [],
   "source": [
    "df_filter_true_poi.head()"
   ]
  },
  {
   "cell_type": "code",
   "execution_count": null,
   "metadata": {},
   "outputs": [],
   "source": [
    "df_filter_true_poi_state_Traffic_Signal = df_filter_true_poi[df_filter_true_poi[\"Traffic_Signal\"] == True].groupby([\"State\", \"Traffic_Signal\"])"
   ]
  },
  {
   "cell_type": "code",
   "execution_count": null,
   "metadata": {},
   "outputs": [],
   "source": [
    "df_filter_true_poi_state_Traffic_Signal_count = df_filter_true_poi_state_Traffic_Signal.size().reset_index(name = \"counts\")"
   ]
  },
  {
   "cell_type": "code",
   "execution_count": null,
   "metadata": {},
   "outputs": [],
   "source": [
    "df_filter_true_poi_state_Traffic_Signal_count.head()"
   ]
  },
  {
   "cell_type": "code",
   "execution_count": null,
   "metadata": {},
   "outputs": [],
   "source": [
    "plt.figure(figsize= (15,8))\n",
    "plt.bar(x=df_filter_true_poi_state_Traffic_Signal_count['State'], height=df_filter_true_poi_state_Traffic_Signal_count['counts'])\n",
    "a = plt.xticks(rotation = 90)\n",
    "plt.title(\"Number of Construction in each state with Traffic_Signal POI\")\n",
    "plt.savefig(\"Number_Construction_each_state_with_Traffic_Signal_POI.png\")"
   ]
  },
  {
   "cell_type": "code",
   "execution_count": null,
   "metadata": {},
   "outputs": [],
   "source": [
    "df_filter_true_poi.head()"
   ]
  },
  {
   "cell_type": "code",
   "execution_count": null,
   "metadata": {},
   "outputs": [],
   "source": [
    "df_filter_true_poi_state_Turning_Circle = df_filter_true_poi[df_filter_true_poi[\"Turning_Circle\"] == True].groupby([\"State\", \"Turning_Circle\"])"
   ]
  },
  {
   "cell_type": "code",
   "execution_count": null,
   "metadata": {},
   "outputs": [],
   "source": [
    "df_filter_true_poi_state_Turning_Circle_count = df_filter_true_poi_state_Turning_Circle.size().reset_index(name = \"counts\")"
   ]
  },
  {
   "cell_type": "code",
   "execution_count": null,
   "metadata": {},
   "outputs": [],
   "source": [
    "df_filter_true_poi_state_Turning_Circle_count.head()"
   ]
  },
  {
   "cell_type": "code",
   "execution_count": null,
   "metadata": {},
   "outputs": [],
   "source": [
    "plt.figure(figsize= (15,8))\n",
    "plt.bar(x=df_filter_true_poi_state_Turning_Circle_count['State'], height=df_filter_true_poi_state_Turning_Circle_count['counts'])\n",
    "a = plt.xticks(rotation = 90)\n",
    "plt.title(\"Number of Construction in each state with Turning_Circle POI\")\n",
    "plt.savefig(\"Number_Construction_each_state_with_Turning_Circle_POI.png\")"
   ]
  },
  {
   "cell_type": "code",
   "execution_count": null,
   "metadata": {},
   "outputs": [],
   "source": [
    "df_filter_true_poi.head()"
   ]
  },
  {
   "cell_type": "code",
   "execution_count": null,
   "metadata": {},
   "outputs": [],
   "source": [
    "df_filter_true_poi_state_Turning_Loop = df_filter_true_poi[df_filter_true_poi[\"Turning_Loop\"] == True].groupby([\"State\", \"Turning_Loop\"])"
   ]
  },
  {
   "cell_type": "code",
   "execution_count": null,
   "metadata": {},
   "outputs": [],
   "source": [
    "df_filter_true_poi_state_Turning_Loop_count = df_filter_true_poi_state_Turning_Loop.size().reset_index(name = \"counts\")"
   ]
  },
  {
   "cell_type": "code",
   "execution_count": null,
   "metadata": {},
   "outputs": [],
   "source": [
    "df_filter_true_poi_state_Turning_Loop_count.head()"
   ]
  },
  {
   "cell_type": "code",
   "execution_count": null,
   "metadata": {},
   "outputs": [],
   "source": [
    "plt.figure(figsize= (15,8))\n",
    "plt.bar(x=df_filter_true_poi_state_Turning_Loop_count['State'], height=df_filter_true_poi_state_Turning_Loop_count['counts'])\n",
    "a = plt.xticks(rotation = 90)\n",
    "plt.title(\"Number of Construction in each state with Turning_Loop POI\")\n",
    "plt.savefig(\"Number_Construction_each_state_with_Turning_Loop_POI.png\")"
   ]
  },
  {
   "cell_type": "code",
   "execution_count": null,
   "metadata": {},
   "outputs": [],
   "source": []
  }
 ],
 "metadata": {
  "kernelspec": {
   "display_name": "Python 3",
   "language": "python",
   "name": "python3"
  },
  "language_info": {
   "codemirror_mode": {
    "name": "ipython",
    "version": 3
   },
   "file_extension": ".py",
   "mimetype": "text/x-python",
   "name": "python",
   "nbconvert_exporter": "python",
   "pygments_lexer": "ipython3",
   "version": "3.8.5"
  }
 },
 "nbformat": 4,
 "nbformat_minor": 4
}
