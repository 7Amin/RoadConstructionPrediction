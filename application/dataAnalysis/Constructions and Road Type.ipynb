{
 "cells": [
  {
   "cell_type": "code",
   "execution_count": 1,
   "metadata": {},
   "outputs": [],
   "source": [
    "import gmplot\n",
    "import pandas as pd\n",
    "import requests \n",
    "import os\n",
    "import math\n",
    "from xml.etree.ElementTree import fromstring, ElementTree\n",
    "from datetime import datetime\n",
    "import json\n",
    "import statistics \n",
    "from collections import Counter\n",
    "import random\n",
    "import matplotlib.pyplot as plt\n",
    "import seaborn as sns"
   ]
  },
  {
   "cell_type": "code",
   "execution_count": 2,
   "metadata": {},
   "outputs": [],
   "source": [
    "TrafficEvents = None\n",
    "\n",
    "chunk_size = 1000\n",
    "\n",
    "BASE_PATH = \"/home/amin/CETI/RoadConstruction/TrafficEventData/part/speeds/speed_\"\n",
    "    \n",
    "index_folder = 0\n",
    "index_start_point_file = 0\n",
    "index_end_point_file = 411"
   ]
  },
  {
   "cell_type": "code",
   "execution_count": 3,
   "metadata": {},
   "outputs": [],
   "source": [
    "def read_data(path):\n",
    "    data = None\n",
    "    data = pd.read_csv(path)\n",
    "    return data"
   ]
  },
  {
   "cell_type": "code",
   "execution_count": 4,
   "metadata": {},
   "outputs": [],
   "source": [
    "def read_part_data(folder_id, index_start, index_end):\n",
    "    df = None\n",
    "    print(\"start time is {}\".format(datetime.now()))\n",
    "    for i in range(index_start, index_end):\n",
    "        type_of_ways_all_points = []\n",
    "        path = BASE_PATH + str(folder_id) + \"/\" + str(i) + \"_file_\"+ str(i) + \".csv\"\n",
    "\n",
    "        data = read_data(path)\n",
    "        df = data.append(df, ignore_index = True)\n",
    "    print(\"end time is {}\".format(datetime.now()))\n",
    "    return df"
   ]
  },
  {
   "cell_type": "code",
   "execution_count": 5,
   "metadata": {},
   "outputs": [
    {
     "name": "stdout",
     "output_type": "stream",
     "text": [
      "0\n",
      "start time is 2020-09-15 18:57:43.136604\n",
      "end time is 2020-09-15 18:59:16.414891\n",
      "1\n",
      "start time is 2020-09-15 18:59:16.712108\n",
      "end time is 2020-09-15 19:00:51.488774\n",
      "2\n",
      "start time is 2020-09-15 19:00:52.393694\n",
      "end time is 2020-09-15 19:02:28.409788\n",
      "3\n",
      "start time is 2020-09-15 19:02:29.566589\n",
      "end time is 2020-09-15 19:03:58.757896\n",
      "4\n",
      "start time is 2020-09-15 19:04:00.281220\n",
      "end time is 2020-09-15 19:05:27.366845\n",
      "5\n",
      "start time is 2020-09-15 19:05:29.395095\n",
      "end time is 2020-09-15 19:07:00.011862\n",
      "6\n",
      "start time is 2020-09-15 19:07:02.734967\n",
      "end time is 2020-09-15 19:08:31.419261\n",
      "7\n",
      "start time is 2020-09-15 19:08:34.566730\n",
      "end time is 2020-09-15 19:10:07.646348\n",
      "8\n",
      "start time is 2020-09-15 19:10:11.550537\n",
      "end time is 2020-09-15 19:11:48.317601\n",
      "9\n",
      "start time is 2020-09-15 19:11:52.984269\n",
      "end time is 2020-09-15 19:13:22.720880\n"
     ]
    }
   ],
   "source": [
    "df = None\n",
    "for i in range(0,9):\n",
    "    print(i)\n",
    "    data = read_part_data(i, 0, 411)\n",
    "    df = data.append(df, ignore_index = True)\n",
    "print(9)\n",
    "data = read_part_data(9, 0, 393)\n",
    "df = data.append(df, ignore_index = True)"
   ]
  },
  {
   "cell_type": "code",
   "execution_count": 6,
   "metadata": {},
   "outputs": [
    {
     "data": {
      "text/html": [
       "<div>\n",
       "<style scoped>\n",
       "    .dataframe tbody tr th:only-of-type {\n",
       "        vertical-align: middle;\n",
       "    }\n",
       "\n",
       "    .dataframe tbody tr th {\n",
       "        vertical-align: top;\n",
       "    }\n",
       "\n",
       "    .dataframe thead th {\n",
       "        text-align: right;\n",
       "    }\n",
       "</style>\n",
       "<table border=\"1\" class=\"dataframe\">\n",
       "  <thead>\n",
       "    <tr style=\"text-align: right;\">\n",
       "      <th></th>\n",
       "      <th>Id</th>\n",
       "      <th>Source</th>\n",
       "      <th>Type</th>\n",
       "      <th>EventCode</th>\n",
       "      <th>Severity</th>\n",
       "      <th>StartPoint_Lat</th>\n",
       "      <th>StartPoint_Lng</th>\n",
       "      <th>EndPoint_Lat</th>\n",
       "      <th>EndPoint_Lng</th>\n",
       "      <th>Distance(mi)</th>\n",
       "      <th>...</th>\n",
       "      <th>Turning_Circle</th>\n",
       "      <th>Turning_Loop</th>\n",
       "      <th>nearst_nodes_of_start_point</th>\n",
       "      <th>nearst_nodes_of_end_point</th>\n",
       "      <th>nearst_nodes_ids_of_start_point</th>\n",
       "      <th>nearst_nodes_ids_of_end_point</th>\n",
       "      <th>type_of_roads</th>\n",
       "      <th>avg_speed</th>\n",
       "      <th>distance</th>\n",
       "      <th>eta</th>\n",
       "    </tr>\n",
       "  </thead>\n",
       "  <tbody>\n",
       "    <tr>\n",
       "      <th>0</th>\n",
       "      <td>M-29450881</td>\n",
       "      <td>MapQuest</td>\n",
       "      <td>Construction</td>\n",
       "      <td>406.0</td>\n",
       "      <td>3</td>\n",
       "      <td>44.309494</td>\n",
       "      <td>-90.840271</td>\n",
       "      <td>NaN</td>\n",
       "      <td>NaN</td>\n",
       "      <td>0.86</td>\n",
       "      <td>...</td>\n",
       "      <td>False</td>\n",
       "      <td>False</td>\n",
       "      <td>{'waypoints': [{'nodes': [2147408021, 47184371...</td>\n",
       "      <td>{'waypoints': [{'nodes': [2147408021, 47184371...</td>\n",
       "      <td>[2147408021, 471843710, 2147408024, 2147408021...</td>\n",
       "      <td>[2147408021, 471843710, 2147408024, 2147408021...</td>\n",
       "      <td>motorway_link</td>\n",
       "      <td>-100.0</td>\n",
       "      <td>-100.0</td>\n",
       "      <td>-100.0</td>\n",
       "    </tr>\n",
       "    <tr>\n",
       "      <th>1</th>\n",
       "      <td>M-29450890</td>\n",
       "      <td>MapQuest</td>\n",
       "      <td>Construction</td>\n",
       "      <td>703.0</td>\n",
       "      <td>2</td>\n",
       "      <td>44.387669</td>\n",
       "      <td>-88.720055</td>\n",
       "      <td>NaN</td>\n",
       "      <td>NaN</td>\n",
       "      <td>0.12</td>\n",
       "      <td>...</td>\n",
       "      <td>False</td>\n",
       "      <td>False</td>\n",
       "      <td>{'waypoints': [{'nodes': [232006634, 232006479...</td>\n",
       "      <td>{'waypoints': [{'nodes': [232006634, 232006479...</td>\n",
       "      <td>[232006634, 232006479, 2281677742, 232006634, ...</td>\n",
       "      <td>[232006634, 232006479, 2281677742, 232006634, ...</td>\n",
       "      <td>trunk</td>\n",
       "      <td>-100.0</td>\n",
       "      <td>-100.0</td>\n",
       "      <td>-100.0</td>\n",
       "    </tr>\n",
       "    <tr>\n",
       "      <th>2</th>\n",
       "      <td>M-29450891</td>\n",
       "      <td>MapQuest</td>\n",
       "      <td>Construction</td>\n",
       "      <td>703.0</td>\n",
       "      <td>2</td>\n",
       "      <td>44.403862</td>\n",
       "      <td>-88.734856</td>\n",
       "      <td>NaN</td>\n",
       "      <td>NaN</td>\n",
       "      <td>0.00</td>\n",
       "      <td>...</td>\n",
       "      <td>False</td>\n",
       "      <td>False</td>\n",
       "      <td>{'waypoints': [{'nodes': [232006387, 232006382...</td>\n",
       "      <td>{'waypoints': [{'nodes': [232006387, 232006382...</td>\n",
       "      <td>[232006387, 232006382, 232006382, 231764181, 2...</td>\n",
       "      <td>[232006387, 232006382, 232006382, 231764181, 2...</td>\n",
       "      <td>trunk</td>\n",
       "      <td>-100.0</td>\n",
       "      <td>-100.0</td>\n",
       "      <td>-100.0</td>\n",
       "    </tr>\n",
       "    <tr>\n",
       "      <th>3</th>\n",
       "      <td>M-29450947</td>\n",
       "      <td>MapQuest</td>\n",
       "      <td>Construction</td>\n",
       "      <td>735.0</td>\n",
       "      <td>3</td>\n",
       "      <td>44.734169</td>\n",
       "      <td>-90.497337</td>\n",
       "      <td>NaN</td>\n",
       "      <td>NaN</td>\n",
       "      <td>0.10</td>\n",
       "      <td>...</td>\n",
       "      <td>False</td>\n",
       "      <td>False</td>\n",
       "      <td>{'waypoints': [{'nodes': [147039746, 147017038...</td>\n",
       "      <td>{'waypoints': [{'nodes': [147039746, 147017038...</td>\n",
       "      <td>[147039746, 147017038, 147017038, 147017035, 1...</td>\n",
       "      <td>[147039746, 147017038, 147017038, 147017035, 1...</td>\n",
       "      <td>residential</td>\n",
       "      <td>-100.0</td>\n",
       "      <td>-100.0</td>\n",
       "      <td>-100.0</td>\n",
       "    </tr>\n",
       "    <tr>\n",
       "      <th>4</th>\n",
       "      <td>M-29450948</td>\n",
       "      <td>MapQuest</td>\n",
       "      <td>Construction</td>\n",
       "      <td>735.0</td>\n",
       "      <td>3</td>\n",
       "      <td>44.734177</td>\n",
       "      <td>-90.496017</td>\n",
       "      <td>NaN</td>\n",
       "      <td>NaN</td>\n",
       "      <td>0.10</td>\n",
       "      <td>...</td>\n",
       "      <td>False</td>\n",
       "      <td>False</td>\n",
       "      <td>{'waypoints': [{'nodes': [3372527386, 14701703...</td>\n",
       "      <td>{'waypoints': [{'nodes': [3372527386, 14701703...</td>\n",
       "      <td>[3372527386, 147017032, 3372527390, 147017032,...</td>\n",
       "      <td>[3372527386, 147017032, 3372527390, 147017032,...</td>\n",
       "      <td>primary</td>\n",
       "      <td>-100.0</td>\n",
       "      <td>-100.0</td>\n",
       "      <td>-100.0</td>\n",
       "    </tr>\n",
       "    <tr>\n",
       "      <th>5</th>\n",
       "      <td>M-29452018</td>\n",
       "      <td>MapQuest</td>\n",
       "      <td>Construction</td>\n",
       "      <td>641.0</td>\n",
       "      <td>2</td>\n",
       "      <td>43.074471</td>\n",
       "      <td>-88.066605</td>\n",
       "      <td>NaN</td>\n",
       "      <td>NaN</td>\n",
       "      <td>0.00</td>\n",
       "      <td>...</td>\n",
       "      <td>False</td>\n",
       "      <td>False</td>\n",
       "      <td>{'waypoints': [{'nodes': [0, 196651378], 'hint...</td>\n",
       "      <td>{'waypoints': [{'nodes': [0, 196651378], 'hint...</td>\n",
       "      <td>[0, 196651378, 0, 233349076, 0, 196651380, 0, ...</td>\n",
       "      <td>[0, 196651378, 0, 233349076, 0, 196651380, 0, ...</td>\n",
       "      <td>None</td>\n",
       "      <td>-100.0</td>\n",
       "      <td>-100.0</td>\n",
       "      <td>-100.0</td>\n",
       "    </tr>\n",
       "    <tr>\n",
       "      <th>6</th>\n",
       "      <td>M-29452119</td>\n",
       "      <td>MapQuest</td>\n",
       "      <td>Construction</td>\n",
       "      <td>701.0</td>\n",
       "      <td>2</td>\n",
       "      <td>42.353142</td>\n",
       "      <td>-87.977654</td>\n",
       "      <td>NaN</td>\n",
       "      <td>NaN</td>\n",
       "      <td>0.00</td>\n",
       "      <td>...</td>\n",
       "      <td>False</td>\n",
       "      <td>False</td>\n",
       "      <td>{'waypoints': [{'nodes': [235603291, 235603296...</td>\n",
       "      <td>{'waypoints': [{'nodes': [235603291, 235603296...</td>\n",
       "      <td>[235603291, 235603296, 235603291, 235587571, 7...</td>\n",
       "      <td>[235603291, 235603296, 235603291, 235587571, 7...</td>\n",
       "      <td>secondary</td>\n",
       "      <td>-100.0</td>\n",
       "      <td>-100.0</td>\n",
       "      <td>-100.0</td>\n",
       "    </tr>\n",
       "    <tr>\n",
       "      <th>7</th>\n",
       "      <td>M-29452120</td>\n",
       "      <td>MapQuest</td>\n",
       "      <td>Construction</td>\n",
       "      <td>701.0</td>\n",
       "      <td>2</td>\n",
       "      <td>42.385311</td>\n",
       "      <td>-87.963326</td>\n",
       "      <td>NaN</td>\n",
       "      <td>NaN</td>\n",
       "      <td>0.00</td>\n",
       "      <td>...</td>\n",
       "      <td>False</td>\n",
       "      <td>False</td>\n",
       "      <td>{'waypoints': [{'nodes': [1514677298, 23544272...</td>\n",
       "      <td>{'waypoints': [{'nodes': [1514677298, 23544272...</td>\n",
       "      <td>[1514677298, 235442729, 0, 1514677298, 1514677...</td>\n",
       "      <td>[1514677298, 235442729, 0, 1514677298, 1514677...</td>\n",
       "      <td>primary</td>\n",
       "      <td>-100.0</td>\n",
       "      <td>-100.0</td>\n",
       "      <td>-100.0</td>\n",
       "    </tr>\n",
       "    <tr>\n",
       "      <th>8</th>\n",
       "      <td>M-29452121</td>\n",
       "      <td>MapQuest</td>\n",
       "      <td>Construction</td>\n",
       "      <td>500.0</td>\n",
       "      <td>2</td>\n",
       "      <td>42.346806</td>\n",
       "      <td>-87.902145</td>\n",
       "      <td>NaN</td>\n",
       "      <td>NaN</td>\n",
       "      <td>0.00</td>\n",
       "      <td>...</td>\n",
       "      <td>False</td>\n",
       "      <td>False</td>\n",
       "      <td>{'waypoints': [{'nodes': [235210040, 181946597...</td>\n",
       "      <td>{'waypoints': [{'nodes': [235210040, 181946597...</td>\n",
       "      <td>[235210040, 1819465977, 726669678, 726669806, ...</td>\n",
       "      <td>[235210040, 1819465977, 726669678, 726669806, ...</td>\n",
       "      <td>trunk_link</td>\n",
       "      <td>-100.0</td>\n",
       "      <td>-100.0</td>\n",
       "      <td>-100.0</td>\n",
       "    </tr>\n",
       "    <tr>\n",
       "      <th>9</th>\n",
       "      <td>M-29452122</td>\n",
       "      <td>MapQuest</td>\n",
       "      <td>Construction</td>\n",
       "      <td>701.0</td>\n",
       "      <td>2</td>\n",
       "      <td>42.716621</td>\n",
       "      <td>-88.225945</td>\n",
       "      <td>NaN</td>\n",
       "      <td>NaN</td>\n",
       "      <td>0.00</td>\n",
       "      <td>...</td>\n",
       "      <td>False</td>\n",
       "      <td>False</td>\n",
       "      <td>{'waypoints': [{'nodes': [992846309, 473621036...</td>\n",
       "      <td>{'waypoints': [{'nodes': [992846309, 473621036...</td>\n",
       "      <td>[992846309, 4736210361, 1073297157, 1102350902...</td>\n",
       "      <td>[992846309, 4736210361, 1073297157, 1102350902...</td>\n",
       "      <td>trunk</td>\n",
       "      <td>-100.0</td>\n",
       "      <td>-100.0</td>\n",
       "      <td>-100.0</td>\n",
       "    </tr>\n",
       "  </tbody>\n",
       "</table>\n",
       "<p>10 rows × 66 columns</p>\n",
       "</div>"
      ],
      "text/plain": [
       "           Id    Source          Type  EventCode  Severity  StartPoint_Lat  \\\n",
       "0  M-29450881  MapQuest  Construction      406.0         3       44.309494   \n",
       "1  M-29450890  MapQuest  Construction      703.0         2       44.387669   \n",
       "2  M-29450891  MapQuest  Construction      703.0         2       44.403862   \n",
       "3  M-29450947  MapQuest  Construction      735.0         3       44.734169   \n",
       "4  M-29450948  MapQuest  Construction      735.0         3       44.734177   \n",
       "5  M-29452018  MapQuest  Construction      641.0         2       43.074471   \n",
       "6  M-29452119  MapQuest  Construction      701.0         2       42.353142   \n",
       "7  M-29452120  MapQuest  Construction      701.0         2       42.385311   \n",
       "8  M-29452121  MapQuest  Construction      500.0         2       42.346806   \n",
       "9  M-29452122  MapQuest  Construction      701.0         2       42.716621   \n",
       "\n",
       "   StartPoint_Lng  EndPoint_Lat  EndPoint_Lng  Distance(mi)  ...  \\\n",
       "0      -90.840271           NaN           NaN          0.86  ...   \n",
       "1      -88.720055           NaN           NaN          0.12  ...   \n",
       "2      -88.734856           NaN           NaN          0.00  ...   \n",
       "3      -90.497337           NaN           NaN          0.10  ...   \n",
       "4      -90.496017           NaN           NaN          0.10  ...   \n",
       "5      -88.066605           NaN           NaN          0.00  ...   \n",
       "6      -87.977654           NaN           NaN          0.00  ...   \n",
       "7      -87.963326           NaN           NaN          0.00  ...   \n",
       "8      -87.902145           NaN           NaN          0.00  ...   \n",
       "9      -88.225945           NaN           NaN          0.00  ...   \n",
       "\n",
       "  Turning_Circle Turning_Loop  \\\n",
       "0          False        False   \n",
       "1          False        False   \n",
       "2          False        False   \n",
       "3          False        False   \n",
       "4          False        False   \n",
       "5          False        False   \n",
       "6          False        False   \n",
       "7          False        False   \n",
       "8          False        False   \n",
       "9          False        False   \n",
       "\n",
       "                         nearst_nodes_of_start_point  \\\n",
       "0  {'waypoints': [{'nodes': [2147408021, 47184371...   \n",
       "1  {'waypoints': [{'nodes': [232006634, 232006479...   \n",
       "2  {'waypoints': [{'nodes': [232006387, 232006382...   \n",
       "3  {'waypoints': [{'nodes': [147039746, 147017038...   \n",
       "4  {'waypoints': [{'nodes': [3372527386, 14701703...   \n",
       "5  {'waypoints': [{'nodes': [0, 196651378], 'hint...   \n",
       "6  {'waypoints': [{'nodes': [235603291, 235603296...   \n",
       "7  {'waypoints': [{'nodes': [1514677298, 23544272...   \n",
       "8  {'waypoints': [{'nodes': [235210040, 181946597...   \n",
       "9  {'waypoints': [{'nodes': [992846309, 473621036...   \n",
       "\n",
       "                           nearst_nodes_of_end_point  \\\n",
       "0  {'waypoints': [{'nodes': [2147408021, 47184371...   \n",
       "1  {'waypoints': [{'nodes': [232006634, 232006479...   \n",
       "2  {'waypoints': [{'nodes': [232006387, 232006382...   \n",
       "3  {'waypoints': [{'nodes': [147039746, 147017038...   \n",
       "4  {'waypoints': [{'nodes': [3372527386, 14701703...   \n",
       "5  {'waypoints': [{'nodes': [0, 196651378], 'hint...   \n",
       "6  {'waypoints': [{'nodes': [235603291, 235603296...   \n",
       "7  {'waypoints': [{'nodes': [1514677298, 23544272...   \n",
       "8  {'waypoints': [{'nodes': [235210040, 181946597...   \n",
       "9  {'waypoints': [{'nodes': [992846309, 473621036...   \n",
       "\n",
       "                     nearst_nodes_ids_of_start_point  \\\n",
       "0  [2147408021, 471843710, 2147408024, 2147408021...   \n",
       "1  [232006634, 232006479, 2281677742, 232006634, ...   \n",
       "2  [232006387, 232006382, 232006382, 231764181, 2...   \n",
       "3  [147039746, 147017038, 147017038, 147017035, 1...   \n",
       "4  [3372527386, 147017032, 3372527390, 147017032,...   \n",
       "5  [0, 196651378, 0, 233349076, 0, 196651380, 0, ...   \n",
       "6  [235603291, 235603296, 235603291, 235587571, 7...   \n",
       "7  [1514677298, 235442729, 0, 1514677298, 1514677...   \n",
       "8  [235210040, 1819465977, 726669678, 726669806, ...   \n",
       "9  [992846309, 4736210361, 1073297157, 1102350902...   \n",
       "\n",
       "                       nearst_nodes_ids_of_end_point  type_of_roads avg_speed  \\\n",
       "0  [2147408021, 471843710, 2147408024, 2147408021...  motorway_link    -100.0   \n",
       "1  [232006634, 232006479, 2281677742, 232006634, ...          trunk    -100.0   \n",
       "2  [232006387, 232006382, 232006382, 231764181, 2...          trunk    -100.0   \n",
       "3  [147039746, 147017038, 147017038, 147017035, 1...    residential    -100.0   \n",
       "4  [3372527386, 147017032, 3372527390, 147017032,...        primary    -100.0   \n",
       "5  [0, 196651378, 0, 233349076, 0, 196651380, 0, ...           None    -100.0   \n",
       "6  [235603291, 235603296, 235603291, 235587571, 7...      secondary    -100.0   \n",
       "7  [1514677298, 235442729, 0, 1514677298, 1514677...        primary    -100.0   \n",
       "8  [235210040, 1819465977, 726669678, 726669806, ...     trunk_link    -100.0   \n",
       "9  [992846309, 4736210361, 1073297157, 1102350902...          trunk    -100.0   \n",
       "\n",
       "   distance    eta  \n",
       "0    -100.0 -100.0  \n",
       "1    -100.0 -100.0  \n",
       "2    -100.0 -100.0  \n",
       "3    -100.0 -100.0  \n",
       "4    -100.0 -100.0  \n",
       "5    -100.0 -100.0  \n",
       "6    -100.0 -100.0  \n",
       "7    -100.0 -100.0  \n",
       "8    -100.0 -100.0  \n",
       "9    -100.0 -100.0  \n",
       "\n",
       "[10 rows x 66 columns]"
      ]
     },
     "execution_count": 6,
     "metadata": {},
     "output_type": "execute_result"
    }
   ],
   "source": [
    "df.head(10)"
   ]
  },
  {
   "cell_type": "code",
   "execution_count": 7,
   "metadata": {},
   "outputs": [
    {
     "data": {
      "text/plain": [
       "(2046000, 66)"
      ]
     },
     "execution_count": 7,
     "metadata": {},
     "output_type": "execute_result"
    }
   ],
   "source": [
    "df.shape"
   ]
  },
  {
   "cell_type": "code",
   "execution_count": 9,
   "metadata": {},
   "outputs": [],
   "source": [
    "df_city_state_type_of_roads_group = df.groupby([\"City\", \"State\", \"type_of_roads\"])"
   ]
  },
  {
   "cell_type": "code",
   "execution_count": 10,
   "metadata": {},
   "outputs": [],
   "source": [
    "df_city_state_type_of_roads_group_count = df_city_state_type_of_roads_group.size().reset_index(name='counts')"
   ]
  },
  {
   "cell_type": "code",
   "execution_count": 11,
   "metadata": {},
   "outputs": [
    {
     "data": {
      "text/html": [
       "<div>\n",
       "<style scoped>\n",
       "    .dataframe tbody tr th:only-of-type {\n",
       "        vertical-align: middle;\n",
       "    }\n",
       "\n",
       "    .dataframe tbody tr th {\n",
       "        vertical-align: top;\n",
       "    }\n",
       "\n",
       "    .dataframe thead th {\n",
       "        text-align: right;\n",
       "    }\n",
       "</style>\n",
       "<table border=\"1\" class=\"dataframe\">\n",
       "  <thead>\n",
       "    <tr style=\"text-align: right;\">\n",
       "      <th></th>\n",
       "      <th>City</th>\n",
       "      <th>State</th>\n",
       "      <th>type_of_roads</th>\n",
       "      <th>counts</th>\n",
       "    </tr>\n",
       "  </thead>\n",
       "  <tbody>\n",
       "    <tr>\n",
       "      <th>0</th>\n",
       "      <td>Aaronsburg</td>\n",
       "      <td>PA</td>\n",
       "      <td>primary</td>\n",
       "      <td>5</td>\n",
       "    </tr>\n",
       "    <tr>\n",
       "      <th>1</th>\n",
       "      <td>Aaronsburg</td>\n",
       "      <td>PA</td>\n",
       "      <td>residential</td>\n",
       "      <td>1</td>\n",
       "    </tr>\n",
       "    <tr>\n",
       "      <th>2</th>\n",
       "      <td>Abbeville</td>\n",
       "      <td>AL</td>\n",
       "      <td>residential</td>\n",
       "      <td>3</td>\n",
       "    </tr>\n",
       "    <tr>\n",
       "      <th>3</th>\n",
       "      <td>Abbeville</td>\n",
       "      <td>AL</td>\n",
       "      <td>secondary</td>\n",
       "      <td>4</td>\n",
       "    </tr>\n",
       "    <tr>\n",
       "      <th>4</th>\n",
       "      <td>Abbeville</td>\n",
       "      <td>GA</td>\n",
       "      <td>primary</td>\n",
       "      <td>3</td>\n",
       "    </tr>\n",
       "  </tbody>\n",
       "</table>\n",
       "</div>"
      ],
      "text/plain": [
       "         City State type_of_roads  counts\n",
       "0  Aaronsburg    PA       primary       5\n",
       "1  Aaronsburg    PA   residential       1\n",
       "2   Abbeville    AL   residential       3\n",
       "3   Abbeville    AL     secondary       4\n",
       "4   Abbeville    GA       primary       3"
      ]
     },
     "execution_count": 11,
     "metadata": {},
     "output_type": "execute_result"
    }
   ],
   "source": [
    "df_city_state_type_of_roads_group_count.head()"
   ]
  },
  {
   "cell_type": "code",
   "execution_count": 12,
   "metadata": {},
   "outputs": [],
   "source": [
    "df_state_type_of_roads_group = df.groupby([\"State\", \"type_of_roads\"])"
   ]
  },
  {
   "cell_type": "code",
   "execution_count": 13,
   "metadata": {},
   "outputs": [],
   "source": [
    "df_state_type_of_roads_group_count = df_state_type_of_roads_group.size().reset_index(name='counts')"
   ]
  },
  {
   "cell_type": "code",
   "execution_count": 30,
   "metadata": {},
   "outputs": [
    {
     "data": {
      "text/html": [
       "<div>\n",
       "<style scoped>\n",
       "    .dataframe tbody tr th:only-of-type {\n",
       "        vertical-align: middle;\n",
       "    }\n",
       "\n",
       "    .dataframe tbody tr th {\n",
       "        vertical-align: top;\n",
       "    }\n",
       "\n",
       "    .dataframe thead th {\n",
       "        text-align: right;\n",
       "    }\n",
       "</style>\n",
       "<table border=\"1\" class=\"dataframe\">\n",
       "  <thead>\n",
       "    <tr style=\"text-align: right;\">\n",
       "      <th></th>\n",
       "      <th>State</th>\n",
       "      <th>type_of_roads</th>\n",
       "      <th>counts</th>\n",
       "    </tr>\n",
       "  </thead>\n",
       "  <tbody>\n",
       "    <tr>\n",
       "      <th>0</th>\n",
       "      <td>AL</td>\n",
       "      <td>None</td>\n",
       "      <td>856</td>\n",
       "    </tr>\n",
       "    <tr>\n",
       "      <th>1</th>\n",
       "      <td>AL</td>\n",
       "      <td>cycleway</td>\n",
       "      <td>2</td>\n",
       "    </tr>\n",
       "    <tr>\n",
       "      <th>2</th>\n",
       "      <td>AL</td>\n",
       "      <td>footway</td>\n",
       "      <td>1</td>\n",
       "    </tr>\n",
       "    <tr>\n",
       "      <th>3</th>\n",
       "      <td>AL</td>\n",
       "      <td>motorway</td>\n",
       "      <td>4160</td>\n",
       "    </tr>\n",
       "    <tr>\n",
       "      <th>4</th>\n",
       "      <td>AL</td>\n",
       "      <td>motorway_link</td>\n",
       "      <td>472</td>\n",
       "    </tr>\n",
       "    <tr>\n",
       "      <th>5</th>\n",
       "      <td>AL</td>\n",
       "      <td>primary</td>\n",
       "      <td>1197</td>\n",
       "    </tr>\n",
       "    <tr>\n",
       "      <th>6</th>\n",
       "      <td>AL</td>\n",
       "      <td>primary_link</td>\n",
       "      <td>46</td>\n",
       "    </tr>\n",
       "    <tr>\n",
       "      <th>7</th>\n",
       "      <td>AL</td>\n",
       "      <td>residential</td>\n",
       "      <td>694</td>\n",
       "    </tr>\n",
       "    <tr>\n",
       "      <th>8</th>\n",
       "      <td>AL</td>\n",
       "      <td>secondary</td>\n",
       "      <td>762</td>\n",
       "    </tr>\n",
       "    <tr>\n",
       "      <th>9</th>\n",
       "      <td>AL</td>\n",
       "      <td>secondary_link</td>\n",
       "      <td>23</td>\n",
       "    </tr>\n",
       "  </tbody>\n",
       "</table>\n",
       "</div>"
      ],
      "text/plain": [
       "  State   type_of_roads  counts\n",
       "0    AL            None     856\n",
       "1    AL        cycleway       2\n",
       "2    AL         footway       1\n",
       "3    AL        motorway    4160\n",
       "4    AL   motorway_link     472\n",
       "5    AL         primary    1197\n",
       "6    AL    primary_link      46\n",
       "7    AL     residential     694\n",
       "8    AL       secondary     762\n",
       "9    AL  secondary_link      23"
      ]
     },
     "execution_count": 30,
     "metadata": {},
     "output_type": "execute_result"
    }
   ],
   "source": [
    "df_state_type_of_roads_group_count.head(10)"
   ]
  },
  {
   "cell_type": "code",
   "execution_count": 17,
   "metadata": {},
   "outputs": [],
   "source": [
    "df_type_of_roads_group = df.groupby([\"type_of_roads\"])"
   ]
  },
  {
   "cell_type": "code",
   "execution_count": 18,
   "metadata": {},
   "outputs": [],
   "source": [
    "df_type_of_roads_group_count = df_type_of_roads_group.size().reset_index(name='counts')"
   ]
  },
  {
   "cell_type": "code",
   "execution_count": 29,
   "metadata": {},
   "outputs": [
    {
     "data": {
      "text/html": [
       "<div>\n",
       "<style scoped>\n",
       "    .dataframe tbody tr th:only-of-type {\n",
       "        vertical-align: middle;\n",
       "    }\n",
       "\n",
       "    .dataframe tbody tr th {\n",
       "        vertical-align: top;\n",
       "    }\n",
       "\n",
       "    .dataframe thead th {\n",
       "        text-align: right;\n",
       "    }\n",
       "</style>\n",
       "<table border=\"1\" class=\"dataframe\">\n",
       "  <thead>\n",
       "    <tr style=\"text-align: right;\">\n",
       "      <th></th>\n",
       "      <th>type_of_roads</th>\n",
       "      <th>counts</th>\n",
       "    </tr>\n",
       "  </thead>\n",
       "  <tbody>\n",
       "    <tr>\n",
       "      <th>0</th>\n",
       "      <td>None</td>\n",
       "      <td>171165</td>\n",
       "    </tr>\n",
       "    <tr>\n",
       "      <th>1</th>\n",
       "      <td>abandoned</td>\n",
       "      <td>12</td>\n",
       "    </tr>\n",
       "    <tr>\n",
       "      <th>2</th>\n",
       "      <td>construction</td>\n",
       "      <td>787</td>\n",
       "    </tr>\n",
       "    <tr>\n",
       "      <th>3</th>\n",
       "      <td>cycleway</td>\n",
       "      <td>145</td>\n",
       "    </tr>\n",
       "    <tr>\n",
       "      <th>4</th>\n",
       "      <td>footway</td>\n",
       "      <td>3102</td>\n",
       "    </tr>\n",
       "    <tr>\n",
       "      <th>5</th>\n",
       "      <td>living_street</td>\n",
       "      <td>195</td>\n",
       "    </tr>\n",
       "    <tr>\n",
       "      <th>6</th>\n",
       "      <td>motorway</td>\n",
       "      <td>598895</td>\n",
       "    </tr>\n",
       "    <tr>\n",
       "      <th>7</th>\n",
       "      <td>motorway_link</td>\n",
       "      <td>228808</td>\n",
       "    </tr>\n",
       "    <tr>\n",
       "      <th>8</th>\n",
       "      <td>path</td>\n",
       "      <td>96</td>\n",
       "    </tr>\n",
       "    <tr>\n",
       "      <th>9</th>\n",
       "      <td>pedestrian</td>\n",
       "      <td>25</td>\n",
       "    </tr>\n",
       "  </tbody>\n",
       "</table>\n",
       "</div>"
      ],
      "text/plain": [
       "   type_of_roads  counts\n",
       "0           None  171165\n",
       "1      abandoned      12\n",
       "2   construction     787\n",
       "3       cycleway     145\n",
       "4        footway    3102\n",
       "5  living_street     195\n",
       "6       motorway  598895\n",
       "7  motorway_link  228808\n",
       "8           path      96\n",
       "9     pedestrian      25"
      ]
     },
     "execution_count": 29,
     "metadata": {},
     "output_type": "execute_result"
    }
   ],
   "source": [
    "df_type_of_roads_group_count.head(10)"
   ]
  },
  {
   "cell_type": "code",
   "execution_count": 23,
   "metadata": {},
   "outputs": [
    {
     "data": {
      "image/png": "[encoded data removed]",
      "text/plain": [
       "<Figure size 1080x576 with 1 Axes>"
      ]
     },
     "metadata": {
      "needs_background": "light"
     },
     "output_type": "display_data"
    }
   ],
   "source": [
    "plt.figure(figsize= (15,8))\n",
    "plt.bar(x=df_type_of_roads_group_count['type_of_roads'], height=df_type_of_roads_group_count['counts'])\n",
    "a = plt.xticks(rotation = 90)\n",
    "plt.title(\"Construction distribution for different road types\")\n",
    "plt.savefig(\"Construction-distribution-different-road-types.png\")"
   ]
  },
  {
   "cell_type": "code",
   "execution_count": 24,
   "metadata": {},
   "outputs": [],
   "source": [
    "df_type_of_roads_group_count_sorted = df_type_of_roads_group_count.sort_values(by=['counts'], ascending=False)"
   ]
  },
  {
   "cell_type": "code",
   "execution_count": 25,
   "metadata": {},
   "outputs": [
    {
     "data": {
      "image/png": "[encoded data removed]",
      "text/plain": [
       "<Figure size 1080x576 with 1 Axes>"
      ]
     },
     "metadata": {
      "needs_background": "light"
     },
     "output_type": "display_data"
    }
   ],
   "source": [
    "plt.figure(figsize= (15,8))\n",
    "plt.bar(x=df_type_of_roads_group_count_sorted['type_of_roads'], height=df_type_of_roads_group_count_sorted['counts'])\n",
    "a = plt.xticks(rotation = 90)\n",
    "plt.title(\"Construction distribution for different road types(Sorted)\")\n",
    "plt.savefig(\"Construction-distribution-different-road-types-sorted.png\")"
   ]
  },
  {
   "cell_type": "code",
   "execution_count": 28,
   "metadata": {},
   "outputs": [
    {
     "data": {
      "text/html": [
       "<div>\n",
       "<style scoped>\n",
       "    .dataframe tbody tr th:only-of-type {\n",
       "        vertical-align: middle;\n",
       "    }\n",
       "\n",
       "    .dataframe tbody tr th {\n",
       "        vertical-align: top;\n",
       "    }\n",
       "\n",
       "    .dataframe thead th {\n",
       "        text-align: right;\n",
       "    }\n",
       "</style>\n",
       "<table border=\"1\" class=\"dataframe\">\n",
       "  <thead>\n",
       "    <tr style=\"text-align: right;\">\n",
       "      <th></th>\n",
       "      <th>type_of_roads</th>\n",
       "      <th>counts</th>\n",
       "    </tr>\n",
       "  </thead>\n",
       "  <tbody>\n",
       "    <tr>\n",
       "      <th>6</th>\n",
       "      <td>motorway</td>\n",
       "      <td>598895</td>\n",
       "    </tr>\n",
       "    <tr>\n",
       "      <th>10</th>\n",
       "      <td>primary</td>\n",
       "      <td>327411</td>\n",
       "    </tr>\n",
       "    <tr>\n",
       "      <th>14</th>\n",
       "      <td>secondary</td>\n",
       "      <td>229942</td>\n",
       "    </tr>\n",
       "    <tr>\n",
       "      <th>7</th>\n",
       "      <td>motorway_link</td>\n",
       "      <td>228808</td>\n",
       "    </tr>\n",
       "    <tr>\n",
       "      <th>13</th>\n",
       "      <td>residential</td>\n",
       "      <td>200321</td>\n",
       "    </tr>\n",
       "    <tr>\n",
       "      <th>0</th>\n",
       "      <td>None</td>\n",
       "      <td>171165</td>\n",
       "    </tr>\n",
       "    <tr>\n",
       "      <th>18</th>\n",
       "      <td>tertiary</td>\n",
       "      <td>121196</td>\n",
       "    </tr>\n",
       "    <tr>\n",
       "      <th>22</th>\n",
       "      <td>trunk</td>\n",
       "      <td>95444</td>\n",
       "    </tr>\n",
       "    <tr>\n",
       "      <th>16</th>\n",
       "      <td>service</td>\n",
       "      <td>30091</td>\n",
       "    </tr>\n",
       "    <tr>\n",
       "      <th>24</th>\n",
       "      <td>unclassified</td>\n",
       "      <td>13684</td>\n",
       "    </tr>\n",
       "  </tbody>\n",
       "</table>\n",
       "</div>"
      ],
      "text/plain": [
       "    type_of_roads  counts\n",
       "6        motorway  598895\n",
       "10        primary  327411\n",
       "14      secondary  229942\n",
       "7   motorway_link  228808\n",
       "13    residential  200321\n",
       "0            None  171165\n",
       "18       tertiary  121196\n",
       "22          trunk   95444\n",
       "16        service   30091\n",
       "24   unclassified   13684"
      ]
     },
     "execution_count": 28,
     "metadata": {},
     "output_type": "execute_result"
    }
   ],
   "source": [
    "df_type_of_roads_group_count_sorted.head(10)"
   ]
  },
  {
   "cell_type": "code",
   "execution_count": 31,
   "metadata": {},
   "outputs": [],
   "source": [
    "df_state_group = df.groupby([\"State\"])"
   ]
  },
  {
   "cell_type": "code",
   "execution_count": 32,
   "metadata": {},
   "outputs": [],
   "source": [
    "df_state_group_count = df_state_group.size().reset_index(name='counts')"
   ]
  },
  {
   "cell_type": "code",
   "execution_count": 33,
   "metadata": {},
   "outputs": [],
   "source": [
    "df_state_group_count_sorted = df_state_group_count.sort_values(by=['counts'], ascending=False)"
   ]
  },
  {
   "cell_type": "code",
   "execution_count": 35,
   "metadata": {},
   "outputs": [
    {
     "data": {
      "text/html": [
       "<div>\n",
       "<style scoped>\n",
       "    .dataframe tbody tr th:only-of-type {\n",
       "        vertical-align: middle;\n",
       "    }\n",
       "\n",
       "    .dataframe tbody tr th {\n",
       "        vertical-align: top;\n",
       "    }\n",
       "\n",
       "    .dataframe thead th {\n",
       "        text-align: right;\n",
       "    }\n",
       "</style>\n",
       "<table border=\"1\" class=\"dataframe\">\n",
       "  <thead>\n",
       "    <tr style=\"text-align: right;\">\n",
       "      <th></th>\n",
       "      <th>State</th>\n",
       "      <th>counts</th>\n",
       "    </tr>\n",
       "  </thead>\n",
       "  <tbody>\n",
       "    <tr>\n",
       "      <th>3</th>\n",
       "      <td>CA</td>\n",
       "      <td>257466</td>\n",
       "    </tr>\n",
       "    <tr>\n",
       "      <th>36</th>\n",
       "      <td>PA</td>\n",
       "      <td>203070</td>\n",
       "    </tr>\n",
       "    <tr>\n",
       "      <th>32</th>\n",
       "      <td>NY</td>\n",
       "      <td>172605</td>\n",
       "    </tr>\n",
       "    <tr>\n",
       "      <th>8</th>\n",
       "      <td>FL</td>\n",
       "      <td>120505</td>\n",
       "    </tr>\n",
       "    <tr>\n",
       "      <th>4</th>\n",
       "      <td>CO</td>\n",
       "      <td>104827</td>\n",
       "    </tr>\n",
       "  </tbody>\n",
       "</table>\n",
       "</div>"
      ],
      "text/plain": [
       "   State  counts\n",
       "3     CA  257466\n",
       "36    PA  203070\n",
       "32    NY  172605\n",
       "8     FL  120505\n",
       "4     CO  104827"
      ]
     },
     "execution_count": 35,
     "metadata": {},
     "output_type": "execute_result"
    }
   ],
   "source": [
    "df_state_group_count_sorted.head()"
   ]
  },
  {
   "cell_type": "code",
   "execution_count": 36,
   "metadata": {},
   "outputs": [
    {
     "data": {
      "image/png": "[encoded data removed]",
      "text/plain": [
       "<Figure size 1080x576 with 1 Axes>"
      ]
     },
     "metadata": {
      "needs_background": "light"
     },
     "output_type": "display_data"
    }
   ],
   "source": [
    "plt.figure(figsize= (15,8))\n",
    "plt.bar(x=df_state_group_count_sorted['State'], height=df_state_group_count_sorted['counts'])\n",
    "a = plt.xticks(rotation = 90)\n",
    "plt.title(\"Construction distribution\")\n",
    "plt.savefig(\"Construction-distribution.png\")"
   ]
  },
  {
   "cell_type": "code",
   "execution_count": 39,
   "metadata": {},
   "outputs": [
    {
     "data": {
      "text/html": [
       "<div>\n",
       "<style scoped>\n",
       "    .dataframe tbody tr th:only-of-type {\n",
       "        vertical-align: middle;\n",
       "    }\n",
       "\n",
       "    .dataframe tbody tr th {\n",
       "        vertical-align: top;\n",
       "    }\n",
       "\n",
       "    .dataframe thead th {\n",
       "        text-align: right;\n",
       "    }\n",
       "</style>\n",
       "<table border=\"1\" class=\"dataframe\">\n",
       "  <thead>\n",
       "    <tr style=\"text-align: right;\">\n",
       "      <th></th>\n",
       "      <th>State</th>\n",
       "      <th>type_of_roads</th>\n",
       "      <th>counts</th>\n",
       "    </tr>\n",
       "  </thead>\n",
       "  <tbody>\n",
       "    <tr>\n",
       "      <th>0</th>\n",
       "      <td>AL</td>\n",
       "      <td>None</td>\n",
       "      <td>856</td>\n",
       "    </tr>\n",
       "    <tr>\n",
       "      <th>1</th>\n",
       "      <td>AL</td>\n",
       "      <td>cycleway</td>\n",
       "      <td>2</td>\n",
       "    </tr>\n",
       "    <tr>\n",
       "      <th>2</th>\n",
       "      <td>AL</td>\n",
       "      <td>footway</td>\n",
       "      <td>1</td>\n",
       "    </tr>\n",
       "    <tr>\n",
       "      <th>3</th>\n",
       "      <td>AL</td>\n",
       "      <td>motorway</td>\n",
       "      <td>4160</td>\n",
       "    </tr>\n",
       "    <tr>\n",
       "      <th>4</th>\n",
       "      <td>AL</td>\n",
       "      <td>motorway_link</td>\n",
       "      <td>472</td>\n",
       "    </tr>\n",
       "  </tbody>\n",
       "</table>\n",
       "</div>"
      ],
      "text/plain": [
       "  State  type_of_roads  counts\n",
       "0    AL           None     856\n",
       "1    AL       cycleway       2\n",
       "2    AL        footway       1\n",
       "3    AL       motorway    4160\n",
       "4    AL  motorway_link     472"
      ]
     },
     "execution_count": 39,
     "metadata": {},
     "output_type": "execute_result"
    }
   ],
   "source": [
    "df_state_type_of_roads_group_count.head()"
   ]
  },
  {
   "cell_type": "code",
   "execution_count": 41,
   "metadata": {},
   "outputs": [],
   "source": [
    "df_state_type_of_roads_group_count_motorway = df_state_type_of_roads_group_count[df_state_type_of_roads_group_count.type_of_roads == \"motorway\"]"
   ]
  },
  {
   "cell_type": "code",
   "execution_count": 42,
   "metadata": {},
   "outputs": [
    {
     "data": {
      "text/html": [
       "<div>\n",
       "<style scoped>\n",
       "    .dataframe tbody tr th:only-of-type {\n",
       "        vertical-align: middle;\n",
       "    }\n",
       "\n",
       "    .dataframe tbody tr th {\n",
       "        vertical-align: top;\n",
       "    }\n",
       "\n",
       "    .dataframe thead th {\n",
       "        text-align: right;\n",
       "    }\n",
       "</style>\n",
       "<table border=\"1\" class=\"dataframe\">\n",
       "  <thead>\n",
       "    <tr style=\"text-align: right;\">\n",
       "      <th></th>\n",
       "      <th>State</th>\n",
       "      <th>type_of_roads</th>\n",
       "      <th>counts</th>\n",
       "    </tr>\n",
       "  </thead>\n",
       "  <tbody>\n",
       "    <tr>\n",
       "      <th>3</th>\n",
       "      <td>AL</td>\n",
       "      <td>motorway</td>\n",
       "      <td>4160</td>\n",
       "    </tr>\n",
       "    <tr>\n",
       "      <th>17</th>\n",
       "      <td>AR</td>\n",
       "      <td>motorway</td>\n",
       "      <td>739</td>\n",
       "    </tr>\n",
       "    <tr>\n",
       "      <th>35</th>\n",
       "      <td>AZ</td>\n",
       "      <td>motorway</td>\n",
       "      <td>4194</td>\n",
       "    </tr>\n",
       "    <tr>\n",
       "      <th>56</th>\n",
       "      <td>CA</td>\n",
       "      <td>motorway</td>\n",
       "      <td>65466</td>\n",
       "    </tr>\n",
       "    <tr>\n",
       "      <th>78</th>\n",
       "      <td>CO</td>\n",
       "      <td>motorway</td>\n",
       "      <td>24693</td>\n",
       "    </tr>\n",
       "  </tbody>\n",
       "</table>\n",
       "</div>"
      ],
      "text/plain": [
       "   State type_of_roads  counts\n",
       "3     AL      motorway    4160\n",
       "17    AR      motorway     739\n",
       "35    AZ      motorway    4194\n",
       "56    CA      motorway   65466\n",
       "78    CO      motorway   24693"
      ]
     },
     "execution_count": 42,
     "metadata": {},
     "output_type": "execute_result"
    }
   ],
   "source": [
    "df_state_type_of_roads_group_count_motorway.head()"
   ]
  },
  {
   "cell_type": "code",
   "execution_count": 43,
   "metadata": {},
   "outputs": [
    {
     "data": {
      "image/png": "[encoded data removed]",
      "text/plain": [
       "<Figure size 1080x576 with 1 Axes>"
      ]
     },
     "metadata": {
      "needs_background": "light"
     },
     "output_type": "display_data"
    }
   ],
   "source": [
    "plt.figure(figsize= (15,8))\n",
    "plt.bar(x=df_state_type_of_roads_group_count_motorway['State'], height=df_state_type_of_roads_group_count_motorway['counts'])\n",
    "a = plt.xticks(rotation = 90)\n",
    "plt.title(\"Construction distribution for each state for the Motorway road type\")\n",
    "plt.savefig(\"Construction-distribution-each-state-Motorway-road-type.png\")"
   ]
  },
  {
   "cell_type": "code",
   "execution_count": 44,
   "metadata": {},
   "outputs": [],
   "source": [
    "df_state_type_of_roads_group_count_primary = df_state_type_of_roads_group_count[df_state_type_of_roads_group_count.type_of_roads == \"primary\"]"
   ]
  },
  {
   "cell_type": "code",
   "execution_count": 45,
   "metadata": {},
   "outputs": [
    {
     "data": {
      "text/html": [
       "<div>\n",
       "<style scoped>\n",
       "    .dataframe tbody tr th:only-of-type {\n",
       "        vertical-align: middle;\n",
       "    }\n",
       "\n",
       "    .dataframe tbody tr th {\n",
       "        vertical-align: top;\n",
       "    }\n",
       "\n",
       "    .dataframe thead th {\n",
       "        text-align: right;\n",
       "    }\n",
       "</style>\n",
       "<table border=\"1\" class=\"dataframe\">\n",
       "  <thead>\n",
       "    <tr style=\"text-align: right;\">\n",
       "      <th></th>\n",
       "      <th>State</th>\n",
       "      <th>type_of_roads</th>\n",
       "      <th>counts</th>\n",
       "    </tr>\n",
       "  </thead>\n",
       "  <tbody>\n",
       "    <tr>\n",
       "      <th>5</th>\n",
       "      <td>AL</td>\n",
       "      <td>primary</td>\n",
       "      <td>1197</td>\n",
       "    </tr>\n",
       "    <tr>\n",
       "      <th>19</th>\n",
       "      <td>AR</td>\n",
       "      <td>primary</td>\n",
       "      <td>380</td>\n",
       "    </tr>\n",
       "    <tr>\n",
       "      <th>39</th>\n",
       "      <td>AZ</td>\n",
       "      <td>primary</td>\n",
       "      <td>3248</td>\n",
       "    </tr>\n",
       "    <tr>\n",
       "      <th>60</th>\n",
       "      <td>CA</td>\n",
       "      <td>primary</td>\n",
       "      <td>48212</td>\n",
       "    </tr>\n",
       "    <tr>\n",
       "      <th>81</th>\n",
       "      <td>CO</td>\n",
       "      <td>primary</td>\n",
       "      <td>19854</td>\n",
       "    </tr>\n",
       "  </tbody>\n",
       "</table>\n",
       "</div>"
      ],
      "text/plain": [
       "   State type_of_roads  counts\n",
       "5     AL       primary    1197\n",
       "19    AR       primary     380\n",
       "39    AZ       primary    3248\n",
       "60    CA       primary   48212\n",
       "81    CO       primary   19854"
      ]
     },
     "execution_count": 45,
     "metadata": {},
     "output_type": "execute_result"
    }
   ],
   "source": [
    "df_state_type_of_roads_group_count_primary.head()"
   ]
  },
  {
   "cell_type": "code",
   "execution_count": 46,
   "metadata": {},
   "outputs": [
    {
     "data": {
      "image/png": "[encoded data removed]",
      "text/plain": [
       "<Figure size 1080x576 with 1 Axes>"
      ]
     },
     "metadata": {
      "needs_background": "light"
     },
     "output_type": "display_data"
    }
   ],
   "source": [
    "plt.figure(figsize= (15,8))\n",
    "plt.bar(x=df_state_type_of_roads_group_count_primary['State'], height=df_state_type_of_roads_group_count_primary['counts'])\n",
    "a = plt.xticks(rotation = 90)\n",
    "plt.title(\"Construction distribution for each state for the primary road type\")\n",
    "plt.savefig(\"Construction-distribution-each-state-primary-road-type.png\")"
   ]
  },
  {
   "cell_type": "code",
   "execution_count": 47,
   "metadata": {},
   "outputs": [],
   "source": [
    "df_state_type_of_roads_group_count_secondary = df_state_type_of_roads_group_count[df_state_type_of_roads_group_count.type_of_roads == \"secondary\"]"
   ]
  },
  {
   "cell_type": "code",
   "execution_count": 48,
   "metadata": {},
   "outputs": [
    {
     "data": {
      "text/html": [
       "<div>\n",
       "<style scoped>\n",
       "    .dataframe tbody tr th:only-of-type {\n",
       "        vertical-align: middle;\n",
       "    }\n",
       "\n",
       "    .dataframe tbody tr th {\n",
       "        vertical-align: top;\n",
       "    }\n",
       "\n",
       "    .dataframe thead th {\n",
       "        text-align: right;\n",
       "    }\n",
       "</style>\n",
       "<table border=\"1\" class=\"dataframe\">\n",
       "  <thead>\n",
       "    <tr style=\"text-align: right;\">\n",
       "      <th></th>\n",
       "      <th>State</th>\n",
       "      <th>type_of_roads</th>\n",
       "      <th>counts</th>\n",
       "    </tr>\n",
       "  </thead>\n",
       "  <tbody>\n",
       "    <tr>\n",
       "      <th>8</th>\n",
       "      <td>AL</td>\n",
       "      <td>secondary</td>\n",
       "      <td>762</td>\n",
       "    </tr>\n",
       "    <tr>\n",
       "      <th>22</th>\n",
       "      <td>AR</td>\n",
       "      <td>secondary</td>\n",
       "      <td>307</td>\n",
       "    </tr>\n",
       "    <tr>\n",
       "      <th>43</th>\n",
       "      <td>AZ</td>\n",
       "      <td>secondary</td>\n",
       "      <td>8090</td>\n",
       "    </tr>\n",
       "    <tr>\n",
       "      <th>64</th>\n",
       "      <td>CA</td>\n",
       "      <td>secondary</td>\n",
       "      <td>29949</td>\n",
       "    </tr>\n",
       "    <tr>\n",
       "      <th>84</th>\n",
       "      <td>CO</td>\n",
       "      <td>secondary</td>\n",
       "      <td>9919</td>\n",
       "    </tr>\n",
       "  </tbody>\n",
       "</table>\n",
       "</div>"
      ],
      "text/plain": [
       "   State type_of_roads  counts\n",
       "8     AL     secondary     762\n",
       "22    AR     secondary     307\n",
       "43    AZ     secondary    8090\n",
       "64    CA     secondary   29949\n",
       "84    CO     secondary    9919"
      ]
     },
     "execution_count": 48,
     "metadata": {},
     "output_type": "execute_result"
    }
   ],
   "source": [
    "df_state_type_of_roads_group_count_secondary.head()"
   ]
  },
  {
   "cell_type": "code",
   "execution_count": 49,
   "metadata": {},
   "outputs": [
    {
     "data": {
      "image/png": "[encoded data removed]",
      "text/plain": [
       "<Figure size 1080x576 with 1 Axes>"
      ]
     },
     "metadata": {
      "needs_background": "light"
     },
     "output_type": "display_data"
    }
   ],
   "source": [
    "plt.figure(figsize= (15,8))\n",
    "plt.bar(x=df_state_type_of_roads_group_count_secondary['State'], height=df_state_type_of_roads_group_count_secondary['counts'])\n",
    "a = plt.xticks(rotation = 90)\n",
    "plt.title(\"Construction distribution for each state for the Secondary road type\")\n",
    "plt.savefig(\"Construction-distribution-each-state-secondary-road-type.png\")"
   ]
  },
  {
   "cell_type": "code",
   "execution_count": 50,
   "metadata": {},
   "outputs": [],
   "source": [
    "df_state_type_of_roads_group_count_motorway_link = df_state_type_of_roads_group_count[df_state_type_of_roads_group_count.type_of_roads == \"motorway_link\"]"
   ]
  },
  {
   "cell_type": "code",
   "execution_count": 51,
   "metadata": {},
   "outputs": [
    {
     "data": {
      "text/html": [
       "<div>\n",
       "<style scoped>\n",
       "    .dataframe tbody tr th:only-of-type {\n",
       "        vertical-align: middle;\n",
       "    }\n",
       "\n",
       "    .dataframe tbody tr th {\n",
       "        vertical-align: top;\n",
       "    }\n",
       "\n",
       "    .dataframe thead th {\n",
       "        text-align: right;\n",
       "    }\n",
       "</style>\n",
       "<table border=\"1\" class=\"dataframe\">\n",
       "  <thead>\n",
       "    <tr style=\"text-align: right;\">\n",
       "      <th></th>\n",
       "      <th>State</th>\n",
       "      <th>type_of_roads</th>\n",
       "      <th>counts</th>\n",
       "    </tr>\n",
       "  </thead>\n",
       "  <tbody>\n",
       "    <tr>\n",
       "      <th>4</th>\n",
       "      <td>AL</td>\n",
       "      <td>motorway_link</td>\n",
       "      <td>472</td>\n",
       "    </tr>\n",
       "    <tr>\n",
       "      <th>18</th>\n",
       "      <td>AR</td>\n",
       "      <td>motorway_link</td>\n",
       "      <td>124</td>\n",
       "    </tr>\n",
       "    <tr>\n",
       "      <th>36</th>\n",
       "      <td>AZ</td>\n",
       "      <td>motorway_link</td>\n",
       "      <td>2565</td>\n",
       "    </tr>\n",
       "    <tr>\n",
       "      <th>57</th>\n",
       "      <td>CA</td>\n",
       "      <td>motorway_link</td>\n",
       "      <td>40570</td>\n",
       "    </tr>\n",
       "    <tr>\n",
       "      <th>79</th>\n",
       "      <td>CO</td>\n",
       "      <td>motorway_link</td>\n",
       "      <td>7645</td>\n",
       "    </tr>\n",
       "  </tbody>\n",
       "</table>\n",
       "</div>"
      ],
      "text/plain": [
       "   State  type_of_roads  counts\n",
       "4     AL  motorway_link     472\n",
       "18    AR  motorway_link     124\n",
       "36    AZ  motorway_link    2565\n",
       "57    CA  motorway_link   40570\n",
       "79    CO  motorway_link    7645"
      ]
     },
     "execution_count": 51,
     "metadata": {},
     "output_type": "execute_result"
    }
   ],
   "source": [
    "df_state_type_of_roads_group_count_motorway_link.head()"
   ]
  },
  {
   "cell_type": "code",
   "execution_count": 52,
   "metadata": {},
   "outputs": [
    {
     "data": {
      "image/png": "[encoded data removed]",
      "text/plain": [
       "<Figure size 1080x576 with 1 Axes>"
      ]
     },
     "metadata": {
      "needs_background": "light"
     },
     "output_type": "display_data"
    }
   ],
   "source": [
    "plt.figure(figsize= (15,8))\n",
    "plt.bar(x=df_state_type_of_roads_group_count_motorway_link['State'], height=df_state_type_of_roads_group_count_motorway_link['counts'])\n",
    "a = plt.xticks(rotation = 90)\n",
    "plt.title(\"Construction distribution for each state for the Motorway Link road type\")\n",
    "plt.savefig(\"Construction-distribution-each-state-motorway_link-road-type.png\")"
   ]
  },
  {
   "cell_type": "code",
   "execution_count": 53,
   "metadata": {},
   "outputs": [],
   "source": [
    "df_state_type_of_roads_group_count_residential= df_state_type_of_roads_group_count[df_state_type_of_roads_group_count.type_of_roads == \"residential\"]"
   ]
  },
  {
   "cell_type": "code",
   "execution_count": 54,
   "metadata": {},
   "outputs": [
    {
     "data": {
      "text/html": [
       "<div>\n",
       "<style scoped>\n",
       "    .dataframe tbody tr th:only-of-type {\n",
       "        vertical-align: middle;\n",
       "    }\n",
       "\n",
       "    .dataframe tbody tr th {\n",
       "        vertical-align: top;\n",
       "    }\n",
       "\n",
       "    .dataframe thead th {\n",
       "        text-align: right;\n",
       "    }\n",
       "</style>\n",
       "<table border=\"1\" class=\"dataframe\">\n",
       "  <thead>\n",
       "    <tr style=\"text-align: right;\">\n",
       "      <th></th>\n",
       "      <th>State</th>\n",
       "      <th>type_of_roads</th>\n",
       "      <th>counts</th>\n",
       "    </tr>\n",
       "  </thead>\n",
       "  <tbody>\n",
       "    <tr>\n",
       "      <th>7</th>\n",
       "      <td>AL</td>\n",
       "      <td>residential</td>\n",
       "      <td>694</td>\n",
       "    </tr>\n",
       "    <tr>\n",
       "      <th>21</th>\n",
       "      <td>AR</td>\n",
       "      <td>residential</td>\n",
       "      <td>317</td>\n",
       "    </tr>\n",
       "    <tr>\n",
       "      <th>42</th>\n",
       "      <td>AZ</td>\n",
       "      <td>residential</td>\n",
       "      <td>4349</td>\n",
       "    </tr>\n",
       "    <tr>\n",
       "      <th>63</th>\n",
       "      <td>CA</td>\n",
       "      <td>residential</td>\n",
       "      <td>24979</td>\n",
       "    </tr>\n",
       "    <tr>\n",
       "      <th>83</th>\n",
       "      <td>CO</td>\n",
       "      <td>residential</td>\n",
       "      <td>14615</td>\n",
       "    </tr>\n",
       "  </tbody>\n",
       "</table>\n",
       "</div>"
      ],
      "text/plain": [
       "   State type_of_roads  counts\n",
       "7     AL   residential     694\n",
       "21    AR   residential     317\n",
       "42    AZ   residential    4349\n",
       "63    CA   residential   24979\n",
       "83    CO   residential   14615"
      ]
     },
     "execution_count": 54,
     "metadata": {},
     "output_type": "execute_result"
    }
   ],
   "source": [
    "df_state_type_of_roads_group_count_residential.head()"
   ]
  },
  {
   "cell_type": "code",
   "execution_count": 56,
   "metadata": {},
   "outputs": [
    {
     "data": {
      "image/png": "[encoded data removed]",
      "text/plain": [
       "<Figure size 1080x576 with 1 Axes>"
      ]
     },
     "metadata": {
      "needs_background": "light"
     },
     "output_type": "display_data"
    }
   ],
   "source": [
    "plt.figure(figsize= (15,8))\n",
    "plt.bar(x=df_state_type_of_roads_group_count_residential['State'], height=df_state_type_of_roads_group_count_residential['counts'])\n",
    "a = plt.xticks(rotation = 90)\n",
    "plt.title(\"Construction distribution for each state for the Residential road type\")\n",
    "plt.savefig(\"Construction-distribution-each-state-residential-road-type.png\")"
   ]
  },
  {
   "cell_type": "code",
   "execution_count": 57,
   "metadata": {},
   "outputs": [],
   "source": [
    "df_state_type_of_roads_group_count_tertiary = df_state_type_of_roads_group_count[df_state_type_of_roads_group_count.type_of_roads == \"tertiary\"]"
   ]
  },
  {
   "cell_type": "code",
   "execution_count": 58,
   "metadata": {},
   "outputs": [
    {
     "data": {
      "text/html": [
       "<div>\n",
       "<style scoped>\n",
       "    .dataframe tbody tr th:only-of-type {\n",
       "        vertical-align: middle;\n",
       "    }\n",
       "\n",
       "    .dataframe tbody tr th {\n",
       "        vertical-align: top;\n",
       "    }\n",
       "\n",
       "    .dataframe thead th {\n",
       "        text-align: right;\n",
       "    }\n",
       "</style>\n",
       "<table border=\"1\" class=\"dataframe\">\n",
       "  <thead>\n",
       "    <tr style=\"text-align: right;\">\n",
       "      <th></th>\n",
       "      <th>State</th>\n",
       "      <th>type_of_roads</th>\n",
       "      <th>counts</th>\n",
       "    </tr>\n",
       "  </thead>\n",
       "  <tbody>\n",
       "    <tr>\n",
       "      <th>11</th>\n",
       "      <td>AL</td>\n",
       "      <td>tertiary</td>\n",
       "      <td>556</td>\n",
       "    </tr>\n",
       "    <tr>\n",
       "      <th>25</th>\n",
       "      <td>AR</td>\n",
       "      <td>tertiary</td>\n",
       "      <td>158</td>\n",
       "    </tr>\n",
       "    <tr>\n",
       "      <th>46</th>\n",
       "      <td>AZ</td>\n",
       "      <td>tertiary</td>\n",
       "      <td>1633</td>\n",
       "    </tr>\n",
       "    <tr>\n",
       "      <th>68</th>\n",
       "      <td>CA</td>\n",
       "      <td>tertiary</td>\n",
       "      <td>12756</td>\n",
       "    </tr>\n",
       "    <tr>\n",
       "      <th>87</th>\n",
       "      <td>CO</td>\n",
       "      <td>tertiary</td>\n",
       "      <td>4597</td>\n",
       "    </tr>\n",
       "  </tbody>\n",
       "</table>\n",
       "</div>"
      ],
      "text/plain": [
       "   State type_of_roads  counts\n",
       "11    AL      tertiary     556\n",
       "25    AR      tertiary     158\n",
       "46    AZ      tertiary    1633\n",
       "68    CA      tertiary   12756\n",
       "87    CO      tertiary    4597"
      ]
     },
     "execution_count": 58,
     "metadata": {},
     "output_type": "execute_result"
    }
   ],
   "source": [
    "df_state_type_of_roads_group_count_tertiary.head()"
   ]
  },
  {
   "cell_type": "code",
   "execution_count": 59,
   "metadata": {},
   "outputs": [
    {
     "data": {
      "image/png": "[encoded data removed]",
      "text/plain": [
       "<Figure size 1080x576 with 1 Axes>"
      ]
     },
     "metadata": {
      "needs_background": "light"
     },
     "output_type": "display_data"
    }
   ],
   "source": [
    "plt.figure(figsize= (15,8))\n",
    "plt.bar(x=df_state_type_of_roads_group_count_tertiary['State'], height=df_state_type_of_roads_group_count_tertiary['counts'])\n",
    "a = plt.xticks(rotation = 90)\n",
    "plt.title(\"Construction distribution for each state for the Tertiary road type\")\n",
    "plt.savefig(\"Construction-distribution-each-state-tertiary-road-type.png\")"
   ]
  },
  {
   "cell_type": "code",
   "execution_count": 60,
   "metadata": {},
   "outputs": [],
   "source": [
    "df_state_type_of_roads_group_count_trunk = df_state_type_of_roads_group_count[df_state_type_of_roads_group_count.type_of_roads == \"trunk\"]"
   ]
  },
  {
   "cell_type": "code",
   "execution_count": 61,
   "metadata": {},
   "outputs": [
    {
     "data": {
      "text/html": [
       "<div>\n",
       "<style scoped>\n",
       "    .dataframe tbody tr th:only-of-type {\n",
       "        vertical-align: middle;\n",
       "    }\n",
       "\n",
       "    .dataframe tbody tr th {\n",
       "        vertical-align: top;\n",
       "    }\n",
       "\n",
       "    .dataframe thead th {\n",
       "        text-align: right;\n",
       "    }\n",
       "</style>\n",
       "<table border=\"1\" class=\"dataframe\">\n",
       "  <thead>\n",
       "    <tr style=\"text-align: right;\">\n",
       "      <th></th>\n",
       "      <th>State</th>\n",
       "      <th>type_of_roads</th>\n",
       "      <th>counts</th>\n",
       "    </tr>\n",
       "  </thead>\n",
       "  <tbody>\n",
       "    <tr>\n",
       "      <th>13</th>\n",
       "      <td>AL</td>\n",
       "      <td>trunk</td>\n",
       "      <td>18</td>\n",
       "    </tr>\n",
       "    <tr>\n",
       "      <th>28</th>\n",
       "      <td>AR</td>\n",
       "      <td>trunk</td>\n",
       "      <td>43</td>\n",
       "    </tr>\n",
       "    <tr>\n",
       "      <th>49</th>\n",
       "      <td>AZ</td>\n",
       "      <td>trunk</td>\n",
       "      <td>542</td>\n",
       "    </tr>\n",
       "    <tr>\n",
       "      <th>71</th>\n",
       "      <td>CA</td>\n",
       "      <td>trunk</td>\n",
       "      <td>7680</td>\n",
       "    </tr>\n",
       "    <tr>\n",
       "      <th>90</th>\n",
       "      <td>CO</td>\n",
       "      <td>trunk</td>\n",
       "      <td>6588</td>\n",
       "    </tr>\n",
       "  </tbody>\n",
       "</table>\n",
       "</div>"
      ],
      "text/plain": [
       "   State type_of_roads  counts\n",
       "13    AL         trunk      18\n",
       "28    AR         trunk      43\n",
       "49    AZ         trunk     542\n",
       "71    CA         trunk    7680\n",
       "90    CO         trunk    6588"
      ]
     },
     "execution_count": 61,
     "metadata": {},
     "output_type": "execute_result"
    }
   ],
   "source": [
    "df_state_type_of_roads_group_count_trunk.head()"
   ]
  },
  {
   "cell_type": "code",
   "execution_count": 62,
   "metadata": {},
   "outputs": [
    {
     "data": {
      "image/png": "[encoded data removed]",
      "text/plain": [
       "<Figure size 1080x576 with 1 Axes>"
      ]
     },
     "metadata": {
      "needs_background": "light"
     },
     "output_type": "display_data"
    }
   ],
   "source": [
    "plt.figure(figsize= (15,8))\n",
    "plt.bar(x=df_state_type_of_roads_group_count_trunk['State'], height=df_state_type_of_roads_group_count_trunk['counts'])\n",
    "a = plt.xticks(rotation = 90)\n",
    "plt.title(\"Construction distribution for each state for the Trunk road type\")\n",
    "plt.savefig(\"Construction-distribution-each-state-trunk-road-type.png\")"
   ]
  },
  {
   "cell_type": "code",
   "execution_count": 63,
   "metadata": {},
   "outputs": [],
   "source": [
    "df_state_type_of_roads_group_count_service = df_state_type_of_roads_group_count[df_state_type_of_roads_group_count.type_of_roads == \"service\"]"
   ]
  },
  {
   "cell_type": "code",
   "execution_count": 64,
   "metadata": {},
   "outputs": [
    {
     "data": {
      "text/html": [
       "<div>\n",
       "<style scoped>\n",
       "    .dataframe tbody tr th:only-of-type {\n",
       "        vertical-align: middle;\n",
       "    }\n",
       "\n",
       "    .dataframe tbody tr th {\n",
       "        vertical-align: top;\n",
       "    }\n",
       "\n",
       "    .dataframe thead th {\n",
       "        text-align: right;\n",
       "    }\n",
       "</style>\n",
       "<table border=\"1\" class=\"dataframe\">\n",
       "  <thead>\n",
       "    <tr style=\"text-align: right;\">\n",
       "      <th></th>\n",
       "      <th>State</th>\n",
       "      <th>type_of_roads</th>\n",
       "      <th>counts</th>\n",
       "    </tr>\n",
       "  </thead>\n",
       "  <tbody>\n",
       "    <tr>\n",
       "      <th>10</th>\n",
       "      <td>AL</td>\n",
       "      <td>service</td>\n",
       "      <td>83</td>\n",
       "    </tr>\n",
       "    <tr>\n",
       "      <th>24</th>\n",
       "      <td>AR</td>\n",
       "      <td>service</td>\n",
       "      <td>22</td>\n",
       "    </tr>\n",
       "    <tr>\n",
       "      <th>45</th>\n",
       "      <td>AZ</td>\n",
       "      <td>service</td>\n",
       "      <td>506</td>\n",
       "    </tr>\n",
       "    <tr>\n",
       "      <th>66</th>\n",
       "      <td>CA</td>\n",
       "      <td>service</td>\n",
       "      <td>3514</td>\n",
       "    </tr>\n",
       "    <tr>\n",
       "      <th>86</th>\n",
       "      <td>CO</td>\n",
       "      <td>service</td>\n",
       "      <td>2146</td>\n",
       "    </tr>\n",
       "  </tbody>\n",
       "</table>\n",
       "</div>"
      ],
      "text/plain": [
       "   State type_of_roads  counts\n",
       "10    AL       service      83\n",
       "24    AR       service      22\n",
       "45    AZ       service     506\n",
       "66    CA       service    3514\n",
       "86    CO       service    2146"
      ]
     },
     "execution_count": 64,
     "metadata": {},
     "output_type": "execute_result"
    }
   ],
   "source": [
    "df_state_type_of_roads_group_count_service.head()"
   ]
  },
  {
   "cell_type": "code",
   "execution_count": 65,
   "metadata": {},
   "outputs": [
    {
     "data": {
      "image/png": "[encoded data removed]",
      "text/plain": [
       "<Figure size 1080x576 with 1 Axes>"
      ]
     },
     "metadata": {
      "needs_background": "light"
     },
     "output_type": "display_data"
    }
   ],
   "source": [
    "plt.figure(figsize= (15,8))\n",
    "plt.bar(x=df_state_type_of_roads_group_count_service['State'], height=df_state_type_of_roads_group_count_service['counts'])\n",
    "a = plt.xticks(rotation = 90)\n",
    "plt.title(\"Construction distribution for each state for the Service road type\")\n",
    "plt.savefig(\"Construction-distribution-each-state-service-road-type.png\")"
   ]
  },
  {
   "cell_type": "code",
   "execution_count": 66,
   "metadata": {},
   "outputs": [],
   "source": [
    "df_city_state_group = df.groupby([\"City\", \"State\"])"
   ]
  },
  {
   "cell_type": "code",
   "execution_count": 67,
   "metadata": {},
   "outputs": [],
   "source": [
    "df_city_state_group_count = df_city_state_group.size().reset_index(name='counts')"
   ]
  },
  {
   "cell_type": "code",
   "execution_count": 68,
   "metadata": {},
   "outputs": [
    {
     "data": {
      "text/html": [
       "<div>\n",
       "<style scoped>\n",
       "    .dataframe tbody tr th:only-of-type {\n",
       "        vertical-align: middle;\n",
       "    }\n",
       "\n",
       "    .dataframe tbody tr th {\n",
       "        vertical-align: top;\n",
       "    }\n",
       "\n",
       "    .dataframe thead th {\n",
       "        text-align: right;\n",
       "    }\n",
       "</style>\n",
       "<table border=\"1\" class=\"dataframe\">\n",
       "  <thead>\n",
       "    <tr style=\"text-align: right;\">\n",
       "      <th></th>\n",
       "      <th>City</th>\n",
       "      <th>State</th>\n",
       "      <th>counts</th>\n",
       "    </tr>\n",
       "  </thead>\n",
       "  <tbody>\n",
       "    <tr>\n",
       "      <th>0</th>\n",
       "      <td>Aaronsburg</td>\n",
       "      <td>PA</td>\n",
       "      <td>6</td>\n",
       "    </tr>\n",
       "    <tr>\n",
       "      <th>1</th>\n",
       "      <td>Abbeville</td>\n",
       "      <td>AL</td>\n",
       "      <td>7</td>\n",
       "    </tr>\n",
       "    <tr>\n",
       "      <th>2</th>\n",
       "      <td>Abbeville</td>\n",
       "      <td>GA</td>\n",
       "      <td>4</td>\n",
       "    </tr>\n",
       "    <tr>\n",
       "      <th>3</th>\n",
       "      <td>Abbeville</td>\n",
       "      <td>LA</td>\n",
       "      <td>12</td>\n",
       "    </tr>\n",
       "    <tr>\n",
       "      <th>4</th>\n",
       "      <td>Abbeville</td>\n",
       "      <td>SC</td>\n",
       "      <td>1</td>\n",
       "    </tr>\n",
       "  </tbody>\n",
       "</table>\n",
       "</div>"
      ],
      "text/plain": [
       "         City State  counts\n",
       "0  Aaronsburg    PA       6\n",
       "1   Abbeville    AL       7\n",
       "2   Abbeville    GA       4\n",
       "3   Abbeville    LA      12\n",
       "4   Abbeville    SC       1"
      ]
     },
     "execution_count": 68,
     "metadata": {},
     "output_type": "execute_result"
    }
   ],
   "source": [
    "df_city_state_group_count.head()"
   ]
  },
  {
   "cell_type": "code",
   "execution_count": 69,
   "metadata": {},
   "outputs": [],
   "source": [
    "df_city_state_group_count_sorted = df_city_state_group_count.sort_values(by=['counts'], ascending=False)"
   ]
  },
  {
   "cell_type": "code",
   "execution_count": 75,
   "metadata": {},
   "outputs": [
    {
     "data": {
      "text/html": [
       "<div>\n",
       "<style scoped>\n",
       "    .dataframe tbody tr th:only-of-type {\n",
       "        vertical-align: middle;\n",
       "    }\n",
       "\n",
       "    .dataframe tbody tr th {\n",
       "        vertical-align: top;\n",
       "    }\n",
       "\n",
       "    .dataframe thead th {\n",
       "        text-align: right;\n",
       "    }\n",
       "</style>\n",
       "<table border=\"1\" class=\"dataframe\">\n",
       "  <thead>\n",
       "    <tr style=\"text-align: right;\">\n",
       "      <th></th>\n",
       "      <th>City</th>\n",
       "      <th>State</th>\n",
       "      <th>counts</th>\n",
       "    </tr>\n",
       "  </thead>\n",
       "  <tbody>\n",
       "    <tr>\n",
       "      <th>10916</th>\n",
       "      <td>New York</td>\n",
       "      <td>NY</td>\n",
       "      <td>34505</td>\n",
       "    </tr>\n",
       "    <tr>\n",
       "      <th>632</th>\n",
       "      <td>Atlanta</td>\n",
       "      <td>GA</td>\n",
       "      <td>30784</td>\n",
       "    </tr>\n",
       "    <tr>\n",
       "      <th>9874</th>\n",
       "      <td>Miami</td>\n",
       "      <td>FL</td>\n",
       "      <td>30043</td>\n",
       "    </tr>\n",
       "    <tr>\n",
       "      <th>8958</th>\n",
       "      <td>Los Angeles</td>\n",
       "      <td>CA</td>\n",
       "      <td>22250</td>\n",
       "    </tr>\n",
       "    <tr>\n",
       "      <th>12286</th>\n",
       "      <td>Pittsburgh</td>\n",
       "      <td>PA</td>\n",
       "      <td>18849</td>\n",
       "    </tr>\n",
       "    <tr>\n",
       "      <th>4013</th>\n",
       "      <td>Denver</td>\n",
       "      <td>CO</td>\n",
       "      <td>17750</td>\n",
       "    </tr>\n",
       "    <tr>\n",
       "      <th>12141</th>\n",
       "      <td>Philadelphia</td>\n",
       "      <td>PA</td>\n",
       "      <td>15329</td>\n",
       "    </tr>\n",
       "    <tr>\n",
       "      <th>7233</th>\n",
       "      <td>Houston</td>\n",
       "      <td>TX</td>\n",
       "      <td>14891</td>\n",
       "    </tr>\n",
       "    <tr>\n",
       "      <th>11604</th>\n",
       "      <td>Orlando</td>\n",
       "      <td>FL</td>\n",
       "      <td>14316</td>\n",
       "    </tr>\n",
       "    <tr>\n",
       "      <th>3035</th>\n",
       "      <td>Cleveland</td>\n",
       "      <td>OH</td>\n",
       "      <td>13723</td>\n",
       "    </tr>\n",
       "  </tbody>\n",
       "</table>\n",
       "</div>"
      ],
      "text/plain": [
       "               City State  counts\n",
       "10916      New York    NY   34505\n",
       "632         Atlanta    GA   30784\n",
       "9874          Miami    FL   30043\n",
       "8958    Los Angeles    CA   22250\n",
       "12286    Pittsburgh    PA   18849\n",
       "4013         Denver    CO   17750\n",
       "12141  Philadelphia    PA   15329\n",
       "7233        Houston    TX   14891\n",
       "11604       Orlando    FL   14316\n",
       "3035      Cleveland    OH   13723"
      ]
     },
     "execution_count": 75,
     "metadata": {},
     "output_type": "execute_result"
    }
   ],
   "source": [
    "df_city_state_group_count_sorted.head(10)"
   ]
  },
  {
   "cell_type": "code",
   "execution_count": 76,
   "metadata": {},
   "outputs": [],
   "source": [
    "states = [\"NY\", \"GA\", \"FL\", \"CA\", \"PA\", \"CO\", \"PA\", \"TX\", \"FL\", \"OH\"]"
   ]
  },
  {
   "cell_type": "code",
   "execution_count": 77,
   "metadata": {},
   "outputs": [],
   "source": [
    "df_city_state_group_count_sorted_filter = df_city_state_group_count_sorted.loc[:, df_city_state_group_count_sorted.columns.intersection(states)]"
   ]
  },
  {
   "cell_type": "code",
   "execution_count": 78,
   "metadata": {},
   "outputs": [
    {
     "data": {
      "text/html": [
       "<div>\n",
       "<style scoped>\n",
       "    .dataframe tbody tr th:only-of-type {\n",
       "        vertical-align: middle;\n",
       "    }\n",
       "\n",
       "    .dataframe tbody tr th {\n",
       "        vertical-align: top;\n",
       "    }\n",
       "\n",
       "    .dataframe thead th {\n",
       "        text-align: right;\n",
       "    }\n",
       "</style>\n",
       "<table border=\"1\" class=\"dataframe\">\n",
       "  <thead>\n",
       "    <tr style=\"text-align: right;\">\n",
       "      <th></th>\n",
       "    </tr>\n",
       "  </thead>\n",
       "  <tbody>\n",
       "    <tr>\n",
       "      <th>10916</th>\n",
       "    </tr>\n",
       "    <tr>\n",
       "      <th>632</th>\n",
       "    </tr>\n",
       "    <tr>\n",
       "      <th>9874</th>\n",
       "    </tr>\n",
       "    <tr>\n",
       "      <th>8958</th>\n",
       "    </tr>\n",
       "    <tr>\n",
       "      <th>12286</th>\n",
       "    </tr>\n",
       "  </tbody>\n",
       "</table>\n",
       "</div>"
      ],
      "text/plain": [
       "Empty DataFrame\n",
       "Columns: []\n",
       "Index: [10916, 632, 9874, 8958, 12286]"
      ]
     },
     "execution_count": 78,
     "metadata": {},
     "output_type": "execute_result"
    }
   ],
   "source": [
    "df_city_state_group_count_sorted_filter.head()"
   ]
  },
  {
   "cell_type": "code",
   "execution_count": 84,
   "metadata": {},
   "outputs": [],
   "source": [
    "df_filter_state = df[\n",
    "   (df[\"State\"] == \"NY\") |\n",
    "   (df[\"State\"] ==\"GA\") |\n",
    "   (df[\"State\"] == \"FL\") |\n",
    "   (df[\"State\"]== \"CA\") |\n",
    "   (df[\"State\"] == \"PA\") |\n",
    "   (df[\"State\"] == \"CO\") |\n",
    "   (df[\"State\"] == \"PA\") |\n",
    "   (df[\"State\"] == \"TX\") |\n",
    "   (df[\"State\"] == \"FL\") |\n",
    "   (df[\"State\"] == \"OH\")\n",
    "]"
   ]
  },
  {
   "cell_type": "code",
   "execution_count": 85,
   "metadata": {},
   "outputs": [
    {
     "data": {
      "text/html": [
       "<div>\n",
       "<style scoped>\n",
       "    .dataframe tbody tr th:only-of-type {\n",
       "        vertical-align: middle;\n",
       "    }\n",
       "\n",
       "    .dataframe tbody tr th {\n",
       "        vertical-align: top;\n",
       "    }\n",
       "\n",
       "    .dataframe thead th {\n",
       "        text-align: right;\n",
       "    }\n",
       "</style>\n",
       "<table border=\"1\" class=\"dataframe\">\n",
       "  <thead>\n",
       "    <tr style=\"text-align: right;\">\n",
       "      <th></th>\n",
       "      <th>Id</th>\n",
       "      <th>Source</th>\n",
       "      <th>Type</th>\n",
       "      <th>EventCode</th>\n",
       "      <th>Severity</th>\n",
       "      <th>StartPoint_Lat</th>\n",
       "      <th>StartPoint_Lng</th>\n",
       "      <th>EndPoint_Lat</th>\n",
       "      <th>EndPoint_Lng</th>\n",
       "      <th>Distance(mi)</th>\n",
       "      <th>...</th>\n",
       "      <th>Turning_Circle</th>\n",
       "      <th>Turning_Loop</th>\n",
       "      <th>nearst_nodes_of_start_point</th>\n",
       "      <th>nearst_nodes_of_end_point</th>\n",
       "      <th>nearst_nodes_ids_of_start_point</th>\n",
       "      <th>nearst_nodes_ids_of_end_point</th>\n",
       "      <th>type_of_roads</th>\n",
       "      <th>avg_speed</th>\n",
       "      <th>distance</th>\n",
       "      <th>eta</th>\n",
       "    </tr>\n",
       "  </thead>\n",
       "  <tbody>\n",
       "    <tr>\n",
       "      <th>33</th>\n",
       "      <td>M-29455045</td>\n",
       "      <td>MapQuest</td>\n",
       "      <td>Construction</td>\n",
       "      <td>703.0</td>\n",
       "      <td>3</td>\n",
       "      <td>31.457281</td>\n",
       "      <td>-97.172211</td>\n",
       "      <td>NaN</td>\n",
       "      <td>NaN</td>\n",
       "      <td>0.00</td>\n",
       "      <td>...</td>\n",
       "      <td>False</td>\n",
       "      <td>False</td>\n",
       "      <td>{'waypoints': [{'nodes': [0, 236170635], 'hint...</td>\n",
       "      <td>{'waypoints': [{'nodes': [0, 236170635], 'hint...</td>\n",
       "      <td>[0, 236170635, 1396909678, 236170635, 0, 75308...</td>\n",
       "      <td>[0, 236170635, 1396909678, 236170635, 0, 75308...</td>\n",
       "      <td>residential</td>\n",
       "      <td>-100.0</td>\n",
       "      <td>-100.0</td>\n",
       "      <td>-100.0</td>\n",
       "    </tr>\n",
       "    <tr>\n",
       "      <th>41</th>\n",
       "      <td>M-29458660</td>\n",
       "      <td>MapQuest</td>\n",
       "      <td>Construction</td>\n",
       "      <td>817.0</td>\n",
       "      <td>3</td>\n",
       "      <td>39.779926</td>\n",
       "      <td>-105.137856</td>\n",
       "      <td>NaN</td>\n",
       "      <td>NaN</td>\n",
       "      <td>0.00</td>\n",
       "      <td>...</td>\n",
       "      <td>False</td>\n",
       "      <td>False</td>\n",
       "      <td>{'waypoints': [{'nodes': [1903821684, 26945921...</td>\n",
       "      <td>{'waypoints': [{'nodes': [1903821684, 26945921...</td>\n",
       "      <td>[1903821684, 269459210, 2235184897, 3639923343...</td>\n",
       "      <td>[1903821684, 269459210, 2235184897, 3639923343...</td>\n",
       "      <td>primary</td>\n",
       "      <td>-100.0</td>\n",
       "      <td>-100.0</td>\n",
       "      <td>-100.0</td>\n",
       "    </tr>\n",
       "    <tr>\n",
       "      <th>42</th>\n",
       "      <td>M-29458667</td>\n",
       "      <td>MapQuest</td>\n",
       "      <td>Construction</td>\n",
       "      <td>701.0</td>\n",
       "      <td>2</td>\n",
       "      <td>38.969212</td>\n",
       "      <td>-104.798676</td>\n",
       "      <td>NaN</td>\n",
       "      <td>NaN</td>\n",
       "      <td>4.73</td>\n",
       "      <td>...</td>\n",
       "      <td>False</td>\n",
       "      <td>False</td>\n",
       "      <td>{'waypoints': [{'nodes': [0, 2072487136], 'hin...</td>\n",
       "      <td>{'waypoints': [{'nodes': [0, 2072487136], 'hin...</td>\n",
       "      <td>[0, 2072487136, 0, 2072487136, 0, 2072486421, ...</td>\n",
       "      <td>[0, 2072487136, 0, 2072487136, 0, 2072486421, ...</td>\n",
       "      <td>None</td>\n",
       "      <td>-100.0</td>\n",
       "      <td>-100.0</td>\n",
       "      <td>-100.0</td>\n",
       "    </tr>\n",
       "    <tr>\n",
       "      <th>43</th>\n",
       "      <td>M-29458668</td>\n",
       "      <td>MapQuest</td>\n",
       "      <td>Construction</td>\n",
       "      <td>701.0</td>\n",
       "      <td>2</td>\n",
       "      <td>38.926628</td>\n",
       "      <td>-104.682854</td>\n",
       "      <td>NaN</td>\n",
       "      <td>NaN</td>\n",
       "      <td>3.38</td>\n",
       "      <td>...</td>\n",
       "      <td>False</td>\n",
       "      <td>False</td>\n",
       "      <td>{'waypoints': [{'nodes': [0, 5911723255], 'hin...</td>\n",
       "      <td>{'waypoints': [{'nodes': [0, 5911723255], 'hin...</td>\n",
       "      <td>[0, 5911723255, 0, 55703774, 0, 6710058262, 0,...</td>\n",
       "      <td>[0, 5911723255, 0, 55703774, 0, 6710058262, 0,...</td>\n",
       "      <td>None</td>\n",
       "      <td>-100.0</td>\n",
       "      <td>-100.0</td>\n",
       "      <td>-100.0</td>\n",
       "    </tr>\n",
       "    <tr>\n",
       "      <th>44</th>\n",
       "      <td>M-29458728</td>\n",
       "      <td>MapQuest</td>\n",
       "      <td>Construction</td>\n",
       "      <td>703.0</td>\n",
       "      <td>2</td>\n",
       "      <td>39.725700</td>\n",
       "      <td>-105.000168</td>\n",
       "      <td>NaN</td>\n",
       "      <td>NaN</td>\n",
       "      <td>0.00</td>\n",
       "      <td>...</td>\n",
       "      <td>False</td>\n",
       "      <td>False</td>\n",
       "      <td>{'waypoints': [{'nodes': [1045164970, 10451650...</td>\n",
       "      <td>{'waypoints': [{'nodes': [1045164970, 10451650...</td>\n",
       "      <td>[1045164970, 1045165006, 0, 4575057222, 344237...</td>\n",
       "      <td>[1045164970, 1045165006, 0, 4575057222, 344237...</td>\n",
       "      <td>motorway</td>\n",
       "      <td>-100.0</td>\n",
       "      <td>-100.0</td>\n",
       "      <td>-100.0</td>\n",
       "    </tr>\n",
       "  </tbody>\n",
       "</table>\n",
       "<p>5 rows × 66 columns</p>\n",
       "</div>"
      ],
      "text/plain": [
       "            Id    Source          Type  EventCode  Severity  StartPoint_Lat  \\\n",
       "33  M-29455045  MapQuest  Construction      703.0         3       31.457281   \n",
       "41  M-29458660  MapQuest  Construction      817.0         3       39.779926   \n",
       "42  M-29458667  MapQuest  Construction      701.0         2       38.969212   \n",
       "43  M-29458668  MapQuest  Construction      701.0         2       38.926628   \n",
       "44  M-29458728  MapQuest  Construction      703.0         2       39.725700   \n",
       "\n",
       "    StartPoint_Lng  EndPoint_Lat  EndPoint_Lng  Distance(mi)  ...  \\\n",
       "33      -97.172211           NaN           NaN          0.00  ...   \n",
       "41     -105.137856           NaN           NaN          0.00  ...   \n",
       "42     -104.798676           NaN           NaN          4.73  ...   \n",
       "43     -104.682854           NaN           NaN          3.38  ...   \n",
       "44     -105.000168           NaN           NaN          0.00  ...   \n",
       "\n",
       "   Turning_Circle Turning_Loop  \\\n",
       "33          False        False   \n",
       "41          False        False   \n",
       "42          False        False   \n",
       "43          False        False   \n",
       "44          False        False   \n",
       "\n",
       "                          nearst_nodes_of_start_point  \\\n",
       "33  {'waypoints': [{'nodes': [0, 236170635], 'hint...   \n",
       "41  {'waypoints': [{'nodes': [1903821684, 26945921...   \n",
       "42  {'waypoints': [{'nodes': [0, 2072487136], 'hin...   \n",
       "43  {'waypoints': [{'nodes': [0, 5911723255], 'hin...   \n",
       "44  {'waypoints': [{'nodes': [1045164970, 10451650...   \n",
       "\n",
       "                            nearst_nodes_of_end_point  \\\n",
       "33  {'waypoints': [{'nodes': [0, 236170635], 'hint...   \n",
       "41  {'waypoints': [{'nodes': [1903821684, 26945921...   \n",
       "42  {'waypoints': [{'nodes': [0, 2072487136], 'hin...   \n",
       "43  {'waypoints': [{'nodes': [0, 5911723255], 'hin...   \n",
       "44  {'waypoints': [{'nodes': [1045164970, 10451650...   \n",
       "\n",
       "                      nearst_nodes_ids_of_start_point  \\\n",
       "33  [0, 236170635, 1396909678, 236170635, 0, 75308...   \n",
       "41  [1903821684, 269459210, 2235184897, 3639923343...   \n",
       "42  [0, 2072487136, 0, 2072487136, 0, 2072486421, ...   \n",
       "43  [0, 5911723255, 0, 55703774, 0, 6710058262, 0,...   \n",
       "44  [1045164970, 1045165006, 0, 4575057222, 344237...   \n",
       "\n",
       "                        nearst_nodes_ids_of_end_point type_of_roads avg_speed  \\\n",
       "33  [0, 236170635, 1396909678, 236170635, 0, 75308...   residential    -100.0   \n",
       "41  [1903821684, 269459210, 2235184897, 3639923343...       primary    -100.0   \n",
       "42  [0, 2072487136, 0, 2072487136, 0, 2072486421, ...          None    -100.0   \n",
       "43  [0, 5911723255, 0, 55703774, 0, 6710058262, 0,...          None    -100.0   \n",
       "44  [1045164970, 1045165006, 0, 4575057222, 344237...      motorway    -100.0   \n",
       "\n",
       "    distance    eta  \n",
       "33    -100.0 -100.0  \n",
       "41    -100.0 -100.0  \n",
       "42    -100.0 -100.0  \n",
       "43    -100.0 -100.0  \n",
       "44    -100.0 -100.0  \n",
       "\n",
       "[5 rows x 66 columns]"
      ]
     },
     "execution_count": 85,
     "metadata": {},
     "output_type": "execute_result"
    }
   ],
   "source": [
    "df_filter_state.head()"
   ]
  },
  {
   "cell_type": "code",
   "execution_count": 86,
   "metadata": {},
   "outputs": [
    {
     "data": {
      "text/plain": [
       "(1107574, 66)"
      ]
     },
     "execution_count": 86,
     "metadata": {},
     "output_type": "execute_result"
    }
   ],
   "source": [
    "df_filter_state.shape"
   ]
  },
  {
   "cell_type": "code",
   "execution_count": 87,
   "metadata": {},
   "outputs": [
    {
     "data": {
      "text/html": [
       "<div>\n",
       "<style scoped>\n",
       "    .dataframe tbody tr th:only-of-type {\n",
       "        vertical-align: middle;\n",
       "    }\n",
       "\n",
       "    .dataframe tbody tr th {\n",
       "        vertical-align: top;\n",
       "    }\n",
       "\n",
       "    .dataframe thead th {\n",
       "        text-align: right;\n",
       "    }\n",
       "</style>\n",
       "<table border=\"1\" class=\"dataframe\">\n",
       "  <thead>\n",
       "    <tr style=\"text-align: right;\">\n",
       "      <th></th>\n",
       "      <th>City</th>\n",
       "      <th>State</th>\n",
       "      <th>counts</th>\n",
       "    </tr>\n",
       "  </thead>\n",
       "  <tbody>\n",
       "    <tr>\n",
       "      <th>10916</th>\n",
       "      <td>New York</td>\n",
       "      <td>NY</td>\n",
       "      <td>34505</td>\n",
       "    </tr>\n",
       "    <tr>\n",
       "      <th>632</th>\n",
       "      <td>Atlanta</td>\n",
       "      <td>GA</td>\n",
       "      <td>30784</td>\n",
       "    </tr>\n",
       "    <tr>\n",
       "      <th>9874</th>\n",
       "      <td>Miami</td>\n",
       "      <td>FL</td>\n",
       "      <td>30043</td>\n",
       "    </tr>\n",
       "    <tr>\n",
       "      <th>8958</th>\n",
       "      <td>Los Angeles</td>\n",
       "      <td>CA</td>\n",
       "      <td>22250</td>\n",
       "    </tr>\n",
       "    <tr>\n",
       "      <th>12286</th>\n",
       "      <td>Pittsburgh</td>\n",
       "      <td>PA</td>\n",
       "      <td>18849</td>\n",
       "    </tr>\n",
       "    <tr>\n",
       "      <th>4013</th>\n",
       "      <td>Denver</td>\n",
       "      <td>CO</td>\n",
       "      <td>17750</td>\n",
       "    </tr>\n",
       "    <tr>\n",
       "      <th>12141</th>\n",
       "      <td>Philadelphia</td>\n",
       "      <td>PA</td>\n",
       "      <td>15329</td>\n",
       "    </tr>\n",
       "    <tr>\n",
       "      <th>7233</th>\n",
       "      <td>Houston</td>\n",
       "      <td>TX</td>\n",
       "      <td>14891</td>\n",
       "    </tr>\n",
       "    <tr>\n",
       "      <th>11604</th>\n",
       "      <td>Orlando</td>\n",
       "      <td>FL</td>\n",
       "      <td>14316</td>\n",
       "    </tr>\n",
       "    <tr>\n",
       "      <th>3035</th>\n",
       "      <td>Cleveland</td>\n",
       "      <td>OH</td>\n",
       "      <td>13723</td>\n",
       "    </tr>\n",
       "  </tbody>\n",
       "</table>\n",
       "</div>"
      ],
      "text/plain": [
       "               City State  counts\n",
       "10916      New York    NY   34505\n",
       "632         Atlanta    GA   30784\n",
       "9874          Miami    FL   30043\n",
       "8958    Los Angeles    CA   22250\n",
       "12286    Pittsburgh    PA   18849\n",
       "4013         Denver    CO   17750\n",
       "12141  Philadelphia    PA   15329\n",
       "7233        Houston    TX   14891\n",
       "11604       Orlando    FL   14316\n",
       "3035      Cleveland    OH   13723"
      ]
     },
     "execution_count": 87,
     "metadata": {},
     "output_type": "execute_result"
    }
   ],
   "source": [
    "df_city_state_group_count_sorted.head(10)"
   ]
  },
  {
   "cell_type": "code",
   "execution_count": 88,
   "metadata": {},
   "outputs": [],
   "source": [
    "df_filter_state_city = df_filter_state[\n",
    "   (df_filter_state[\"City\"] == \"New York\") |\n",
    "   (df_filter_state[\"City\"] ==\"Atlanta\") |\n",
    "   (df_filter_state[\"City\"] == \"Miami\") |\n",
    "   (df_filter_state[\"City\"]== \"Los Angeles\") |\n",
    "   (df_filter_state[\"City\"] == \"Pittsburgh\") |\n",
    "   (df_filter_state[\"City\"] == \"Denver\") |\n",
    "   (df_filter_state[\"City\"] == \"Philadelphia\") |\n",
    "   (df_filter_state[\"City\"] == \"Houston\") |\n",
    "   (df_filter_state[\"City\"] == \"Orlando\") |\n",
    "   (df_filter_state[\"City\"] == \"Cleveland\")\n",
    "]"
   ]
  },
  {
   "cell_type": "code",
   "execution_count": 89,
   "metadata": {},
   "outputs": [
    {
     "data": {
      "text/html": [
       "<div>\n",
       "<style scoped>\n",
       "    .dataframe tbody tr th:only-of-type {\n",
       "        vertical-align: middle;\n",
       "    }\n",
       "\n",
       "    .dataframe tbody tr th {\n",
       "        vertical-align: top;\n",
       "    }\n",
       "\n",
       "    .dataframe thead th {\n",
       "        text-align: right;\n",
       "    }\n",
       "</style>\n",
       "<table border=\"1\" class=\"dataframe\">\n",
       "  <thead>\n",
       "    <tr style=\"text-align: right;\">\n",
       "      <th></th>\n",
       "      <th>Id</th>\n",
       "      <th>Source</th>\n",
       "      <th>Type</th>\n",
       "      <th>EventCode</th>\n",
       "      <th>Severity</th>\n",
       "      <th>StartPoint_Lat</th>\n",
       "      <th>StartPoint_Lng</th>\n",
       "      <th>EndPoint_Lat</th>\n",
       "      <th>EndPoint_Lng</th>\n",
       "      <th>Distance(mi)</th>\n",
       "      <th>...</th>\n",
       "      <th>Turning_Circle</th>\n",
       "      <th>Turning_Loop</th>\n",
       "      <th>nearst_nodes_of_start_point</th>\n",
       "      <th>nearst_nodes_of_end_point</th>\n",
       "      <th>nearst_nodes_ids_of_start_point</th>\n",
       "      <th>nearst_nodes_ids_of_end_point</th>\n",
       "      <th>type_of_roads</th>\n",
       "      <th>avg_speed</th>\n",
       "      <th>distance</th>\n",
       "      <th>eta</th>\n",
       "    </tr>\n",
       "  </thead>\n",
       "  <tbody>\n",
       "    <tr>\n",
       "      <th>44</th>\n",
       "      <td>M-29458728</td>\n",
       "      <td>MapQuest</td>\n",
       "      <td>Construction</td>\n",
       "      <td>703.0</td>\n",
       "      <td>2</td>\n",
       "      <td>39.725700</td>\n",
       "      <td>-105.000168</td>\n",
       "      <td>NaN</td>\n",
       "      <td>NaN</td>\n",
       "      <td>0.0</td>\n",
       "      <td>...</td>\n",
       "      <td>False</td>\n",
       "      <td>False</td>\n",
       "      <td>{'waypoints': [{'nodes': [1045164970, 10451650...</td>\n",
       "      <td>{'waypoints': [{'nodes': [1045164970, 10451650...</td>\n",
       "      <td>[1045164970, 1045165006, 0, 4575057222, 344237...</td>\n",
       "      <td>[1045164970, 1045165006, 0, 4575057222, 344237...</td>\n",
       "      <td>motorway</td>\n",
       "      <td>-100.0</td>\n",
       "      <td>-100.0</td>\n",
       "      <td>-100.0</td>\n",
       "    </tr>\n",
       "    <tr>\n",
       "      <th>48</th>\n",
       "      <td>M-29458949</td>\n",
       "      <td>MapQuest</td>\n",
       "      <td>Construction</td>\n",
       "      <td>493.0</td>\n",
       "      <td>2</td>\n",
       "      <td>39.780144</td>\n",
       "      <td>-104.959290</td>\n",
       "      <td>NaN</td>\n",
       "      <td>NaN</td>\n",
       "      <td>0.0</td>\n",
       "      <td>...</td>\n",
       "      <td>False</td>\n",
       "      <td>False</td>\n",
       "      <td>{'waypoints': [{'nodes': [0, 90850751], 'hint'...</td>\n",
       "      <td>{'waypoints': [{'nodes': [0, 90850751], 'hint'...</td>\n",
       "      <td>[0, 90850751, 7722343308, 7722343316, 77223433...</td>\n",
       "      <td>[0, 90850751, 7722343308, 7722343316, 77223433...</td>\n",
       "      <td>None</td>\n",
       "      <td>-100.0</td>\n",
       "      <td>-100.0</td>\n",
       "      <td>-100.0</td>\n",
       "    </tr>\n",
       "    <tr>\n",
       "      <th>102</th>\n",
       "      <td>M-29465177</td>\n",
       "      <td>MapQuest</td>\n",
       "      <td>Construction</td>\n",
       "      <td>701.0</td>\n",
       "      <td>2</td>\n",
       "      <td>33.969830</td>\n",
       "      <td>-118.280235</td>\n",
       "      <td>NaN</td>\n",
       "      <td>NaN</td>\n",
       "      <td>0.0</td>\n",
       "      <td>...</td>\n",
       "      <td>False</td>\n",
       "      <td>False</td>\n",
       "      <td>{'waypoints': [{'nodes': [0, 123280908], 'hint...</td>\n",
       "      <td>{'waypoints': [{'nodes': [0, 123280908], 'hint...</td>\n",
       "      <td>[0, 123280908, 4954115856, 123280908, 0, 63885...</td>\n",
       "      <td>[0, 123280908, 4954115856, 123280908, 0, 63885...</td>\n",
       "      <td>residential</td>\n",
       "      <td>-100.0</td>\n",
       "      <td>-100.0</td>\n",
       "      <td>-100.0</td>\n",
       "    </tr>\n",
       "    <tr>\n",
       "      <th>103</th>\n",
       "      <td>M-29465178</td>\n",
       "      <td>MapQuest</td>\n",
       "      <td>Construction</td>\n",
       "      <td>701.0</td>\n",
       "      <td>2</td>\n",
       "      <td>33.970448</td>\n",
       "      <td>-118.273911</td>\n",
       "      <td>NaN</td>\n",
       "      <td>NaN</td>\n",
       "      <td>0.0</td>\n",
       "      <td>...</td>\n",
       "      <td>False</td>\n",
       "      <td>False</td>\n",
       "      <td>{'waypoints': [{'nodes': [1716288056, 17162880...</td>\n",
       "      <td>{'waypoints': [{'nodes': [1716288056, 17162880...</td>\n",
       "      <td>[1716288056, 1716288031, 2557653058, 171628805...</td>\n",
       "      <td>[1716288056, 1716288031, 2557653058, 171628805...</td>\n",
       "      <td>residential</td>\n",
       "      <td>-100.0</td>\n",
       "      <td>-100.0</td>\n",
       "      <td>-100.0</td>\n",
       "    </tr>\n",
       "    <tr>\n",
       "      <th>104</th>\n",
       "      <td>M-29465179</td>\n",
       "      <td>MapQuest</td>\n",
       "      <td>Construction</td>\n",
       "      <td>701.0</td>\n",
       "      <td>2</td>\n",
       "      <td>33.975418</td>\n",
       "      <td>-118.273933</td>\n",
       "      <td>NaN</td>\n",
       "      <td>NaN</td>\n",
       "      <td>0.0</td>\n",
       "      <td>...</td>\n",
       "      <td>False</td>\n",
       "      <td>False</td>\n",
       "      <td>{'waypoints': [{'nodes': [4007216845, 17162880...</td>\n",
       "      <td>{'waypoints': [{'nodes': [4007216845, 17162880...</td>\n",
       "      <td>[4007216845, 1716288076, 1716288076, 171628771...</td>\n",
       "      <td>[4007216845, 1716288076, 1716288076, 171628771...</td>\n",
       "      <td>residential</td>\n",
       "      <td>-100.0</td>\n",
       "      <td>-100.0</td>\n",
       "      <td>-100.0</td>\n",
       "    </tr>\n",
       "  </tbody>\n",
       "</table>\n",
       "<p>5 rows × 66 columns</p>\n",
       "</div>"
      ],
      "text/plain": [
       "             Id    Source          Type  EventCode  Severity  StartPoint_Lat  \\\n",
       "44   M-29458728  MapQuest  Construction      703.0         2       39.725700   \n",
       "48   M-29458949  MapQuest  Construction      493.0         2       39.780144   \n",
       "102  M-29465177  MapQuest  Construction      701.0         2       33.969830   \n",
       "103  M-29465178  MapQuest  Construction      701.0         2       33.970448   \n",
       "104  M-29465179  MapQuest  Construction      701.0         2       33.975418   \n",
       "\n",
       "     StartPoint_Lng  EndPoint_Lat  EndPoint_Lng  Distance(mi)  ...  \\\n",
       "44      -105.000168           NaN           NaN           0.0  ...   \n",
       "48      -104.959290           NaN           NaN           0.0  ...   \n",
       "102     -118.280235           NaN           NaN           0.0  ...   \n",
       "103     -118.273911           NaN           NaN           0.0  ...   \n",
       "104     -118.273933           NaN           NaN           0.0  ...   \n",
       "\n",
       "    Turning_Circle Turning_Loop  \\\n",
       "44           False        False   \n",
       "48           False        False   \n",
       "102          False        False   \n",
       "103          False        False   \n",
       "104          False        False   \n",
       "\n",
       "                           nearst_nodes_of_start_point  \\\n",
       "44   {'waypoints': [{'nodes': [1045164970, 10451650...   \n",
       "48   {'waypoints': [{'nodes': [0, 90850751], 'hint'...   \n",
       "102  {'waypoints': [{'nodes': [0, 123280908], 'hint...   \n",
       "103  {'waypoints': [{'nodes': [1716288056, 17162880...   \n",
       "104  {'waypoints': [{'nodes': [4007216845, 17162880...   \n",
       "\n",
       "                             nearst_nodes_of_end_point  \\\n",
       "44   {'waypoints': [{'nodes': [1045164970, 10451650...   \n",
       "48   {'waypoints': [{'nodes': [0, 90850751], 'hint'...   \n",
       "102  {'waypoints': [{'nodes': [0, 123280908], 'hint...   \n",
       "103  {'waypoints': [{'nodes': [1716288056, 17162880...   \n",
       "104  {'waypoints': [{'nodes': [4007216845, 17162880...   \n",
       "\n",
       "                       nearst_nodes_ids_of_start_point  \\\n",
       "44   [1045164970, 1045165006, 0, 4575057222, 344237...   \n",
       "48   [0, 90850751, 7722343308, 7722343316, 77223433...   \n",
       "102  [0, 123280908, 4954115856, 123280908, 0, 63885...   \n",
       "103  [1716288056, 1716288031, 2557653058, 171628805...   \n",
       "104  [4007216845, 1716288076, 1716288076, 171628771...   \n",
       "\n",
       "                         nearst_nodes_ids_of_end_point type_of_roads  \\\n",
       "44   [1045164970, 1045165006, 0, 4575057222, 344237...      motorway   \n",
       "48   [0, 90850751, 7722343308, 7722343316, 77223433...          None   \n",
       "102  [0, 123280908, 4954115856, 123280908, 0, 63885...   residential   \n",
       "103  [1716288056, 1716288031, 2557653058, 171628805...   residential   \n",
       "104  [4007216845, 1716288076, 1716288076, 171628771...   residential   \n",
       "\n",
       "    avg_speed  distance    eta  \n",
       "44     -100.0    -100.0 -100.0  \n",
       "48     -100.0    -100.0 -100.0  \n",
       "102    -100.0    -100.0 -100.0  \n",
       "103    -100.0    -100.0 -100.0  \n",
       "104    -100.0    -100.0 -100.0  \n",
       "\n",
       "[5 rows x 66 columns]"
      ]
     },
     "execution_count": 89,
     "metadata": {},
     "output_type": "execute_result"
    }
   ],
   "source": [
    "df_filter_state_city.head()"
   ]
  },
  {
   "cell_type": "code",
   "execution_count": 90,
   "metadata": {},
   "outputs": [
    {
     "data": {
      "text/plain": [
       "(212743, 66)"
      ]
     },
     "execution_count": 90,
     "metadata": {},
     "output_type": "execute_result"
    }
   ],
   "source": [
    "df_filter_state_city.shape"
   ]
  },
  {
   "cell_type": "code",
   "execution_count": 91,
   "metadata": {},
   "outputs": [],
   "source": [
    "df_filter_state_city_group = df_filter_state_city.groupby([\"City\", \"State\", \"type_of_roads\"])"
   ]
  },
  {
   "cell_type": "code",
   "execution_count": 92,
   "metadata": {},
   "outputs": [],
   "source": [
    "df_filter_state_city_group_count = df_filter_state_city_group.size().reset_index(name='counts')"
   ]
  },
  {
   "cell_type": "code",
   "execution_count": 93,
   "metadata": {},
   "outputs": [
    {
     "data": {
      "text/html": [
       "<div>\n",
       "<style scoped>\n",
       "    .dataframe tbody tr th:only-of-type {\n",
       "        vertical-align: middle;\n",
       "    }\n",
       "\n",
       "    .dataframe tbody tr th {\n",
       "        vertical-align: top;\n",
       "    }\n",
       "\n",
       "    .dataframe thead th {\n",
       "        text-align: right;\n",
       "    }\n",
       "</style>\n",
       "<table border=\"1\" class=\"dataframe\">\n",
       "  <thead>\n",
       "    <tr style=\"text-align: right;\">\n",
       "      <th></th>\n",
       "      <th>City</th>\n",
       "      <th>State</th>\n",
       "      <th>type_of_roads</th>\n",
       "      <th>counts</th>\n",
       "    </tr>\n",
       "  </thead>\n",
       "  <tbody>\n",
       "    <tr>\n",
       "      <th>0</th>\n",
       "      <td>Atlanta</td>\n",
       "      <td>GA</td>\n",
       "      <td>None</td>\n",
       "      <td>2319</td>\n",
       "    </tr>\n",
       "    <tr>\n",
       "      <th>1</th>\n",
       "      <td>Atlanta</td>\n",
       "      <td>GA</td>\n",
       "      <td>footway</td>\n",
       "      <td>177</td>\n",
       "    </tr>\n",
       "    <tr>\n",
       "      <th>2</th>\n",
       "      <td>Atlanta</td>\n",
       "      <td>GA</td>\n",
       "      <td>motorway</td>\n",
       "      <td>5794</td>\n",
       "    </tr>\n",
       "    <tr>\n",
       "      <th>3</th>\n",
       "      <td>Atlanta</td>\n",
       "      <td>GA</td>\n",
       "      <td>motorway_link</td>\n",
       "      <td>4024</td>\n",
       "    </tr>\n",
       "    <tr>\n",
       "      <th>4</th>\n",
       "      <td>Atlanta</td>\n",
       "      <td>GA</td>\n",
       "      <td>path</td>\n",
       "      <td>3</td>\n",
       "    </tr>\n",
       "  </tbody>\n",
       "</table>\n",
       "</div>"
      ],
      "text/plain": [
       "      City State  type_of_roads  counts\n",
       "0  Atlanta    GA           None    2319\n",
       "1  Atlanta    GA        footway     177\n",
       "2  Atlanta    GA       motorway    5794\n",
       "3  Atlanta    GA  motorway_link    4024\n",
       "4  Atlanta    GA           path       3"
      ]
     },
     "execution_count": 93,
     "metadata": {},
     "output_type": "execute_result"
    }
   ],
   "source": [
    "df_filter_state_city_group_count.head()"
   ]
  },
  {
   "cell_type": "code",
   "execution_count": 94,
   "metadata": {},
   "outputs": [],
   "source": [
    "df_filter_state_city_group_count_motorway = df_filter_state_city_group_count[df_filter_state_city_group_count.type_of_roads == \"motorway\"]"
   ]
  },
  {
   "cell_type": "code",
   "execution_count": 95,
   "metadata": {},
   "outputs": [
    {
     "data": {
      "text/html": [
       "<div>\n",
       "<style scoped>\n",
       "    .dataframe tbody tr th:only-of-type {\n",
       "        vertical-align: middle;\n",
       "    }\n",
       "\n",
       "    .dataframe tbody tr th {\n",
       "        vertical-align: top;\n",
       "    }\n",
       "\n",
       "    .dataframe thead th {\n",
       "        text-align: right;\n",
       "    }\n",
       "</style>\n",
       "<table border=\"1\" class=\"dataframe\">\n",
       "  <thead>\n",
       "    <tr style=\"text-align: right;\">\n",
       "      <th></th>\n",
       "      <th>City</th>\n",
       "      <th>State</th>\n",
       "      <th>type_of_roads</th>\n",
       "      <th>counts</th>\n",
       "    </tr>\n",
       "  </thead>\n",
       "  <tbody>\n",
       "    <tr>\n",
       "      <th>2</th>\n",
       "      <td>Atlanta</td>\n",
       "      <td>GA</td>\n",
       "      <td>motorway</td>\n",
       "      <td>5794</td>\n",
       "    </tr>\n",
       "    <tr>\n",
       "      <th>24</th>\n",
       "      <td>Cleveland</td>\n",
       "      <td>OH</td>\n",
       "      <td>motorway</td>\n",
       "      <td>3443</td>\n",
       "    </tr>\n",
       "    <tr>\n",
       "      <th>45</th>\n",
       "      <td>Denver</td>\n",
       "      <td>CO</td>\n",
       "      <td>motorway</td>\n",
       "      <td>3693</td>\n",
       "    </tr>\n",
       "    <tr>\n",
       "      <th>60</th>\n",
       "      <td>Denver</td>\n",
       "      <td>PA</td>\n",
       "      <td>motorway</td>\n",
       "      <td>237</td>\n",
       "    </tr>\n",
       "    <tr>\n",
       "      <th>70</th>\n",
       "      <td>Houston</td>\n",
       "      <td>PA</td>\n",
       "      <td>motorway</td>\n",
       "      <td>2</td>\n",
       "    </tr>\n",
       "  </tbody>\n",
       "</table>\n",
       "</div>"
      ],
      "text/plain": [
       "         City State type_of_roads  counts\n",
       "2     Atlanta    GA      motorway    5794\n",
       "24  Cleveland    OH      motorway    3443\n",
       "45     Denver    CO      motorway    3693\n",
       "60     Denver    PA      motorway     237\n",
       "70    Houston    PA      motorway       2"
      ]
     },
     "execution_count": 95,
     "metadata": {},
     "output_type": "execute_result"
    }
   ],
   "source": [
    "df_filter_state_city_group_count_motorway.head()"
   ]
  },
  {
   "cell_type": "code",
   "execution_count": 97,
   "metadata": {},
   "outputs": [
    {
     "data": {
      "image/png": "[encoded data removed]",
      "text/plain": [
       "<Figure size 1080x576 with 1 Axes>"
      ]
     },
     "metadata": {
      "needs_background": "light"
     },
     "output_type": "display_data"
    }
   ],
   "source": [
    "plt.figure(figsize= (15,8))\n",
    "plt.bar(x=df_filter_state_city_group_count_motorway['City'], height=df_filter_state_city_group_count_motorway['counts'])\n",
    "a = plt.xticks(rotation = 90)\n",
    "plt.title(\"Construction distribution for top 10 cities for the Motorway road type\")\n",
    "plt.savefig(\"Construction-distribution-top-cities-for-Motorway-road-type.png\")"
   ]
  },
  {
   "cell_type": "code",
   "execution_count": 98,
   "metadata": {},
   "outputs": [],
   "source": [
    "df_filter_state_city_group_count_primary = df_filter_state_city_group_count[df_filter_state_city_group_count.type_of_roads == \"primary\"]"
   ]
  },
  {
   "cell_type": "code",
   "execution_count": 99,
   "metadata": {},
   "outputs": [
    {
     "data": {
      "text/html": [
       "<div>\n",
       "<style scoped>\n",
       "    .dataframe tbody tr th:only-of-type {\n",
       "        vertical-align: middle;\n",
       "    }\n",
       "\n",
       "    .dataframe tbody tr th {\n",
       "        vertical-align: top;\n",
       "    }\n",
       "\n",
       "    .dataframe thead th {\n",
       "        text-align: right;\n",
       "    }\n",
       "</style>\n",
       "<table border=\"1\" class=\"dataframe\">\n",
       "  <thead>\n",
       "    <tr style=\"text-align: right;\">\n",
       "      <th></th>\n",
       "      <th>City</th>\n",
       "      <th>State</th>\n",
       "      <th>type_of_roads</th>\n",
       "      <th>counts</th>\n",
       "    </tr>\n",
       "  </thead>\n",
       "  <tbody>\n",
       "    <tr>\n",
       "      <th>5</th>\n",
       "      <td>Atlanta</td>\n",
       "      <td>GA</td>\n",
       "      <td>primary</td>\n",
       "      <td>3871</td>\n",
       "    </tr>\n",
       "    <tr>\n",
       "      <th>18</th>\n",
       "      <td>Cleveland</td>\n",
       "      <td>GA</td>\n",
       "      <td>primary</td>\n",
       "      <td>2</td>\n",
       "    </tr>\n",
       "    <tr>\n",
       "      <th>26</th>\n",
       "      <td>Cleveland</td>\n",
       "      <td>OH</td>\n",
       "      <td>primary</td>\n",
       "      <td>1373</td>\n",
       "    </tr>\n",
       "    <tr>\n",
       "      <th>36</th>\n",
       "      <td>Cleveland</td>\n",
       "      <td>TX</td>\n",
       "      <td>primary</td>\n",
       "      <td>2</td>\n",
       "    </tr>\n",
       "    <tr>\n",
       "      <th>48</th>\n",
       "      <td>Denver</td>\n",
       "      <td>CO</td>\n",
       "      <td>primary</td>\n",
       "      <td>2348</td>\n",
       "    </tr>\n",
       "  </tbody>\n",
       "</table>\n",
       "</div>"
      ],
      "text/plain": [
       "         City State type_of_roads  counts\n",
       "5     Atlanta    GA       primary    3871\n",
       "18  Cleveland    GA       primary       2\n",
       "26  Cleveland    OH       primary    1373\n",
       "36  Cleveland    TX       primary       2\n",
       "48     Denver    CO       primary    2348"
      ]
     },
     "execution_count": 99,
     "metadata": {},
     "output_type": "execute_result"
    }
   ],
   "source": [
    "df_filter_state_city_group_count_primary.head()"
   ]
  },
  {
   "cell_type": "code",
   "execution_count": 100,
   "metadata": {},
   "outputs": [
    {
     "data": {
      "image/png": "[encoded data removed]",
      "text/plain": [
       "<Figure size 1080x576 with 1 Axes>"
      ]
     },
     "metadata": {
      "needs_background": "light"
     },
     "output_type": "display_data"
    }
   ],
   "source": [
    "plt.figure(figsize= (15,8))\n",
    "plt.bar(x=df_filter_state_city_group_count_primary['City'], height=df_filter_state_city_group_count_primary['counts'])\n",
    "a = plt.xticks(rotation = 90)\n",
    "plt.title(\"Construction distribution for top 10 cities for the Primary road type\")\n",
    "plt.savefig(\"Construction-distribution-top-cities-for-primary-road-type.png\")"
   ]
  },
  {
   "cell_type": "code",
   "execution_count": 101,
   "metadata": {},
   "outputs": [],
   "source": [
    "df_filter_state_city_group_count_secondary = df_filter_state_city_group_count[df_filter_state_city_group_count.type_of_roads == \"secondary\"]"
   ]
  },
  {
   "cell_type": "code",
   "execution_count": 102,
   "metadata": {},
   "outputs": [
    {
     "data": {
      "text/html": [
       "<div>\n",
       "<style scoped>\n",
       "    .dataframe tbody tr th:only-of-type {\n",
       "        vertical-align: middle;\n",
       "    }\n",
       "\n",
       "    .dataframe tbody tr th {\n",
       "        vertical-align: top;\n",
       "    }\n",
       "\n",
       "    .dataframe thead th {\n",
       "        text-align: right;\n",
       "    }\n",
       "</style>\n",
       "<table border=\"1\" class=\"dataframe\">\n",
       "  <thead>\n",
       "    <tr style=\"text-align: right;\">\n",
       "      <th></th>\n",
       "      <th>City</th>\n",
       "      <th>State</th>\n",
       "      <th>type_of_roads</th>\n",
       "      <th>counts</th>\n",
       "    </tr>\n",
       "  </thead>\n",
       "  <tbody>\n",
       "    <tr>\n",
       "      <th>8</th>\n",
       "      <td>Atlanta</td>\n",
       "      <td>GA</td>\n",
       "      <td>secondary</td>\n",
       "      <td>6028</td>\n",
       "    </tr>\n",
       "    <tr>\n",
       "      <th>16</th>\n",
       "      <td>Atlanta</td>\n",
       "      <td>NY</td>\n",
       "      <td>secondary</td>\n",
       "      <td>1</td>\n",
       "    </tr>\n",
       "    <tr>\n",
       "      <th>17</th>\n",
       "      <td>Atlanta</td>\n",
       "      <td>TX</td>\n",
       "      <td>secondary</td>\n",
       "      <td>1</td>\n",
       "    </tr>\n",
       "    <tr>\n",
       "      <th>19</th>\n",
       "      <td>Cleveland</td>\n",
       "      <td>GA</td>\n",
       "      <td>secondary</td>\n",
       "      <td>1</td>\n",
       "    </tr>\n",
       "    <tr>\n",
       "      <th>20</th>\n",
       "      <td>Cleveland</td>\n",
       "      <td>NY</td>\n",
       "      <td>secondary</td>\n",
       "      <td>1</td>\n",
       "    </tr>\n",
       "  </tbody>\n",
       "</table>\n",
       "</div>"
      ],
      "text/plain": [
       "         City State type_of_roads  counts\n",
       "8     Atlanta    GA     secondary    6028\n",
       "16    Atlanta    NY     secondary       1\n",
       "17    Atlanta    TX     secondary       1\n",
       "19  Cleveland    GA     secondary       1\n",
       "20  Cleveland    NY     secondary       1"
      ]
     },
     "execution_count": 102,
     "metadata": {},
     "output_type": "execute_result"
    }
   ],
   "source": [
    "df_filter_state_city_group_count_secondary.head()"
   ]
  },
  {
   "cell_type": "code",
   "execution_count": 106,
   "metadata": {},
   "outputs": [
    {
     "data": {
      "image/png": "[encoded data removed]",
      "text/plain": [
       "<Figure size 1080x576 with 1 Axes>"
      ]
     },
     "metadata": {
      "needs_background": "light"
     },
     "output_type": "display_data"
    }
   ],
   "source": [
    "plt.figure(figsize= (15,8))\n",
    "plt.bar(x=df_filter_state_city_group_count_secondary['City'], height=df_filter_state_city_group_count_secondary['counts'])\n",
    "a = plt.xticks(rotation = 90)\n",
    "plt.title(\"Construction distribution for top 10 cities for the Secondary road type\")\n",
    "plt.savefig(\"Construction-distribution-top-cities-for-secondary-road-type.png\")"
   ]
  },
  {
   "cell_type": "code",
   "execution_count": 107,
   "metadata": {},
   "outputs": [],
   "source": [
    "df_filter_state_city_group_count_motorway_link = df_filter_state_city_group_count[df_filter_state_city_group_count.type_of_roads == \"motorway_link\"]"
   ]
  },
  {
   "cell_type": "code",
   "execution_count": 108,
   "metadata": {},
   "outputs": [
    {
     "data": {
      "text/html": [
       "<div>\n",
       "<style scoped>\n",
       "    .dataframe tbody tr th:only-of-type {\n",
       "        vertical-align: middle;\n",
       "    }\n",
       "\n",
       "    .dataframe tbody tr th {\n",
       "        vertical-align: top;\n",
       "    }\n",
       "\n",
       "    .dataframe thead th {\n",
       "        text-align: right;\n",
       "    }\n",
       "</style>\n",
       "<table border=\"1\" class=\"dataframe\">\n",
       "  <thead>\n",
       "    <tr style=\"text-align: right;\">\n",
       "      <th></th>\n",
       "      <th>City</th>\n",
       "      <th>State</th>\n",
       "      <th>type_of_roads</th>\n",
       "      <th>counts</th>\n",
       "    </tr>\n",
       "  </thead>\n",
       "  <tbody>\n",
       "    <tr>\n",
       "      <th>3</th>\n",
       "      <td>Atlanta</td>\n",
       "      <td>GA</td>\n",
       "      <td>motorway_link</td>\n",
       "      <td>4024</td>\n",
       "    </tr>\n",
       "    <tr>\n",
       "      <th>25</th>\n",
       "      <td>Cleveland</td>\n",
       "      <td>OH</td>\n",
       "      <td>motorway_link</td>\n",
       "      <td>2310</td>\n",
       "    </tr>\n",
       "    <tr>\n",
       "      <th>46</th>\n",
       "      <td>Denver</td>\n",
       "      <td>CO</td>\n",
       "      <td>motorway_link</td>\n",
       "      <td>1994</td>\n",
       "    </tr>\n",
       "    <tr>\n",
       "      <th>61</th>\n",
       "      <td>Denver</td>\n",
       "      <td>PA</td>\n",
       "      <td>motorway_link</td>\n",
       "      <td>13</td>\n",
       "    </tr>\n",
       "    <tr>\n",
       "      <th>71</th>\n",
       "      <td>Houston</td>\n",
       "      <td>PA</td>\n",
       "      <td>motorway_link</td>\n",
       "      <td>1</td>\n",
       "    </tr>\n",
       "  </tbody>\n",
       "</table>\n",
       "</div>"
      ],
      "text/plain": [
       "         City State  type_of_roads  counts\n",
       "3     Atlanta    GA  motorway_link    4024\n",
       "25  Cleveland    OH  motorway_link    2310\n",
       "46     Denver    CO  motorway_link    1994\n",
       "61     Denver    PA  motorway_link      13\n",
       "71    Houston    PA  motorway_link       1"
      ]
     },
     "execution_count": 108,
     "metadata": {},
     "output_type": "execute_result"
    }
   ],
   "source": [
    "df_filter_state_city_group_count_motorway_link.head()"
   ]
  },
  {
   "cell_type": "code",
   "execution_count": 109,
   "metadata": {},
   "outputs": [
    {
     "data": {
      "image/png": "[encoded data removed]",
      "text/plain": [
       "<Figure size 1080x576 with 1 Axes>"
      ]
     },
     "metadata": {
      "needs_background": "light"
     },
     "output_type": "display_data"
    }
   ],
   "source": [
    "plt.figure(figsize= (15,8))\n",
    "plt.bar(x=df_filter_state_city_group_count_motorway_link['City'], height=df_filter_state_city_group_count_motorway_link['counts'])\n",
    "a = plt.xticks(rotation = 90)\n",
    "plt.title(\"Construction distribution for top 10 cities for the Motorway Link road type\")\n",
    "plt.savefig(\"Construction-distribution-top-cities-for-motorway_link-road-type.png\")"
   ]
  },
  {
   "cell_type": "code",
   "execution_count": 110,
   "metadata": {},
   "outputs": [],
   "source": [
    "df_filter_state_city_group_count_residential = df_filter_state_city_group_count[df_filter_state_city_group_count.type_of_roads == \"residential\"]"
   ]
  },
  {
   "cell_type": "code",
   "execution_count": 111,
   "metadata": {},
   "outputs": [
    {
     "data": {
      "text/html": [
       "<div>\n",
       "<style scoped>\n",
       "    .dataframe tbody tr th:only-of-type {\n",
       "        vertical-align: middle;\n",
       "    }\n",
       "\n",
       "    .dataframe tbody tr th {\n",
       "        vertical-align: top;\n",
       "    }\n",
       "\n",
       "    .dataframe thead th {\n",
       "        text-align: right;\n",
       "    }\n",
       "</style>\n",
       "<table border=\"1\" class=\"dataframe\">\n",
       "  <thead>\n",
       "    <tr style=\"text-align: right;\">\n",
       "      <th></th>\n",
       "      <th>City</th>\n",
       "      <th>State</th>\n",
       "      <th>type_of_roads</th>\n",
       "      <th>counts</th>\n",
       "    </tr>\n",
       "  </thead>\n",
       "  <tbody>\n",
       "    <tr>\n",
       "      <th>7</th>\n",
       "      <td>Atlanta</td>\n",
       "      <td>GA</td>\n",
       "      <td>residential</td>\n",
       "      <td>3642</td>\n",
       "    </tr>\n",
       "    <tr>\n",
       "      <th>28</th>\n",
       "      <td>Cleveland</td>\n",
       "      <td>OH</td>\n",
       "      <td>residential</td>\n",
       "      <td>3358</td>\n",
       "    </tr>\n",
       "    <tr>\n",
       "      <th>37</th>\n",
       "      <td>Cleveland</td>\n",
       "      <td>TX</td>\n",
       "      <td>residential</td>\n",
       "      <td>2</td>\n",
       "    </tr>\n",
       "    <tr>\n",
       "      <th>50</th>\n",
       "      <td>Denver</td>\n",
       "      <td>CO</td>\n",
       "      <td>residential</td>\n",
       "      <td>1761</td>\n",
       "    </tr>\n",
       "    <tr>\n",
       "      <th>63</th>\n",
       "      <td>Denver</td>\n",
       "      <td>PA</td>\n",
       "      <td>residential</td>\n",
       "      <td>1</td>\n",
       "    </tr>\n",
       "  </tbody>\n",
       "</table>\n",
       "</div>"
      ],
      "text/plain": [
       "         City State type_of_roads  counts\n",
       "7     Atlanta    GA   residential    3642\n",
       "28  Cleveland    OH   residential    3358\n",
       "37  Cleveland    TX   residential       2\n",
       "50     Denver    CO   residential    1761\n",
       "63     Denver    PA   residential       1"
      ]
     },
     "execution_count": 111,
     "metadata": {},
     "output_type": "execute_result"
    }
   ],
   "source": [
    "df_filter_state_city_group_count_residential.head()"
   ]
  },
  {
   "cell_type": "code",
   "execution_count": 112,
   "metadata": {},
   "outputs": [
    {
     "data": {
      "image/png": "[encoded data removed]",
      "text/plain": [
       "<Figure size 1080x576 with 1 Axes>"
      ]
     },
     "metadata": {
      "needs_background": "light"
     },
     "output_type": "display_data"
    }
   ],
   "source": [
    "plt.figure(figsize= (15,8))\n",
    "plt.bar(x=df_filter_state_city_group_count_residential['City'], height=df_filter_state_city_group_count_residential['counts'])\n",
    "a = plt.xticks(rotation = 90)\n",
    "plt.title(\"Construction distribution for top 10 cities for the Residential road type\")\n",
    "plt.savefig(\"Construction-distribution-top-cities-for-residentialroad-type.png\")"
   ]
  },
  {
   "cell_type": "code",
   "execution_count": null,
   "metadata": {},
   "outputs": [],
   "source": []
  }
 ],
 "metadata": {
  "kernelspec": {
   "display_name": "Python 3",
   "language": "python",
   "name": "python3"
  },
  "language_info": {
   "codemirror_mode": {
    "name": "ipython",
    "version": 3
   },
   "file_extension": ".py",
   "mimetype": "text/x-python",
   "name": "python",
   "nbconvert_exporter": "python",
   "pygments_lexer": "ipython3",
   "version": "3.8.2"
  }
 },
 "nbformat": 4,
 "nbformat_minor": 4
}
