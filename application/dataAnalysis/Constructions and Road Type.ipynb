{
 "cells": [
  {
   "cell_type": "code",
   "execution_count": 1,
   "metadata": {},
   "outputs": [],
   "source": [
    "import gmplot\n",
    "import pandas as pd\n",
    "import requests \n",
    "import os\n",
    "import math\n",
    "from xml.etree.ElementTree import fromstring, ElementTree\n",
    "from datetime import datetime\n",
    "import json\n",
    "import statistics \n",
    "from collections import Counter\n",
    "import random\n",
    "import matplotlib.pyplot as plt\n",
    "import seaborn as sns"
   ]
  },
  {
   "cell_type": "code",
   "execution_count": 2,
   "metadata": {},
   "outputs": [],
   "source": [
    "TrafficEvents = None\n",
    "\n",
    "chunk_size = 1000\n",
    "\n",
    "BASE_PATH = \"/home/amin/CETI/RoadConstruction/TrafficEventData/part/speeds/speed_\"\n",
    "    \n",
    "index_folder = 0\n",
    "index_start_point_file = 0\n",
    "index_end_point_file = 411"
   ]
  },
  {
   "cell_type": "code",
   "execution_count": 3,
   "metadata": {},
   "outputs": [],
   "source": [
    "def read_data(path):\n",
    "    data = None\n",
    "    data = pd.read_csv(path)\n",
    "    return data"
   ]
  },
  {
   "cell_type": "code",
   "execution_count": 4,
   "metadata": {},
   "outputs": [],
   "source": [
    "def read_part_data(folder_id, index_start, index_end):\n",
    "    df = None\n",
    "    print(\"start time is {}\".format(datetime.now()))\n",
    "    for i in range(index_start, index_end):\n",
    "        type_of_ways_all_points = []\n",
    "        path = BASE_PATH + str(folder_id) + \"/\" + str(i) + \"_file_\"+ str(i) + \".csv\"\n",
    "\n",
    "        data = read_data(path)\n",
    "        df = data.append(df, ignore_index = True)\n",
    "    print(\"end time is {}\".format(datetime.now()))\n",
    "    return df"
   ]
  },
  {
   "cell_type": "code",
   "execution_count": null,
   "metadata": {},
   "outputs": [
    {
     "name": "stdout",
     "output_type": "stream",
     "text": [
      "0\n",
      "start time is 2020-09-15 18:57:43.136604\n",
      "end time is 2020-09-15 18:59:16.414891\n",
      "1\n",
      "start time is 2020-09-15 18:59:16.712108\n",
      "end time is 2020-09-15 19:00:51.488774\n"
     ]
    }
   ],
   "source": [
    "df = None\n",
    "for i in range(0,9):\n",
    "    print(i)\n",
    "    data = read_part_data(i, 0, 411)\n",
    "    df = data.append(df, ignore_index = True)\n",
    "print(9)\n",
    "data = read_part_data(9, 0, 393)\n",
    "df = data.append(df, ignore_index = True)"
   ]
  },
  {
   "cell_type": "code",
   "execution_count": null,
   "metadata": {},
   "outputs": [],
   "source": [
    "df.head(10)"
   ]
  },
  {
   "cell_type": "code",
   "execution_count": null,
   "metadata": {},
   "outputs": [],
   "source": [
    "df.shape"
   ]
  },
  {
   "cell_type": "code",
   "execution_count": null,
   "metadata": {},
   "outputs": [],
   "source": []
  }
 ],
 "metadata": {
  "kernelspec": {
   "display_name": "Python 3",
   "language": "python",
   "name": "python3"
  },
  "language_info": {
   "codemirror_mode": {
    "name": "ipython",
    "version": 3
   },
   "file_extension": ".py",
   "mimetype": "text/x-python",
   "name": "python",
   "nbconvert_exporter": "python",
   "pygments_lexer": "ipython3",
   "version": "3.8.2"
  }
 },
 "nbformat": 4,
 "nbformat_minor": 4
}
