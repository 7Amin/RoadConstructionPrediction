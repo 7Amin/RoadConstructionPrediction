{
 "cells": [
  {
   "cell_type": "code",
   "execution_count": 1,
   "metadata": {
    "collapsed": true
   },
   "outputs": [],
   "source": [
    "environments = [\"local\", \"google_colab\"]\n",
    "# please select one of the environments\n",
    "selected_env = environments[0]\n",
    "chunk_size = 10 ** 6\n",
    "TrafficEvents = None\n",
    "WeatherEvents = None\n",
    "if selected_env == \"local\":\n",
    "    TrafficEvents = {\n",
    "        \"name\": \"TrafficEvents\",\n",
    "        \"file_name\": \"TrafficEvents_Aug16_Dec19_Publish.csv\",\n",
    "        \"path\": \"/home/amin/CETI/RoadConstruction/TrafficEventData/\",\n",
    "    }\n",
    "    WeatherEvents = {\n",
    "        \"name\": \"WeatherEvent\",\n",
    "        \"file_name\": \"WeatherEvents_Aug16_Dec19_Publish.csv\",\n",
    "        \"path\": \"/home/amin/CETI/RoadConstruction/WeatherEventData/\",\n",
    "    }\n",
    "\n",
    "else:\n",
    "    TrafficEvents = {\n",
    "        \"name\": \"TrafficEvents\",\n",
    "        \"file_name\": \"TrafficEvents_Aug16_Dec19_Publish.csv\",\n",
    "        \"id\": \"1uGLJS4uIbiUf7PjVGtQxo2afjClQT8JY\",\n",
    "    }\n",
    "    WeatherEvents = {\n",
    "        \"name\": \"WeatherEvent\",\n",
    "        \"file_name\": \"WeatherEvents_Aug16_Dec19_Publish.csv\",\n",
    "        \"id\": \"1iNUrJYyxBxmklh0e6Iy61eXL34UJo6X8\",\n",
    "    }\n",
    "\n",
    "\n"
   ]
  },
  {
   "cell_type": "code",
   "execution_count": null,
   "outputs": [],
   "source": [
    "if selected_env == \"google_colab\":\n",
    "    !pip install -U -q PyDrive\n",
    "    !pip install --upgrade -q gspread\n"
   ],
   "metadata": {
    "collapsed": false,
    "pycharm": {
     "name": "#%%\n"
    }
   }
  },
  {
   "cell_type": "code",
   "execution_count": null,
   "outputs": [],
   "source": [
    "if selected_env == \"google_colab\":\n",
    "    from pydrive.auth import GoogleAuth\n",
    "    from pydrive.drive import GoogleDrive\n",
    "    from google.colab import auth\n",
    "    from oauth2client.client import GoogleCredentials\n",
    "\n",
    "    auth.authenticate_user()\n",
    "    gauth = GoogleAuth()\n",
    "    gauth.credentials = GoogleCredentials.get_application_default()\n",
    "    drive = GoogleDrive(gauth)\n",
    "\n",
    "    traffic_events_downloaded = drive.CreateFile(TrafficEvents)\n",
    "    traffic_events_downloaded.GetContentFile(TrafficEvents[\"file_name\"])\n",
    "\n",
    "    weather_events_downloaded = drive.CreateFile(WeatherEvents)\n",
    "    weather_events_downloaded.GetContentFile(WeatherEvents[\"file_name\"])\n"
   ],
   "metadata": {
    "collapsed": false,
    "pycharm": {
     "name": "#%%\n"
    }
   }
  }
 ],
 "metadata": {
  "kernelspec": {
   "display_name": "Python 3",
   "language": "python",
   "name": "python3"
  },
  "language_info": {
   "codemirror_mode": {
    "name": "ipython",
    "version": 2
   },
   "file_extension": ".py",
   "mimetype": "text/x-python",
   "name": "python",
   "nbconvert_exporter": "python",
   "pygments_lexer": "ipython2",
   "version": "2.7.6"
  },
  "pycharm": {
   "stem_cell": {
    "cell_type": "raw",
    "source": [
     "\n"
    ],
    "metadata": {
     "collapsed": false
    }
   }
  }
 },
 "nbformat": 4,
 "nbformat_minor": 0
}